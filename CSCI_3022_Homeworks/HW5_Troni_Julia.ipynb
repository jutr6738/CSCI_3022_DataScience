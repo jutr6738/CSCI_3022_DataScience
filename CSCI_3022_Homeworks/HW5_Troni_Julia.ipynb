{
 "cells": [
  {
   "cell_type": "markdown",
   "metadata": {},
   "source": [
    "# Homework 05: CRV's, PDF's, CDF's\n",
    "***\n",
    "\n",
    "**Name**: Julia Troni\n",
    "\n",
    "***\n",
    "\n",
    "This assignment is due on Canvas by **6:00PM on Friday September 30**. Your solutions to theoretical questions should be done in Markdown directly below the associated question.  Your solutions to computational questions should include any specified Python code and results as well as written commentary on your conclusions.  Remember that you are encouraged to discuss the problems with your classmates, but **you must write all code and solutions on your own**.\n",
    "\n",
    "**NOTES**: \n",
    "\n",
    "- Any relevant data sets should be available in the Homework 01 assignment write-up on Canvas. To make life easier on the grader if they need to run your code, do not change the relative path names here. Instead, move the files around on your computer.\n",
    "- If you're not familiar with typesetting math directly into Markdown then by all means, do your work on paper first and then typeset it later.  Remember that there is a [reference guide](https://math.meta.stackexchange.com/questions/5020/mathjax-basic-tutorial-and-quick-reference) linked on Canvas on writing math in Markdown. **All** of your written commentary, justifications and mathematical work should be in Markdown.\n",
    "- Because you can technically evaluate notebook cells is a non-linear order, it's a good idea to do $\\color{red}{\\text{Kernel}}$ $\\color{red}\\rightarrow$ $\\color{red}{\\text{Restart & Run All}}$ as a check before submitting your solutions.  That way if we need to run your code you will know that it will work as expected. \n",
    "- It is **bad form** to make your reader interpret numerical output from your code.  If a question asks you to compute some value from the data you should show your code output **AND** $\\color{red}{\\text{write a summary of the results}}$ in Markdown directly below your code. \n",
    "- This probably goes without saying, but... For any question that asks you to calculate something, you **must show all work and justify your answers to receive credit**. Sparse or nonexistent work will receive sparse or nonexistent credit. \n",
    "- **All the solutions should be solved by hand instead of using python in-built functions or external libraries unless mentioned explicitly**.\n",
    "\n",
    "---"
   ]
  },
  {
   "cell_type": "markdown",
   "metadata": {},
   "source": [
    "Import Pandas, NumPy, and matplotlib.pylab"
   ]
  },
  {
   "cell_type": "code",
   "execution_count": 1,
   "metadata": {},
   "outputs": [],
   "source": [
    "# Per the standard import pandas as 'pd', numpy as 'np', and matplotlib as 'plt'\n",
    "import pandas as pd\n",
    "import numpy as np\n",
    "import matplotlib.pylab as plt\n",
    "%matplotlib inline \n",
    "import math \n",
    "    # 'inline' puts your graph in the cell versus a new popup window"
   ]
  },
  {
   "cell_type": "markdown",
   "metadata": {},
   "source": [
    "# Problem 1\n",
    "***\n",
    "Suppose $X$ is a continuous random variable with a probability density function given by $f(x)=3x^2$ over $(a, 2)$. "
   ]
  },
  {
   "cell_type": "code",
   "execution_count": 2,
   "metadata": {},
   "outputs": [
    {
     "data": {
      "text/plain": [
       "[<matplotlib.lines.Line2D at 0x1fe6e9f17f0>]"
      ]
     },
     "execution_count": 2,
     "metadata": {},
     "output_type": "execute_result"
    },
    {
     "data": {
      "image/png": "[encoded data removed]",
      "text/plain": [
       "<Figure size 432x288 with 1 Axes>"
      ]
     },
     "metadata": {
      "needs_background": "light"
     },
     "output_type": "display_data"
    }
   ],
   "source": [
    "# This is just a visual for the PDF\n",
    "\n",
    "x = np.linspace(-2,2,100)\n",
    "y = 3*x**2\n",
    "\n",
    "plt.plot(x,y)\n",
    "\n",
    "plt.plot(2,12, marker=\"o\", markersize=10, markeredgecolor=\"red\", markerfacecolor=\"green\")"
   ]
  },
  {
   "cell_type": "markdown",
   "metadata": {},
   "source": [
    "### Part A\n",
    "\n",
    "***(4 points)*** What is $a$ such that $f(x)$ is a valid PDF?"
   ]
  },
  {
   "cell_type": "markdown",
   "metadata": {},
   "source": [
    "***solution:*** Put your solution to Part A here:\n",
    "\n",
    "- First check: $ f(x) = 3x^2 \\ge 0 $ for all x \n",
    "- Now check \n",
    "$ \\int_{a}^{2} f(x) dx = 1 $\n",
    "\n",
    "$ \\int_a^2 3x^2\\;\\mathrm{d}x= x^3 \\Big|_a^2 = 2^3-a^3 = 1 $\n",
    "\n",
    "So $ a= \\sqrt[3]{7} =~ 1.9129 $\n",
    "\n",
    "Thus  $PDF = f(x) = \\begin{cases} \n",
    "          3x^2 & 1.913\\leq x\\leq 2 \\\\\n",
    "          0 & otherwise \n",
    "       \\end{cases} $"
   ]
  },
  {
   "cell_type": "markdown",
   "metadata": {},
   "source": [
    "### Part B\n",
    "\n",
    "***(2 points)*** What is $P(X=1.95)$ ?"
   ]
  },
  {
   "cell_type": "markdown",
   "metadata": {},
   "source": [
    "***solution:*** Put your solution to Part B here:\n",
    "\n",
    "For any exact value, c, the $P(X=c)= 0$ so  $P(X=1.95)= 0$ "
   ]
  },
  {
   "cell_type": "markdown",
   "metadata": {},
   "source": [
    "### Part C\n",
    "\n",
    "***(2 points)*** What is $P(X<2)$ ?"
   ]
  },
  {
   "cell_type": "markdown",
   "metadata": {},
   "source": [
    "***solution:*** Put your solution to Part C here:\n",
    "\n",
    "Since the PDF in part A satisfies $ \\int_{a}^{b} f(x) dx = 1 $, then we know that $P(X<2)=1$ "
   ]
  },
  {
   "cell_type": "markdown",
   "metadata": {},
   "source": [
    "### Part D\n",
    "\n",
    "***(3 points)*** What is $P(1.95 < X < 2)$ ?"
   ]
  },
  {
   "cell_type": "markdown",
   "metadata": {},
   "source": [
    "***solution:*** Put your solution to Part D here:\n"
   ]
  },
  {
   "cell_type": "markdown",
   "metadata": {},
   "source": [
    "$P(1.95 < X < 2)= \\int_{1.95}^{2} 3x^2\\;\\mathrm{d}x= x^3 \\Big|_{1.95}^2 = 2^3-1.95^3 = 0.585 $"
   ]
  },
  {
   "cell_type": "code",
   "execution_count": 3,
   "metadata": {},
   "outputs": [
    {
     "data": {
      "text/plain": [
       "0.5851250000000006"
      ]
     },
     "execution_count": 3,
     "metadata": {},
     "output_type": "execute_result"
    }
   ],
   "source": [
    "a= 2**(3)\n",
    "b= 1.95**(3)\n",
    "a-b"
   ]
  },
  {
   "cell_type": "markdown",
   "metadata": {},
   "source": [
    "# Problem 2\n",
    "***\n",
    "\n",
    "Suppose the PDF of a continous random variable, $X$, appeared as follows:\n",
    "\n",
    "![title](triangle.png)"
   ]
  },
  {
   "cell_type": "markdown",
   "metadata": {},
   "source": [
    "### Part A\n",
    "\n",
    "***(4 points)*** Write the CDF as an explicit function."
   ]
  },
  {
   "cell_type": "markdown",
   "metadata": {},
   "source": [
    "***solution:*** Put your solution to Part A here:\n",
    "\n",
    "Since $PDF = f(x) = \\begin{cases} \n",
    "          x+1 & -1\\leq x\\leq 0 \\\\\n",
    "          1-x & 0\\leq x\\leq 1 \\\\\n",
    "          0 & otherwise \n",
    "       \\end{cases} $\n",
    "       \n",
    "Then $CDF = F(x) =  \\int_{a}^{b} f(x) dx = 1 $\n",
    "\n",
    " must be defined over four intervals \n",
    " 1. $ x \\le -1   $  Since no probability accumulates over that interval,  $\\int_{-\\infty}^{-1}0 dx = 0$\n",
    "\n",
    "2. For $ -1 < x \\le 0$   $ F(x)= \\int_{-1}^{x}(t+1)dt = \\frac{1}{2}t^2 +t \\Big|_{-1}^x = \\frac{1}{2}x^2 +x+\\frac{1}{2} $ \n",
    " \n",
    "3. For $ 0 < x \\le 1$  since we know that at $F(0)=  \\frac{1}{2}x^2 +x+\\frac{1}{2} \\Big|_{x=0} = \\frac{1}{2} $, \n",
    "Then over $ 0 < x < 1$,  $ F(x)= F(0) + \\int_{0}^{x}(1-t)dt = \\frac{1}{2} + (t- \\frac{1}{2}t^2) \\Big|_{0}^x = \\frac{1}{2}+ x-\\frac{1}{2}x^2$ \n",
    " \n",
    "4. For  $ x \\ge 1$   Since all of the probability has been accumulated for  beyond 1, $F(1)= P(x\\ge 1)= 0$ \n",
    "\n",
    "\n",
    "Thus \n",
    "$CDF = F(x) = \\begin{cases}\n",
    "          0 & -\\infty < x \\le -1 \\\\\n",
    "          \\frac{1}{2}x^2 +x+\\frac{1}{2}  & -1\\ < x \\le 0 \\\\\n",
    "          \\frac{1}{2}+ x-\\frac{1}{2}x^2 & 0 < x\\leq 1 \\\\\n",
    "          1 & x \\ge 1\n",
    "       \\end{cases} $"
   ]
  },
  {
   "cell_type": "markdown",
   "metadata": {},
   "source": [
    "### Part B\n",
    "\n",
    "***(3 points)*** Graph $F(x)$."
   ]
  },
  {
   "attachments": {
    "image.png": {
     "image/png": "[encoded data removed]"
    }
   },
   "cell_type": "markdown",
   "metadata": {},
   "source": [
    "***solution:*** Put your solution (drawn, attached, or coded) to Part B here:\n",
    "\n",
    "![image.png](attachment:image.png)\n"
   ]
  },
  {
   "cell_type": "markdown",
   "metadata": {},
   "source": [
    "### Part C\n",
    "\n",
    "***(2 points)*** What is $P(-\\frac{1}{2} < X < 0)$ ?"
   ]
  },
  {
   "cell_type": "markdown",
   "metadata": {},
   "source": [
    "***solution:*** \n",
    "\n",
    " $P(-\\frac{1}{2} < X < 0) = F(0)- F(-\\frac{1}{2})= (\\frac{1}{2} + x- \\frac{1}{2}x^2) \\Big|_{x=0} -(\\frac{1}{2}x^2 +x+\\frac{1}{2}  )\\Big|_{x=-\\frac{1}{2}} $\n",
    " \n",
    " $ = \\frac{1}{2} - \\frac{1}{8}= 0.375 $"
   ]
  },
  {
   "cell_type": "code",
   "execution_count": 4,
   "metadata": {},
   "outputs": [
    {
     "data": {
      "text/plain": [
       "0.375"
      ]
     },
     "execution_count": 4,
     "metadata": {},
     "output_type": "execute_result"
    }
   ],
   "source": [
    "1/2-1/8"
   ]
  },
  {
   "cell_type": "markdown",
   "metadata": {},
   "source": [
    "# Problem 3\n",
    "***\n",
    "\n",
    "Suppose $X$ is a continuous random variable with probability density function given by $f(x) = \\frac{1}{4}$ for $5 < x < 9$."
   ]
  },
  {
   "cell_type": "markdown",
   "metadata": {},
   "source": [
    "### Part A\n",
    "\n",
    "***(2 points)*** What is the median? Justify your answer using the density functions."
   ]
  },
  {
   "cell_type": "markdown",
   "metadata": {},
   "source": [
    "***solution:*** \n",
    "\n",
    "$X \\sim U(5,9)$\n",
    "So the CDF is $F(x)=\\int_{5}^x(\\frac{1}{4})dt= \\left[\\dfrac{1}{4}t\\right]^{t=x}_{t=5}=\\dfrac{1}{4}(x-5)$\n",
    "\n",
    "The median is the 50th percentile so we want to find $\\pi_{0.5}$\n",
    "\n",
    "$0.5=F(\\pi_{0.5})=\\dfrac{1}{4}(\\pi_{0.5}-5)$ \n",
    "\n",
    "$\\pi_{0.5} = 7$ "
   ]
  },
  {
   "cell_type": "markdown",
   "metadata": {},
   "source": [
    "### Part B\n",
    "\n",
    "***(2 points)*** What is the 3rd quartile?"
   ]
  },
  {
   "cell_type": "markdown",
   "metadata": {},
   "source": [
    "***solution:*** \n",
    "\n",
    "The 3rd quartile is 75% so we want to find $\\pi_{0.75}$\n",
    "\n",
    "$0.75=F(\\pi_{0.75})=\\dfrac{1}{4}(\\pi_{0.75}-5)$ \n",
    "\n",
    "$\\pi_{0.75} = 8$ "
   ]
  },
  {
   "cell_type": "markdown",
   "metadata": {},
   "source": [
    "### Part C\n",
    "\n",
    "***(3 points)*** What is the 80th percentile?"
   ]
  },
  {
   "cell_type": "markdown",
   "metadata": {},
   "source": [
    "***solution:*** \n",
    "\n",
    "The 8th percentile is 80% so we want to find $\\pi_{0.8}$\n",
    "\n",
    "$0.8=F(\\pi_{0.8})=\\dfrac{1}{4}(\\pi_{0.8}-5)^2$ \n",
    "\n",
    "$\\pi_{0.8} = 8.2$ "
   ]
  },
  {
   "cell_type": "markdown",
   "metadata": {},
   "source": [
    "# Problem 4\n",
    "***\n",
    "\n",
    "Let $X$ be a continuous random variable with the following probability density function: $f(x) = \\frac{1}{2}(x+1)$ for $-1 < x < 1$.\n",
    "\n",
    "***(4 points)*** What is the $64^{\\text{th}}$ percentile of $X$?\n"
   ]
  },
  {
   "cell_type": "markdown",
   "metadata": {},
   "source": [
    "***solution:*** Put your answer to Problem 4 here:\n",
    "\n",
    "$ F(x)=\\dfrac{1}{2}\\int_{-1}^x(t+1)dt=\\dfrac{1}{2} \\left[\\dfrac{(t+1)^2}{2}\\right]^{t=x}_{t=-1}=\\dfrac{1}{4}(x+1)^2 $\n",
    "\n",
    "$0.64=F(\\pi_{0.64})=\\dfrac{1}{4}(\\pi_{0.64}+1)^2$\n",
    "\n",
    "$2.56=(\\pi_{0.64}+1)^2$\n",
    "\n",
    "$\\pi_{0.64}=-2.6 \\text{ or } 0.60$ \n",
    "\n",
    "So because $-1 < x< 1$ we know the 64th percentile must be 0.6"
   ]
  },
  {
   "cell_type": "markdown",
   "metadata": {},
   "source": [
    "# Problem 5\n",
    "***\n",
    "\n",
    "Consider the PDF named $P$ below:\n",
    "\n",
    "$$\\huge{P(x; \\mu, \\sigma) = \\frac{1}{\\sigma \\sqrt{2 \\pi}} e^{- \\frac{1}{2}\\left(\\frac{x-\\mu}{\\sigma} \\right)^2}}$$"
   ]
  },
  {
   "cell_type": "markdown",
   "metadata": {},
   "source": [
    "### Part A\n",
    "\n",
    "***(3 points)*** Write a function that takes $x$, $\\sigma$ and $\\mu$ as inputs.\n",
    "\n",
    "The function should return the value of $P$."
   ]
  },
  {
   "cell_type": "code",
   "execution_count": 5,
   "metadata": {},
   "outputs": [],
   "source": [
    "def pdf_norm(x,mu,sig):\n",
    "    piroot= (2*np.pi)\n",
    "    denom= sig*(piroot**.5)\n",
    "    exp= -0.5*((x-mu)/sig)**2\n",
    "    num= (math.e)**(exp)\n",
    "    ans= (num/denom)\n",
    "    print(\"The probability of {} with mean of {} and std {}  is : {}\".\n",
    "          format(x,mu,sig,ans))\n",
    "    return ans"
   ]
  },
  {
   "cell_type": "markdown",
   "metadata": {},
   "source": [
    "### Part B\n",
    "\n",
    "Suppose $\\mu=0$ and $\\sigma=1$\n",
    "\n",
    "$\\phantom{xxx}1]$ ***(1 point)*** Use your function to find the height of the graph at $x=1$.\n",
    " \n",
    "$\\phantom{xxx}2]$ ***(1 point)*** Use your function to find the height of the graph at $x=1.1$.\n",
    "\n",
    "$\\phantom{xxx}3]$ ***(1 point)*** Use your function to find the height of the graph at $x=1.2$.\n",
    "\n",
    "Note : Do not round off your answers."
   ]
  },
  {
   "cell_type": "code",
   "execution_count": 6,
   "metadata": {},
   "outputs": [
    {
     "name": "stdout",
     "output_type": "stream",
     "text": [
      "The probability of 1 with mean of 0 and std 1  is : 0.24197072451914337\n"
     ]
    },
    {
     "data": {
      "text/plain": [
       "0.24197072451914337"
      ]
     },
     "execution_count": 6,
     "metadata": {},
     "output_type": "execute_result"
    }
   ],
   "source": [
    "# Solution to Part B, #1 here:\n",
    "pdf_norm(1,0,1)"
   ]
  },
  {
   "cell_type": "code",
   "execution_count": 7,
   "metadata": {},
   "outputs": [
    {
     "name": "stdout",
     "output_type": "stream",
     "text": [
      "The probability of 1.1 with mean of 0 and std 1  is : 0.21785217703255055\n"
     ]
    },
    {
     "data": {
      "text/plain": [
       "0.21785217703255055"
      ]
     },
     "execution_count": 7,
     "metadata": {},
     "output_type": "execute_result"
    }
   ],
   "source": [
    "# Solution to Part B, #2 here:\n",
    "pdf_norm(1.1,0,1)"
   ]
  },
  {
   "cell_type": "code",
   "execution_count": 8,
   "metadata": {},
   "outputs": [
    {
     "name": "stdout",
     "output_type": "stream",
     "text": [
      "The probability of 1.2 with mean of 0 and std 1  is : 0.19418605498321298\n"
     ]
    },
    {
     "data": {
      "text/plain": [
       "0.19418605498321298"
      ]
     },
     "execution_count": 8,
     "metadata": {},
     "output_type": "execute_result"
    }
   ],
   "source": [
    "# Solution to Part B #3 here:\n",
    "pdf_norm(1.2,0,1)"
   ]
  },
  {
   "cell_type": "markdown",
   "metadata": {},
   "source": [
    "### Part C\n",
    "\n",
    "Still using $\\mu=0$ and $\\sigma=1$.\n",
    "\n",
    "***(4 points)*** Use your function to find the values of $P(x)$ for $x\\in[1,3]$ in steps of $0.2$. Hint: use an array; do NOT enter all values by hand. "
   ]
  },
  {
   "cell_type": "code",
   "execution_count": 9,
   "metadata": {},
   "outputs": [
    {
     "name": "stdout",
     "output_type": "stream",
     "text": [
      "The probability of 1.0 with mean of 0 and std 1  is : 0.24197072451914337\n",
      "The probability of 1.2 with mean of 0 and std 1  is : 0.19418605498321298\n",
      "The probability of 1.4 with mean of 0 and std 1  is : 0.1497274656357449\n",
      "The probability of 1.5999999999999999 with mean of 0 and std 1  is : 0.1109208346794556\n",
      "The probability of 1.7999999999999998 with mean of 0 and std 1  is : 0.0789501583008942\n",
      "The probability of 1.9999999999999998 with mean of 0 and std 1  is : 0.053990966513188084\n",
      "The probability of 2.1999999999999997 with mean of 0 and std 1  is : 0.03547459284623146\n",
      "The probability of 2.3999999999999995 with mean of 0 and std 1  is : 0.022394530294842934\n",
      "The probability of 2.5999999999999996 with mean of 0 and std 1  is : 0.013582969233685634\n",
      "The probability of 2.8 with mean of 0 and std 1  is : 0.00791545158297997\n",
      "The probability of 2.9999999999999996 with mean of 0 and std 1  is : 0.004431848411938013\n"
     ]
    }
   ],
   "source": [
    "# Solution to Part B here\n",
    "vals= np.arange(1,3.2,0.2)\n",
    "for i in vals:\n",
    "    pdf_norm(i,0,1)"
   ]
  },
  {
   "cell_type": "markdown",
   "metadata": {},
   "source": [
    "### Part D\n",
    "\n",
    "The graphs below are probability density functions produced by $P$:\n",
    "\n",
    "Different input values create the different graphs.\n",
    "\n",
    "![title](normal.png)"
   ]
  },
  {
   "cell_type": "markdown",
   "metadata": {},
   "source": [
    "***(2 points)*** How do the sizes of $\\sigma$ compare? i.e. which graph has the smallest $\\sigma$ and which has the largest?"
   ]
  },
  {
   "cell_type": "markdown",
   "metadata": {},
   "source": [
    "***solution:*** \n",
    "\n",
    "When the data points are more spread out, the standard deviation, $\\sigma$, will be larger. Thus the curve with the larger standard deviation with have a wider (more spread out) and shorter graph. \n",
    "Thus $\\sigma_3 > \\sigma_2 > \\sigma_1$"
   ]
  },
  {
   "cell_type": "markdown",
   "metadata": {},
   "source": [
    "### Part E\n",
    "\n",
    "***(2 points)*** Referring to the same graphs mentioned/pictured in Part C, how do the sizes of $\\mu$ compare?"
   ]
  },
  {
   "cell_type": "markdown",
   "metadata": {},
   "source": [
    "***solution:*** \n",
    "\n",
    "Since normal curves are symmetric about their mean, $\\mu$, and since all 3 graphs are symmetric about the same position then $\\mu_1 = \\mu_2 = \\mu_3$"
   ]
  },
  {
   "cell_type": "markdown",
   "metadata": {},
   "source": [
    "### Rubric Check\n",
    "***\n",
    "***(5 points)*** Makesure your answers are thorough but not redundant. Explain your answers, don't just put a number. Make sure you have matched your questions on Gradescope. Make sure your PDF is correct and your LaTeX is correct. etc. etc. BE NEAT."
   ]
  }
 ],
 "metadata": {
  "kernelspec": {
   "display_name": "Python 3 (ipykernel)",
   "language": "python",
   "name": "python3"
  },
  "language_info": {
   "codemirror_mode": {
    "name": "ipython",
    "version": 3
   },
   "file_extension": ".py",
   "mimetype": "text/x-python",
   "name": "python",
   "nbconvert_exporter": "python",
   "pygments_lexer": "ipython3",
   "version": "3.9.7"
  }
 },
 "nbformat": 4,
 "nbformat_minor": 2
}
