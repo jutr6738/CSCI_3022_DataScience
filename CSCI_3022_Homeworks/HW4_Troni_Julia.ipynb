{
 "cells": [
  {
   "cell_type": "markdown",
   "metadata": {},
   "source": [
    "# Homework 04: Bayes and DRV's\n",
    "***\n",
    "\n",
    "**Name**: Julia Troni\n",
    "\n",
    "***\n",
    "\n",
    "This assignment is due on Canvas by **6:00PM on Friday September 23**. Your solutions to theoretical questions should be done in Markdown directly below the associated question.  Your solutions to computational questions should include any specified Python code and results as well as written commentary on your conclusions.  Remember that you are encouraged to discuss the problems with your classmates, but **you must write all code and solutions on your own**.\n",
    "\n",
    "**NOTES**: \n",
    "\n",
    "- Any relevant data sets should be available in the Homework 01 assignment write-up on Canvas. To make life easier on the grader if they need to run your code, do not change the relative path names here. Instead, move the files around on your computer.\n",
    "- If you're not familiar with typesetting math directly into Markdown then by all means, do your work on paper first and then typeset it later.  Remember that there is a [reference guide](https://math.meta.stackexchange.com/questions/5020/mathjax-basic-tutorial-and-quick-reference) linked on Canvas on writing math in Markdown. **All** of your written commentary, justifications and mathematical work should be in Markdown.\n",
    "- Because you can technically evaluate notebook cells is a non-linear order, it's a good idea to do $\\color{red}{\\text{Kernel}}$ $\\color{red}\\rightarrow$ $\\color{red}{\\text{Restart & Run All}}$ as a check before submitting your solutions.  That way if we need to run your code you will know that it will work as expected. \n",
    "- It is **bad form** to make your reader interpret numerical output from your code.  If a question asks you to compute some value from the data you should show your code output **AND** $\\color{red}{\\text{write a summary of the results}}$ in Markdown directly below your code. \n",
    "- This probably goes without saying, but... For any question that asks you to calculate something, you **must show all work and justify your answers to receive credit**. Sparse or nonexistent work will receive sparse or nonexistent credit. \n",
    "\n",
    "---"
   ]
  },
  {
   "cell_type": "markdown",
   "metadata": {},
   "source": [
    "Import Pandas and NumPy."
   ]
  },
  {
   "cell_type": "code",
   "execution_count": 1,
   "metadata": {},
   "outputs": [],
   "source": [
    "# Per the standard import pandas as 'pd' and numpy as 'np'\n",
    "import pandas as pd\n",
    "import numpy as np\n",
    "\n",
    "# You may need binom to calculate a binomial coefficient\n",
    "from scipy.special import binom"
   ]
  },
  {
   "cell_type": "markdown",
   "metadata": {},
   "source": [
    "In case you create a graph, load Matplotlib's Pylab library to set up Jupyter so that it will plot directly in the notebook."
   ]
  },
  {
   "cell_type": "code",
   "execution_count": 2,
   "metadata": {},
   "outputs": [],
   "source": [
    "import matplotlib.pylab as plt\n",
    "%matplotlib inline \n",
    "    # 'inline' puts your graph in the cell versus a new popup window"
   ]
  },
  {
   "cell_type": "markdown",
   "metadata": {},
   "source": [
    "# Problem 1\n",
    "***\n",
    "You have become concerned about your diet and decide that at each of your regular three meals per day that you eat, you are going to add a serving with a particular important nutrient. Sometimes you add vitamin C, sometimes you add protein, and sometimes you add iron.\n",
    "\n",
    "For instance, on a given day, you may eat an additional vitamin C serving for breakfast, an additional protein serving for lunch, and another additional protein serving for dinner.\n",
    "\n",
    "On a different day you decide to add iron to breakfast, vitamin C to lunch, and protein to dinner. What you choose to add to each meal is a random choice.\n",
    "\n",
    "Let $X$ be a random variable that indicates how many servings of protein you added on a given day."
   ]
  },
  {
   "cell_type": "markdown",
   "metadata": {},
   "source": [
    "### Part A\n",
    "***\n",
    "\n",
    "***(2 points)*** What is the probability mass function of $X$?"
   ]
  },
  {
   "cell_type": "markdown",
   "metadata": {},
   "source": [
    "***solution:*** Put your solution to part A here:\n",
    "$$ X=\\{0,1,2,3\\}$$\n",
    "$$ P(X=a)=p(a)$$\n"
   ]
  },
  {
   "cell_type": "markdown",
   "metadata": {},
   "source": [
    "|a=|0|1|2|3|\n",
    "|------|------|------|------|------|\n",
    "|P(X=a)=p(a)    |8/27    |12/27    |6/27    |1/27     |"
   ]
  },
  {
   "cell_type": "markdown",
   "metadata": {},
   "source": [
    "### Part B\n",
    "***\n",
    "\n",
    "***(2 points)*** What is the cumulative distribution function for $X$?\n",
    "\n"
   ]
  },
  {
   "cell_type": "markdown",
   "metadata": {},
   "source": [
    "***solution:*** \n",
    "\n",
    "|a=|0|1|2|3|\n",
    "|------|------|------|------|------|\n",
    "|F(a)    |8/27    |20/27    |26/27    |27/27 =1     |\n"
   ]
  },
  {
   "cell_type": "markdown",
   "metadata": {},
   "source": [
    "### Part C\n",
    "***\n",
    "\n",
    "***(2 points)*** What is the probability that you added 2 or fewer servings of protein on a day?"
   ]
  },
  {
   "cell_type": "markdown",
   "metadata": {},
   "source": [
    "***solution:*** \n",
    "$$ P(X\\le 2)=P(X=0)+P(X=1)+P(X=2)$$\n",
    "$$ P(X\\le 2)=\\frac{8}{27}+ \\frac{12}{27} + \\frac{6}{27}$$\n",
    "$$ P(X\\le 2)= \\frac{26}{27}$$\n",
    "\n",
    "Equivalently\n",
    "$$ P(X\\le 2)=1-P(X=3)= 1- \\frac{1}{27}= \\frac{26}{27}$$\n",
    "\n",
    "Equivalently, from the CDF we have \n",
    "$$ F(2)= \\frac{26}{27}$$"
   ]
  },
  {
   "cell_type": "markdown",
   "metadata": {},
   "source": [
    "### Part D\n",
    "***\n",
    "\n",
    "***(2 points)*** What is the probability that you added 2 or more servings or protein?"
   ]
  },
  {
   "cell_type": "markdown",
   "metadata": {},
   "source": [
    "***solution:*** \n",
    "$$ P(X\\ge 2)=P(X=2)+P(X=3)$$\n",
    "$$ P(X\\ge 2)=\\frac{6}{27}+ \\frac{1}{27}= \\frac{7}{27}$$\n",
    "\n"
   ]
  },
  {
   "cell_type": "markdown",
   "metadata": {},
   "source": [
    "# Problem 2\n",
    "***\n",
    "\n",
    "You drink 3 cups of coffee each day, and in a continuation of your plans to change your diet you decide to stop using sugar in your coffee.\n",
    "\n",
    "However, you find it too difficult to completely stop using sugar. Therefore, 20% of the time you end up using sugar in your coffee anyway.\n",
    "\n",
    "Let $X$ be the random variable that indicates the number of 'sugared' coffees out of three that you drink per day.\n",
    "\n",
    "***(2 points)*** What is the probability mass function? Consider 'no sugar' to be success."
   ]
  },
  {
   "cell_type": "markdown",
   "metadata": {},
   "source": [
    "***solution:***\n",
    "\n",
    "|a=|0|1|2|3|\n",
    "|------|------|------|------|------|\n",
    "|P(X=a)=p(a)    |64/125    |48/125    |12/125    |1/125     |"
   ]
  },
  {
   "cell_type": "markdown",
   "metadata": {},
   "source": [
    "# Problem 3\n",
    "***\n",
    "Consider the probability mass function $P(X=x) = 2nx^2-2nx$ with the discrete random variable taking on values $1, 2, 3, 4$."
   ]
  },
  {
   "cell_type": "markdown",
   "metadata": {},
   "source": [
    "### Part A\n",
    "***\n",
    "\n",
    "***(3 points)*** What is the value of $n$?"
   ]
  },
  {
   "cell_type": "markdown",
   "metadata": {},
   "source": [
    "***solution:*** \n",
    "\n",
    " $P(X=x) = 2nx^2-2nx$\n",
    " \n",
    "  $1 = P(X=1)+ P(X=2)+P(X=3)+P(X=4) $\n",
    "  \n",
    "  $1= 2n(1^2-1)+2n(2^2-2)+2n(3^2-3)+2n(4^2-4)$\n",
    "  \n",
    "  $1= 0+4n+12n+24n$\n",
    "  \n",
    "  $1=40n$\n",
    "  \n",
    "  $n=\\frac{1}{40}$"
   ]
  },
  {
   "cell_type": "markdown",
   "metadata": {},
   "source": [
    "### Part B\n",
    "***\n",
    "\n",
    " ***(2 points)*** What is $P(X=4)$?"
   ]
  },
  {
   "cell_type": "markdown",
   "metadata": {},
   "source": [
    "***solution:*** \n",
    "\n",
    " $P(X=4)= 2\\cdot\\frac{1}{40}\\cdot(4^2-4)$\n",
    " \n",
    " $P(X=4)=\\frac{1}{20}\\cdot 12$\n",
    "\n",
    " $P(X=4)=\\frac{3}{5}$"
   ]
  },
  {
   "cell_type": "markdown",
   "metadata": {},
   "source": [
    " ### Part C\n",
    " ***\n",
    " \n",
    "***(2 points)*** What is $P(X\\leq3)$?"
   ]
  },
  {
   "cell_type": "markdown",
   "metadata": {},
   "source": [
    "***solution:*** \n",
    "\n",
    "$P(X\\leq3)=1-P(X=4) = 1- \\frac{3}{5}= \\frac{2}{5} $"
   ]
  },
  {
   "cell_type": "markdown",
   "metadata": {},
   "source": [
    "# Problem 4\n",
    "***\n",
    "\n",
    "One of the following graphs (either graph 1 or graph 2) is a PMF and one is not.\n",
    "\n",
    "***(2 points)*** Draw the CDF for the one valid PMF.\n",
    "\n",
    "GRAPH 1\n",
    "![title](npdf.png)\n",
    "\n",
    "GRAPH 2\n",
    "![title](ypdf.png)"
   ]
  },
  {
   "cell_type": "markdown",
   "metadata": {},
   "source": [
    "***solution:*** Put your solution to #4 here:\n",
    "- Graph 2 is the correct PMF because the sum of the masses, or the area under the curve equals 1"
   ]
  },
  {
   "cell_type": "code",
   "execution_count": 3,
   "metadata": {},
   "outputs": [
    {
     "data": {
      "image/png": "[encoded data removed]",
      "text/plain": [
       "<Figure size 432x288 with 1 Axes>"
      ]
     },
     "metadata": {
      "needs_background": "light"
     },
     "output_type": "display_data"
    }
   ],
   "source": [
    "##code to display the CDF \n",
    "\n",
    "pmf=np.array([0.2,0.3,0.5])\n",
    "cdf=np.cumsum(pmf) #cumulative sum \n",
    "\n",
    "x = np.array([0,1,2])\n",
    "y = np.array(cdf)\n",
    "  \n",
    "plt.stem(x, y)\n",
    "plt.xlabel(\"X\")\n",
    "plt.ylabel(\"Probability\")\n",
    "plt.title(\"CDF of Figure 2\")\n",
    "plt.show()"
   ]
  },
  {
   "cell_type": "markdown",
   "metadata": {},
   "source": [
    "# Problem 5\n",
    "***\n",
    "\n",
    "![title](3die.png)\n",
    "You are the proud new owner of a three sided die!\n",
    "\n",
    "The sides are marked '1', '2', and '3'. Let $X$ be the amount of 3's obtained after rolling the die twice.\n",
    "\n",
    "If $S$ is the sample space, then $X:S\\to\\mathbb{R}$, and $p(x_i)=P(X=x_i)=P(\\{s\\in S|X(s)=x_i\\})$"
   ]
  },
  {
   "cell_type": "markdown",
   "metadata": {},
   "source": [
    "### Part A\n",
    "***\n",
    "\n",
    "   1] ***(2 points)*** What is $X((3, 3))$?\n",
    "   \n",
    "   2] ***(2 points)*** What is $X((2, 3))$?"
   ]
  },
  {
   "cell_type": "markdown",
   "metadata": {},
   "source": [
    "***solution:*** \n",
    "\n",
    "$X((3, 3))= 2$ because there are 2 3's   \n",
    "$X((2, 3))=1$ becasue there is just 1 3"
   ]
  },
  {
   "cell_type": "markdown",
   "metadata": {},
   "source": [
    "### Part B\n",
    "***\n",
    "\n",
    "   1] ***(2 points)*** What is $p(2)$?\n",
    "\n",
    "   2] ***(2 points)*** What is $p(1)$?"
   ]
  },
  {
   "cell_type": "markdown",
   "metadata": {},
   "source": [
    "***solution:*** \n",
    "\n",
    "I am interpreting this as the probability of rolling 2 3's:\n",
    "\n",
    "$p(2)=\\frac{1}{9}$ since there is only one way to roll 2 3's out of 9 possible rolls\n",
    "\n",
    "Similarly, I am interpreting this as the probability of rolling exactly 1 3:\n",
    "\n",
    "$p(1)=\\frac{4}{9}$ since there are only 4 ways to roll 1 3's out of 9 possible rolls"
   ]
  },
  {
   "cell_type": "markdown",
   "metadata": {},
   "source": [
    "### Part C\n",
    "***\n",
    "\n",
    "1] ***(2 points)*** Create a table of values for the PMF.\n",
    "\n",
    "2] ***(4 points)*** Create (code) a graph for the PMF."
   ]
  },
  {
   "cell_type": "markdown",
   "metadata": {},
   "source": [
    "PMF\n",
    "\n",
    "|a=|0|1|2|\n",
    "|------|------|------|------|\n",
    "|P(X=a)=p(a)    |4/9    |4/9   |1/9    |"
   ]
  },
  {
   "cell_type": "markdown",
   "metadata": {},
   "source": [
    "***solution:*** Put your solution to part C, #1 here:\n"
   ]
  },
  {
   "cell_type": "code",
   "execution_count": 4,
   "metadata": {},
   "outputs": [
    {
     "data": {
      "image/png": "[encoded data removed]",
      "text/plain": [
       "<Figure size 432x288 with 1 Axes>"
      ]
     },
     "metadata": {
      "needs_background": "light"
     },
     "output_type": "display_data"
    }
   ],
   "source": [
    "# code for the graph of the PMF:\n",
    "\n",
    "pmf=np.array([4/9,4/9,1/9])\n",
    "\n",
    "x = np.array([0,1,2])\n",
    "y = np.array([4/9,4/9,1/9])\n",
    "  \n",
    "plt.stem(x, y)\n",
    "plt.xlabel(\"X\")\n",
    "plt.ylabel(\"Probability\")\n",
    "plt.title(\"PMF of rolling 3s with my 3 sided die\")\n",
    "plt.show()"
   ]
  },
  {
   "cell_type": "markdown",
   "metadata": {},
   "source": [
    "### Part D\n",
    "***\n",
    "\n",
    "   1] ***(2 points)*** Create a table of values for the CDF.\n",
    "\n",
    "   2] ***(2 points)*** Create a piecewise function for the CDF.\n",
    "\n",
    "   3] ***(4 points)*** Create (code) a graph for the CDF."
   ]
  },
  {
   "cell_type": "markdown",
   "metadata": {},
   "source": [
    "CDF\n",
    "\n",
    "|a=|0|1|2|\n",
    "|------|------|------|------|\n",
    "|F(a)    |4/9    |8/9   |9/9 =1   |"
   ]
  },
  {
   "cell_type": "markdown",
   "metadata": {},
   "source": [
    "***solution:*** Put your solution to Part D, #1, here:\n"
   ]
  },
  {
   "cell_type": "markdown",
   "metadata": {},
   "source": [
    "$$\n",
    "\\begin{align}\n",
    "\\text{Piecewise cumulative distribution function:}\\\\\n",
    "F(a)=\\begin{cases}\n",
    "0&\\text{for $x<0$}\\\\\n",
    "\\frac{4}{9}&\\text{for $0 \\le x < 1$}\\\\\n",
    "\\frac{8}{9}&\\text{for $1 \\le x < 2$}\\\\\n",
    "\\frac{9}{9}= 1 &\\text{for $ x \\ge 3$}\\\\\n",
    "\\end{cases}\n",
    "\\end{align}\n",
    "$$"
   ]
  },
  {
   "cell_type": "markdown",
   "metadata": {},
   "source": [
    "***solution:*** Put your solution to Part D, #2, here:\n"
   ]
  },
  {
   "cell_type": "code",
   "execution_count": 5,
   "metadata": {},
   "outputs": [
    {
     "data": {
      "image/png": "[encoded data removed]",
      "text/plain": [
       "<Figure size 432x288 with 1 Axes>"
      ]
     },
     "metadata": {
      "needs_background": "light"
     },
     "output_type": "display_data"
    }
   ],
   "source": [
    "# Code for graph for the CDF\n",
    "\n",
    "pmf=np.array([4/9,4/9,1/9])\n",
    "cdf=np.cumsum(pmf)\n",
    "x = np.array([0,1,2])\n",
    "y = np.array(cdf)\n",
    "  \n",
    "plt.stem(x, y)\n",
    "plt.xlabel(\"X\")\n",
    "plt.ylabel(\"Probability\")\n",
    "plt.title(\"CDF of rolling 3s with my 3 sided die\")\n",
    "plt.show()"
   ]
  },
  {
   "cell_type": "markdown",
   "metadata": {},
   "source": [
    "# Problem 6\n",
    "***\n",
    "\n",
    "### Part A\n",
    "\n",
    "We are still playing with our new three sided die and we are still considering rolling a '3' a success. Only now we are rolling the die 10 times!\n",
    "\n",
    "Suppose you actually rolled the 3-sided die ten times and counted how many times you rolled a '3'.\n",
    "\n",
    "You could get zero amount of 3's.\n",
    "\n",
    "You could roll a '3' only once.\n",
    "\n",
    "You could roll a '3' two out of ten times.\n",
    "\n",
    "You might even roll a '3' ten out of ten times!\n",
    "\n",
    "Write a $\\color{red}{\\text{function}}$ that takes in the parameters $n=10$ (for ten rolls of the 3-sided die) and $p=\\frac{1}{3}$ (for the probability of rolling a '3'). The function should $\\color{red}{\\text{return the PMF}}$ as a Numpy array.\n",
    "\n",
    "***(4 points)*** Use the function to print out the PMF as a table of values after rolling the 3-sided die 10 times.\n",
    "\n",
    "i.e. the table should show the probability of rolling zero 3's, one 3, two 3's,..., ten 3's."
   ]
  },
  {
   "cell_type": "code",
   "execution_count": 6,
   "metadata": {},
   "outputs": [
    {
     "name": "stdout",
     "output_type": "stream",
     "text": [
      "The probability of rolling...\n",
      "  0 threes is 0.0000\n",
      "  1 threes is 0.0000\n",
      "  2 threes is 0.0004\n",
      "  3 threes is 0.0031\n",
      "  4 threes is 0.0162\n",
      "  5 threes is 0.0584\n",
      "  6 threes is 0.1460\n",
      "  7 threes is 0.2503\n",
      "  8 threes is 0.2816\n",
      "  9 threes is 0.1877\n",
      "  10 threes is 0.0563\n"
     ]
    }
   ],
   "source": [
    "def binomial_pmf(n, p): ##function to calculate the PMF for a binomial distribution\n",
    "    pmf = np.array([binom(n,k)*(p**k)*(1-p)**(n-k) for k in range(0,n+1)])\n",
    "    return pmf\n",
    "\n",
    "pmf = binomial_pmf(10,3/4) #using the above function to get the number of 3's after rolling the die 10 times\n",
    "\n",
    "print(\"The probability of rolling...\")\n",
    "for k, prob in enumerate(pmf):\n",
    "    print(\"  {} threes is {:0.4f}\".format(k,prob))"
   ]
  },
  {
   "cell_type": "markdown",
   "metadata": {},
   "source": [
    "### Part B\n",
    "\n",
    "Suppose you rolled the die ten times and wrote down how many 3's resulted.\n",
    "\n",
    "Then, you again rolled the die ten times and again wrote down how many 3's resulted.\n",
    "\n",
    "And again you roll ten times and record. And again. And again.\n",
    "\n",
    "In totality, lets say you recorded results 20 times. That is, twenty times in a row you rolled the 3-sided die 10 times and recorded the amount of 3' that appeared out of the 10 rolls.\n",
    "\n",
    "You might get 20 results like [2 2 4 4 2 4 5 2 5 2 2 4 2 1 3 1 3 2 3 3] representing 2 out of 10, 2 out of ten, 4 out of ten, etc.\n",
    "\n",
    "In order to determine how many successes (amount of 3's) TYPICALLY result when you roll this die ten times, you could look at a histogram (a distribution) of your 20 recordings. Better yet, a more accurate picture results from looking at a distribution of 100000 recordings.\n",
    "\n",
    "***(4 points)*** Create (code) a density histogram of 100000 results to get an estimation of the distribution (aka PMF)."
   ]
  },
  {
   "cell_type": "code",
   "execution_count": 7,
   "metadata": {},
   "outputs": [
    {
     "data": {
      "image/png": "[encoded data removed]",
      "text/plain": [
       "<Figure size 432x288 with 1 Axes>"
      ]
     },
     "metadata": {
      "needs_background": "light"
     },
     "output_type": "display_data"
    }
   ],
   "source": [
    "n = 10 #roll 3 side die 10 times\n",
    "p = 1/3 #prob of rolling a 3\n",
    "\n",
    " #running 100000 experiments\n",
    "sample = np.random.binomial(n=n, p=p, size=100000)\n",
    "bins = np.arange(-0.5, 11.5, 1)\n",
    "\n",
    "X = np.array(range(n+1))\n",
    "diepmf = binomial_pmf(n=n, p=p) #using function to get pmf distribution \n",
    "\n",
    "fig, ax = plt.subplots(nrows=1, ncols=1) #initialize graph\n",
    "\n",
    "#greating a histogram of the pmf of the sample\n",
    "ax.hist(sample, edgecolor='white', density=True, bins=bins, rwidth=0.8)\n",
    "ax.set_xlabel(\"Number of '3's that appeared in 10 rolls\")\n",
    "ax.set_ylabel(\"Probability\")\n",
    "ax.set_title(\"PMF\")\n",
    "ax.grid(alpha=0.25)\n",
    "ax.set_xlim([-0.7, 10.7]);\n",
    "ax.set_ylim([0, 1])\n",
    "ax.bar(X, diepmf)\n",
    "ax.set_axisbelow(True)\n",
    "ax.grid(alpha=0.25);\n",
    "\n",
    "\n",
    "#showing that most experiments you will roll 2-4 3's \n",
    "#but hardly ever/never get 9 or 10 threes which is what we expect"
   ]
  },
  {
   "cell_type": "markdown",
   "metadata": {},
   "source": [
    "# Part C\n",
    "\n",
    "***(1 point)*** From the PMF just created, what appears to be the most common result? In other words, how many times will '3' most commonly appear after rolling a 3-sided die ten times?"
   ]
  },
  {
   "cell_type": "markdown",
   "metadata": {},
   "source": [
    "***solution:***\n",
    "\n",
    "- The PMF above shows that most experiments you will roll 2-4 3's out of 10 rolls and you will hardly ever/never get 8-10 threes. This is what we expect since the probability of rolling a 3 is 1/3. \n",
    "- It is most common to roll a three 3 times during the ten times"
   ]
  }
 ],
 "metadata": {
  "kernelspec": {
   "display_name": "Python 3 (ipykernel)",
   "language": "python",
   "name": "python3"
  },
  "language_info": {
   "codemirror_mode": {
    "name": "ipython",
    "version": 3
   },
   "file_extension": ".py",
   "mimetype": "text/x-python",
   "name": "python",
   "nbconvert_exporter": "python",
   "pygments_lexer": "ipython3",
   "version": "3.9.7"
  }
 },
 "nbformat": 4,
 "nbformat_minor": 2
}
