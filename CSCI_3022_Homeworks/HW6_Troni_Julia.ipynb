{
 "cells": [
  {
   "cell_type": "markdown",
   "metadata": {},
   "source": [
    "# Homework 06: Expected Value and Variance\n",
    "***\n",
    "\n",
    "**Name**: Julia Troni\n",
    "\n",
    "***\n",
    "\n",
    "This assignment is due on Canvas by **6:00PM on Friday October 7**. Your solutions to theoretical questions should be done in Markdown directly below the associated question.  Your solutions to computational questions should include any specified Python code and results as well as written commentary on your conclusions.  Remember that you are encouraged to discuss the problems with your classmates, but **you must write all code and solutions on your own**.\n",
    "\n",
    "**NOTES**: \n",
    "\n",
    "- Any relevant data sets should be available in the Homework 01 assignment write-up on Canvas. To make life easier on the grader if they need to run your code, do not change the relative path names here. Instead, move the files around on your computer.\n",
    "- If you're not familiar with typesetting math directly into Markdown then by all means, do your work on paper first and then typeset it later.  Remember that there is a [reference guide](https://math.meta.stackexchange.com/questions/5020/mathjax-basic-tutorial-and-quick-reference) linked on Canvas on writing math in Markdown. **All** of your written commentary, justifications and mathematical work should be in Markdown.\n",
    "- Because you can technically evaluate notebook cells is a non-linear order, it's a good idea to do $\\color{red}{\\text{Kernel}}$ $\\color{red}\\rightarrow$ $\\color{red}{\\text{Restart & Run All}}$ as a check before submitting your solutions.  That way if we need to run your code you will know that it will work as expected. \n",
    "- It is **bad form** to make your reader interpret numerical output from your code.  If a question asks you to compute some value from the data you should show your code output **AND** $\\color{red}{\\text{write a summary of the results}}$ in Markdown directly below your code. \n",
    "- This probably goes without saying, but... For any question that asks you to calculate something, you **must show all work and justify your answers to receive credit**. Sparse or nonexistent work will receive sparse or nonexistent credit. \n",
    "\n",
    "---"
   ]
  },
  {
   "cell_type": "markdown",
   "metadata": {},
   "source": [
    "Import Pandas, NumPy, and matplotlib.pylab."
   ]
  },
  {
   "cell_type": "code",
   "execution_count": 1,
   "metadata": {},
   "outputs": [],
   "source": [
    "import pandas as pd\n",
    "import numpy as np\n",
    "import matplotlib.pylab as plt\n",
    "%matplotlib inline "
   ]
  },
  {
   "cell_type": "markdown",
   "metadata": {},
   "source": [
    "# Problem 1\n",
    "***\n",
    "Consider a continuous random variable $X$ with a PDF given by:\n",
    "\n",
    "$f(x)=\n",
    "    \\begin{cases}\n",
    "        \\frac{1}{10}(1-\\frac{1}{20}x) & \\text{if } 0\\leq x\\leq20\\\\\n",
    "        0 & \\text{elsewhere} \n",
    "    \\end{cases}$\n",
    "    \n",
    "Furthermore, consider $Y$ to be a random variable with values $Y=3X+5$."
   ]
  },
  {
   "cell_type": "markdown",
   "metadata": {},
   "source": [
    "### Part A\n",
    "\n",
    "***(2 points)*** Show that $f(x)$ is a valid PDF."
   ]
  },
  {
   "cell_type": "markdown",
   "metadata": {},
   "source": [
    "***solution:*** \n",
    "\n",
    "- First check: $ f(x) \\ge 0 $ for all x \n",
    "    - for $0\\leq x\\leq20, f(x)= \\frac{1}{10}(1-\\frac{1}{20}x)$\n",
    "    - so find where $\\frac{1}{10}(1-\\frac{1}{20}x) \\le 0$\n",
    "    - after solving for x we have that $20 \\geq x$, which tells us that $\\frac{1}{10}(1-\\frac{1}{20}x) \\geq 0$ for all values less than 20. Since the bounds are $0\\leq x\\leq20$, this holds.\n",
    "    - for all ofther values of x, we know that $ f(x)=0 \\ge 0 $ \n",
    "    * Thus  $ f(x) \\ge 0 $ for all x \n",
    "\n",
    "- Now check :\n",
    "\n",
    "$ \\int_{-\\infty}^{\\infty} f(x) dx = 1 $\n",
    "\n",
    "$ \\int_{-\\infty}^{0} 0 dx + \\int_{0}^{20} \\frac{1}{10}(1-\\frac{1}{20}x) dx + \\int_{20}^{\\infty} 0 dx $\n",
    "\n",
    "$0 + (\\frac{1}{10}x-\\frac{1}{400}x^2) \\Big|_0^{20} + 0 $\n",
    "\n",
    "$ = \\frac{20}{10}-\\frac{400}{400} $\n",
    "\n",
    "$= 2-1=1 $\n",
    "\n",
    "Thus $f(x)$ is a valid PDF\n"
   ]
  },
  {
   "cell_type": "markdown",
   "metadata": {},
   "source": [
    "### Part B\n",
    "\n",
    "***(2 points)*** Find $E[X]$."
   ]
  },
  {
   "cell_type": "markdown",
   "metadata": {},
   "source": [
    "***solution:*** \n",
    "$E[X]= \\int_{-\\infty}^{\\infty} xf(x) dx  $\n",
    "\n",
    "So $E[X]= 0+ \\int_{0}^{20} \\frac{1}{10}x(1-\\frac{1}{20}x) dx + 0 $\n",
    "\n",
    " $= \\frac{1}{10} \\int_{0}^{20}( x-\\frac{1}{20}x^2) dx $\n",
    " \n",
    " $ = \\frac{1}{10} (\\frac{1}{2}x^2-\\frac{1}{60}x^3) \\Big|_0^{20} $\n",
    " \n",
    " $= \\frac{1}{10} (\\frac{400}{2}-\\frac{400 \\cdot 20}{60}) $\n",
    " \n",
    " $= 20- \\frac{40}{3} = \\frac{20}{3}= 6.\\overline{666} $"
   ]
  },
  {
   "cell_type": "markdown",
   "metadata": {},
   "source": [
    "### Part C\n",
    "\n",
    "***(2 points)*** Find $Var(X)$. "
   ]
  },
  {
   "cell_type": "markdown",
   "metadata": {},
   "source": [
    "***solution:*** Put your solution to part C here:\n",
    "\n",
    "$Var(X) = E\\left[(X-E[X])^2\\right] = E[X^2]-(E[X])^2$\n",
    "\n",
    "$E[X^2]=\\int_{-\\infty}^{\\infty} x^2 f_X(x) dx$\n",
    "\n",
    "$\\frac{1}{10} \\int_{0}^{20}( x^2-\\frac{1}{20}x^3) dx$\n",
    "\n",
    " $ = \\frac{1}{10} (\\frac{1}{3}x^3-\\frac{1}{80}x^4) \\Big|_0^{20} $\n",
    " \n",
    " $=\\frac{20^3}{30}-\\frac{20^4}{800}$\n",
    " \n",
    " \n",
    " \n",
    "\n",
    "$(E[X])^2= (20- \\frac{40}{3})^2$\n",
    "\n",
    "Thus $Var(X) = E\\left[(X-E[X])^2\\right] = E[X^2]-(E[X])^2$\n",
    "\n",
    " $=\\left[\\frac{20^3}{30}-\\frac{20^4}{800}\\right] - \\left[(20- \\frac{40}{3})^2 \\right]$\n",
    "\n",
    "$= \\frac{200}{9}=22.\\overline{222}$"
   ]
  },
  {
   "cell_type": "markdown",
   "metadata": {},
   "source": [
    "### Part D\n",
    "\n",
    "***(2 points)*** Find $E[Y]$."
   ]
  },
  {
   "cell_type": "markdown",
   "metadata": {},
   "source": [
    "***solution:*** \n",
    "\n",
    "$E[Y]= 3 \\cdot E[X] +5 $\n",
    "\n",
    "$= 3( 20- \\frac{40}{3}) +5$\n",
    "\n",
    "$= 25$"
   ]
  },
  {
   "cell_type": "markdown",
   "metadata": {},
   "source": [
    "### Part E\n",
    "\n",
    "***(2 points)*** Find $Var(Y)$."
   ]
  },
  {
   "cell_type": "markdown",
   "metadata": {},
   "source": [
    "***solution:*** \n",
    "\n",
    "Since $Y=3X+5$ we have that $Var(rX+s)= r^2Var(X)$ \n",
    "\n",
    "Thus $Var(Y)= Var(3X+5)= 3^2Var(X)  = 9 \\cdot Var(X)$\n",
    "\n",
    "$=9\\cdot \\frac{200}{9}= 200$ "
   ]
  },
  {
   "cell_type": "markdown",
   "metadata": {},
   "source": [
    "# Problem 2\n",
    "***\n",
    "\n",
    "![image](wheel.png)\n",
    "\n",
    "Consider the American roulette wheel as pictured above. "
   ]
  },
  {
   "cell_type": "markdown",
   "metadata": {},
   "source": [
    "### Part A\n",
    "\n",
    "Suppose you decide to bet on red23 over and over and over again UNTIL you win, then you'll stop playing.\n",
    "\n",
    "Winning means the ball lands on the red23 slot - and it has an equal chance of landing in any of the slots. \n",
    "\n",
    "So, you might play only once (if you win in one game.) Or, perhaps you'll play twice, or three times, etc. before you win. \n",
    "\n",
    "Let $X$ be the random variable, \"Number of times you play till you win.\"\n",
    "\n",
    "***(2 points)*** How many times do you expect to play before you win?"
   ]
  },
  {
   "cell_type": "markdown",
   "metadata": {},
   "source": [
    "***solution:*** Put your answer to Part A here:\n",
    "\n",
    "One bet is to pick any single number. There are 38 possible numbers and only one red23. This means there is 1 way to win out of 38 possible bets. Thus, the probability of winning is $\\frac{1}{38}$ \n",
    "\n",
    "In other words you should expect to play 38 times before you win "
   ]
  },
  {
   "cell_type": "markdown",
   "metadata": {},
   "source": [
    "### Part B\n",
    "\n",
    "***(3 points)*** What is the probability that you don't win until your 4th attempt?"
   ]
  },
  {
   "cell_type": "markdown",
   "metadata": {},
   "source": [
    "***solution:*** Put your answer to Part B here:\n",
    "\n",
    "$p= \\frac{1}{38}$\n",
    "\n",
    "$P(X=4)=(1-p)^3\\cdot p$ \n",
    "\n",
    "so $P(X=4)=(1-\\frac{1}{38})^3\\cdot \\frac{1}{38}= \\frac{37^3}{38^4}$ \n",
    "\n",
    "$\\approx 0.02429 $"
   ]
  },
  {
   "cell_type": "markdown",
   "metadata": {},
   "source": [
    "### Part C\n",
    "\n",
    "Recall from Calculus that a geometric series with ratio $r$ diverges if $|r|>1$, but if $0<|r|<1$ then the series converges:\n",
    "\n",
    "$\\displaystyle{\\sum_{n=0}^{\\infty}ar^n=\\frac{a}{1-r}}$.\n",
    "\n",
    "Therefore, for $0<p<1$, we have $\\displaystyle{\\sum_{k=0}^{\\infty}p(1-p)^k=p\\cdot\\frac{1}{1-(1-p)}=1}.$\n",
    "\n",
    "***(5 points)*** Explain (show) why $\\displaystyle{E[X]=\\sum_{k=1}^{\\infty}kp(1-p)^{k-1}=\\frac{1}{p}}$."
   ]
  },
  {
   "cell_type": "markdown",
   "metadata": {},
   "source": [
    "***solution:*** Put your answer to Part C here:\n",
    "\n",
    "\\begin{align*}E(X)&=\\sum_{k=1}^{\\infty}kp(1-p)^{k-1} \\\\\n",
    "&=p\\sum_{k=1}^{\\infty}k(1-p)^{k-1} \\\\\n",
    "&=p\\left(-\\frac{d}{dp}\\sum_{k=1}^{\\infty}(1-p)^k\\right) \\\\\n",
    "&=p\\left(-\\frac{d}{dp}\\frac{1-p}{p}\\right) \\\\\n",
    "&=p\\left(\\frac{d}{dp}\\left(1-\\frac{1}{p}\\right)\\right)=p\\left(\\frac{1}{p^2}\\right)=\\frac1p\\end{align*}"
   ]
  },
  {
   "cell_type": "markdown",
   "metadata": {},
   "source": [
    "### Part D\n",
    "\n",
    "***(3 points)*** What is $E[X]$ ?"
   ]
  },
  {
   "cell_type": "markdown",
   "metadata": {},
   "source": [
    "***solution:*** \n",
    "\n",
    "This is a geometric distribution with $P(success)=\\frac{1}{38}$. Thus since $E[X]=\\frac{1}{p}$ for a geometric distribution\n",
    "then $E[X]=\\frac{1}{\\frac{1}{38}}= 38$"
   ]
  },
  {
   "cell_type": "markdown",
   "metadata": {},
   "source": [
    "### Part E\n",
    "\n",
    "You are interested in knowing how much money you should expect to win $\\textbf{each time you play.}$ Afterall, you have decided to play over and over again till you win.\n",
    "\n",
    "Now, let $X$ be the random variable, \"Amount of money you win.\"\n",
    "\n",
    "You are still betting on 23red, and each bet costs \\$1.\n",
    "\n",
    "If you lose, you lose your dollar.\n",
    "\n",
    "If you win, you get your dollar back $\\textbf{and}$ you get an additional \\$35 for winning.\n",
    "\n",
    "***(3 points)*** What is $E[X]$ ?"
   ]
  },
  {
   "cell_type": "markdown",
   "metadata": {},
   "source": [
    "***solution:*** \n",
    "\n",
    "$E[X]= (-1)\\cdot(1-p)+ (35)\\cdot p$\n",
    "\n",
    "\n",
    "The chance of getting a particular number is $1$ in $38$.  We have: \n",
    "\n",
    "$E[X]= (-1)\\cdot(1-\\frac{1}{38})+ (35)\\cdot \\frac{1}{38}$\n",
    "\n",
    "$= -\\frac{2}{38}\\approx -0.0526 $\n",
    "\n",
    "So you should expect to lose about 5 cents each time you play"
   ]
  },
  {
   "cell_type": "markdown",
   "metadata": {},
   "source": [
    "# Problem 3\n",
    "***\n",
    "\n",
    "***Using the definition*** of expected value and variance,\n",
    "\n",
    "Discrete: $E[X] = \\sum_ia_i\\cdot P(X=a_i)$.\n",
    "\n",
    "Continuous: $E[X] = \\int_{-\\infty}^{\\infty}xf(x)\\phantom{x}dx$\n",
    "\n",
    "$Var(X) = E\\left[(X-E[X])^2\\right] = E[X^2]-(E[X])^2$\n",
    "\n",
    "Find the following:"
   ]
  },
  {
   "cell_type": "markdown",
   "metadata": {},
   "source": [
    "### Part A\n",
    "\n",
    "***(3 points)*** Suppose $X$~$U[a, b]$, find $E[X]$. $X$ takes on all real values between $\\alpha$ and $\\beta$."
   ]
  },
  {
   "cell_type": "markdown",
   "metadata": {},
   "source": [
    "***solution:*** Put your answer to Part A here:\n",
    "$$ {f_X}(x) = \\begin {cases} \\dfrac 1 {b - a} & : a \\le x \\le b \\\\ 0 & : \\text {otherwise} \\end {cases}$$\n",
    "\n",
    "$$E[X] = \\int_{-\\infty}^{\\infty}xf(x)\\phantom{x}dx$$\n",
    "\n",
    "$$ E[X]= \\int_{-\\infty}^a 0 x dx + \\int_a^b  \\frac x {b - a} dx + \\int_b^\\infty 0 x dx $$\n",
    "\n",
    "$$= [ {{\\frac {x^2} {2 ( {b - a}) } }}]^b_a $$\n",
    "\n",
    "$$= \\frac {b^2 - a^2} {2 ( {b - a} )}$$\n",
    "\n",
    "$$ = \\frac {( {b - a}) ({b + a}) } {2 ( {b - a} )}$$\n",
    "\n",
    "$$=\\frac{a+b}{2}$$\n"
   ]
  },
  {
   "cell_type": "markdown",
   "metadata": {},
   "source": [
    "### Part B\n",
    "\n",
    "***(3 points)*** Suppose $X$~$U[a,b]$, find $Var[X]$."
   ]
  },
  {
   "cell_type": "markdown",
   "metadata": {},
   "source": [
    "***solution:*** Put your answer to Part B here:\n",
    "$$E[X^2] = \\frac{1}{b-a}\\int_a^b x^2 dx = \\frac{b^3-a^3}{3(b-a)}=\\frac{a^2+ab+b^2}{3}$$\n",
    "$$(E[X])^2= (\\frac{a+b}{2})^2= \\frac{a^2+2ab+b^2}{4} $$\n",
    "\n",
    "$$Var(X) = E\\left[(X-E[X])^2\\right] = E[X^2]-(E[X])^2$$\n",
    "\n",
    "$$Var[X] = \\frac{a^2+ab+b^2}{3} - \\frac{a^2+2ab+b^2}{4} = \\frac{a^2-2ab+b^2}{12} =\\frac{(b-a)^2}{12}$$"
   ]
  },
  {
   "cell_type": "markdown",
   "metadata": {},
   "source": [
    "### Part C\n",
    "\n",
    "***(3 points)*** Suppose $X$~$Ber(p)$, find $E[X]$."
   ]
  },
  {
   "cell_type": "markdown",
   "metadata": {},
   "source": [
    "***solution:***\n",
    "\n",
    "$E[X] = \\sum_ia_i\\cdot P(X=a_i)$.\n",
    "\n",
    "$P(X = 1) = p$\n",
    "\n",
    "$P(X = 0) = 1-p$\n",
    "\n",
    "$E[X] = P(X = 1)\\cdot 1+ P(X = 0) \\cdot 0$\n",
    "\n",
    "$E[X] = p+(1-p)\\cdot 0$\n",
    "\n",
    "$E[X] = p$"
   ]
  },
  {
   "cell_type": "markdown",
   "metadata": {},
   "source": [
    "### Part D\n",
    "\n",
    "***(3 points)*** Suppose $X$~$Ber(p)$, find $Var[X]$."
   ]
  },
  {
   "cell_type": "markdown",
   "metadata": {},
   "source": [
    "***solution:*** \n",
    "\n",
    "$Var(X) = E\\left[(X-E[X])^2\\right] = E[X^2]-(E[X])^2$\n",
    "\n",
    "$E(X^2)\t=P(X = 1)\\cdot 1^2+ P(X = 0) \\cdot 0^2= p $\n",
    "\n",
    "\n",
    "\n",
    "$(E[X])^2 = p^2$\n",
    "\n",
    "Thus $Var(X)= p-p^2 = p(1-p)$"
   ]
  },
  {
   "cell_type": "markdown",
   "metadata": {},
   "source": [
    "# Problem 4\n",
    "***\n",
    "\n",
    "Consider a card game played with a standard deck of 52 cards.\n",
    "\n",
    "The cards are shuffled, a card is chosen, recorded, and returned to the deck.\n",
    "\n",
    "This is done three times and the record of three choices is observed.\n",
    "\n",
    "The game costs \\$1 to play.\n",
    "\n",
    "If all three cards have the same number, then you get your dollar back plus \\$3.\n",
    "\n",
    "If you only have two cards with the same number, then you get your dollar back plus \\$2.\n",
    "\n",
    "If all three cards are of the same suit, then you get your dollar back plus \\$2.\n",
    "\n",
    "Examples:\n",
    "\n",
    "Ace of spades, Ace of clubs, 5 of diamonds: dollar back plus \\$2.\n",
    "\n",
    "Ace of spaces,2 of spades, 7 of spades: dollar back plus \\$2.\n",
    "\n",
    "5 of diamonds, 8 of diamonds, 8 of diamonds: dollar back plus \\$2, plus \\$2.\n",
    "\n",
    "4 of hearts, 4 of hearts, 4 hearts: dollar back plus \\$3, plus \\$2.\n",
    "\n",
    "6 of diamonds, 6 of hearts, 6 of clubs: dollar back plus \\$3.\n",
    "\n",
    "3 of hearts, 5 of diamonds, Queen of clubs: Lose your dollar.\n",
    "\n",
    "***(7 points)*** Write a function or functions that will create a random draw of three cards as described above. Simulate this game (at least 1000 times) and determine from the simulation the expected winnings per dollar of this game. "
   ]
  },
  {
   "cell_type": "code",
   "execution_count": 2,
   "metadata": {},
   "outputs": [],
   "source": [
    "import random\n",
    "def drawCard():\n",
    "    card_points =['A','K','Q','J','2','3','4','5','6','7','8','9','10']\n",
    "    card_signs =['Heart','CLUB','DIAMOND','SPADE']\n",
    "    chosen=[-1,-1,-1]\n",
    "    for i in range(3):\n",
    "        random_point = random.choice(card_points)\n",
    "        random_sign = random.choice(card_signs)\n",
    "        random_card = random_point,random_sign\n",
    "        chosen[i]= random_card\n",
    "        \n",
    "    #initial bet is $1 so you start with negative profit\n",
    "    profit=-1\n",
    "    if (chosen[0][0]==chosen[1][0]==chosen[2][0]):\n",
    "        #If all three cards have the same number, then you get your dollar back plus $3.\n",
    "        profit=profit+1+3 \n",
    "    #If you only have two cards with the same number, then you get your dollar back plus $2.\n",
    "    elif (chosen[0][0]==chosen[1][0]):\n",
    "        profit=profit+1+2\n",
    "    elif (chosen[0][0]==chosen[2][0]):\n",
    "         profit=profit+1+2\n",
    "    elif (chosen[1][0]==chosen[2][0]):\n",
    "         profit=profit+1+2\n",
    "   \n",
    "\n",
    "    if (chosen[0][1]==chosen[1][1]==chosen[2][1]):\n",
    "        #If all three cards are of the same suit, then you get your dollar back plus $2.\n",
    "         profit=profit+1+2\n",
    "    \n",
    "    return profit"
   ]
  },
  {
   "cell_type": "code",
   "execution_count": 3,
   "metadata": {
    "scrolled": true
   },
   "outputs": [
    {
     "name": "stdout",
     "output_type": "stream",
     "text": [
      "E[Winnings] = -0.15463\n",
      "if you bet $1, you should expect to earn -0.15463\n"
     ]
    }
   ],
   "source": [
    "def drawSim( num_trials=100000):\n",
    "    val=0;\n",
    "    for i in range(num_trials):\n",
    "        val=val+ drawCard()\n",
    "    return val/num_trials\n",
    "\n",
    "expectedWin= drawSim()\n",
    "\n",
    "print(\"E[Winnings] = {}\".format(expectedWin))\n",
    "print(\"if you bet $1, you should expect to earn {}\".format(expectedWin))"
   ]
  },
  {
   "cell_type": "markdown",
   "metadata": {},
   "source": [
    "From the experiment it appears that we expect to lose about 15 cents on average for every dollar that we bet. "
   ]
  },
  {
   "cell_type": "markdown",
   "metadata": {},
   "source": [
    "### Rubric Check\n",
    "***\n",
    "***(5 points)*** Makesure your answers are thorough but not redundant. Explain your answers, don't just put a number. Make sure you have matched your questions on Gradescope. Make sure your PDF is correct and your LaTeX is correct. etc. etc. BE NEAT."
   ]
  }
 ],
 "metadata": {
  "kernelspec": {
   "display_name": "Python 3 (ipykernel)",
   "language": "python",
   "name": "python3"
  },
  "language_info": {
   "codemirror_mode": {
    "name": "ipython",
    "version": 3
   },
   "file_extension": ".py",
   "mimetype": "text/x-python",
   "name": "python",
   "nbconvert_exporter": "python",
   "pygments_lexer": "ipython3",
   "version": "3.9.7"
  }
 },
 "nbformat": 4,
 "nbformat_minor": 4
}
