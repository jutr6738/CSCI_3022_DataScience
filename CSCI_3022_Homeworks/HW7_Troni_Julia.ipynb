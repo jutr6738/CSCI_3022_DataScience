{
 "cells": [
  {
   "cell_type": "markdown",
   "metadata": {},
   "source": [
    "# Homework 07: The Normal Distribution, The Central Limit Theorem, Confidence Intervals\n",
    "***\n",
    "\n",
    "**Name**: Julia Troni\n",
    "\n",
    "***\n",
    "\n",
    "This assignment is due on Canvas by **6:00PM on Friday October 28**. Your solutions to theoretical questions should be done in Markdown directly below the associated question.  Your solutions to computational questions should include any specified Python code and results as well as written commentary on your conclusions.  Remember that you are encouraged to discuss the problems with your classmates, but **you must write all code and solutions on your own**.\n",
    "\n",
    "**NOTES**: \n",
    "\n",
    "- Any relevant data sets should be available in the Homework 01 assignment write-up on Canvas. To make life easier on the grader if they need to run your code, do not change the relative path names here. Instead, move the files around on your computer.\n",
    "- If you're not familiar with typesetting math directly into Markdown then by all means, do your work on paper first and then typeset it later.  Remember that there is a [reference guide](https://math.meta.stackexchange.com/questions/5020/mathjax-basic-tutorial-and-quick-reference) linked on Canvas on writing math in Markdown. **All** of your written commentary, justifications and mathematical work should be in Markdown.\n",
    "- Because you can technically evaluate notebook cells is a non-linear order, it's a good idea to do $\\color{red}{\\text{Kernel}}$ $\\color{red}\\rightarrow$ $\\color{red}{\\text{Restart & Run All}}$ as a check before submitting your solutions.  That way if we need to run your code you will know that it will work as expected. \n",
    "- It is **bad form** to make your reader interpret numerical output from your code.  If a question asks you to compute some value from the data you should show your code output **AND** $\\color{red}{\\text{write a summary of the results}}$ in Markdown directly below your code. \n",
    "- This probably goes without saying, but... For any question that asks you to calculate something, you **must show all work and justify your answers to receive credit**. Sparse or nonexistent work will receive sparse or nonexistent credit. \n",
    "\n",
    "---"
   ]
  },
  {
   "cell_type": "markdown",
   "metadata": {},
   "source": [
    "For this HW you will want to import a few of the usuals:"
   ]
  },
  {
   "cell_type": "code",
   "execution_count": 1,
   "metadata": {},
   "outputs": [],
   "source": [
    "# Per the standard import pandas as 'pd' and numpy as 'np'\n",
    "import pandas as pd\n",
    "import numpy as np\n",
    "import matplotlib.pylab as plt\n",
    "%matplotlib inline \n",
    "import scipy.stats as stats\n",
    "from scipy.stats import norm"
   ]
  },
  {
   "cell_type": "markdown",
   "metadata": {},
   "source": [
    "# Problem 1\n",
    "***\n",
    "We are going to look at some data from an insurance company that insures teenage drivers. `insurance.csv` is a sample of 1000 males and 1000 females all of whose ages are between 16 and 19 inclusive.\n",
    "\n",
    "This insurance company has decided to use 'sex' as a proxy for deciding how large of a premium to charge for car insurance.\n",
    "\n",
    "Read in the csv file `insurance.csv`.\n",
    "\n",
    "### Part A\n",
    "***(1 point)*** Load the `csv` file into a dataframe and call it `dfInsurance`:"
   ]
  },
  {
   "cell_type": "code",
   "execution_count": 2,
   "metadata": {},
   "outputs": [],
   "source": [
    "# Read 'insurance' into dfInsurance\n",
    "# Path to data \n",
    "file_path = 'insurance.csv'\n",
    "\n",
    "# Load the data into a DataFrame \n",
    "df_Insurance = pd.read_csv(file_path)\n"
   ]
  },
  {
   "cell_type": "markdown",
   "metadata": {},
   "source": [
    "### Part B\n",
    "***(1 point)*** Take a look at the data."
   ]
  },
  {
   "cell_type": "code",
   "execution_count": 3,
   "metadata": {},
   "outputs": [
    {
     "data": {
      "text/html": [
       "<div>\n",
       "<style scoped>\n",
       "    .dataframe tbody tr th:only-of-type {\n",
       "        vertical-align: middle;\n",
       "    }\n",
       "\n",
       "    .dataframe tbody tr th {\n",
       "        vertical-align: top;\n",
       "    }\n",
       "\n",
       "    .dataframe thead th {\n",
       "        text-align: right;\n",
       "    }\n",
       "</style>\n",
       "<table border=\"1\" class=\"dataframe\">\n",
       "  <thead>\n",
       "    <tr style=\"text-align: right;\">\n",
       "      <th></th>\n",
       "      <th>Sex</th>\n",
       "      <th>miles driven</th>\n",
       "      <th>Age</th>\n",
       "      <th>Citations</th>\n",
       "    </tr>\n",
       "  </thead>\n",
       "  <tbody>\n",
       "    <tr>\n",
       "      <th>0</th>\n",
       "      <td>F</td>\n",
       "      <td>4200.826390</td>\n",
       "      <td>18</td>\n",
       "      <td>0</td>\n",
       "    </tr>\n",
       "    <tr>\n",
       "      <th>1</th>\n",
       "      <td>F</td>\n",
       "      <td>5468.727014</td>\n",
       "      <td>17</td>\n",
       "      <td>0</td>\n",
       "    </tr>\n",
       "    <tr>\n",
       "      <th>2</th>\n",
       "      <td>F</td>\n",
       "      <td>5282.253745</td>\n",
       "      <td>18</td>\n",
       "      <td>0</td>\n",
       "    </tr>\n",
       "    <tr>\n",
       "      <th>3</th>\n",
       "      <td>F</td>\n",
       "      <td>5060.526521</td>\n",
       "      <td>17</td>\n",
       "      <td>0</td>\n",
       "    </tr>\n",
       "    <tr>\n",
       "      <th>4</th>\n",
       "      <td>F</td>\n",
       "      <td>5101.878224</td>\n",
       "      <td>16</td>\n",
       "      <td>2</td>\n",
       "    </tr>\n",
       "  </tbody>\n",
       "</table>\n",
       "</div>"
      ],
      "text/plain": [
       "  Sex  miles driven  Age  Citations\n",
       "0   F   4200.826390   18          0\n",
       "1   F   5468.727014   17          0\n",
       "2   F   5282.253745   18          0\n",
       "3   F   5060.526521   17          0\n",
       "4   F   5101.878224   16          2"
      ]
     },
     "execution_count": 3,
     "metadata": {},
     "output_type": "execute_result"
    }
   ],
   "source": [
    "# Inspect some of the data\n",
    "df_Insurance.head()"
   ]
  },
  {
   "cell_type": "code",
   "execution_count": 4,
   "metadata": {},
   "outputs": [
    {
     "name": "stdout",
     "output_type": "stream",
     "text": [
      "<class 'pandas.core.frame.DataFrame'>\n",
      "RangeIndex: 2000 entries, 0 to 1999\n",
      "Data columns (total 4 columns):\n",
      " #   Column        Non-Null Count  Dtype  \n",
      "---  ------        --------------  -----  \n",
      " 0   Sex           2000 non-null   object \n",
      " 1   miles driven  2000 non-null   float64\n",
      " 2   Age           2000 non-null   int64  \n",
      " 3   Citations     2000 non-null   int64  \n",
      "dtypes: float64(1), int64(2), object(1)\n",
      "memory usage: 62.6+ KB\n"
     ]
    }
   ],
   "source": [
    "#check data types \n",
    "df_Insurance.info()"
   ]
  },
  {
   "cell_type": "markdown",
   "metadata": {},
   "source": [
    "### Data Description:\n",
    "\n",
    "This data contains records from a number of teenage drivers. The drivers were observed for 12 months and the number of miles they drove and the number of citations they received were recorded. Citations were for wreckless driving, disobeying traffic laws, speeding, and/or accidents.\n",
    "\n",
    "$\\color{red}{\\text{Sex}}$ - This is the sex of the driver.\n",
    "\n",
    "$\\color{red}{\\text{miles driven}}$ - This is the number of miles driven during the observation period.\n",
    "\n",
    "$\\color{red}{\\text{Age}}$ - This is the age of the driver at the beginning of the observation period.\n",
    "\n",
    "$\\color{red}{\\text{Citations}}$ - This is the number of citations received by the driver.\n"
   ]
  },
  {
   "cell_type": "markdown",
   "metadata": {},
   "source": [
    "### Part C\n",
    "***(2 points)*** Which sex has more overall citations?"
   ]
  },
  {
   "cell_type": "code",
   "execution_count": 5,
   "metadata": {},
   "outputs": [],
   "source": [
    "#df to hold male and females to use for C,D, E, \n",
    "\n",
    "dfMale= df_Insurance.loc[df_Insurance['Sex']=='M']\n",
    "dfFemale= df_Insurance.loc[df_Insurance['Sex']=='F']"
   ]
  },
  {
   "cell_type": "code",
   "execution_count": 6,
   "metadata": {},
   "outputs": [
    {
     "name": "stdout",
     "output_type": "stream",
     "text": [
      "Males had 468 citations\n",
      "Females had 397 citations\n",
      "Males have overall citations than females in this sample\n"
     ]
    }
   ],
   "source": [
    "#sum number of citations for each sex and print\n",
    "\n",
    "male_citations = dfMale['Citations'].sum() \n",
    "female_citations = dfFemale['Citations'].sum() \n",
    "print(\"Males had {} citations\".format(male_citations))\n",
    "print(\"Females had {} citations\".format(female_citations))\n",
    "print(\"Males have overall citations than females in this sample\")"
   ]
  },
  {
   "cell_type": "markdown",
   "metadata": {},
   "source": [
    "### Part D\n",
    "***(2 points)*** Find the mean number of citations received by males and the mean number of citations received by females. Who received more citations in the year?\n"
   ]
  },
  {
   "cell_type": "code",
   "execution_count": 7,
   "metadata": {},
   "outputs": [
    {
     "name": "stdout",
     "output_type": "stream",
     "text": [
      "Mean males citations: 0.468\n",
      "Mean females citations: 0.397\n",
      "Males have more citations per year than females for this sample\n"
     ]
    }
   ],
   "source": [
    "#use numpy canned mean function to calculate mean of citations for each gender and print\n",
    "\n",
    "\n",
    "male_mean_citations = dfMale['Citations'].mean() \n",
    "female_mean_citations = dfFemale['Citations'].mean()\n",
    "print(\"Mean males citations: {}\".format(male_mean_citations))\n",
    "print(\"Mean females citations: {}\".format(female_mean_citations))\n",
    "print(\"Males have more citations per year than females for this sample\")\n"
   ]
  },
  {
   "cell_type": "markdown",
   "metadata": {},
   "source": [
    "### Part E\n",
    "***(3 points)*** Estimate the difference in population means (for citations received) by creating a 95% CI for the difference between the sample means for number of citations received by males and females.\n",
    "\n",
    "Recall the equation below from lecture. Perform the proper calculations 'by hand' (i.e. code without a canned function).\n",
    "\n",
    "$\\bar{X}-\\bar{Y}\\pm Z_{\\frac{\\alpha}{2}}\\cdot\\sqrt{\\frac{\\sigma_1^2}{m}+\\frac{\\sigma_2^2}{n}}$"
   ]
  },
  {
   "cell_type": "code",
   "execution_count": 8,
   "metadata": {},
   "outputs": [
    {
     "name": "stdout",
     "output_type": "stream",
     "text": [
      " 95% CI for difference between the sample means for number of citations received by males and females: (0.003, 0.139)\n"
     ]
    }
   ],
   "source": [
    "\n",
    "#number of each sex in sample\n",
    "m_n=len(dfMale) \n",
    "f_n=len(dfFemale) \n",
    "\n",
    "\n",
    "#stdeviation for each sex\n",
    "m_std= dfMale['Citations'].std()\n",
    "f_std= dfFemale['Citations'].std()\n",
    "\n",
    "#mean citations from above\n",
    "male_mean_citations = dfMale['Citations'].mean() \n",
    "female_mean_citations = dfFemale['Citations'].mean()\n",
    "\n",
    "# holds the critical z.\n",
    "zalph=stats.norm.ppf(.975) ##alpha/2 so 1-(alpha/2)=1-(0.05/2)=1-0.025=0.975 since 95% confidence interval\n",
    "\n",
    "\n",
    "#male mean - female mean ± zalpha * (m_std^2/m_n + f_std^2/f_n)^.5\n",
    "\n",
    "lowbound= (male_mean_citations-female_mean_citations) - zalph*( (m_std**2/m_n + f_std**2/f_n)**.5)\n",
    "highbound= (male_mean_citations-female_mean_citations) + zalph*( (m_std**2/m_n + f_std**2/f_n)**.5)\n",
    "print(\" 95% CI for difference between the sample means for number of citations received by males and females: ({:.3f}, {:.3f})\".\n",
    "      format(lowbound,highbound))\n",
    "\n"
   ]
  },
  {
   "cell_type": "code",
   "execution_count": 9,
   "metadata": {},
   "outputs": [
    {
     "name": "stdout",
     "output_type": "stream",
     "text": [
      " Check using 'interval' function : (0.003, 0.139)\n"
     ]
    }
   ],
   "source": [
    "# check with using .interval function\n",
    "int= stats.norm.interval(.95, loc=male_mean_citations-female_mean_citations, scale=(m_std**2/m_n + f_std**2/f_n)**.5) \n",
    "# confidencelevel=.95, loc= xbar, and scale=standard error=sd/np.sqrt(n).\n",
    "\n",
    "print(\" Check using 'interval' function : ({:.3f}, {:.3f})\".\n",
    "      format(lowbound,highbound))"
   ]
  },
  {
   "cell_type": "markdown",
   "metadata": {},
   "source": [
    "### Part F\n",
    "***(1 point)*** Is 0 inside the confidence interval? Describe the meaning of your results.\n"
   ]
  },
  {
   "cell_type": "markdown",
   "metadata": {},
   "source": [
    "Solution here:\n",
    "\n",
    "No. 0 is not inside the confidence interval. We are 95% confident that the true difference in population means for male and female driving citations is between the interval (0.003, 0.139)\n",
    "This does not include 0, and the whole interval is positive, this indicated that the mean driving citations for the population is greater for males than females \n",
    " "
   ]
  },
  {
   "cell_type": "markdown",
   "metadata": {},
   "source": [
    "### Part G\n",
    "***(4 points)*** Compare the number of miles driven per year by each sex. Start by getting a visual representation of the number of miles driven by each sex. Graph both male and female 'miles driven' distributions in the same frame for comparison.\n"
   ]
  },
  {
   "cell_type": "code",
   "execution_count": 10,
   "metadata": {},
   "outputs": [
    {
     "data": {
      "image/png": "[encoded data removed]",
      "text/plain": [
       "<Figure size 864x432 with 1 Axes>"
      ]
     },
     "metadata": {
      "needs_background": "light"
     },
     "output_type": "display_data"
    }
   ],
   "source": [
    "# Initialze the picture\n",
    "fig, ax = plt.subplots(nrows=1, ncols=1, figsize=(12,6))\n",
    "mmi = dfMale['miles driven'] \n",
    "fmi = dfFemale['miles driven']\n",
    "\n",
    "# Make a histogram out of 'mmi' (male miles driven) and 'fmi' (female miles driven)\n",
    "plt.hist([mmi, fmi], bins=20, label=['Males', 'Females'], color=[\"steelblue\", \"magenta\"])\n",
    "plt.legend(loc='upper right')\n",
    "\n",
    "# Make the graph readable\n",
    "ax.grid(alpha=0.25)\n",
    "\n",
    "ax.set_axisbelow(True)\n",
    "ax.set_title(\"Miles Driven Per Year by Each Sex\", fontsize=16)\n",
    "ax.set_xlabel(\"Miles Driven Per Year\", fontsize=16)\n",
    "ax.set_ylabel(\"Frequency\", fontsize=16);\n",
    "plt.show()\n"
   ]
  },
  {
   "cell_type": "markdown",
   "metadata": {},
   "source": [
    "### Part H\n",
    "***(1 point)*** Based on the distributions, who appears to drive more miles in a year? Is there any overlap of histograms? Describe what you have found."
   ]
  },
  {
   "cell_type": "markdown",
   "metadata": {},
   "source": [
    "Solution: \n",
    "\n",
    "From the graph, we see that males drive considerably more per year than females. There is only a very small overlap of the histograms which occurs between 6500-7500 miles. This is at the very lowest bound of the male distribution and the highest bound of the female distribution, meaning it is very unlikely that the two sexes will drive the same number of miles.\n",
    "We will also note that both males and females miles driven follows a normal distribution. "
   ]
  },
  {
   "cell_type": "markdown",
   "metadata": {},
   "source": [
    "### Part I\n",
    "***(2 points)*** What is the difference in mean miles driven by the two groups (male and female)?"
   ]
  },
  {
   "cell_type": "code",
   "execution_count": 11,
   "metadata": {},
   "outputs": [
    {
     "name": "stdout",
     "output_type": "stream",
     "text": [
      "Males mean miles driven: 8508.07537070199\n",
      "Females mean miles driven: 5216.558464690003\n",
      "Males drove on average 3291.52 more miles than the average driven by females in this sample\n"
     ]
    }
   ],
   "source": [
    "# Code solution here:\n",
    "# E[𝑋¯−𝑌¯]=E[𝑋¯]−[𝑌¯]= \n",
    "\n",
    "#use numpy canned mean function to calculate total miles driven by each gender and print\n",
    "male_mean_milesdriven = dfMale['miles driven'].mean() \n",
    "female_mean_milesdriven = dfFemale['miles driven'].mean()\n",
    "print(\"Males mean miles driven: {}\".format(male_mean_milesdriven))\n",
    "print(\"Females mean miles driven: {}\".format(female_mean_milesdriven))\n",
    "print(\"Males drove on average {:.2f} more miles than the average driven by females in this sample\"\n",
    "      .format( male_mean_milesdriven-female_mean_milesdriven))"
   ]
  },
  {
   "cell_type": "markdown",
   "metadata": {},
   "source": [
    "### Part J\n",
    "***(3 points)*** Estimate the difference in population means (for miles driven) by creating a 95% CI for the difference between the sample means for 'miles driven' by males and females.\n",
    "\n",
    "Recall the equation below from lecture. Perform the proper calculations 'by hand' (i.e. code without a canned function).\n",
    "\n",
    "$\\bar{X}-\\bar{Y}\\pm Z_{\\frac{\\alpha}{2}}\\cdot\\sqrt{\\frac{\\sigma_1^2}{m}+\\frac{\\sigma_2^2}{n}}$\n",
    "\n",
    "Create a 95% CI for the difference in miles driven per year."
   ]
  },
  {
   "cell_type": "code",
   "execution_count": 12,
   "metadata": {},
   "outputs": [
    {
     "name": "stdout",
     "output_type": "stream",
     "text": [
      " 95% CI for difference between the mean miles driven by males and females: (3243.609, 3339.424)\n"
     ]
    }
   ],
   "source": [
    "\n",
    "#number of each sex in sample\n",
    "m_n=len(dfMale) \n",
    "f_n=len(dfFemale) \n",
    "\n",
    "\n",
    "#stdeviation for each sex\n",
    "m_std= dfMale['miles driven'].std()\n",
    "f_std= dfFemale['miles driven'].std()\n",
    "\n",
    "#mean miles driven from above\n",
    "male_mean_milesdriven = dfMale['miles driven'].mean() \n",
    "female_mean_milesdriven = dfFemale['miles driven'].mean()\n",
    "\n",
    "# holds the critical z.\n",
    "zalph=stats.norm.ppf(.975) ##alpha/2 so 1-(alpha/2)=1-(0.05/2)=1-0.025=0.975 since 95% confidence interval\n",
    "\n",
    "\n",
    "#male mean - female mean ± zalpha * (m_std^2/m_n + f_std^2/f_n)^.5\n",
    "\n",
    "lowbound= (male_mean_milesdriven-female_mean_milesdriven) - zalph*( (m_std**2/m_n + f_std**2/f_n)**.5)\n",
    "highbound= (male_mean_milesdriven-female_mean_milesdriven) + zalph*( (m_std**2/m_n + f_std**2/f_n)**.5)\n",
    "\n",
    "\n",
    "print(\" 95% CI for difference between the mean miles driven by males and females: ({:.3f}, {:.3f})\".\n",
    "      format(lowbound,highbound))\n",
    "\n"
   ]
  },
  {
   "cell_type": "code",
   "execution_count": 13,
   "metadata": {},
   "outputs": [
    {
     "name": "stdout",
     "output_type": "stream",
     "text": [
      " Check using 'interval' function : (3243.609, 3339.424)\n"
     ]
    }
   ],
   "source": [
    "# check with using .interval function\n",
    "stats.norm.interval(.95, loc=male_mean_milesdriven-female_mean_milesdriven, scale=(m_std**2/m_n + f_std**2/f_n)**.5) \n",
    "# confidencelevel=.95, loc= xbar, and scale=standard error=sd/np.sqrt(n).\n",
    "\n",
    "\n",
    "print(\" Check using 'interval' function : ({:.3f}, {:.3f})\".\n",
    "      format(lowbound,highbound))"
   ]
  },
  {
   "cell_type": "markdown",
   "metadata": {},
   "source": [
    "### Part K\n",
    "***(1 points)*** Is 0 in the interval? Describe your findings."
   ]
  },
  {
   "cell_type": "markdown",
   "metadata": {},
   "source": [
    "Solution:\n",
    "\n",
    "No. 0 is not inside the confidence interval. We are 95% confident that the true difference in population means for miles driven by males and females is between the interval (3243.609, 3339.424)\n",
    "Since this does not include 0, and the whole interval is positive, this indicateas that the mean miles driven for the population is greater for males than females \n",
    " "
   ]
  },
  {
   "cell_type": "markdown",
   "metadata": {},
   "source": [
    "### Part L\n",
    "***(4 points)*** Create a column called 'CPM'(this acronym stands for citations per 1000 miles), and put in it the number of citations divided by the number of miles driven (multiplied by 1000). The multiplication by 1000 ensures we are looking at citations per 1000 miles. This is done because the numbers are so small.\n",
    "\n",
    "After you create the 'CPM' column look at the tail of the dataframe."
   ]
  },
  {
   "cell_type": "code",
   "execution_count": 14,
   "metadata": {},
   "outputs": [
    {
     "data": {
      "text/html": [
       "<div>\n",
       "<style scoped>\n",
       "    .dataframe tbody tr th:only-of-type {\n",
       "        vertical-align: middle;\n",
       "    }\n",
       "\n",
       "    .dataframe tbody tr th {\n",
       "        vertical-align: top;\n",
       "    }\n",
       "\n",
       "    .dataframe thead th {\n",
       "        text-align: right;\n",
       "    }\n",
       "</style>\n",
       "<table border=\"1\" class=\"dataframe\">\n",
       "  <thead>\n",
       "    <tr style=\"text-align: right;\">\n",
       "      <th></th>\n",
       "      <th>Sex</th>\n",
       "      <th>miles driven</th>\n",
       "      <th>Age</th>\n",
       "      <th>Citations</th>\n",
       "      <th>CPM</th>\n",
       "    </tr>\n",
       "  </thead>\n",
       "  <tbody>\n",
       "    <tr>\n",
       "      <th>1995</th>\n",
       "      <td>M</td>\n",
       "      <td>8433.768080</td>\n",
       "      <td>17</td>\n",
       "      <td>1</td>\n",
       "      <td>0.118571</td>\n",
       "    </tr>\n",
       "    <tr>\n",
       "      <th>1996</th>\n",
       "      <td>M</td>\n",
       "      <td>8047.929523</td>\n",
       "      <td>18</td>\n",
       "      <td>1</td>\n",
       "      <td>0.124256</td>\n",
       "    </tr>\n",
       "    <tr>\n",
       "      <th>1997</th>\n",
       "      <td>M</td>\n",
       "      <td>7285.647012</td>\n",
       "      <td>18</td>\n",
       "      <td>1</td>\n",
       "      <td>0.137256</td>\n",
       "    </tr>\n",
       "    <tr>\n",
       "      <th>1998</th>\n",
       "      <td>M</td>\n",
       "      <td>8579.702457</td>\n",
       "      <td>18</td>\n",
       "      <td>0</td>\n",
       "      <td>0.000000</td>\n",
       "    </tr>\n",
       "    <tr>\n",
       "      <th>1999</th>\n",
       "      <td>M</td>\n",
       "      <td>7868.067827</td>\n",
       "      <td>16</td>\n",
       "      <td>0</td>\n",
       "      <td>0.000000</td>\n",
       "    </tr>\n",
       "  </tbody>\n",
       "</table>\n",
       "</div>"
      ],
      "text/plain": [
       "     Sex  miles driven  Age  Citations       CPM\n",
       "1995   M   8433.768080   17          1  0.118571\n",
       "1996   M   8047.929523   18          1  0.124256\n",
       "1997   M   7285.647012   18          1  0.137256\n",
       "1998   M   8579.702457   18          0  0.000000\n",
       "1999   M   7868.067827   16          0  0.000000"
      ]
     },
     "execution_count": 14,
     "metadata": {},
     "output_type": "execute_result"
    }
   ],
   "source": [
    "# Code your solution here:\n",
    "df_Insurance['CPM']= df_Insurance['Citations']/df_Insurance['miles driven']*1000\n",
    "\n",
    "df_Insurance.tail()"
   ]
  },
  {
   "cell_type": "markdown",
   "metadata": {},
   "source": [
    "### Part M\n",
    "***(2 points)*** Look at the difference in means for male CPM and female CPM. Which sex receive more citations per 1000 miles?"
   ]
  },
  {
   "cell_type": "code",
   "execution_count": 15,
   "metadata": {},
   "outputs": [
    {
     "name": "stdout",
     "output_type": "stream",
     "text": [
      "Males mean citations per 1000 miles: 0.055\n",
      "Females mean citations per 1000 miles: 0.077\n",
      "Females recieve on average 0.022 more citations per 1000 miles than males\n"
     ]
    }
   ],
   "source": [
    "#recreate the df to hold male and females since now we added a coloumn to df_Insurance \n",
    "dfMale= df_Insurance.loc[df_Insurance['Sex']=='M']\n",
    "dfFemale= df_Insurance.loc[df_Insurance['Sex']=='F']\n",
    "\n",
    "\n",
    "#use numpy canned mean function to calculate mean citations per 1000 miles by each gender and print\n",
    "male_mean_CPM = dfMale['CPM'].mean() \n",
    "female_mean_CPM = dfFemale['CPM'].mean()\n",
    "print(\"Males mean citations per 1000 miles: {:.3f}\".format(male_mean_CPM))\n",
    "print(\"Females mean citations per 1000 miles: {:.3f}\".format(female_mean_CPM))\n",
    "print(\"Females recieve on average {:.3f} more citations per 1000 miles than males\".\n",
    "      format( female_mean_CPM-male_mean_CPM))"
   ]
  },
  {
   "cell_type": "markdown",
   "metadata": {},
   "source": [
    "### Part N\n",
    "***(1 point)*** You should have discovered that females get more citations per mile than do males. How does this go together with the fact that males get more citations in a year?"
   ]
  },
  {
   "cell_type": "markdown",
   "metadata": {},
   "source": [
    "Solution:\n",
    "\n",
    "\n",
    "This makes sense becasue, while males get more citations in a year, they also drive CONSIDERABLY more miles than females. \n",
    "So, since males get only slightly more total citations, but drive considerably more miles, we are dividing by a significantly larger number of miles and hence the females recieve more citations per 1000 miles since they drive significantly fewer miles."
   ]
  },
  {
   "cell_type": "markdown",
   "metadata": {},
   "source": [
    "### Part O\n",
    "***(3 points)*** Estimate the difference in population means (for CPM's) by creating a 95% CI for the difference between the sample means for 'CPM' for males and females.\n",
    "\n",
    "Recall the equation below from lecture. Perform the proper calculations 'by hand' (i.e. code without a canned function).\n",
    "\n",
    "$\\bar{X}-\\bar{Y}\\pm Z_{\\frac{\\alpha}{2}}\\cdot\\sqrt{\\frac{\\sigma_1^2}{m}+\\frac{\\sigma_2^2}{n}}$\n",
    "\n",
    "Create a 95% CI for the difference in miles driven per year.\n"
   ]
  },
  {
   "cell_type": "code",
   "execution_count": 16,
   "metadata": {},
   "outputs": [
    {
     "name": "stdout",
     "output_type": "stream",
     "text": [
      " 95% CI for the average difference in citations per 1000 miles between males and females: (-0.032, -0.011)\n"
     ]
    }
   ],
   "source": [
    "# Code solution here:\n",
    "\n",
    "#number of each sex in sample\n",
    "m_n=len(dfMale) \n",
    "f_n=len(dfFemale) \n",
    "\n",
    "\n",
    "#stdeviation for each sex\n",
    "m_std= dfMale['CPM'].std()\n",
    "f_std= dfFemale['CPM'].std()\n",
    "\n",
    "#mean miles driven from above\n",
    "male_mean_CPM = dfMale['CPM'].mean() \n",
    "female_mean_CPM = dfFemale['CPM'].mean()\n",
    "\n",
    "# holds the critical z.\n",
    "zalph=stats.norm.ppf(.975) ##alpha/2 so 1-(alpha/2)=1-(0.05/2)=1-0.025=0.975 since 95% confidence interval\n",
    "\n",
    "\n",
    "#male mean - female mean ± zalpha * (m_std^2/m_n + f_std^2/f_n)^.5\n",
    "\n",
    "lowbound= ((male_mean_CPM-female_mean_CPM) ) - ( zalph*( (m_std**2/m_n + f_std**2/f_n)**.5) )\n",
    "highbound= ((male_mean_CPM-female_mean_CPM) ) + (zalph*( (m_std**2/m_n + f_std**2/f_n)**.5) )\n",
    "\n",
    "\n",
    "\n",
    "print(\" 95% CI for the average difference in citations per 1000 miles between males and females: ({:.3f}, {:.3f})\".\n",
    "      format(lowbound,highbound))"
   ]
  },
  {
   "cell_type": "markdown",
   "metadata": {},
   "source": [
    "### Part P\n",
    "***(1 point)*** Does your result contain 0? Describe your findings."
   ]
  },
  {
   "cell_type": "markdown",
   "metadata": {},
   "source": [
    "Solution:\n",
    "\n",
    "No. 0 is not inside the confidence interval. We are 95% confident that the true difference in population means for male and female citations per 1000 miles is between the interval (-0.032, -0.011)\n",
    "This does not include 0, and the whole interval is negative, this indicates that the average citations per 1000 miles is greater for females than males \n",
    " "
   ]
  },
  {
   "cell_type": "markdown",
   "metadata": {},
   "source": [
    "### Part Q\n",
    "***(1 point)*** Can you explain why males pay higher insurance premiums when they receive fewer citations per mile? Hint: is insurance typically sold by the mile or by the year?"
   ]
  },
  {
   "cell_type": "markdown",
   "metadata": {},
   "source": [
    "Solution:\n"
   ]
  },
  {
   "cell_type": "markdown",
   "metadata": {},
   "source": [
    "### Part R\n",
    "***(2 points)*** Consider the graphic below. It is merely a cut-and-past .png, it isn't live code.\n",
    "\n",
    "Look at the code and the graphic and describe what story it tells."
   ]
  },
  {
   "cell_type": "markdown",
   "metadata": {},
   "source": [
    "![title](code.png)\n",
    "![title](graph.png)"
   ]
  },
  {
   "cell_type": "code",
   "execution_count": 17,
   "metadata": {},
   "outputs": [],
   "source": [
    "# The graphic above was created with this code.\n",
    "# Of course this code will likely not work in your notebook since\n",
    "# you have different variable names. This is why it is commented out.\n",
    "\n",
    "#mCPM = dfInsurance.loc[dfInsurance['Sex']=='M', 'CPM'].values\n",
    "#fCPM = dfInsurance.loc[dfInsurance['Sex']=='F', 'CPM'].values\n",
    "\n",
    "#bins = np.linspace(0.001, 0.6, 8)\n",
    "#plt.hist([mCPM, fCPM], bins, label=['male', 'female'])\n",
    "#plt.legend(loc='upper right')\n",
    "#plt.show()"
   ]
  },
  {
   "cell_type": "code",
   "execution_count": 18,
   "metadata": {},
   "outputs": [
    {
     "data": {
      "image/png": "[encoded data removed]",
      "text/plain": [
       "<Figure size 432x288 with 1 Axes>"
      ]
     },
     "metadata": {
      "needs_background": "light"
     },
     "output_type": "display_data"
    }
   ],
   "source": [
    "mCPM = df_Insurance.loc[df_Insurance['Sex']=='M', 'CPM'].values\n",
    "fCPM = df_Insurance.loc[df_Insurance['Sex']=='F', 'CPM'].values\n",
    "\n",
    "bins = np.linspace(0, .7, 17)\n",
    "plt.hist([mCPM, fCPM], label=['male', 'female'], bins=bins)\n",
    "plt.legend(loc='upper right')\n",
    "plt.show()\n"
   ]
  },
  {
   "cell_type": "markdown",
   "metadata": {},
   "source": [
    "Solution:\n",
    "\n",
    "The code above graphs the frequency distribution of CPM for males and females on the same plot. Note that the graph only includes the values between 0.001 and 0.6. \n",
    "\n",
    "We see that the distribution for males is right skewed and the mean appears to be lower for males than females. Also note that the mode for both males and females (excluding 0) is 0.1 citations per 1000 miles. Also, the variance (and hence standard deviation) is larger for females. \n"
   ]
  },
  {
   "cell_type": "markdown",
   "metadata": {},
   "source": [
    "### Part S\n",
    "***(5 points)*** In part G you noticed that the miles driven per year for females or males both followed approximately normal distributions.  Assuming we model miles driven per year with normal distribution(s) with mean(s) and standard deviation(s) equal to the sample mean(s) and sample std deviation(s) for each gender found above, what percent of males drive between 6400 and 8400 miles per year?\n",
    "What percent of females drive that same amount?\n"
   ]
  },
  {
   "cell_type": "code",
   "execution_count": 19,
   "metadata": {},
   "outputs": [
    {
     "name": "stdout",
     "output_type": "stream",
     "text": [
      "1.14% of females and 42.50% of males drive between 6400 and 8400 miles per year\n"
     ]
    }
   ],
   "source": [
    "# Code your solution here:\n",
    "\n",
    "#stdeviation for males\n",
    "m_std= dfMale['miles driven'].std()\n",
    "#mean miles driven for males\n",
    "m_mean_milesdriven = dfMale['miles driven'].mean() \n",
    "\n",
    "#stdeviation for females\n",
    "f_std= dfFemale['miles driven'].std()\n",
    "#mean miles driven for females\n",
    "f_mean_milesdriven = dfFemale['miles driven'].mean() \n",
    "\n",
    "#P(6400 ≤ X ≤ 8400)\n",
    "#for males\n",
    "m_zl=(6400-m_mean_milesdriven)/m_std #Z=(X-𝜇)/𝜎\n",
    "m_zh=(8400-m_mean_milesdriven)/m_std #Z=(X-𝜇)/𝜎\n",
    "\n",
    "#for females\n",
    "f_zl=(6400-f_mean_milesdriven)/f_std #Z=(X-𝜇)/𝜎\n",
    "f_zh=(8400-f_mean_milesdriven)/f_std #Z=(X-𝜇)/𝜎\n",
    "\n",
    "#P(zl ≤ Z ≤ zh)=P(Z ≤ zh)-P(Z>zl)= P(Z ≤ zh)- (1-P(Z ≤ zl))\n",
    "malesPercent= stats.norm.cdf(m_zh)-stats.norm.cdf(m_zl)\n",
    "femalesPercent= stats.norm.cdf(f_zh)-stats.norm.cdf(f_zl)\n",
    "\n",
    "print(\"{:.2f}% of females and {:.2f}% of males drive between 6400 and 8400 miles per year\".\n",
    "      format(femalesPercent*100, malesPercent*100))"
   ]
  },
  {
   "cell_type": "markdown",
   "metadata": {},
   "source": [
    "### Part T\n",
    "***(4 points)*** 95% of females drive less than x miles. What is x?  (Again, assume miles driven by females follows a normal distribution with mean and standard deviation equal to the sample mean and sample std deviation found above)"
   ]
  },
  {
   "cell_type": "code",
   "execution_count": 20,
   "metadata": {},
   "outputs": [
    {
     "name": "stdout",
     "output_type": "stream",
     "text": [
      "95% of females drive less than 6071.695 miles\n"
     ]
    }
   ],
   "source": [
    "#get z score of normal distribution for alpha=0.95\n",
    "z=stats.norm.ppf(0.95) \n",
    " #convert z score to x value using #Z=(X-𝜇)/𝜎\n",
    "xval= (z*f_std)+f_mean_milesdriven\n",
    "\n",
    "print(\"95% of females drive less than {:.3f} miles\".format(xval))"
   ]
  },
  {
   "cell_type": "markdown",
   "metadata": {},
   "source": [
    "# Problem 2\n",
    "***\n",
    "\n",
    "Let $X$ be a normal random variable, $X \\sim N(\\mu, \\sigma^2) = N(5,9)$.\n",
    "\n",
    "Let $Z$ be a $\\color{red}{\\text{standard}}$ normal random variable, $Z \\sim N(\\mu, \\sigma^2) = N(0,1)$.\n"
   ]
  },
  {
   "cell_type": "markdown",
   "metadata": {},
   "source": [
    "### Part A\n",
    "\n",
    "***(2 points)*** Compute $P(X \\leq 8.75)$."
   ]
  },
  {
   "cell_type": "code",
   "execution_count": 21,
   "metadata": {},
   "outputs": [
    {
     "name": "stdout",
     "output_type": "stream",
     "text": [
      "𝑃(𝑋≤8.75)= 89.435%\n"
     ]
    }
   ],
   "source": [
    "#transform to standard normal distribution using Z=(X-𝜇)/𝜎\n",
    "z=(8.75-5)/3 #Z=(X-𝜇)/𝜎\n",
    "\n",
    "#so now we have P(Z≤1.25)=?\n",
    "#use stats.norm.cdf which automatically calculates left tail \n",
    "valA= stats.norm.cdf(z)\n",
    "\n",
    "#check with chart which does right tail P(Z>a)\n",
    "#so P(Z≤1.25)=1-P(Z>1.25)=1-0.1056\n",
    "\n",
    "\n",
    "print(\"𝑃(𝑋≤8.75)= {:.3f}%\".format(valA*100))"
   ]
  },
  {
   "cell_type": "markdown",
   "metadata": {},
   "source": [
    "### Part B\n",
    "\n",
    "***(2 points)*** Compute $P(Z\\leq 1.25)$."
   ]
  },
  {
   "cell_type": "code",
   "execution_count": 22,
   "metadata": {},
   "outputs": [
    {
     "name": "stdout",
     "output_type": "stream",
     "text": [
      "𝑃(Z≤1.25)= 89.435%\n"
     ]
    }
   ],
   "source": [
    "#we already have a standard normal distibution so simply use cdf to get area under \n",
    "\n",
    "# use stats.norm.cdf which automatically calculates left tail \n",
    "Bval=stats.norm.cdf(1.25)\n",
    "\n",
    "\n",
    "print(\"𝑃(Z≤1.25)= {:.3f}%\".format(Bval*100))"
   ]
  },
  {
   "cell_type": "markdown",
   "metadata": {},
   "source": [
    "### Part C\n",
    "\n",
    "***(2 points)*** Explain why the answer to these first two questions are the same."
   ]
  },
  {
   "cell_type": "markdown",
   "metadata": {},
   "source": [
    "Solution:\n",
    "\n",
    "These answers are the same becasue we can standardize any normal distribution using the Z score, which is what I did in Part A. Thus since the Z score's for part A and part B were both 1.25, the answers were the same. "
   ]
  },
  {
   "cell_type": "code",
   "execution_count": null,
   "metadata": {},
   "outputs": [],
   "source": []
  }
 ],
 "metadata": {
  "kernelspec": {
   "display_name": "Python 3 (ipykernel)",
   "language": "python",
   "name": "python3"
  },
  "language_info": {
   "codemirror_mode": {
    "name": "ipython",
    "version": 3
   },
   "file_extension": ".py",
   "mimetype": "text/x-python",
   "name": "python",
   "nbconvert_exporter": "python",
   "pygments_lexer": "ipython3",
   "version": "3.9.7"
  }
 },
 "nbformat": 4,
 "nbformat_minor": 2
}
