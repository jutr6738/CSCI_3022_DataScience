{
 "cells": [
  {
   "cell_type": "markdown",
   "metadata": {},
   "source": [
    "# Notebook 5: Simulation with Conditional and Total Probability Solutions\n",
    "***\n",
    "\n",
    "In this notebook we'll get some more practice with conditional probabilities, total probability, and the product rule.  We'll also see how we can do some simple random simulations using Numpy to verify our results. \n",
    "\n",
    "We'll need Numpy for this notebook, so let's load it.  You might also want to use Pandas too, so we'll load that one too."
   ]
  },
  {
   "cell_type": "code",
   "execution_count": 2,
   "metadata": {},
   "outputs": [],
   "source": [
    "import numpy as np \n",
    "import pandas as pd"
   ]
  },
  {
   "cell_type": "markdown",
   "metadata": {},
   "source": [
    "### Example - Estimating the Probability of Drawing Balls from Boxes\n",
    "***\n",
    "S’pose we have two boxes filled with green and red balls.  Box 1 contains 2 green balls and 7 red balls.  Box 2 contains 4 green balls and 3 red balls. Paul selects a ball by first choosing one of the two boxes at random. He then selects one of the balls in this box at random. $\\color{blue}{\\text{What is the probability Paul has selected a red ball,}}$\n",
    "$\\color{blue}{\\text{if it is twice as likely for Paul to pick from Box 1 as it is Box 2?}}$\n",
    "\n",
    "The following code runs a simple simulation to estimate the probability of drawing a ball of a particular color.  Run the code and verify that it agrees with the by-hand computation.\n",
    "\n",
    "<img style=\"float: right; width: 300px; padding: 3mm;\" src=\"attachment:BallBox.png\" alt=\"Drawing\"/> \n",
    "\n",
    "\n",
    "\n",
    "$\\large{\\color{red}{\\text{BY hand}}}$:\n",
    "\n",
    "$\\frac{2}{3}\\cdot\\frac{7}{9} + \\frac{1}{3}\\cdot\\frac{3}{7} = \\frac{14}{27} + \\frac{1}{7} = \\frac{125}{189} = 0.6613756614$"
   ]
  },
  {
   "cell_type": "code",
   "execution_count": 3,
   "metadata": {},
   "outputs": [],
   "source": [
    "# Python Dictionaries have a key:value pair.\n",
    "# box1 & 2 are Dictionaries with a key, which contains the ball colors,\n",
    "#  and a value, a probability array with the probability of\n",
    "#   drawing the color in 'balls'.\n",
    "box1 = {'balls' : np.array([\"green\", \"red\"]), 'probs' : np.array([2/9, 7/9])}\n",
    "box2 = {'balls' : np.array([\"green\", \"red\"]), 'probs' : np.array([4/7, 3/7])}\n",
    "box_choices = {'boxes' : np.array([box1, box2]), 'probs' : np.array([2/3, 1/3])}\n",
    "\n",
    "def sample_ball(box_choices):\n",
    "    # randomly choose a box\n",
    "    box = np.random.choice(box_choices['boxes'], p = box_choices['probs'])\n",
    "    # randomly choose a ball from that box\n",
    "    return np.random.choice(box['balls'], p = box['probs'])\n",
    "      # returns a colored ball\n",
    "\n",
    "def probability_of_color(color, box_choices, num_samples=10000):\n",
    "    # get a bunch of balls\n",
    "    balls = np.array([sample_ball(box_choices) for ii in range(num_samples)])\n",
    "    # compute fraction of balls of desired color \n",
    "    return np.sum(balls == color) / num_samples\n",
    "      # returns the total number of red balls in the sample\n",
    "    "
   ]
  },
  {
   "cell_type": "code",
   "execution_count": 4,
   "metadata": {},
   "outputs": [
    {
     "name": "stdout",
     "output_type": "stream",
     "text": [
      "Pretty close to our hand calculation of 125/189 = 0.6613756614...\n"
     ]
    },
    {
     "data": {
      "text/plain": [
       "0.65768"
      ]
     },
     "execution_count": 4,
     "metadata": {},
     "output_type": "execute_result"
    }
   ],
   "source": [
    "print(\"Pretty close to our hand calculation of 125/189 = 0.6613756614...\")\n",
    "probability_of_color(\"red\", box_choices, num_samples=50000)\n"
   ]
  },
  {
   "cell_type": "markdown",
   "metadata": {},
   "source": [
    "### Exercise 1 - More Colors! \n",
    "*** \n",
    "\n",
    "Suppose now we add a third color to the mix.  \n",
    "\n",
    "Box 1 now contains 2 green balls, 7 red balls, $\\textbf{and}$ 5 purple balls. \n",
    "\n",
    "Box 2 now contains 4 green balls, 3 red balls, $\\textbf{and}$ 5 purple balls.\n",
    "\n",
    "The probability of grabbing the first box is still twice the probability of grabbing the second box.  \n",
    "\n",
    "**Part A**: What is the probability of drawing a purple ball?  Try working this out by hand."
   ]
  },
  {
   "cell_type": "markdown",
   "metadata": {},
   "source": [
    "***\n",
    "**Solution**: \n",
    "\n",
    "Let $p$ be the event that we select a purple ball, and $B_1$ and $B_2$ be the events that we select Box 1 and Box 2, respectively.  We then have \n",
    "\n",
    "$$\n",
    "P(p) = P(p \\mid B_1)~P(B_1) + P(p \\mid B_2)~P(B_2) = \\frac{5}{14}\\cdot\\frac{2}{3} + \\frac{5}{12}\\cdot\\frac{1}{3} = \\frac{10}{42} + \\frac{5}{36} \\approx 0.377\n",
    "$$\n",
    "***"
   ]
  },
  {
   "cell_type": "markdown",
   "metadata": {},
   "source": [
    "**Part B**: Next, copy and paste the code from the example above and modify it to estimate the probability that you just computed and check your work. "
   ]
  },
  {
   "cell_type": "code",
   "execution_count": 4,
   "metadata": {},
   "outputs": [],
   "source": [
    "box1 = {'balls' : np.array([\"green\", \"red\", \"purple\"]), 'probs' : np.array([2/14, 7/14, 5/14])}\n",
    "box2 = {'balls' : np.array([\"green\", \"red\", \"purple\"]), 'probs' : np.array([4/12, 3/12, 5/12])}\n",
    "box_choices = {'boxes' : np.array([box1, box2]), 'probs' : np.array([2/3, 1/3])}\n",
    "\n",
    "def sample_ball(box_choices):\n",
    "    # randomly choose a box\n",
    "    box = np.random.choice(box_choices['boxes'], p = box_choices['probs'])\n",
    "    # randomly choose a ball from that box,\n",
    "    # and return a colored ball.\n",
    "    return np.random.choice(box['balls'], p = box['probs'])\n",
    "\n",
    "def probability_of_color(color, box_choices, num_samples=1000):\n",
    "    # This function takes a color, a dictionary, and a number of samples\n",
    "    # Then it will get a bunch (num_samples) of colored ('color') balls,\n",
    "    # by calling on the function 'sample_ball'\n",
    "    balls = np.array([sample_ball(box_choices) for ii in range(num_samples)])\n",
    "    # compute fraction of balls of desired color \n",
    "    return np.sum(balls == color) / num_samples\n",
    "\n"
   ]
  },
  {
   "cell_type": "code",
   "execution_count": 5,
   "metadata": {},
   "outputs": [
    {
     "data": {
      "text/plain": [
       "0.37408"
      ]
     },
     "execution_count": 5,
     "metadata": {},
     "output_type": "execute_result"
    }
   ],
   "source": [
    "probability_of_color(\"purple\", box_choices, num_samples=100000)"
   ]
  },
  {
   "cell_type": "markdown",
   "metadata": {},
   "source": [
    "Looks pretty darn close to 0.377 to me! Hooray!"
   ]
  },
  {
   "cell_type": "markdown",
   "metadata": {},
   "source": [
    "### Exercise 2 - Estimating Conditional Probabilities \n",
    "***\n",
    "\n",
    "Suppose you roll a fair 6-sided die two times.\n",
    "\n",
    "$\\color{red}{A}$ is the event \"$\\color{red}{\\text{the sum of the throws equals}}$ $\\color{red}{4}$\"\n",
    "\n",
    "$\\color{blue}{B}$ is the event \"$\\color{blue}{\\text{at least one of the throws is a}}$ $\\color{blue}{3}$\"\n",
    "\n",
    "**Part A**: Compute (by hand) the probability that the sum of the throws equals 4 _given_ that at least one of the throws is a 3.  That is, compute $P(A \\mid B)$. "
   ]
  },
  {
   "cell_type": "markdown",
   "metadata": {},
   "source": [
    "***\n",
    "**Solution**: We want to compute \n",
    "\n",
    "$$\n",
    "P(\\color{red}{A} \\mid \\color{blue}{B}) = \\dfrac{P(A \\cap B)}{P(B)}\n",
    "$$\n",
    "\n",
    "The intersection of the two events is the set $A \\cap B = \\{(3,1), (1,3)\\}$.  Each possible roll combination occurs with probability $\\frac{1}{6}\\cdot\\frac{1}{6} = \\frac{1}{36}$. Summing over the possible outcomes gives \n",
    "\n",
    "$$\n",
    "P(A \\cap B) = \\frac{1}{36} + \\frac{1}{36} = \\frac{1}{18}\n",
    "$$\n",
    "\n",
    "The probability of at least one of the throws being a $3$ can be computed in a number of ways.  Let $E_1$ be the event that we roll a 3 on the first die and $E_2$ be the event that we roll a 3 on the second die. Notice that $E_1$ and $E_2$ are not disjoint because we could roll a 3 on _both_ dice.  So we have \n",
    "\n",
    "$$\n",
    "P(B) = P(E_1 \\cup E_2) = P(E_1) + P(E_2) - P(E_1 \\cap E_2) = \\frac{1}{6} + \\frac{1}{6} - \\frac{1}{6}\\cdot\\frac{1}{6} = \\frac{11}{36}\n",
    "$$\n",
    "\n",
    "Plugging this into the definition of conditional probability gives \n",
    "\n",
    "$$\n",
    "P(A \\mid B) = \\dfrac{P(A \\cap B)}{P(B)} = \\frac{1/18}{11/36} = \\frac{2}{11} = 0.\\overline{18}\n",
    "$$\n",
    "\n",
    "***"
   ]
  },
  {
   "cell_type": "markdown",
   "metadata": {},
   "source": [
    "**Part B**: Let's see if we can write a simple $\\color{red}{\\text{simulation to confirm}}$ our result.  The following code runs a simulation to estimate $P(A)$, i.e. the probability that if you roll a fair six-sided die twice the result will sum to 4.  Your job is to modify the code so that it estimates the conditional probability $P(A \\mid B)$. **Hint**: Think about the definition of conditional probability.\n",
    "\n",
    "*Hint:  the Numpy methods `logical_or` and `logical_and` are potentially useful.*"
   ]
  },
  {
   "cell_type": "code",
   "execution_count": 6,
   "metadata": {},
   "outputs": [
    {
     "name": "stdout",
     "output_type": "stream",
     "text": [
      "The probability of rolling a sum-to-four is approximately 0.099\n"
     ]
    }
   ],
   "source": [
    "die = np.array([1,2,3,4,5,6])\n",
    "# 'die' is an array holding the outcomes of a die roll.\n",
    "\n",
    "num_samples = 1000\n",
    "# We are going to roll the dice 'num_samples' amount of times.\n",
    "\n",
    "roll1 = np.random.choice(die, size=num_samples)\n",
    "roll2 = np.random.choice(die, size=num_samples)\n",
    "# roll1 and roll2 contain the 'num_samples' amount of individual rolls.\n",
    "\n",
    "sum_to_four = (roll1 + roll2) == 4\n",
    "# Check to see if the two rolls add up to 4.\n",
    "\n",
    "sum_to_four_prob = np.sum(sum_to_four)/num_samples\n",
    "# This is a variable holding the ratio of  times we rolled a \n",
    "#   four compared to how many times we rolled the dice.\n",
    "\n",
    "print(\"The probability of rolling a sum-to-four is approximately {:.3f}\".format(sum_to_four_prob))\n",
    "\n"
   ]
  },
  {
   "cell_type": "code",
   "execution_count": 8,
   "metadata": {},
   "outputs": [
    {
     "name": "stdout",
     "output_type": "stream",
     "text": [
      "The probability of rolling a sum-to-four given at least one 3 is approximately 0.179\n"
     ]
    }
   ],
   "source": [
    "die = np.array([1,2,3,4,5,6])\n",
    "\n",
    "num_samples = 100000\n",
    "roll1 = np.random.choice(die, size=num_samples)\n",
    "roll2 = np.random.choice(die, size=num_samples)\n",
    "# roll1 and roll2  are arrays each holding a random choice from die.\n",
    "\n",
    "sum_to_four = (roll1 + roll2) == 4\n",
    "# sum_to_four is an array holding Booleans indicating whether or not\n",
    "# the two random choices summed to four.\n",
    "\n",
    "at_least_one_three = np.logical_or(roll1==3, roll2==3)\n",
    "# at_least_one_three is an array holding booleans indicating whether\n",
    "# or not one of the random choices is holding a '3'.\n",
    "\n",
    "four_and_three = np.logical_and(at_least_one_three, sum_to_four)\n",
    "# four_and_three is an array holding Booleans indicating whether\n",
    "# at_least_one_three AND sum_to_four are both holding a '1'.\n",
    "\n",
    "four_given_three_prob = np.sum(four_and_three)/np.sum(at_least_one_three)\n",
    "# P(A|B) = P(A and B) / P(B)\n",
    "\n",
    "print(\"The probability of rolling a sum-to-four given at least one 3 is approximately {:.3f}\".format(four_given_three_prob))\n",
    "\n"
   ]
  },
  {
   "cell_type": "markdown",
   "metadata": {},
   "source": [
    "This looks very close to $\\dfrac{2}{11} \\approx 0.\\overline{18}$!  Neat."
   ]
  },
  {
   "cell_type": "markdown",
   "metadata": {},
   "source": [
    "### Exercise 3 - The Ol' Marble Switcharoo\n",
    "***\n",
    "A marble is drawn at random from a bag containing one black and one white marble.  If the white marble is drawn it is put back into the bag.  If the black marble is drawn, it is returned to the bag along with two **more** black marbles.  Then a second draw is made. What is the probability a black marble was drawn on **both** the first and the second draws?\n",
    "\n",
    "<img style=\"float: right; width: 350px; padding: 3mm;\" src=\"attachment:Screen%20Shot%202021-08-26%20at%2010.32.40%20AM.png\" alt=\"Drawing\"/> \n",
    "\n",
    "**Part A**: Let's do this one in reverse order.  First, see if you can write a simple simulation to estimate this probability. "
   ]
  },
  {
   "cell_type": "code",
   "execution_count": 9,
   "metadata": {},
   "outputs": [
    {
     "name": "stdout",
     "output_type": "stream",
     "text": [
      "The probability that both marbles are black is approximately 0.377\n"
     ]
    },
    {
     "data": {
      "text/html": [
       "<div>\n",
       "<style scoped>\n",
       "    .dataframe tbody tr th:only-of-type {\n",
       "        vertical-align: middle;\n",
       "    }\n",
       "\n",
       "    .dataframe tbody tr th {\n",
       "        vertical-align: top;\n",
       "    }\n",
       "\n",
       "    .dataframe thead th {\n",
       "        text-align: right;\n",
       "    }\n",
       "</style>\n",
       "<table border=\"1\" class=\"dataframe\">\n",
       "  <thead>\n",
       "    <tr style=\"text-align: right;\">\n",
       "      <th></th>\n",
       "      <th>m1</th>\n",
       "      <th>m2</th>\n",
       "    </tr>\n",
       "  </thead>\n",
       "  <tbody>\n",
       "    <tr>\n",
       "      <th>0</th>\n",
       "      <td>white</td>\n",
       "      <td>black</td>\n",
       "    </tr>\n",
       "    <tr>\n",
       "      <th>1</th>\n",
       "      <td>black</td>\n",
       "      <td>white</td>\n",
       "    </tr>\n",
       "    <tr>\n",
       "      <th>2</th>\n",
       "      <td>white</td>\n",
       "      <td>black</td>\n",
       "    </tr>\n",
       "    <tr>\n",
       "      <th>3</th>\n",
       "      <td>black</td>\n",
       "      <td>black</td>\n",
       "    </tr>\n",
       "    <tr>\n",
       "      <th>4</th>\n",
       "      <td>black</td>\n",
       "      <td>black</td>\n",
       "    </tr>\n",
       "  </tbody>\n",
       "</table>\n",
       "</div>"
      ],
      "text/plain": [
       "      m1     m2\n",
       "0  white  black\n",
       "1  black  white\n",
       "2  white  black\n",
       "3  black  black\n",
       "4  black  black"
      ]
     },
     "execution_count": 9,
     "metadata": {},
     "output_type": "execute_result"
    }
   ],
   "source": [
    "marbles = np.array([\"black\", \"white\"])\n",
    "# 'marbles' is an array holding the two strings \"Black\", \"White\".\n",
    "num_samples = 100000\n",
    "\n",
    "# draw the first marble \n",
    "m1 = np.random.choice(marbles, size=num_samples)\n",
    "# so 'm1' is an array that holds num_samples=100000 amount of\n",
    "#  \"White\" or \"Black\" from the 'marbles' array.\n",
    "\n",
    "# do the sampling as a .apply() to df of first marble draws\n",
    "df = pd.DataFrame({\"m1\" : m1})\n",
    "  # df contains num_samples=100000 random selections of\n",
    "    #  'black' or 'white'\n",
    "# we now need a function to apply, that draws a second marble based\n",
    "#   on result of the first one\n",
    "\n",
    "# this function takes 'row' of df and 'some_set' aka 'marbles',\n",
    "#   which you recall contains [\"black\", \"white\"].\n",
    "def draw_second(row, some_set):\n",
    "    return np.random.choice(some_set, p=[1/2,1/2]) if row[0]==\"white\" else np.random.choice(some_set, p=[3/4, 1/4])\n",
    "\n",
    "# actually apply the function\n",
    "# start by creating a column in the df called 'm2'\n",
    "# Store the function result in 'm2'. \n",
    "# axis=1 is the 'row' the function is taking as input\n",
    "df[\"m2\"] = df.apply(draw_second, axis=1, some_set=marbles)\n",
    "\n",
    "# compute ratio of double-black to number of samples total\n",
    "both_black_prob = len(df.loc[(df[\"m1\"]==\"black\") & (df[\"m2\"]==\"black\")])/num_samples\n",
    "print(\"The probability that both marbles are black is approximately {:.3f}\".format(both_black_prob))\n",
    "\n",
    "df.head()\n",
    "\n"
   ]
  },
  {
   "cell_type": "markdown",
   "metadata": {},
   "source": [
    "**Part B**: Now carry out the computation by hand and see if they agree. "
   ]
  },
  {
   "cell_type": "markdown",
   "metadata": {},
   "source": [
    "**Solution**: Let $B_1$ be the event that a black marble is drawn first and $B_2$ be the event that a black marble is drawn second.  We want to compute $P(B_1 \\cap B_2)$.  We'll do this using the product rule \n",
    "\n",
    "$$\n",
    "P(B_1 \\cap B_2) = P(B_2 \\mid B_1)~P(B_1) \n",
    "$$\n",
    "\n",
    "Now, clearly the probability of a black marble being drawn first is $P(B_1) = \\frac{1}{2}$.  The conditional probability that a black marble is drawn second _given_ that a black marble was drawn first is $P(B_2 \\mid B_1) = \\frac{3}{4}$. \n",
    "\n",
    "Then the probability of both marbles being black is \n",
    "\n",
    "$$\n",
    "P(B_1 \\cap B_2) = P(B_2 \\mid B_1) ~ P(B_1) = \\frac{3}{4}\\cdot\\frac{1}{2} = \\frac{3}{8} = 0.375\n",
    "$$\n",
    "\n",
    "which seems to agree very well with our simulation!"
   ]
  },
  {
   "cell_type": "markdown",
   "metadata": {},
   "source": [
    "### Exercise 4 - Outcomes and Set Operations\n",
    "***\n",
    "Suppose we run an experiment we toss a coin 3 times.  The sample space for this experiment is \n",
    "\n",
    "$$\n",
    "\\Omega = \\{HHH, ~ THH, ~HTH, ~HHT, ~TTH, ~THT, ~HTT, ~TTT\\}\n",
    "$$\n",
    "\n",
    "**Part A**: Write down the set of outcomes corresponding to each of the following: \n",
    "1. $A$: \"we throw tails exactly two times\"\n",
    "2. $B$: \"we throw tails at least two times\"\n",
    "3. $C$: \"tails did not appear _before_ a head appeared\" \n",
    "4. $D$: \"the first throw results in tails\" \n"
   ]
  },
  {
   "cell_type": "markdown",
   "metadata": {},
   "source": [
    "***\n",
    "**Solution**: We have:\n",
    "\n",
    "$$\n",
    "\\Omega = \\{HHH, ~ THH, ~HTH, ~HHT, ~TTH, ~THT, ~HTT, ~TTT\\}\n",
    "$$\n",
    "1. $A = \\{HTT, ~THT, ~TTH \\}$\n",
    "2. $B = \\{HTT, ~THT, ~TTH, ~TTT \\}$\n",
    "3. $C = \\{HHH, ~HHT, ~HTT, ~HTH\\}$ \n",
    "4. $D = \\{TTT, ~THT, ~THH, ~TTH\\}$\n",
    "***"
   ]
  },
  {
   "cell_type": "markdown",
   "metadata": {},
   "source": [
    "**Part B**: Write down the set of outcomes corresponding to each of the following events: \n",
    "1. $A^c$ \n",
    "2. $A \\cup (C \\cap D)$\n",
    "3. $A \\cap D^{~c}$"
   ]
  },
  {
   "cell_type": "markdown",
   "metadata": {},
   "source": [
    "***\n",
    "**Solution**: \n",
    "\n",
    "1. $A^c = \\{HHH, ~THH, ~HTH, ~HHT, ~TTT\\}$ \n",
    "2. $A \\cup (C \\cap D) = A \\cup \\varnothing =  \\{HTT, ~THT, ~TTH \\}$\n",
    "3. $A \\cap D^{~c} =  \\{HTT\\}$\n",
    "\n",
    "***"
   ]
  },
  {
   "cell_type": "markdown",
   "metadata": {},
   "source": [
    "**Part C**: Finally, Let $E$ be the event that $A$ or $C$ occurs, but not both, $E = A\\oplus C$.  Express $E$ in terms of $A$ and $C$, using only the basic set operations \"union\", \"intersection\", and \"complement\".\n",
    "\n",
    "Then list the set of outcomes from the experiment that are included in $E$. "
   ]
  },
  {
   "cell_type": "markdown",
   "metadata": {},
   "source": [
    "***\n",
    "**Solution**: We want things that are in $A \\cup C$ but not things that are in $A \\cap C$.  Things that are not in $A \\cap C$ are in it's complement, namely $(A \\cap C)^c$.  So if we want things that are in $A \\cup C$ **and** $(A \\cap C)^c$ we want to take the intersection.  So we have \n",
    "\n",
    "$$\n",
    "E = (A \\cup C) \\cap (A \\cap C)^c = \\{HHH, ~HHT, ~HTH\\}\n",
    "$$\n",
    "\n",
    "***"
   ]
  },
  {
   "cell_type": "code",
   "execution_count": null,
   "metadata": {},
   "outputs": [],
   "source": []
  }
 ],
 "metadata": {
  "kernelspec": {
   "display_name": "Python 3 (ipykernel)",
   "language": "python",
   "name": "python3"
  },
  "language_info": {
   "codemirror_mode": {
    "name": "ipython",
    "version": 3
   },
   "file_extension": ".py",
   "mimetype": "text/x-python",
   "name": "python",
   "nbconvert_exporter": "python",
   "pygments_lexer": "ipython3",
   "version": "3.9.7"
  }
 },
 "nbformat": 4,
 "nbformat_minor": 2
}
