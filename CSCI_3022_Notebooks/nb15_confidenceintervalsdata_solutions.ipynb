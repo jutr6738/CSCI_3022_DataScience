{
 "cells": [
  {
   "cell_type": "markdown",
   "metadata": {},
   "source": [
    "# Notebook 15: Confidence Intervals Solutions\n",
    "***\n",
    "\n",
    "We'll need Numpy, Matplotlib, Pandas, and scipy.stats for this notebook, so let's load them. "
   ]
  },
  {
   "cell_type": "code",
   "execution_count": 1,
   "metadata": {},
   "outputs": [],
   "source": [
    "import numpy as np \n",
    "from scipy import stats\n",
    "import pandas as pd \n",
    "import matplotlib.pyplot as plt \n",
    "%matplotlib inline"
   ]
  },
  {
   "cell_type": "markdown",
   "metadata": {},
   "source": [
    "### Exercise 1 - Single Sample CI\n",
    "*** \n",
    "Load `hubble.csv` into Python. A description of the variables can be obtained from page 73 of https://cran.r-project.org/web/packages/gamair/gamair.pdf."
   ]
  },
  {
   "cell_type": "code",
   "execution_count": 2,
   "metadata": {},
   "outputs": [
    {
     "data": {
      "text/html": [
       "<div>\n",
       "<style scoped>\n",
       "    .dataframe tbody tr th:only-of-type {\n",
       "        vertical-align: middle;\n",
       "    }\n",
       "\n",
       "    .dataframe tbody tr th {\n",
       "        vertical-align: top;\n",
       "    }\n",
       "\n",
       "    .dataframe thead th {\n",
       "        text-align: right;\n",
       "    }\n",
       "</style>\n",
       "<table border=\"1\" class=\"dataframe\">\n",
       "  <thead>\n",
       "    <tr style=\"text-align: right;\">\n",
       "      <th></th>\n",
       "      <th>Unnamed: 0</th>\n",
       "      <th>Galaxy</th>\n",
       "      <th>y</th>\n",
       "      <th>x</th>\n",
       "    </tr>\n",
       "  </thead>\n",
       "  <tbody>\n",
       "    <tr>\n",
       "      <th>0</th>\n",
       "      <td>1</td>\n",
       "      <td>NGC0300</td>\n",
       "      <td>133</td>\n",
       "      <td>2.00</td>\n",
       "    </tr>\n",
       "    <tr>\n",
       "      <th>1</th>\n",
       "      <td>2</td>\n",
       "      <td>NGC0925</td>\n",
       "      <td>664</td>\n",
       "      <td>9.16</td>\n",
       "    </tr>\n",
       "    <tr>\n",
       "      <th>2</th>\n",
       "      <td>3</td>\n",
       "      <td>NGC1326A</td>\n",
       "      <td>1794</td>\n",
       "      <td>16.14</td>\n",
       "    </tr>\n",
       "    <tr>\n",
       "      <th>3</th>\n",
       "      <td>4</td>\n",
       "      <td>NGC1365</td>\n",
       "      <td>1594</td>\n",
       "      <td>17.95</td>\n",
       "    </tr>\n",
       "    <tr>\n",
       "      <th>4</th>\n",
       "      <td>5</td>\n",
       "      <td>NGC1425</td>\n",
       "      <td>1473</td>\n",
       "      <td>21.88</td>\n",
       "    </tr>\n",
       "    <tr>\n",
       "      <th>5</th>\n",
       "      <td>6</td>\n",
       "      <td>NGC2403</td>\n",
       "      <td>278</td>\n",
       "      <td>3.22</td>\n",
       "    </tr>\n",
       "    <tr>\n",
       "      <th>6</th>\n",
       "      <td>7</td>\n",
       "      <td>NGC2541</td>\n",
       "      <td>714</td>\n",
       "      <td>11.22</td>\n",
       "    </tr>\n",
       "    <tr>\n",
       "      <th>7</th>\n",
       "      <td>8</td>\n",
       "      <td>NGC2090</td>\n",
       "      <td>882</td>\n",
       "      <td>11.75</td>\n",
       "    </tr>\n",
       "    <tr>\n",
       "      <th>8</th>\n",
       "      <td>9</td>\n",
       "      <td>NGC3031</td>\n",
       "      <td>80</td>\n",
       "      <td>3.63</td>\n",
       "    </tr>\n",
       "    <tr>\n",
       "      <th>9</th>\n",
       "      <td>10</td>\n",
       "      <td>NGC3198</td>\n",
       "      <td>772</td>\n",
       "      <td>13.80</td>\n",
       "    </tr>\n",
       "  </tbody>\n",
       "</table>\n",
       "</div>"
      ],
      "text/plain": [
       "   Unnamed: 0    Galaxy     y      x\n",
       "0           1   NGC0300   133   2.00\n",
       "1           2   NGC0925   664   9.16\n",
       "2           3  NGC1326A  1794  16.14\n",
       "3           4   NGC1365  1594  17.95\n",
       "4           5   NGC1425  1473  21.88\n",
       "5           6   NGC2403   278   3.22\n",
       "6           7   NGC2541   714  11.22\n",
       "7           8   NGC2090   882  11.75\n",
       "8           9   NGC3031    80   3.63\n",
       "9          10   NGC3198   772  13.80"
      ]
     },
     "execution_count": 2,
     "metadata": {},
     "output_type": "execute_result"
    }
   ],
   "source": [
    "# Path to the data - select the path that works for you \n",
    "file_path = 'hubble.csv'\n",
    "\n",
    "# Load the data into a DataFrame \n",
    "df = pd.read_csv(file_path)\n",
    "\n",
    "# Look at the data\n",
    "df.head(10)\n"
   ]
  },
  {
   "cell_type": "code",
   "execution_count": 3,
   "metadata": {},
   "outputs": [
    {
     "data": {
      "text/plain": [
       "Unnamed: 0      int64\n",
       "Galaxy         object\n",
       "y               int64\n",
       "x             float64\n",
       "dtype: object"
      ]
     },
     "execution_count": 3,
     "metadata": {},
     "output_type": "execute_result"
    }
   ],
   "source": [
    "# Check the data types\n",
    "df.dtypes"
   ]
  },
  {
   "cell_type": "code",
   "execution_count": 4,
   "metadata": {},
   "outputs": [
    {
     "name": "stdout",
     "output_type": "stream",
     "text": [
      "<class 'pandas.core.frame.DataFrame'>\n",
      "RangeIndex: 24 entries, 0 to 23\n",
      "Data columns (total 4 columns):\n",
      " #   Column      Non-Null Count  Dtype  \n",
      "---  ------      --------------  -----  \n",
      " 0   Unnamed: 0  24 non-null     int64  \n",
      " 1   Galaxy      24 non-null     object \n",
      " 2   y           24 non-null     int64  \n",
      " 3   x           24 non-null     float64\n",
      "dtypes: float64(1), int64(2), object(1)\n",
      "memory usage: 896.0+ bytes\n"
     ]
    }
   ],
   "source": [
    "df.info()"
   ]
  },
  {
   "cell_type": "markdown",
   "metadata": {},
   "source": [
    "From the documentation (pg. 73) it appears the 'x' is a distance and 'y' is a velocity."
   ]
  },
  {
   "cell_type": "markdown",
   "metadata": {},
   "source": [
    "#### (a) Calculate the 85% confidence interval for the mean of a galaxy's distance from Earth in Mega parsecs in Python by $\\color{red}{\\text{doing the computation explicitly.}}$  Use the large sample approximation even though we only have an n of 24.\n"
   ]
  },
  {
   "cell_type": "code",
   "execution_count": 5,
   "metadata": {},
   "outputs": [
    {
     "name": "stdout",
     "output_type": "stream",
     "text": [
      "The CI is: ( 10.345988767455863  ,  13.763177899210804 )\n"
     ]
    },
    {
     "name": "stderr",
     "output_type": "stream",
     "text": [
      "C:\\Users\\julia\\AppData\\Local\\Temp/ipykernel_32612/3991750891.py:8: DeprecationWarning: Calling np.sum(generator) is deprecated, and in the future will give a different result. Use np.sum(np.fromiter(generator)) or the python sum builtin instead.\n",
      "  svar=np.sum((xi-xbar)**2/(n-1) for xi in df['x']) #variance= std^2/n\n"
     ]
    }
   ],
   "source": [
    "# Create an array of length equal to our dataframe. \n",
    "n=len(df) #num samples in df so n=24 \n",
    "\n",
    "# 'xbar' is a variable holding the mean of column 'x'.\n",
    "xbar=np.sum(df['x'])/n\n",
    "\n",
    "# 'svar' is a variable holding the sample variance of column 'x'.\n",
    "svar=np.sum((xi-xbar)**2/(n-1) for xi in df['x']) #variance= std^2/n\n",
    "\n",
    "# 'sd' is a variable holding the sample std of column 'x'.\n",
    "sd=np.sqrt(svar) #square root of variance\n",
    "\n",
    "# 'critz' is a variable holding the critical z.\n",
    "critz=stats.norm.ppf(.925)  \n",
    "\n",
    "# Now, we create the interval by taking our sample mean and adding and subtracting our\n",
    "#  critical z times the standard error.\n",
    "print('The CI is: (', xbar-critz*sd/np.sqrt(n),' , ',xbar+critz*sd/np.sqrt(n),')')"
   ]
  },
  {
   "cell_type": "markdown",
   "metadata": {},
   "source": [
    "#### (b) Can you find a built in stats function that does this computation automatically? \n",
    "The $\\color{red}{\\text{.interval}}$ function!"
   ]
  },
  {
   "cell_type": "code",
   "execution_count": 6,
   "metadata": {},
   "outputs": [
    {
     "data": {
      "text/plain": [
       "(10.345988767455863, 13.763177899210804)"
      ]
     },
     "execution_count": 6,
     "metadata": {},
     "output_type": "execute_result"
    }
   ],
   "source": [
    "# Of course we need not do this by hand each time!\n",
    "# Just provide the .interval function inputs like:\n",
    "#   confidence level, xbar, and the standard error.\n",
    "# Because this is a sample mean distribution our standard error is sd/np.sqrt(n)\n",
    "stats.norm.interval(.85, loc=xbar, scale=sd/np.sqrt(n))\n"
   ]
  },
  {
   "cell_type": "markdown",
   "metadata": {},
   "source": [
    "#### (c) Interpret the confidence interval."
   ]
  },
  {
   "cell_type": "markdown",
   "metadata": {},
   "source": [
    "We are 100% confident that 85% of intervals created in this manner will contain the true mean of a galaxy's distance from Earth. And this is one such interval.\n",
    "\n",
    "This claim means that, if we were to collect these measurements from sample after sample after sample, and calculate the confidence interval for each sample, then about 85% of the CI's would contain the true mean. And again, this is just one of those sample intervals."
   ]
  },
  {
   "cell_type": "markdown",
   "metadata": {},
   "source": [
    "### Exercise 2 - Two Sample CI\n",
    "*** \n",
    "Load `clean_titanic_data` into Python."
   ]
  },
  {
   "cell_type": "code",
   "execution_count": 7,
   "metadata": {},
   "outputs": [
    {
     "data": {
      "text/html": [
       "<div>\n",
       "<style scoped>\n",
       "    .dataframe tbody tr th:only-of-type {\n",
       "        vertical-align: middle;\n",
       "    }\n",
       "\n",
       "    .dataframe tbody tr th {\n",
       "        vertical-align: top;\n",
       "    }\n",
       "\n",
       "    .dataframe thead th {\n",
       "        text-align: right;\n",
       "    }\n",
       "</style>\n",
       "<table border=\"1\" class=\"dataframe\">\n",
       "  <thead>\n",
       "    <tr style=\"text-align: right;\">\n",
       "      <th></th>\n",
       "      <th>PassengerId</th>\n",
       "      <th>Survived</th>\n",
       "      <th>Pclass</th>\n",
       "      <th>Name</th>\n",
       "      <th>Sex</th>\n",
       "      <th>Age</th>\n",
       "      <th>SibSp</th>\n",
       "      <th>Parch</th>\n",
       "      <th>Ticket</th>\n",
       "      <th>Fare</th>\n",
       "      <th>Embarked</th>\n",
       "    </tr>\n",
       "  </thead>\n",
       "  <tbody>\n",
       "    <tr>\n",
       "      <th>0</th>\n",
       "      <td>1</td>\n",
       "      <td>0</td>\n",
       "      <td>3</td>\n",
       "      <td>Braund, Mr. Owen Harris</td>\n",
       "      <td>male</td>\n",
       "      <td>22.0</td>\n",
       "      <td>1</td>\n",
       "      <td>0</td>\n",
       "      <td>A/5 21171</td>\n",
       "      <td>7.2500</td>\n",
       "      <td>S</td>\n",
       "    </tr>\n",
       "    <tr>\n",
       "      <th>1</th>\n",
       "      <td>2</td>\n",
       "      <td>1</td>\n",
       "      <td>1</td>\n",
       "      <td>Cumings, Mrs. John Bradley (Florence Briggs Th...</td>\n",
       "      <td>female</td>\n",
       "      <td>38.0</td>\n",
       "      <td>1</td>\n",
       "      <td>0</td>\n",
       "      <td>PC 17599</td>\n",
       "      <td>71.2833</td>\n",
       "      <td>C</td>\n",
       "    </tr>\n",
       "    <tr>\n",
       "      <th>2</th>\n",
       "      <td>3</td>\n",
       "      <td>1</td>\n",
       "      <td>3</td>\n",
       "      <td>Heikkinen, Miss. Laina</td>\n",
       "      <td>female</td>\n",
       "      <td>26.0</td>\n",
       "      <td>0</td>\n",
       "      <td>0</td>\n",
       "      <td>STON/O2. 3101282</td>\n",
       "      <td>7.9250</td>\n",
       "      <td>S</td>\n",
       "    </tr>\n",
       "    <tr>\n",
       "      <th>3</th>\n",
       "      <td>4</td>\n",
       "      <td>1</td>\n",
       "      <td>1</td>\n",
       "      <td>Futrelle, Mrs. Jacques Heath (Lily May Peel)</td>\n",
       "      <td>female</td>\n",
       "      <td>35.0</td>\n",
       "      <td>1</td>\n",
       "      <td>0</td>\n",
       "      <td>113803</td>\n",
       "      <td>53.1000</td>\n",
       "      <td>S</td>\n",
       "    </tr>\n",
       "    <tr>\n",
       "      <th>4</th>\n",
       "      <td>5</td>\n",
       "      <td>0</td>\n",
       "      <td>3</td>\n",
       "      <td>Allen, Mr. William Henry</td>\n",
       "      <td>male</td>\n",
       "      <td>35.0</td>\n",
       "      <td>0</td>\n",
       "      <td>0</td>\n",
       "      <td>373450</td>\n",
       "      <td>8.0500</td>\n",
       "      <td>S</td>\n",
       "    </tr>\n",
       "    <tr>\n",
       "      <th>5</th>\n",
       "      <td>7</td>\n",
       "      <td>0</td>\n",
       "      <td>1</td>\n",
       "      <td>McCarthy, Mr. Timothy J</td>\n",
       "      <td>male</td>\n",
       "      <td>54.0</td>\n",
       "      <td>0</td>\n",
       "      <td>0</td>\n",
       "      <td>17463</td>\n",
       "      <td>51.8625</td>\n",
       "      <td>S</td>\n",
       "    </tr>\n",
       "    <tr>\n",
       "      <th>6</th>\n",
       "      <td>8</td>\n",
       "      <td>0</td>\n",
       "      <td>3</td>\n",
       "      <td>Palsson, Master. Gosta Leonard</td>\n",
       "      <td>male</td>\n",
       "      <td>2.0</td>\n",
       "      <td>3</td>\n",
       "      <td>1</td>\n",
       "      <td>349909</td>\n",
       "      <td>21.0750</td>\n",
       "      <td>S</td>\n",
       "    </tr>\n",
       "    <tr>\n",
       "      <th>7</th>\n",
       "      <td>9</td>\n",
       "      <td>1</td>\n",
       "      <td>3</td>\n",
       "      <td>Johnson, Mrs. Oscar W (Elisabeth Vilhelmina Berg)</td>\n",
       "      <td>female</td>\n",
       "      <td>27.0</td>\n",
       "      <td>0</td>\n",
       "      <td>2</td>\n",
       "      <td>347742</td>\n",
       "      <td>11.1333</td>\n",
       "      <td>S</td>\n",
       "    </tr>\n",
       "    <tr>\n",
       "      <th>8</th>\n",
       "      <td>10</td>\n",
       "      <td>1</td>\n",
       "      <td>2</td>\n",
       "      <td>Nasser, Mrs. Nicholas (Adele Achem)</td>\n",
       "      <td>female</td>\n",
       "      <td>14.0</td>\n",
       "      <td>1</td>\n",
       "      <td>0</td>\n",
       "      <td>237736</td>\n",
       "      <td>30.0708</td>\n",
       "      <td>C</td>\n",
       "    </tr>\n",
       "    <tr>\n",
       "      <th>9</th>\n",
       "      <td>11</td>\n",
       "      <td>1</td>\n",
       "      <td>3</td>\n",
       "      <td>Sandstrom, Miss. Marguerite Rut</td>\n",
       "      <td>female</td>\n",
       "      <td>4.0</td>\n",
       "      <td>1</td>\n",
       "      <td>1</td>\n",
       "      <td>PP 9549</td>\n",
       "      <td>16.7000</td>\n",
       "      <td>S</td>\n",
       "    </tr>\n",
       "  </tbody>\n",
       "</table>\n",
       "</div>"
      ],
      "text/plain": [
       "   PassengerId  Survived  Pclass  \\\n",
       "0            1         0       3   \n",
       "1            2         1       1   \n",
       "2            3         1       3   \n",
       "3            4         1       1   \n",
       "4            5         0       3   \n",
       "5            7         0       1   \n",
       "6            8         0       3   \n",
       "7            9         1       3   \n",
       "8           10         1       2   \n",
       "9           11         1       3   \n",
       "\n",
       "                                                Name     Sex   Age  SibSp  \\\n",
       "0                            Braund, Mr. Owen Harris    male  22.0      1   \n",
       "1  Cumings, Mrs. John Bradley (Florence Briggs Th...  female  38.0      1   \n",
       "2                             Heikkinen, Miss. Laina  female  26.0      0   \n",
       "3       Futrelle, Mrs. Jacques Heath (Lily May Peel)  female  35.0      1   \n",
       "4                           Allen, Mr. William Henry    male  35.0      0   \n",
       "5                            McCarthy, Mr. Timothy J    male  54.0      0   \n",
       "6                     Palsson, Master. Gosta Leonard    male   2.0      3   \n",
       "7  Johnson, Mrs. Oscar W (Elisabeth Vilhelmina Berg)  female  27.0      0   \n",
       "8                Nasser, Mrs. Nicholas (Adele Achem)  female  14.0      1   \n",
       "9                    Sandstrom, Miss. Marguerite Rut  female   4.0      1   \n",
       "\n",
       "   Parch            Ticket     Fare Embarked  \n",
       "0      0         A/5 21171   7.2500        S  \n",
       "1      0          PC 17599  71.2833        C  \n",
       "2      0  STON/O2. 3101282   7.9250        S  \n",
       "3      0            113803  53.1000        S  \n",
       "4      0            373450   8.0500        S  \n",
       "5      0             17463  51.8625        S  \n",
       "6      1            349909  21.0750        S  \n",
       "7      2            347742  11.1333        S  \n",
       "8      0            237736  30.0708        C  \n",
       "9      1           PP 9549  16.7000        S  "
      ]
     },
     "execution_count": 7,
     "metadata": {},
     "output_type": "execute_result"
    }
   ],
   "source": [
    "# Path to the data - select the path that works for you \n",
    "file_path = 'clean_titanic_data.csv'\n",
    "\n",
    "# Load the data into a DataFrame \n",
    "df = pd.read_csv(file_path)\n",
    "\n",
    "# Look at the data.\n",
    "df.head(10)"
   ]
  },
  {
   "cell_type": "markdown",
   "metadata": {},
   "source": [
    "#### a) Calculate a 98% CI for the survival rate of all passengers."
   ]
  },
  {
   "cell_type": "code",
   "execution_count": 8,
   "metadata": {},
   "outputs": [
    {
     "name": "stdout",
     "output_type": "stream",
     "text": [
      "290 people survived the disaster\n",
      "... out of 714 people total\n",
      "For a 98% CI of: ( 0.36340526395317535  ,  0.44891966601881345 )\n",
      "\n",
      "The 98% CI is given by  (0.36340526395317535, 0.44891966601881345)\n"
     ]
    }
   ],
   "source": [
    "# 'people_survived' is a variable holding the number of survivors.\n",
    "# We just sum up the 1's in the column with the 'Survived' header.\n",
    "people_survived = df['Survived'].sum()\n",
    "\n",
    "# Print out how many people survived.\n",
    "print(\"{} people survived the disaster\".format(people_survived))\n",
    "\n",
    "# 'people_total' is a variable holding the total number of people in the df.\n",
    "people_total = len(df)\n",
    "\n",
    "# We can now print out, relatively, how many people survived. \n",
    "# So we are looking at a proportion from our sample.\n",
    "print(\"... out of {} people total\".format(people_total))\n",
    "\n",
    "##So the CI is: phat plus/minus z_crit * sqrt(phat(1-phat)/n)\n",
    "# Because this is a proportion distribution, our standard error is sqrt(phat(1-phat)/n)\n",
    "phat_t=people_survived/people_total\n",
    "zcrit=stats.norm.ppf(.99)\n",
    "var_t=phat_t*(1-phat_t)/people_total\n",
    "\n",
    "print(\"For a 98% CI of: (\", phat_t-zcrit*np.sqrt(var_t),\" , \",   phat_t+zcrit*np.sqrt(var_t),')')\n",
    "\n",
    "print(\"\")\n",
    "# Alternatively:\n",
    "g = stats.norm.interval(.98, loc=phat_t, scale=np.sqrt(var_t))\n",
    "print(\"The 98% CI is given by \",g)\n"
   ]
  },
  {
   "cell_type": "markdown",
   "metadata": {},
   "source": [
    "#### b) Calculate a 98% CI for the survival rate of men (all passenger classes)."
   ]
  },
  {
   "cell_type": "code",
   "execution_count": 9,
   "metadata": {},
   "outputs": [
    {
     "name": "stdout",
     "output_type": "stream",
     "text": [
      "93 men survived the disaster\n",
      "... out of 453 men total\n",
      "For a 98% CI of: ( 0.1611490936776798  ,  0.24944693281238642 )\n"
     ]
    }
   ],
   "source": [
    "# Find the proportion of male survivors.\n",
    "male_survived = df.loc[df['Sex']=='male', 'Survived'].sum()\n",
    "print(\"{} men survived the disaster\".format(male_survived))\n",
    "\n",
    "# Out of how many men were in the sample.\n",
    "male_total = len(df.loc[(df[\"Sex\"]=='male')])\n",
    "print(\"... out of {} men total\".format(male_total))\n",
    "\n",
    "\n",
    "# So the CI is: phat plus/minus z_crit * sqrt(phat(1-phat)/n)\n",
    "phat_m=male_survived/male_total\n",
    "zcrit=stats.norm.ppf(.99)\n",
    "var_m=phat_m*(1-phat_m)/male_total\n",
    "\n",
    "print(\"For a 98% CI of: (\", phat_m-zcrit*np.sqrt(var_m),' , ',   phat_m+zcrit*np.sqrt(var_m),')')\n"
   ]
  },
  {
   "cell_type": "markdown",
   "metadata": {},
   "source": [
    "\n",
    "#### c) Calculate a 98% CI for the survival rate of women (all passenger classes)."
   ]
  },
  {
   "cell_type": "code",
   "execution_count": 10,
   "metadata": {},
   "outputs": [
    {
     "name": "stdout",
     "output_type": "stream",
     "text": [
      "197 women survived the disaster\n",
      "... out of 261 women total\n",
      "For a 98% CI of: ( 0.692839887327238  ,  0.8167386567340648 )\n"
     ]
    }
   ],
   "source": [
    "# How many women survived\n",
    "female_survived = df.loc[df['Sex']=='female', 'Survived'].sum() # your code goes here! \n",
    "print(\"{} women survived the disaster\".format(female_survived))\n",
    "\n",
    "# Out of how many women were in the sample.\n",
    "female_total = len(df.loc[(df[\"Sex\"]=='female')])\n",
    "print(\"... out of {} women total\".format(female_total))\n",
    "\n",
    "\n",
    "# So the CI is: phat plus/minus z_crit * sqrt(phat(1-phat)/n)\n",
    "phat_f=female_survived/female_total\n",
    "zcrit=stats.norm.ppf(.99)\n",
    "var_f=phat_f*(1-phat_f)/female_total\n",
    "\n",
    "print(\"For a 98% CI of: (\", phat_f-zcrit*np.sqrt(var_f),' , ',   phat_f+zcrit*np.sqrt(var_f),')')\n"
   ]
  },
  {
   "cell_type": "markdown",
   "metadata": {},
   "source": [
    "\n",
    "#### d) Calculate a 98% CI for the $\\color{red}{\\text{difference}}$ in survival rates between men and women."
   ]
  },
  {
   "cell_type": "code",
   "execution_count": 11,
   "metadata": {},
   "outputs": [
    {
     "name": "stdout",
     "output_type": "stream",
     "text": [
      "For a 98% CI of: ( -0.625562628985557  ,  -0.4734198885856794 )\n"
     ]
    }
   ],
   "source": [
    "# So, the CI is: phat1-phat2 plus/minus z_crit * sqrt(phat1(1-phat1)/n1 +phat2(1-phat2)/n2 )\n",
    "var_pool=var_f+var_m\n",
    "print(\"For a 98% CI of: (\", phat_m-phat_f-zcrit*np.sqrt(var_f+var_m),' , ',phat_m-phat_f+zcrit*np.sqrt(var_m+var_f),')')\n",
    "\n"
   ]
  },
  {
   "cell_type": "markdown",
   "metadata": {},
   "source": [
    "\n",
    "#### e) What can you conclude?"
   ]
  },
  {
   "cell_type": "markdown",
   "metadata": {},
   "source": [
    "- not including zero so it does seem to say that sex matters for survival rate"
   ]
  },
  {
   "cell_type": "markdown",
   "metadata": {},
   "source": [
    "Probably the same conclusion as in HW 1: sex seemed to matter on the Titanic!  But now we can add the sentence: there was a statistically significant difference (i.e. not random luck) between the survival rates of men and women.\n",
    "\n",
    "That said, we also know that it may have varied quite a bit depending on passenger class and age (our sample was not stratified), and we don't know yet how to compare across multiple variables at once.\n",
    "\n",
    "But stay tuned for regression and ANOVA!"
   ]
  },
  {
   "cell_type": "code",
   "execution_count": null,
   "metadata": {},
   "outputs": [],
   "source": []
  }
 ],
 "metadata": {
  "kernelspec": {
   "display_name": "Python 3 (ipykernel)",
   "language": "python",
   "name": "python3"
  },
  "language_info": {
   "codemirror_mode": {
    "name": "ipython",
    "version": 3
   },
   "file_extension": ".py",
   "mimetype": "text/x-python",
   "name": "python",
   "nbconvert_exporter": "python",
   "pygments_lexer": "ipython3",
   "version": "3.9.7"
  }
 },
 "nbformat": 4,
 "nbformat_minor": 2
}
