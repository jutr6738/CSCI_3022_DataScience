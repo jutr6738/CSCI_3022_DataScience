{
 "cells": [
  {
   "cell_type": "markdown",
   "metadata": {},
   "source": [
    "# Notebook 8: More Discrete Random Variables and More Distributions \n",
    "***\n",
    "\n",
    "In this notebook we'll get some more practice identifying and working with the Binomial, Negative Binomial, Geometric, and Poisson distributions. \n",
    "\n",
    "We'll need Numpy and Matplotlib for this notebook, so let's load them.  We'll also probably need SciPy's binom function for computing binomial coefficients as well as Python's factorial function.  "
   ]
  },
  {
   "cell_type": "code",
   "execution_count": 4,
   "metadata": {},
   "outputs": [],
   "source": [
    "import numpy as np \n",
    "import matplotlib.pylab as plt \n",
    "from scipy.special import binom\n",
    "from math import factorial\n",
    "import math\n",
    "%matplotlib inline"
   ]
  },
  {
   "cell_type": "markdown",
   "metadata": {},
   "source": [
    "### Exercise 1 - Defective Hard Drives \n",
    "*** \n",
    "\n",
    "A factory manufactures sold state hard drives for Seagate Technology.  Approximately $4\\%$ of hard drives that come off of a particular assembly line are defective. For each of the scenarios below: \n",
    "\n",
    "1. Define an appropriate random variable and distribution for the experiment. \n",
    "2. State the values that the random variable can take on. \n",
    "3. Find the probability that the random variable takes on the value $X = 3$. \n",
    "4. State any assumptions that you need to make \n",
    "\n",
    "**Part A**: Out of 20 drives, $k$ of them are defective. "
   ]
  },
  {
   "cell_type": "code",
   "execution_count": 5,
   "metadata": {},
   "outputs": [
    {
     "name": "stdout",
     "output_type": "stream",
     "text": [
      "0.036449853488319195\n"
     ]
    }
   ],
   "source": [
    "# Define X to be the number of defective drives\n",
    "n=20\n",
    "X = range(0,n+1)\n",
    "p = 0.04\n",
    "k=3\n",
    "#X has a binomial distribution\n",
    "\n",
    "p_X_3 = binom(n,k)*(p**3)*(1-p)**(n-k)\n",
    "\n",
    "print(p_X_3)\n",
    "\n",
    "#assume prob is constant and not changing"
   ]
  },
  {
   "cell_type": "markdown",
   "metadata": {},
   "source": [
    "**Part B**: The number of defective drives made that day, where the rate of defective parts per day is 10. "
   ]
  },
  {
   "cell_type": "code",
   "execution_count": 6,
   "metadata": {},
   "outputs": [
    {
     "name": "stdout",
     "output_type": "stream",
     "text": [
      "0.007566654960414146\n"
     ]
    }
   ],
   "source": [
    "# X has a poisson distribution. \n",
    "# lambda = 10/day\n",
    "# X can range from 0 to the total number of drives in a day.\n",
    "#Probability that X=3 (meaning 3 defective parts were made in 1 day)\n",
    "\n",
    "p_X_3_poisson = (10**3)*((math.e)**(-10))/(factorial(3))\n",
    "\n",
    "print(p_X_3_poisson)"
   ]
  },
  {
   "cell_type": "markdown",
   "metadata": {},
   "source": [
    "**Part C**: While we observe the assembly line, the first defective drive observed is the $k$th drive observed overall."
   ]
  },
  {
   "cell_type": "code",
   "execution_count": 7,
   "metadata": {},
   "outputs": [
    {
     "name": "stdout",
     "output_type": "stream",
     "text": [
      "0.036864\n"
     ]
    }
   ],
   "source": [
    "# X has a geometric distribution\n",
    "# X can take on values from 1 to infinity?\n",
    "# probability that X=3\n",
    "kk=3\n",
    "p_X_3_geometric = ((1-p)**(kk-1))*p\n",
    "print(p_X_3_geometric)"
   ]
  },
  {
   "cell_type": "markdown",
   "metadata": {},
   "source": [
    "**Part D**: While we observe the assembly line, the third defective drive observed is the $k$th drive observed overall."
   ]
  },
  {
   "cell_type": "code",
   "execution_count": 5,
   "metadata": {},
   "outputs": [
    {
     "name": "stdout",
     "output_type": "stream",
     "text": [
      "6.400000000000001e-05\n"
     ]
    }
   ],
   "source": [
    "# X is negative binomial\n",
    "# X can take on values from 3 to infinity\n",
    "\n",
    "k=3\n",
    "r=3\n",
    "p=0.04\n",
    "p_X_3_negbin = binom(k-1,r-1)*(p**k)*(1-p)**(k-r)\n",
    "print(p_X_3_negbin)"
   ]
  },
  {
   "cell_type": "markdown",
   "metadata": {},
   "source": [
    "### Exercise 2 - Winning Concert Tickets \n",
    "*** \n",
    "\n",
    "You and a friend want to go to a concert, but unfortunately only one ticket is still available. The man who sells the tickets decides to toss a coin until heads appears. In each toss heads appears with probability $p$, where $0 < p < 1$, independent of each of the previous tosses. If the number of tosses needed is odd, your friend is allowed to buy the ticket; otherwise you can buy it. Would you agree to this arrangement?\n",
    "\n",
    "**Part A**: What discrete distribution would be useful in solving this problem? "
   ]
  },
  {
   "cell_type": "code",
   "execution_count": 6,
   "metadata": {},
   "outputs": [
    {
     "name": "stdout",
     "output_type": "stream",
     "text": [
      "The probability of a Heads results on an odd trial is:  0.6666666666666666\n",
      "The probability of a Heads results on an even trial is:  0.3333333333333333\n"
     ]
    }
   ],
   "source": [
    "# Geometric Distribution! because stop when get heads\n",
    "p = 0.5\n",
    "\n",
    "n_trials = 1001\n",
    "\n",
    "# Odd tosses i\n",
    "# Even tosses j\n",
    "prob_odd = 0\n",
    "prob_even = 0\n",
    "\n",
    "for i,j in zip(range(1,n_trials), range(1,n_trials)):\n",
    "    i = 2*i-1\n",
    "    j = 2*j\n",
    "    p_i = ((1-p)**(i-1))*p\n",
    "    prob_odd += p_i\n",
    "    p_j = ((1-p)**(j-1))*p\n",
    "    prob_even += p_j\n",
    "    \n",
    "print(\"The probability of a Heads results on an odd trial is: \", prob_odd)\n",
    "print(\"The probability of a Heads results on an even trial is: \", prob_even) "
   ]
  },
  {
   "cell_type": "markdown",
   "metadata": {},
   "source": [
    "**Part B**: In a minute we'll compute the approximate probability that you win the concert tickets, but before doing so, can you solve this problem by intuition (and a small amount of math)? "
   ]
  },
  {
   "cell_type": "code",
   "execution_count": null,
   "metadata": {},
   "outputs": [],
   "source": []
  },
  {
   "cell_type": "markdown",
   "metadata": {},
   "source": [
    "**Part C**: Write a Python function that takes in the probability of heads on the coin and returns the probability mass function of the random variable described above.  You can safely assume that nobody wants to stick around for more than 100 coin flips, so only consider up to and including the 100th coin flip.  So, the output of this function should be an array or list of length 100."
   ]
  },
  {
   "cell_type": "code",
   "execution_count": 7,
   "metadata": {},
   "outputs": [],
   "source": [
    "def pmf_geo(p):\n",
    "    \n",
    "    n_max = 100\n",
    "    pmf = np.array([p*((1-p)**(k-1)) for k in range(1, n_max+1)])\n",
    "    \n",
    "    return pmf "
   ]
  },
  {
   "cell_type": "markdown",
   "metadata": {},
   "source": [
    "**Part D**: Use the function you wrote in **Part C** to estimate the probabilities that your friend or you win the ticket for different values of the bias of the coin.  Use $p = 0.25$, $~p = 0.5$, and $p = 0.75$. "
   ]
  },
  {
   "cell_type": "code",
   "execution_count": 8,
   "metadata": {},
   "outputs": [
    {
     "name": "stdout",
     "output_type": "stream",
     "text": [
      "Probability that your friend will win: 0.5714285714283882\n",
      "Probability that you will win: 0.42857142857129116\n",
      "Probability that your friend will win: 0.6666666666666666\n",
      "Probability that you will win: 0.3333333333333333\n",
      "For p = 0.75, Probability that your friend will win = 0.8\n",
      "Probability that you will win: 0.2\n"
     ]
    }
   ],
   "source": [
    "# The probability that you win the ticket when p = 0.25\n",
    "\n",
    "p=0.25\n",
    "print(\"Probability that your friend will win:\",np.sum(np.array([pmf_geo(p)[i] for i in range(0,100,2)])))\n",
    "print(\"Probability that you will win:\",np.sum(np.array([pmf_geo(p)[i] for i in range(1,100,2)])))\n",
    "\n",
    "p=0.5\n",
    "print(\"Probability that your friend will win:\",np.sum(np.array([pmf_geo(p)[i] for i in range(0,100,2)])))\n",
    "print(\"Probability that you will win:\",np.sum(np.array([pmf_geo(p)[i] for i in range(1,100,2)])))\n",
    "\n",
    "p=0.75\n",
    "print(\"For p = {}, Probability that your friend will win = {}\".format(p,np.sum(np.array([pmf_geo(p)[i] for i in range(0,100,2)]))))\n",
    "print(\"Probability that you will win:\",np.sum(np.array([pmf_geo(p)[i] for i in range(1,100,2)])))\n",
    "\n",
    "\n",
    "\n"
   ]
  },
  {
   "cell_type": "code",
   "execution_count": null,
   "metadata": {},
   "outputs": [],
   "source": []
  },
  {
   "cell_type": "markdown",
   "metadata": {},
   "source": [
    "### Exercise 3 - Implementing and Sampling the Geometric Distribution \n",
    "***\n",
    "\n",
    "**Part A**: Write a function flips_until_heads that simulates the coin slipping scenario in **Exercise 2**. Your function should take as its sole argument the probability $p$ of flipping Heads for the coin and return the number of flips observed when you find your first Heads.  "
   ]
  },
  {
   "cell_type": "code",
   "execution_count": 9,
   "metadata": {},
   "outputs": [],
   "source": [
    "coin = np.array([\"H\", \"T\"])\n",
    "\n",
    "def flips_until_heads(p):\n",
    "    coin_flip = np.random.choice(coin, p=[p,1-p])\n",
    "    counter = 1\n",
    "    while coin_flip != \"H\":\n",
    "        counter += 1\n",
    "        coin_flip = np.random.choice(coin,p=[p,1-p])\n",
    "    return counter"
   ]
  },
  {
   "cell_type": "markdown",
   "metadata": {},
   "source": [
    "**Part B**: Now, run many trials of the experiment and count how many trials result in each value of the random variable.  Make a _density_ histogram of the results, using $p=0.25$. "
   ]
  },
  {
   "cell_type": "code",
   "execution_count": 10,
   "metadata": {},
   "outputs": [
    {
     "data": {
      "image/png": "[encoded data removed]",
      "text/plain": [
       "<Figure size 432x288 with 1 Axes>"
      ]
     },
     "metadata": {
      "needs_background": "light"
     },
     "output_type": "display_data"
    }
   ],
   "source": [
    "ntrials = 100000\n",
    "p=0.25\n",
    "\n",
    "def coin_sim(ntrials,p):\n",
    "    count_X = []\n",
    "    for i in range(0,ntrials):\n",
    "        count_X.append(flips_until_heads(p))\n",
    "    return(count_X)    \n",
    "\n",
    "#print(coin_sim(ntrials,p))\n",
    "\n",
    "#fig, ax = plt.subplots(figsize = (12,8))\n",
    "\n",
    "bins = np.arange(0.5, 50.5, 1)\n",
    "plt.hist(coin_sim(ntrials,p), density = True, edgecolor = 'white', bins=bins)\n",
    "plt.xticks(range(1,50))\n",
    "plt.xlim([0,20])\n",
    "plt.xlabel('Flips before first Heads')\n",
    "plt.ylabel('Density')\n",
    "plt.show()"
   ]
  },
  {
   "cell_type": "markdown",
   "metadata": {},
   "source": [
    "**Part C**: Use the function you wrote in **Exercise 2** to make a bar plot of the probability mass function of $X$.  Does it look like the density histogram from **Part B**?  If not, run your simulation in **Part B** for more trials.  Does the situation improve?  Again, use $p=0.25$ in your codes."
   ]
  },
  {
   "cell_type": "code",
   "execution_count": 11,
   "metadata": {},
   "outputs": [
    {
     "data": {
      "image/png": "[encoded data removed]",
      "text/plain": [
       "<Figure size 432x288 with 1 Axes>"
      ]
     },
     "metadata": {
      "needs_background": "light"
     },
     "output_type": "display_data"
    }
   ],
   "source": [
    "p=0.25\n",
    "#ntrials = 1000\n",
    "\n",
    "pmf = pmf_geo(p)\n",
    "plt.bar(range(1,len(pmf)+1), pmf)\n",
    "plt.xticks(range(1,50))\n",
    "plt.xlim([0,20])\n",
    "plt.xlabel('Flips before first Heads')\n",
    "plt.ylabel('pmf')\n",
    "plt.show()"
   ]
  },
  {
   "cell_type": "markdown",
   "metadata": {},
   "source": [
    "### Exercise 4 - Predicting Space Shuttle Disasters \n",
    "***\n",
    "\n",
    "The space shuttle _Challenger_ disaster occurred in January 1986 when one of six O-rings failed and caused the main fuel tank to explode.  The failure of the O-ring was likely due to the low temperature at the time of the launch.  Further analysis shows that the probability of an O-ring failure as a function of temperature is given by \n",
    "\n",
    "$$\n",
    "p(T) = \\frac{e^{a+bT}}{1 + e^{a+bT}}\n",
    "$$\n",
    "\n",
    "where $a = 5.085$ and $b = -0.1156$, and $T$ is the temperature (in degrees Fahrenheit) at the time of the launch of the shuttle. At the time of the _Challenger_ launch the temperature was $T=31$, corresponding to a probability of O-ring failure of $p(31) = 0.8178$. \n",
    "\n",
    "**Part A**: Let $X$ be the number of failing O-rings at launch temperature $31^{\\circ} F$.  Assume that the failure of each of the six O-rings is independent. What type of probability distribution does $X$ have, and what are the values of its parameters? "
   ]
  },
  {
   "cell_type": "code",
   "execution_count": 12,
   "metadata": {},
   "outputs": [],
   "source": [
    "# X can take on integer values from 0 to 6\n",
    "# X is a binomial distribution"
   ]
  },
  {
   "cell_type": "markdown",
   "metadata": {},
   "source": [
    "**Part B**: Calculate (by hand) the probability $P(X \\geq 1)$ that at least one O-ring fails."
   ]
  },
  {
   "cell_type": "markdown",
   "metadata": {
    "collapsed": true
   },
   "source": [
    "$P(X \\geq 1) = 1-P(X < 1) = 1 - P(X = 0) $ "
   ]
  },
  {
   "cell_type": "code",
   "execution_count": 13,
   "metadata": {},
   "outputs": [
    {
     "name": "stdout",
     "output_type": "stream",
     "text": [
      "Thus P(X >= 1):  0.9999634160802406\n"
     ]
    }
   ],
   "source": [
    "p = 0.8178\n",
    "prob = 1 - binom(6,0)*((1-p)**6)\n",
    "print(\"Thus P(X >= 1): \", prob)"
   ]
  },
  {
   "cell_type": "markdown",
   "metadata": {},
   "source": [
    "**Part C**:  Let us assume that all space shuttles will be launched at $81^{\\circ}F$.  With this temperature, the probability of an O-ring failure is equal to $p(81) = 0.0137$. \n",
    "\n",
    "What is the probability that during 23 launches no O-ring will fail, but that at least one O-ring will fail during the 24th launch of the space shuttle? "
   ]
  },
  {
   "cell_type": "code",
   "execution_count": null,
   "metadata": {},
   "outputs": [],
   "source": []
  },
  {
   "cell_type": "markdown",
   "metadata": {},
   "source": [
    "**Part D**: What is the probability that no O-ring fails during 24 launches? "
   ]
  },
  {
   "cell_type": "code",
   "execution_count": null,
   "metadata": {},
   "outputs": [],
   "source": []
  }
 ],
 "metadata": {
  "kernelspec": {
   "display_name": "Python 3 (ipykernel)",
   "language": "python",
   "name": "python3"
  },
  "language_info": {
   "codemirror_mode": {
    "name": "ipython",
    "version": 3
   },
   "file_extension": ".py",
   "mimetype": "text/x-python",
   "name": "python",
   "nbconvert_exporter": "python",
   "pygments_lexer": "ipython3",
   "version": "3.9.7"
  }
 },
 "nbformat": 4,
 "nbformat_minor": 2
}
