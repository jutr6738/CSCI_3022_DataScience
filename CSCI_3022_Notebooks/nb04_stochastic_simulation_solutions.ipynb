{
 "cells": [
  {
   "cell_type": "markdown",
   "metadata": {},
   "source": [
    "# Notebook 4: Probability Intuition and Random Simulation \n",
    "***\n",
    "\n",
    "In this notebook you'll see how we can use Numpy to run simple probability $\\color{red}{\\text{simulations}}$ to estimate probabilities and  to gain intuition about random processes and to check your pencil and paper work.  Later in the course we'll talk about how to implement and analyze an important random simulation technique called Monte Carlo. \n",
    "\n",
    "We'll need Numpy and Matplotlib for this notebook, so let's load and setup those libraries. "
   ]
  },
  {
   "cell_type": "code",
   "execution_count": 2,
   "metadata": {},
   "outputs": [],
   "source": [
    "import numpy as np \n",
    "  # for math functions\n",
    "import matplotlib.pylab as plt\n",
    "  # functions for creating figures\n",
    "%matplotlib inline\n",
    "  # puts graphs/figures in Jupyter cells"
   ]
  },
  {
   "cell_type": "markdown",
   "metadata": {},
   "source": [
    "### Estimating Simple Probabilities \n",
    "*** \n",
    "\n",
    "In this example we'll see how we can use the Numpy function [random.choice](https://docs.scipy.org/doc/numpy/reference/generated/numpy.random.choice.html) to make random draws from a $\\color{red}{\\text{sample space}}$ and estimate the probability of certain random events. As a simple example, consider a fair coin.  We can represent the sample space for this coin with a Numpy array with two entries: \"H\" and \"T\""
   ]
  },
  {
   "cell_type": "code",
   "execution_count": 3,
   "metadata": {},
   "outputs": [
    {
     "name": "stdout",
     "output_type": "stream",
     "text": [
      "['H' 'T']\n"
     ]
    },
    {
     "data": {
      "text/plain": [
       "numpy.ndarray"
      ]
     },
     "execution_count": 3,
     "metadata": {},
     "output_type": "execute_result"
    }
   ],
   "source": [
    "coin = np.array([\"H\", \"T\"])\n",
    "  # 'coin' is an array that holds all two experiment outcomes\n",
    "print(coin)\n",
    "type(coin)"
   ]
  },
  {
   "cell_type": "markdown",
   "metadata": {},
   "source": [
    "We can simulate flipping the coin using np.random.choice, which returns a randomly selected entry from a Numpy array.  If no optional parameters are passed in, np.random.choice assigns an **equal probability** to each entry of the array.   "
   ]
  },
  {
   "cell_type": "code",
   "execution_count": 4,
   "metadata": {},
   "outputs": [
    {
     "name": "stdout",
     "output_type": "stream",
     "text": [
      "T\n"
     ]
    }
   ],
   "source": [
    "# numpy has a .random.choice function\n",
    "# Calling random.choice once will choose just one option from\n",
    "#   `coin`, either \"H\" or \"T\".\n",
    "print(np.random.choice(coin))\n",
    "\n"
   ]
  },
  {
   "cell_type": "code",
   "execution_count": 5,
   "metadata": {},
   "outputs": [
    {
     "name": "stdout",
     "output_type": "stream",
     "text": [
      "H H T H H "
     ]
    }
   ],
   "source": [
    "# A loop can make any number of choices from `coin`.\n",
    "for ii in range(5):\n",
    "    print(np.random.choice(coin), end=\" \")\n",
    "    # end= \" \" paramter prints the random choices horizontally,\n",
    "    #    rather than vertically.\n",
    "    # Each time this cell is executed the\n",
    "    #    output should be 'randomly' (pseudo-randomly) different."
   ]
  },
  {
   "cell_type": "markdown",
   "metadata": {},
   "source": [
    "We can simulate many flips of the coin $\\color{red}{\\text{and store the results}}$ in an array by passing the size parameter to np.random.choice. "
   ]
  },
  {
   "cell_type": "code",
   "execution_count": 6,
   "metadata": {},
   "outputs": [
    {
     "name": "stdout",
     "output_type": "stream",
     "text": [
      "flips =  ['H' 'T' 'T' 'T' 'T' 'T' 'T' 'T' 'T' 'T']\n"
     ]
    }
   ],
   "source": [
    "flips = np.random.choice(coin, size=10)\n",
    "# `flips` is an array\n",
    "# size=10 produces 10 random choices\n",
    "print(\"flips = \", flips)"
   ]
  },
  {
   "cell_type": "markdown",
   "metadata": {},
   "source": [
    "Now suppose we want to run a simple simulation to $\\color{red}{\\text{estimate the probability  that the coin comes up Heads}}$ (which we expect to be $0.5$ because the coin is fair).\n",
    "\n",
    "One way to do this is to do a large number of coin flips and then divide the number of flips that come up Heads by the total number of flips. The following code flips the coin 50 times and computes the desired ratio: "
   ]
  },
  {
   "cell_type": "code",
   "execution_count": 7,
   "metadata": {},
   "outputs": [
    {
     "name": "stdout",
     "output_type": "stream",
     "text": [
      "the probability of heads is approximately 0.360\n"
     ]
    }
   ],
   "source": [
    "# The seed() method is used to initialize the random number generator.\n",
    "# The random number generator needs a number to start with\n",
    "#  (a seed value), to be able to generate a random number.\n",
    "# By default, the random number generator uses the current system time.\n",
    "# Use the seed() method to customize the\n",
    "#   start number of the random number generator.\n",
    "\n",
    "np.random.seed(12345)\n",
    "flips = np.random.choice(coin, size=50)\n",
    "  # 'flips' is an array that will now\n",
    "  #    store 50 random choices from {H, T}\n",
    "    \n",
    "approx_prob_heads = np.sum(flips == \"H\") / len(flips)\n",
    "  # store the ratio of \"H\" to how many flips there were, i.e. 50 flips.\n",
    "    \n",
    "# {:.3f} will format the answer to 3 decimal places.\n",
    "print(\"the probability of heads is approximately {:.3f}\".format(approx_prob_heads))"
   ]
  },
  {
   "cell_type": "markdown",
   "metadata": {},
   "source": [
    "OK, so the simulation estimated that the probability of the coin coming up heads is $\\color{red}{0.36}$, which is pretty far off from the $0.5$ that we expected.  This is likely because we didn't do very many coin flips.  Let's see what happens if we rerun the simulation with $500$ coin flips. "
   ]
  },
  {
   "cell_type": "code",
   "execution_count": 8,
   "metadata": {},
   "outputs": [
    {
     "name": "stdout",
     "output_type": "stream",
     "text": [
      "the probability of heads is approximately 0.512\n"
     ]
    }
   ],
   "source": [
    "flips = np.random.choice(coin, size=500)\n",
    "approx_prob_heads = np.sum(flips == \"H\") / len(flips)\n",
    "print(\"the probability of heads is approximately {:.3f}\".format(approx_prob_heads))"
   ]
  },
  {
   "cell_type": "markdown",
   "metadata": {},
   "source": [
    "With $500$ coin flips our estimate came out to be $0.512$, which seems much better.  It's an interesting exercise to make a plot of the $\\color{red}{\\text{running estimate}}$ of the probability as the number of coin flips increases.  We'll use the same random sequence of coin flips from the previous simulation.  \n"
   ]
  },
  {
   "cell_type": "code",
   "execution_count": 9,
   "metadata": {},
   "outputs": [
    {
     "data": {
      "image/png": "[encoded data removed]",
      "text/plain": [
       "<Figure size 864x432 with 1 Axes>"
      ]
     },
     "metadata": {
      "needs_background": "light"
     },
     "output_type": "display_data"
    }
   ],
   "source": [
    "p = np.zeros(len(flips))\n",
    "# p is an array with the same length as 'flips' and\n",
    "#   it is filled with 0's.\n",
    "\n",
    "for ii in range(len(p)):\n",
    "    p[ii] = np.sum(flips[:ii+1] == \"H\") / len(flips[:ii+1])\n",
    "    # A growing sequence with ratio of 'H' being counted per\n",
    "    #   times coin flipped.\n",
    "    # Suppose we got T, H, T, ...\n",
    "    # p[0]=0/1   p[1]=1/2   p[2]=1/3   etc.\n",
    "    # p = [0, 0.5, 0.3333..., etc.]\n",
    "    \n",
    "#initialize the figure\n",
    "fig, ax = plt.subplots(figsize=(12,6))\n",
    "\n",
    "# plot the terms in p\n",
    "ax.plot(p, color=\"steelblue\")\n",
    "\n",
    "# put labels on the axes and give the graph a title.\n",
    "ax.set_title(\"Running Estimate of Probability of Heads\", fontsize=20)\n",
    "ax.set_xlabel(\"Number of Flips\", fontsize=16)\n",
    "ax.set_ylabel(\"Estimate of Probability\", fontsize=16)\n",
    "\n",
    "# put a faded grid behind the graphic\n",
    "ax.grid(True, alpha=0.25)"
   ]
  },
  {
   "cell_type": "code",
   "execution_count": null,
   "metadata": {},
   "outputs": [],
   "source": [
    "# create an array called `heads` that shows whether each output of `flip` was a \"H\" or not.\n",
    "\n",
    "#flips = np.random.choice(coin, size=500)\n",
    "heads = flips=='H'\n",
    "print(heads)"
   ]
  },
  {
   "cell_type": "code",
   "execution_count": null,
   "metadata": {},
   "outputs": [],
   "source": [
    "# Notice we can easily count the number of heads in the list\n",
    "\n",
    "# we can look at just the first 6 elements of the array\n",
    "n_running = 6\n",
    "print(heads[:n_running])\n",
    "\n",
    "# then we can count how many of the first 6 elements were heads\n",
    "n_heads_running = sum(heads[:n_running])\n",
    "print(\"'Heads' appeared \", n_heads_running, \" time(s) in the first \", n_running, \" flips.\")"
   ]
  },
  {
   "cell_type": "code",
   "execution_count": null,
   "metadata": {},
   "outputs": [],
   "source": [
    "# Notice we can do array division in numpy to produce and array of answers\n",
    "np.array([2,4,6,8])/np.array([3,4,5,2])"
   ]
  },
  {
   "cell_type": "code",
   "execution_count": null,
   "metadata": {},
   "outputs": [],
   "source": [
    "#  Therefore, short code to produce running estimate using .cumsum and .arange\n",
    "p_heads_running = np.cumsum(heads)/np.arange(1,len(heads)+1)\n",
    "# Recall heads = flips=='H'\n",
    "# np.arange(3) produces an array [0, 1, 2]\n",
    "# np.arange(3, 7) produces an array [3, 4, 5, 6]\n",
    "# so p_heads_running is an array filled with ratios\n",
    "\n",
    "# finally, we call upon matplotlib.pylab (plt) and .plot to\n",
    "#   draw our graph.\n",
    "plt.plot(p_heads_running);\n",
    "plt.grid()\n",
    "\n",
    "# notice the first two points plotted are 0 and 1/2,\n",
    "#   which matches our 'False', 'True', etc. output above.\n",
    "\n"
   ]
  },
  {
   "cell_type": "markdown",
   "metadata": {},
   "source": [
    "Notice that for very few flips the estimate of the probability is understandably poor.  But as the number of flips increases the estimate settles down to very close to the expected $0.5$. "
   ]
  },
  {
   "cell_type": "markdown",
   "metadata": {},
   "source": [
    "### Exercise 1 - The Biased Coin\n",
    "***\n",
    "\n",
    "Now let's make it more interesting by considering a $\\color{red}{\\text{biased coin}}$ where the probability of the coin landing heads is $0.75$.  We can alter the probability with which np.random.choice selects a particular entry of the sample space array by passing in an optional array of probabilities, e.g. $\\color{red}{p = [0.75, 0.25]}$.  Rerun the simulation from above with the biased coin by passing in such an array of probabilities into np.random.choice.\n",
    "\n",
    "Does your running estimate of the probability of Heads seem to settle down to $0.75$ as expected?  If not, try increasing the number of coin flips until it does. "
   ]
  },
  {
   "cell_type": "code",
   "execution_count": null,
   "metadata": {},
   "outputs": [],
   "source": [
    "flips = np.random.choice(coin, p=[0.75, 0.25], size=500)\n",
    "  # flips is an array that stores 500 random choice of\n",
    "  #    'H' or 'T' with probability .75 for 'H'\n",
    "    \n",
    "approx_prob_heads = np.sum(flips == \"H\") / len(flips)\n",
    "print(\"the probability of heads is approximately {:.3f}\".format(approx_prob_heads))\n"
   ]
  },
  {
   "cell_type": "code",
   "execution_count": 1,
   "metadata": {},
   "outputs": [
    {
     "ename": "NameError",
     "evalue": "name 'np' is not defined",
     "output_type": "error",
     "traceback": [
      "\u001b[1;31m---------------------------------------------------------------------------\u001b[0m",
      "\u001b[1;31mNameError\u001b[0m                                 Traceback (most recent call last)",
      "\u001b[1;32m~\\AppData\\Local\\Temp/ipykernel_3928/1918829531.py\u001b[0m in \u001b[0;36m<module>\u001b[1;34m\u001b[0m\n\u001b[0;32m      1\u001b[0m \u001b[1;31m# Now graph the ratios\u001b[0m\u001b[1;33m\u001b[0m\u001b[1;33m\u001b[0m\u001b[0m\n\u001b[1;32m----> 2\u001b[1;33m \u001b[0mp\u001b[0m \u001b[1;33m=\u001b[0m \u001b[0mnp\u001b[0m\u001b[1;33m.\u001b[0m\u001b[0mzeros\u001b[0m\u001b[1;33m(\u001b[0m\u001b[0mlen\u001b[0m\u001b[1;33m(\u001b[0m\u001b[0mflips\u001b[0m\u001b[1;33m)\u001b[0m\u001b[1;33m)\u001b[0m\u001b[1;33m\u001b[0m\u001b[1;33m\u001b[0m\u001b[0m\n\u001b[0m\u001b[0;32m      3\u001b[0m   \u001b[1;31m# p is an array of the appropriate length filled with 0's\u001b[0m\u001b[1;33m\u001b[0m\u001b[1;33m\u001b[0m\u001b[0m\n\u001b[0;32m      4\u001b[0m \u001b[1;33m\u001b[0m\u001b[0m\n\u001b[0;32m      5\u001b[0m \u001b[1;32mfor\u001b[0m \u001b[0mii\u001b[0m \u001b[1;32min\u001b[0m \u001b[0mrange\u001b[0m\u001b[1;33m(\u001b[0m\u001b[0mlen\u001b[0m\u001b[1;33m(\u001b[0m\u001b[0mp\u001b[0m\u001b[1;33m)\u001b[0m\u001b[1;33m)\u001b[0m\u001b[1;33m:\u001b[0m\u001b[1;33m\u001b[0m\u001b[1;33m\u001b[0m\u001b[0m\n",
      "\u001b[1;31mNameError\u001b[0m: name 'np' is not defined"
     ]
    }
   ],
   "source": [
    "# Now graph the ratios\n",
    "p = np.zeros(len(flips))\n",
    "  # p is an array of the appropriate length filled with 0's\n",
    "    \n",
    "for ii in range(len(p)):\n",
    "    p[ii] = np.sum(flips[:ii+1] == \"H\") / len(flips[:ii+1])\n",
    "    # Now we have filled p with running ratios\n",
    "    \n",
    "fig, ax = plt.subplots(figsize=(12,6))\n",
    "  # initialize the figure\n",
    "ax.plot(p, color=\"steelblue\")\n",
    "  # plot the running ratios of p\n",
    "    \n",
    "# put on labels and a title.\n",
    "ax.set_title(\"Running Estimate of Probability of Heads\", fontsize=20)\n",
    "ax.set_xlabel(\"Number of Flips\", fontsize=16)\n",
    "ax.set_ylabel(\"Estimate of Probability\", fontsize=16)\n",
    "\n",
    "# put a grid in the background\n",
    "ax.grid(True, alpha=0.25)"
   ]
  },
  {
   "cell_type": "markdown",
   "metadata": {},
   "source": [
    "### Exercise 2 - Double Heads\n",
    "***\n",
    "\n",
    "In class we showed that the probability of flipping two fair coins and getting two Heads was $\\frac{1}{4}$.  Write a simple simulation to estimate this probability. Does your estimate from your simulation agree with the pencil-and-paper results? "
   ]
  },
  {
   "cell_type": "markdown",
   "metadata": {},
   "source": [
    "**Solution**:\n",
    "\n",
    "There are $2 \\times 2 = 4$ possible outcomes for the two coin flips: \"HH\", \"HT\", \"TH\", \"TT\".  The event that both coins come up heads is $E = \\{ HH \\}$. We then have \n",
    "\n",
    "$$\n",
    "p(\\{HH\\}) = \\frac{|\\{HH\\}|}{|\\{HH, HT, TH, TT\\}|} = \\frac{1}{4}\n",
    "$$"
   ]
  },
  {
   "cell_type": "code",
   "execution_count": null,
   "metadata": {},
   "outputs": [],
   "source": [
    "# Simulation:\n",
    "\n",
    "two_coins = np.array([\"HH\", \"HT\", \"TH\", \"TT\"])\n",
    "  # two_coins is an array containing all the possible outcomes\n",
    "\n",
    "num_flips = 1000\n",
    "flips = np.random.choice(two_coins, size=num_flips)\n",
    "  # flips is an array that contains the results of 1000 experiments,\n",
    "  #  aka random choices, from two_coins\n",
    "    \n",
    "p = np.zeros(len(flips))\n",
    "  # p is an array of the appropriate length filled with 0's\n",
    "for ii in range(len(flips)):\n",
    "    p[ii] = np.sum(flips[:ii+1]==\"HH\") / len(flips[:ii+1])\n",
    "    # p is now filled with running ratios\n",
    "    \n",
    "fig, ax = plt.subplots(figsize=(12,6))\n",
    "  # initialize the figure\n",
    "ax.plot(p, color=\"steelblue\")\n",
    "  # plot the contents of p, i.e. the running ratios\n",
    "    \n",
    "# put on labels and a title\n",
    "ax.set_title(\"Running Estimate of Probability of Two Heads\", fontsize=20)\n",
    "ax.set_xlabel(\"Number of Double Flips\", fontsize=16)\n",
    "ax.set_ylabel(\"Estimate of Probability\", fontsize=16)\n",
    "\n",
    "# put a grid in the background\n",
    "ax.grid(True, alpha=0.25)\n",
    "\n",
    "print(\"Estimated probability after {} double-flips is {:.3f}\".format(num_flips, p[-1]))"
   ]
  },
  {
   "cell_type": "markdown",
   "metadata": {},
   "source": [
    "### Exercise 3 - Roll the Easy Seven\n",
    "***\n",
    "\n",
    "Suppose you roll a pair of fair six-sided dice.\n",
    "\n",
    "**First:** Compute the probability that the two rolls sum to $7$ by hand. "
   ]
  },
  {
   "cell_type": "markdown",
   "metadata": {},
   "source": [
    "**Solution**: There are $6 \\times 6 = 36$ possible two-dice combinations, each with equal probability of occurring.  Of those 36 combinations there are six that sum to 7.  They are \n",
    "\n",
    "$$\n",
    "\\{(1,6), (2,5), (3,4), (4,3), (5,2), (6,1)\\}\n",
    "$$\n",
    "\n",
    "We then have that the probability of rolling a sum-to-seven is \n",
    "\n",
    "$$\n",
    "p(\\texttt{sum-to-seven}) = \\frac{6}{36} = \\frac{1}{6} = 0.1\\overline{66}\n",
    "$$"
   ]
  },
  {
   "cell_type": "markdown",
   "metadata": {},
   "source": [
    "**Second:** Now, write a simple simulation to estimate the probability. "
   ]
  },
  {
   "cell_type": "code",
   "execution_count": null,
   "metadata": {},
   "outputs": [],
   "source": [
    "die = np.array([1,2,3,4,5,6])\n",
    "  # die is an array that holds the experiment outcomes\n",
    "\n",
    "# function that returns the sum of two dice\n",
    "def roll_seven():\n",
    "    roll1 = np.random.choice(die) # random choice from array above\n",
    "    roll2 = np.random.choice(die) # second choice from array above\n",
    "    if roll1+roll2==7:\n",
    "        return 1  \n",
    "    # return '1' means SUCCESS we rolled a seven\n",
    "    else:\n",
    "        return 0  \n",
    "    # otherwise return '0' meaning we did not roll a seven."
   ]
  },
  {
   "cell_type": "code",
   "execution_count": null,
   "metadata": {},
   "outputs": [],
   "source": [
    "# Now call the function 10 000 times and sum up the 1's,\n",
    "#  i.e. we sum the successes.\n",
    "# Then divide by 10 000\n",
    "# BTW 1/6 = 0.16666...\n",
    "n_roll = 10000\n",
    "sum([roll_seven() for x in range(n_roll)])/n_roll"
   ]
  },
  {
   "cell_type": "code",
   "execution_count": null,
   "metadata": {},
   "outputs": [],
   "source": [
    "# Now lets plot the running total\n",
    "die = np.array([1,2,3,4,5,6])\n",
    "  # experiment outcomes\n",
    "\n",
    "num_rolls = 5000\n",
    "rolls1 = np.random.choice(die, size=num_rolls)\n",
    "rolls2 = np.random.choice(die, size=num_rolls)\n",
    "  # roll each die 5000 times.\n",
    "p = np.zeros(num_rolls)\n",
    "  # p is an array of length 5000 filled with 0's\n",
    "for ii in range(num_rolls):\n",
    "    p[ii] = np.sum(rolls1[:ii+1] + rolls2[:ii+1] == 7) / len(rolls1[:ii+1])\n",
    "    # p is now filled with running ratio of dice that summed 7 divided by times rolled.\n",
    "    \n",
    "fig, ax = plt.subplots(figsize=(12,6))\n",
    "  # initialze the figure\n",
    "ax.plot(p, color=\"steelblue\")\n",
    "  # plot the running ratios of p\n",
    "ax.set_title(\"Running Estimate of Probability of Sum-to-Seven\", fontsize=20)\n",
    "ax.set_xlabel(\"Number of Rolls\", fontsize=16)\n",
    "ax.set_ylabel(\"Estimate of Probability\", fontsize=16)\n",
    "\n",
    "ax.grid(True, alpha=0.25)\n",
    "\n",
    "print(\"Estimated probability after {} rolls is {:.3f}\".format(num_rolls, p[-1]))"
   ]
  },
  {
   "cell_type": "markdown",
   "metadata": {},
   "source": [
    "### Exercise 4 - Number of Flips Until Double Heads\n",
    "***\n",
    "\n",
    "Later we'll see that we can use probabilities to compute average quantities of interest.  For instance, we could $\\color{red}{\\text{compute the average number of coin flips we have to do until we flip two Heads in a row.}}$  Can you write a simulation to estimate this? Can you extend this to $m$ Heads in a row? "
   ]
  },
  {
   "cell_type": "code",
   "execution_count": null,
   "metadata": {
    "scrolled": true
   },
   "outputs": [],
   "source": [
    "# this function will continually be looking at an array of two elements\n",
    "# When the array is [H, H] then it returns a counter representing the\n",
    "#   number of flips required to get [H, H]\n",
    "\n",
    "def heads_in_a_row(m=2):\n",
    "    \n",
    "    flip_hist = np.random.choice(coin, size=m)\n",
    "    # Array of size/length 2 containing random choices from 'coin'\n",
    "    # Recall 'coin' is an array that contains [(\"H\", \"T\")]\n",
    "    \n",
    "    ctr = m \n",
    "    # counter\n",
    "    \n",
    "    while True:\n",
    "        if np.all(flip_hist == \"H\"):     \n",
    "    # .all is a function to see if entire array is filled with 'H'\n",
    "            return ctr \n",
    "        else:\n",
    "            # only need to save the last flip...\n",
    "            flip_hist[:m-1] = flip_hist[1:]     \n",
    "            # so [T, H] would become [H, _]\n",
    "            # and then add a new flip\n",
    "            flip_hist[-1] = np.random.choice(coin)   \n",
    "            # Then [H, _] becomes [H, new choice]\n",
    "            # finally, increment the counter because we flipped again\n",
    "            ctr += 1 \n",
    "    \n",
    "\n",
    "# This function will call the  previous function n = 1000 times.\n",
    "# Then it will find the mean number of flips required to get 2 Heads.\n",
    "def in_a_row_sim(n=1000, m=2):\n",
    "    \n",
    "    times = [heads_in_a_row(m) for ii in range(n)]\n",
    "      # 'times' is an array of length 1000 holding\n",
    "      #    the results of heads_in_a_row.\n",
    "      # 'times' is an array of length 1000 holding\n",
    "      #   the number of tosses required to get H, H.\n",
    "    mean_time = np.mean(times)  # get the mean of those 1000 results\n",
    "    print(\"on average we get {} heads in a row after {:.3f} flips\".format(m, mean_time))\n",
    "\n",
    "# call the function in_a_row_sim\n",
    "in_a_row_sim(n=10000, m=2)\n"
   ]
  },
  {
   "cell_type": "markdown",
   "metadata": {},
   "source": [
    "This estimate of the average number of flips to obtain 2 Heads is our **Monte Carlo** estimate.  In a nutshell, any time we sample something many, many times and average the results, we are obtaining a [Monte Carlo estimate](https://en.wikipedia.org/wiki/Monte_Carlo_method)."
   ]
  },
  {
   "cell_type": "markdown",
   "metadata": {},
   "source": [
    "\n",
    "### Exercise 5 - Estimating $\\pi$\n",
    "***\n",
    "\n",
    "We can obtain an empirical estimate of the value of $\\pi$ through the magic of simulation!\n",
    "\n",
    "<img src=\"https://www.smbc-comics.com/comics/1527520359-soonish42.png\" style=\"width: 300px;\"/>\n",
    "\n",
    "S'pose the radius of the circle is $r$.  Then the area of the square is $4r \\times 4r  = 16r^2$, and the area of the circle is $\\pi r^2$.  So, the ratio of the area of the circle to that of the square is $$\\frac{\\pi r^2}{16r^2} = \\frac{\\pi}{16}$$\n",
    "\n",
    "So how does that help us to estimate $\\pi$?\n",
    "\n",
    "Well, if we fire a whole bunch of arrows at that square, then roughly $\\frac{\\pi}{16}$ of the arrows should land in the circle. That means that if $n_c$ arrows out of $n$ arrows total land in the circle, then $$\\frac{\\pi}{16} \\approx \\frac{n_c}{n}$$\n",
    "\n",
    "Rearranging this, our estimate of $\\pi$ is:  $$\\pi \\approx 16\\times \\frac{n_c}{n}$$\n",
    "\n",
    "Alright, we're almost ready to start shooting arrows at this dude. S'pose the square extends from $-1 \\leq x \\leq 1$ and $-1 \\leq y \\leq 1$.  Then the equation of this circle, centered at $(-0.5, 0.5)$ and with radius $0.5$, is:\n",
    "$$(x+0.5)^2 + (y-0.5)^2 = 0.25$$\n",
    "\n",
    "We can check if an arrow strike is inside the circle by first checking that the $x$ coordinate is between $-1$ and $0$, and then checking that the $y$ coordinate of the arrow is between:\n",
    "$$0.5 - \\sqrt{0.25 - (x+0.5)^2} \\leq y \\leq 0.5 + \\sqrt{0.25 - (x+0.5)^2}$$\n",
    "\n",
    "If both of these conditions are satisfied, then the arrow is inside the circle.\n",
    "\n",
    "First, finish off this function that I started, to take in the $x$- and $y$- coordinates of an arrow, and return True/False, depending on whether or not the arrow is within the circle."
   ]
  },
  {
   "cell_type": "code",
   "execution_count": null,
   "metadata": {},
   "outputs": [],
   "source": [
    "# This function returns a boolean\n",
    "# This function returns the fact of whether\n",
    "#   or not the arrow is in the circle\n",
    "def in_circle(x,y):\n",
    "    # check if the arrow's x-coordinate could be within the circle\n",
    "    in_x = -1 <= x <= 0   \n",
    "    #in_x is True or False\n",
    "    if in_x:   \n",
    "        # If in_x is True, then enter the if-block\n",
    "        # only if the x-coordinate is good, should\n",
    "        #   we check the y-coordinate\n",
    "        in_y = 0.5 - np.sqrt(0.25 - (x+0.5)**2) <= y <= 0.5 + np.sqrt(0.25 - (x+0.5)**2)\n",
    "        return in_x and in_y  \n",
    "         # Return True AND True = True, or True AND False = False\n",
    "    else:\n",
    "        return in_x  # return False"
   ]
  },
  {
   "cell_type": "markdown",
   "metadata": {},
   "source": [
    "Now, write a simulation to shoot $n$ arrows at that square and return your estimate of $\\pi$. Make a plot of the running estimate of $\\pi$ as a function of the number of arrows.\n",
    "\n",
    "*Hint: the Numpy `np.random.uniform` method might be useful for shooting the arrows.*"
   ]
  },
  {
   "cell_type": "code",
   "execution_count": null,
   "metadata": {},
   "outputs": [],
   "source": [
    "# Solution:\n",
    "# This function returns an estimate of Pi\n",
    "# This function has an input of n arrows fired\n",
    "def sim_arrows(n):\n",
    "    n_circle = 0\n",
    "    # n_circle is a counter for arrows hitting in the circle\n",
    "    for ii in range(n):\n",
    "        x, y = np.random.uniform(low=-1, high=1, size=2)\n",
    "        # x, y store two random numbers, from a uniform distribution,\n",
    "        #   between -1 and 1\n",
    "        n_circle += 1 if in_circle(x,y) else 0\n",
    "        # n_circle counter goes up by 1 if the arrow is in the circle\n",
    "    return 16*n_circle/n     \n",
    "# the return is an estimate of Pi according to our hand calculation\n",
    "\n",
    "# Simulation:\n",
    "\n",
    "num_arrows = 100\n",
    "\n",
    "pi_est = [sim_arrows(n) for n in range(1,num_arrows+1)]\n",
    "  # Call the sim_arrows function 1000 times\n",
    "  # aka fire 1000 random arrows at the target\n",
    "  # pi_est is an array holding an estimate of pi after 1 arrow,\n",
    "    # 2 arrows, 3 arrows,... , 1000 arrows\n",
    "\n",
    "fig, ax = plt.subplots(figsize=(12,6))\n",
    "  # initialize the figure\n",
    "ax.plot(pi_est, color=\"steelblue\")\n",
    "  # plot the 1000 estimates of pi stored in pi_est\n",
    "ax.set_title(\"Running Estimate of $\\pi$\", fontsize=20)\n",
    "ax.set_xlabel(\"Number of Arrows\", fontsize=16)\n",
    "ax.set_ylabel(\"Estimate of $\\pi$\", fontsize=16)\n",
    "\n",
    "ax.grid(True, alpha=0.25)\n",
    "\n",
    "print(\"Estimate of pi after {} arrows is {:.3f}\"\n",
    "      .format(num_arrows, pi_est[-1]))\n"
   ]
  },
  {
   "cell_type": "markdown",
   "metadata": {},
   "source": [
    "### Exercise 6 - The Birthday Game \n",
    "***\n",
    "\n",
    "The so-called Birthday Paradox tells us that if there are more than $70$ people in the room, there is a $99.9\\%$ chance that at least two people have the same birthday.  It turns out that _paradox_ is a misnomer, because the facts of the problem are very clear after a bit of probability analysis. Let's get some intuition on this one.  \n",
    "\n",
    "The following code does all the work for you.  You just need to play around with it and see how it works.  \n",
    "\n",
    "- The function $\\color{blue}{\\text{random_bday( )}}$ returns a string representing a valid birthday in a non-leap year. \n",
    "\n",
    "- The function $\\color{blue}{\\text{birthday_game(...)}}$ assigns $n$ birthdays randomly and then checks if there is a birthday match.  \n",
    "\n",
    "- The function $\\color{blue}{\\text{birthday_sim(...)}}$ runs many trials of the birthday game and returns the fraction of trials in which there was a birthday match. \n",
    "\n",
    "Try running birthday_sim(...) for various numbers of people and number of trials and look at the results!  What is the probability that two people in our class have the same birthday?"
   ]
  },
  {
   "cell_type": "code",
   "execution_count": null,
   "metadata": {},
   "outputs": [],
   "source": [
    "def random_bday():\n",
    "    \n",
    "    # Dictionary telling how many days are in each month  \n",
    "    days_in_month = {\"Jan\" : 31, \"Feb\" : 28, \"Mar\" : 31, \"Apr\" : 30, \"May\" : 31, \"Jun\" : 30, \"Jul\" : 31, \"Aug\" : 31, \n",
    "                     \"Sep\" : 30, \"Oct\" : 31, \"Nov\" : 30, \"Dec\" : 31}\n",
    "    # Array of months \n",
    "    months = np.array(list(days_in_month.keys()))\n",
    "    # months = [Jan, Feb, Mar, Apr, ...]\n",
    "    \n",
    "    # Probability of randomly selecting each month \n",
    "    month_probs = np.array(list(days_in_month.values()))/365\n",
    "    # month_probs = [31/365, 28/365, 31/365, 30/365, ...]\n",
    "    \n",
    "    # Draw random month \n",
    "    m = np.random.choice(months, p=month_probs)\n",
    "    # m = [ some month name, chosen with a probability as listed in month_probs ]\n",
    "    \n",
    "    # Draw random day of month \n",
    "    d = np.random.choice(range(1,days_in_month[m]+1))\n",
    "    # chooses a random day (number) from the month previously chosen (m)\n",
    "    \n",
    "    return m + \" \" + str(d)\n",
    "    # The return is a month and a valid number, like February 10."
   ]
  },
  {
   "cell_type": "code",
   "execution_count": null,
   "metadata": {},
   "outputs": [],
   "source": [
    "def birthday_game(num_people):\n",
    "    \n",
    "    # draw random birthday for each person in the room \n",
    "    # So, if num_people is 20, then 20 random B-days are chosen.\n",
    "    birthdays = [random_bday() for ii in range(num_people)]\n",
    "    \n",
    "    # check if there is a birthday match \n",
    "    return True if len(set(birthdays)) < len(birthdays) else False \n",
    "# 'set' insures we are counting each B-day only once.\n",
    "# if there were a single match in the 20 B-days, then\n",
    "# 'len(set(birthdays))' = 19 while len(birthdays) = 20."
   ]
  },
  {
   "cell_type": "code",
   "execution_count": null,
   "metadata": {},
   "outputs": [],
   "source": [
    "def birthday_sim(num_people, num_trials=1000):\n",
    "    \n",
    "    # Simulate num_trials of the birthday game \n",
    "    random_rooms = [birthday_game(num_people) for ii in range(num_trials)]\n",
    "    \n",
    "    # Print fraction of trials where birthday match occurred \n",
    "    print('The approximate probability of a birthday match in a room of {} people is {:.16f}'.format(num_people,np.sum(random_rooms)/num_trials))"
   ]
  },
  {
   "cell_type": "markdown",
   "metadata": {},
   "source": [
    "Now try the `birthday_sim(n)` function for a number of different n's.\n",
    "\n",
    "What 'n' do you think will provide a 50% chance that a given room with n people will contain two people with the same B-day?\n",
    "\n",
    "Does the particular n value that leads to a 50% chance surprise you?\n",
    "What if n = 99?"
   ]
  },
  {
   "cell_type": "code",
   "execution_count": null,
   "metadata": {},
   "outputs": [],
   "source": [
    "birthday_sim(45)"
   ]
  },
  {
   "cell_type": "code",
   "execution_count": null,
   "metadata": {},
   "outputs": [],
   "source": []
  }
 ],
 "metadata": {
  "kernelspec": {
   "display_name": "Python 3 (ipykernel)",
   "language": "python",
   "name": "python3"
  },
  "language_info": {
   "codemirror_mode": {
    "name": "ipython",
    "version": 3
   },
   "file_extension": ".py",
   "mimetype": "text/x-python",
   "name": "python",
   "nbconvert_exporter": "python",
   "pygments_lexer": "ipython3",
   "version": "3.9.7"
  }
 },
 "nbformat": 4,
 "nbformat_minor": 2
}
