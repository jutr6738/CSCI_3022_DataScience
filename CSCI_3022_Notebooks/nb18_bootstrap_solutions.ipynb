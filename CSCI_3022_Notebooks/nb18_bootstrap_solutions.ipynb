{
 "cells": [
  {
   "cell_type": "markdown",
   "metadata": {},
   "source": [
    "# Notebook 18: The Bootstrap \n",
    "***\n",
    "\n",
    "We'll need Numpy, Matplotlib, Pandas, and scipy.stats for this notebook, so let's load them. "
   ]
  },
  {
   "cell_type": "code",
   "execution_count": 2,
   "metadata": {},
   "outputs": [],
   "source": [
    "import numpy as np \n",
    "from scipy import stats\n",
    "import pandas as pd \n",
    "import matplotlib.pyplot as plt \n",
    "%matplotlib inline"
   ]
  },
  {
   "cell_type": "markdown",
   "metadata": {},
   "source": [
    "### Exercise 1 - Bootstrapped Confidence Intervals for the Mean \n",
    "*** \n",
    "\n",
    "In this exercise you will experiment with empirical bootstrap techniques to compute confidence intervals for the mean of the exponential distribution with parameter $\\lambda = 5$.  \n",
    "\n",
    "**Part A**: Write down the expected value, variance, and standard deviation of $X \\sim Exp(5)$.  You can look them up on [Wiki](https://en.wikipedia.org/wiki/Exponential_distribution) if you need to. "
   ]
  },
  {
   "cell_type": "markdown",
   "metadata": {},
   "source": [
    "**Solution**: \n",
    "\n",
    "$f(x, \\lambda) =\n",
    "    \\begin{cases}\n",
    "       \\lambda e^{-\\lambda x} &, \\phantom{xx}x\\geq0\\\\\n",
    "       0 &, \\phantom{xx}x<0\n",
    "       \\end{cases}$\n",
    "\n",
    "We have \n",
    "\n",
    "$$\n",
    "E[X] = \\frac{1}{\\lambda} = \\frac{1}{5} = 0.2, \\quad \\textrm{Var}(X) = \\frac{1}{\\lambda^2} = \\frac{1}{25} = 0.04, \\quad \\textrm{SD}(X) = \\frac{1}{\\lambda} = \\frac{1}{5} = 0.2  \n",
    "$$"
   ]
  },
  {
   "cell_type": "markdown",
   "metadata": {},
   "source": [
    "**Part B**: The variable $\\texttt{sample}$ below consists of $500$ samples from $Exp(5)$.  Complete the function bootstrapped_mean below, to draw at least $5000$ bootstrapped resamples (with replacement) from the empirical distribution defined by $\\texttt{sample}$ and compute a bootstrapped confidence interval for the mean at the 95% confidence level.  "
   ]
  },
  {
   "cell_type": "code",
   "execution_count": 5,
   "metadata": {},
   "outputs": [
    {
     "data": {
      "text/plain": [
       "500"
      ]
     },
     "execution_count": 5,
     "metadata": {},
     "output_type": "execute_result"
    }
   ],
   "source": [
    "# 'sample' is an array holding 500 random draws from an Exp(5) distribution.\n",
    "sample = np.random.exponential(1/5, size=500)\n",
    "type(sample)\n",
    "len(sample)"
   ]
  },
  {
   "cell_type": "code",
   "execution_count": 4,
   "metadata": {},
   "outputs": [
    {
     "data": {
      "text/plain": [
       "array([0.18325597, 0.22003993])"
      ]
     },
     "execution_count": 4,
     "metadata": {},
     "output_type": "execute_result"
    }
   ],
   "source": [
    "# This function will graph a histogram of the data, the bootleg CI,\n",
    "#  the actual mean of the data, and return the values in the CI.\n",
    "def bootstrapped_mean(sample, num_boots=5000):\n",
    "\n",
    "    # 'b' is an array that holds 5000 means acquired from 5000 bootstrap samples of size 500.\n",
    "    # Each sample of course had replacement.\n",
    "    b = np.array([np.mean(np.random.choice(sample, replace=True, size=len(sample))) for ii in range(num_boots)])\n",
    "    \n",
    "    # The line below is the same as:\n",
    "    # L = np.percentile(b,2.5)\n",
    "    # U = np.percentile(b,97.5)\n",
    "    L, U = np.percentile(b, 2.5), np.percentile(b, 97.5)\n",
    "    \n",
    "    # 'CI' is an array holding the 'L' and the 'U' from above.\n",
    "    CI = np.array([L, U])\n",
    "    \n",
    "    return CI \n",
    "\n",
    "# Call the function.\n",
    "bootstrapped_mean(sample)"
   ]
  },
  {
   "cell_type": "markdown",
   "metadata": {},
   "source": [
    "**Part C**: Use the sample mean of $\\texttt{sample}$ and the known standard deviation of the distribution to compute a traditional 95% confidence interval for the mean of the distribution.  Compare your traditional confidence interval to the bootstrapped confidence interval returned by your code. "
   ]
  },
  {
   "cell_type": "markdown",
   "metadata": {},
   "source": [
    "**Solution**: We know that the standard deviation of the population is $\\sigma = 1/\\lambda = 0.2$.  At the 95% confidence level, the traditional confidence interval is "
   ]
  },
  {
   "cell_type": "code",
   "execution_count": 4,
   "metadata": {},
   "outputs": [
    {
     "name": "stdout",
     "output_type": "stream",
     "text": [
      "Traditional 95% Confidence Interval: [0.189, 0.224]\n"
     ]
    }
   ],
   "source": [
    "from scipy.stats import norm \n",
    "z = norm.ppf(0.975)\n",
    "sig = 0.2 \n",
    "CI = [np.mean(sample) + flip*z*sig/np.sqrt(len(sample)) for flip in [-1,1]]\n",
    "print(\"Traditional 95% Confidence Interval: [{:.3f}, {:.3f}]\".format(CI[0], CI[1]))"
   ]
  },
  {
   "cell_type": "markdown",
   "metadata": {},
   "source": [
    "**Part D**: Modify the code you wrote in **Part B** to also plot a histogram of the bootstrapped sample means along with some graphical representation of the calculated confidence interval. "
   ]
  },
  {
   "cell_type": "code",
   "execution_count": 5,
   "metadata": {},
   "outputs": [
    {
     "data": {
      "text/plain": [
       "array([0.18966297, 0.22413444])"
      ]
     },
     "execution_count": 5,
     "metadata": {},
     "output_type": "execute_result"
    },
    {
     "data": {
      "image/png": "[encoded data removed]",
      "text/plain": [
       "<Figure size 864x432 with 1 Axes>"
      ]
     },
     "metadata": {},
     "output_type": "display_data"
    }
   ],
   "source": [
    "# This function will graph a histogram of the data, the bootleg CI,\n",
    "#  the actual mean of the data, and return the values in the CI.\n",
    "def bootstrapped_mean(sample, num_boots=5000):\n",
    "\n",
    "    # 'b' is an array that holds 5000 means acquired from 5000 bootstrap samples of size 500.\n",
    "    # Each sample of course had replacement.\n",
    "    b = np.array([np.mean(np.random.choice(sample, replace=True, size=len(sample))) for ii in range(num_boots)])\n",
    "    \n",
    "    # The line below is the same as:\n",
    "    # L = np.percentile(b,2.5)\n",
    "    # U = np.percentile(b,97.5)\n",
    "    L, U = np.percentile(b, 2.5), np.percentile(b, 97.5)\n",
    "    \n",
    "    # 'CI' is an array holding the 'L' and the 'U' from above.\n",
    "    CI = np.array([L, U])\n",
    "    \n",
    "    # Initialize the plot\n",
    "    fig, ax = plt.subplots(nrows=1, ncols=1, figsize=(12,6))\n",
    "    \n",
    "    # Make a histogram out of 'b'.\n",
    "    pd.Series(b).hist(ax=ax, color=\"steelblue\", edgecolor=\"white\", bins=20, density=False)\n",
    "    \n",
    "    # Make the graph pretty.\n",
    "    ax.grid(alpha=0.25)\n",
    "    ax.set_axisbelow(True)\n",
    "    ax.set_xlabel(\"Bootstrapped Mean Estimates\", fontsize=16)\n",
    "    ax.set_ylabel(\"Frequency\", fontsize=16)\n",
    "    \n",
    "    # The code below plots three lines. one horizontal, two vertical.\n",
    "    # [x_1 value, x_2 value] , [y_1 value, y_2 value],  line color, line thickness\n",
    "    ax.plot([CI[0], CI[1]], [num_boots/12, num_boots/12], color=\"red\", lw=2)\n",
    "    ax.plot([CI[0], CI[0]], [num_boots/12-10, num_boots/12+10], color=\"green\", lw=4)\n",
    "    ax.plot([CI[1], CI[1]], [num_boots/12-10, num_boots/12+10], color=\"green\", lw=4)\n",
    "    \n",
    "    # This is a point on the actual (known) expected value\n",
    "    plt.plot([.2], [num_boots/12], marker='o', markersize=8, color=\"blue\")\n",
    "\n",
    "    return CI \n",
    "\n",
    "# Call the function.\n",
    "bootstrapped_mean(sample)"
   ]
  },
  {
   "cell_type": "markdown",
   "metadata": {},
   "source": [
    "### Exercise 2 - Bootstrapped Confidence Intervals for the Variance\n",
    "*** \n",
    "\n",
    "In this exercise you will experiment with empirical bootstrap techniques to compute confidence intervals for various statistics of the variance of the exponential distribution with parameter $\\lambda = 5$.  \n",
    "\n",
    "**Part A**: Complete the function bootstrapped_var below, to draw at least $5000$ bootstrapped samples (with replacement) from the empirical distribution defined by $\\texttt{sample}$ and compute a bootstrapped confidence interval for the variance at the 95% confidence level.  You should be able to copy paste your code from Exercise 1. Use your function to find the 95% bootstrapped CI for the data stored in $\\texttt{sample}$ from Exercise 1. "
   ]
  },
  {
   "cell_type": "code",
   "execution_count": 33,
   "metadata": {},
   "outputs": [
    {
     "data": {
      "text/plain": [
       "array([0.03089578, 0.04989027])"
      ]
     },
     "execution_count": 33,
     "metadata": {},
     "output_type": "execute_result"
    },
    {
     "data": {
      "image/png": "[encoded data removed]",
      "text/plain": [
       "<Figure size 864x432 with 1 Axes>"
      ]
     },
     "metadata": {},
     "output_type": "display_data"
    }
   ],
   "source": [
    "# This function will graph a histogram of the data, the bootleg CI,\n",
    "#  the actual variance of the data, and return the values in the CI.\n",
    "def bootstrapped_var(sample, num_boots=5000):\n",
    "    \n",
    "    # 'b' is an array holding 'num_boots' amount of  std's from bootstrapped samples of\n",
    "    #  'sample', each the same size and with replacement. \n",
    "    #std = np.std(np.random.choice(sample, replace=True, size=len(sample)))\n",
    "    #vr = std**2\n",
    "    b = np.array([np.var(np.random.choice(sample, replace=True, size=len(sample))) for ii in range(num_boots)])\n",
    "    \n",
    "    # The following code is the same as the following two lines.\n",
    "    #L = np.percentil(b, 2.5)\n",
    "    #U = np.percentile(b, 97.5)\n",
    "    L, U = np.percentile(b, 2.5), np.percentile(b, 97.5)\n",
    "    \n",
    "    # 'CI' is an array holding the Lower and Upper numbers of the desired CI.\n",
    "    CI = np.array([L, U])\n",
    "    \n",
    "    # Initialize the graph.\n",
    "    fig, ax = plt.subplots(nrows=1, ncols=1, figsize=(12,6))\n",
    "    \n",
    "    # Make a histogram out of 'b'.\n",
    "    pd.Series(b).hist(ax=ax, color=\"steelblue\", edgecolor=\"white\", bins=20, density=False)\n",
    "    \n",
    "    # Make the graph pretty.\n",
    "    ax.grid(alpha=0.25)\n",
    "    ax.set_axisbelow(True)\n",
    "    ax.set_xlabel(\"Bootstrapped SD Estimates\", fontsize=16)\n",
    "    ax.set_ylabel(\"Frequency\", fontsize=16)\n",
    "    \n",
    "    # Plot a horizontal line for the calculated CI.\n",
    "    ax.plot([CI[0], CI[1]], [num_boots/12, num_boots/12], color=\"red\", lw=3)\n",
    "    ax.plot([CI[0], CI[0]], [num_boots/12-10, num_boots/12+10], color=\"red\", lw=3)\n",
    "    ax.plot([CI[1], CI[1]], [num_boots/12-10, num_boots/12+10], color=\"red\", lw=3)\n",
    "    \n",
    "    # Plot the actual known variance (0.04) for comparison to the CI.\n",
    "    plt.plot([.04], [num_boots/12], marker='o', markersize=8, color=\"blue\")\n",
    "\n",
    "    return CI \n",
    "    \n",
    "bootstrapped_var(sample)"
   ]
  },
  {
   "cell_type": "markdown",
   "metadata": {},
   "source": [
    "**Part B**: Does your 95% bootstrapped confidence interval cover the true variance of the population? "
   ]
  },
  {
   "cell_type": "markdown",
   "metadata": {},
   "source": [
    "Solution: The blue dot is the actual variance, and it is seen within the bounds of the CI."
   ]
  },
  {
   "cell_type": "markdown",
   "metadata": {},
   "source": [
    "### Exercise 3 - Empirical Coverage of Bootstrapped Confidence Intervals  \n",
    "*** \n",
    "\n",
    "Complete the function CI_test below to test the coverage of the bootstrapped confidence intervals at the 95% confidence level for the mean of the population that $\\texttt{sample}$ is drawn from.  Recall that you know that the true sample mean is $1/\\lambda = 0.2$.  "
   ]
  },
  {
   "cell_type": "code",
   "execution_count": 17,
   "metadata": {},
   "outputs": [
    {
     "data": {
      "image/png": "[encoded data removed]",
      "text/plain": [
       "<Figure size 864x432 with 1 Axes>"
      ]
     },
     "metadata": {},
     "output_type": "display_data"
    }
   ],
   "source": [
    "# This function will create a graph of numerous CI's\n",
    "def CI_test(num_CIs=100, num_boots=5000):\n",
    "    \n",
    "    # Initialize the plot.\n",
    "    fig, ax = plt.subplots(nrows=1, ncols=1, figsize=(12,6))\n",
    "    \n",
    "    # This is the known mean of the distribution.\n",
    "    mean = 0.2\n",
    "    \n",
    "    # Plot a horizontal line marking the height of the known mean.\n",
    "    ax.plot([0,num_CIs], [mean, mean], color=\"steelblue\", ls='--', lw=3)\n",
    "    \n",
    "    # This for-loop graphs 'num_CIs' amount of vertical lines representing CI's.\n",
    "    for jj in range(num_CIs):\n",
    "        \n",
    "        # 'sample' holds 'size' amount of random selections from an exponential with\n",
    "        #  a mean of 1/5 = 0.2.\n",
    "        sample = np.random.exponential(1/5, size=500)\n",
    "        \n",
    "        # This is an array to hold the sampled means.\n",
    "        list_of_means = []\n",
    "        \n",
    "        # This for-loop creates the array of re-sampled (bootstrapped) means.\n",
    "        for ii in range(num_boots):\n",
    "            \n",
    "            # 'resample_mean' is an array holding bootstrap samples (random) from 'sample'.\n",
    "            resample_mean = np.random.choice(sample, size=len(sample), replace=True)\n",
    "            # 'boot_mean' holds the mean of 'resample_mean'.\n",
    "            boot_mean = resample_mean.mean()\n",
    "            # add the new mean to the array 'list_of_means'.\n",
    "            list_of_means.append(boot_mean)\n",
    "    \n",
    "        # Compute the 2.5 and 97.5th percentiles of the list of bootstrapped variances\n",
    "        L = np.percentile(list_of_means, 2.5)\n",
    "        U = np.percentile(list_of_means, 97.5)\n",
    "\n",
    "        # Your 95% confidence interval estimate is given by these percentiles\n",
    "        CI = np.array([L, U])\n",
    "        ax.plot([jj, jj], [L, U])\n",
    "    \n",
    "    # Make the graph pretty    \n",
    "    ax.set_xlim([-1,num_CIs+1])\n",
    "    plt.xticks(range(num_CIs), fontsize=12)\n",
    "\n",
    "# Call the function to create 25 CI's.\n",
    "CI_test(num_CIs=25, num_boots=5000)\n"
   ]
  },
  {
   "cell_type": "markdown",
   "metadata": {},
   "source": [
    "### Exercise 4 - Parametric Bootstrap for the Exponential Parameter \n",
    "*** \n",
    "\n",
    "In this exercise you will experiment with the parametric bootstrap technique to compute $\\color{red}{\\text{confidence intervals for various statistics}}$ of the exponential distribution with parameter $\\lambda = 5$.  \n",
    "\n",
    "**Part A**: Complete the function bootstrapped_lam below, to draw at least $5000$ bootstrapped resamples (with replacement) from the empirical distribution defined by $\\texttt{sample}$ and compute a bootstrapped confidence interval for the exponential parameter $\\lambda$.  Note that a good estimator for $\\lambda$ is $1/x$ where $x$ is assumed to come from $Exp(\\lambda)$. "
   ]
  },
  {
   "cell_type": "code",
   "execution_count": 19,
   "metadata": {},
   "outputs": [
    {
     "data": {
      "text/plain": [
       "[4.595554448273116, 5.4538341816083635]"
      ]
     },
     "execution_count": 19,
     "metadata": {},
     "output_type": "execute_result"
    }
   ],
   "source": [
    "# This function returns a CI for lambda\n",
    "def bootstrapped_lam(sample, num_boots=5000):\n",
    "    \n",
    "    # create an array\n",
    "    list_of_lams = []\n",
    "    \n",
    "    # Gather the bootstrap samples.\n",
    "    for i in range(0,num_boots):\n",
    "        # 'resample' is an array holding 500 random selections from an Exp(5).\n",
    "        resample = np.random.exponential(1/5, size=500)\n",
    "        # 'resample_mean' is an array holding the means of 'resample'.\n",
    "        resample_mean = resample.mean()\n",
    "        # 'lambda_resample' is an array holding the inverse of the values in 'resample'.\n",
    "        lambda_resample = 1/resample_mean\n",
    "        # Now add these values to the array.\n",
    "        list_of_lams.append(lambda_resample)\n",
    "        \n",
    "    # These are the Lower and Upper values of the CI.    \n",
    "    L = np.percentile(list_of_lams,2.5)\n",
    "    U = np.percentile(list_of_lams,97.5)\n",
    "    \n",
    "    # 'CI' is the array holding 'L' and 'U'.\n",
    "    CI = [L, U]\n",
    "    \n",
    "    return CI \n",
    "\n",
    "# Call the function.\n",
    "bootstrapped_lam(sample)\n",
    "\n",
    "# Recall lambda is 0.2 so 1/lambda is 5."
   ]
  },
  {
   "cell_type": "markdown",
   "metadata": {},
   "source": [
    "**Part B**: Complete the function parametric_stdev below, to draw at least $5000$ bootstrapped resamples (with replacement) from the empirical distribution defined by $\\texttt{sample}$.  From each bootstrapped resample, estimate the exponential parameter $\\lambda$, then transform the estimate of $\\lambda$ to the variance of the exponential distribution.  With your bootstrapped estimates of $\\sigma$, compute a 95% confidence interval for the variance.  How does this confidence interval compare to the one computed in Exercise 2? \n"
   ]
  },
  {
   "cell_type": "code",
   "execution_count": 32,
   "metadata": {},
   "outputs": [
    {
     "data": {
      "text/plain": [
       "[0.030701229604012194, 0.0509208416096855]"
      ]
     },
     "execution_count": 32,
     "metadata": {},
     "output_type": "execute_result"
    }
   ],
   "source": [
    "\n",
    "def parametric_stdev(sample, num_boots=5000):\n",
    "    \n",
    "    list_of_sigs = []\n",
    "    \n",
    "    # This for-loop creates a distribution of sample variances.\n",
    "    for i in range(0,num_boots):\n",
    "        \n",
    "        # 'resample' is an array containing 'size' amount of \n",
    "        #   random selections from an Exp(5).\n",
    "        resample = np.random.exponential(1/5, size=500)\n",
    "        \n",
    "        # 'sigma' is a variable holding the std of\n",
    "        #  the 'size' amount of values in 'resample'.\n",
    "        sigma = resample.std(ddof=1)\n",
    "        \n",
    "        # 'boot_variance' is a variable holding the variance of \n",
    "        #  the 'size' amount of values in 'resample'.\n",
    "        boot_variance = sigma**2\n",
    "        \n",
    "        # When the loop finishes, this array will hold the\n",
    "        #  'num_boots' amount of variances,\n",
    "        #  a.k.a. our distribution of variances.\n",
    "        list_of_sigs.append(boot_variance)\n",
    "        \n",
    "    # The endpoints of our CI calculated from the distribution 'list_of_sigs'.\n",
    "    L = np.percentile(list_of_sigs,2.5)\n",
    "    U = np.percentile(list_of_sigs,97.5)\n",
    "    \n",
    "    CI = [L, U]\n",
    "    return CI\n",
    "\n",
    "# Call the function.\n",
    "parametric_stdev(sample)\n"
   ]
  },
  {
   "cell_type": "code",
   "execution_count": null,
   "metadata": {},
   "outputs": [],
   "source": []
  }
 ],
 "metadata": {
  "kernelspec": {
   "display_name": "Python 3 (ipykernel)",
   "language": "python",
   "name": "python3"
  },
  "language_info": {
   "codemirror_mode": {
    "name": "ipython",
    "version": 3
   },
   "file_extension": ".py",
   "mimetype": "text/x-python",
   "name": "python",
   "nbconvert_exporter": "python",
   "pygments_lexer": "ipython3",
   "version": "3.9.7"
  }
 },
 "nbformat": 4,
 "nbformat_minor": 2
}
