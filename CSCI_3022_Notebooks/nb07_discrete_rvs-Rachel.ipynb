{
 "cells": [
  {
   "cell_type": "markdown",
   "metadata": {},
   "source": [
    "# Notebook 7: Discrete Random Variables and Distributions \n",
    "***\n",
    "\n",
    "In this notebook we'll get some more practice with discrete random variables and see how we can play with binomial distributions using Python.   \n",
    "\n",
    "We'll need Numpy and Matplotlib for this notebook, so let's load them.  We'll also need SciPy's binom function for computing binomial coefficients.  "
   ]
  },
  {
   "cell_type": "code",
   "execution_count": 1,
   "metadata": {},
   "outputs": [],
   "source": [
    "import numpy as np\n",
    "from math import factorial\n",
    "import matplotlib.pylab as plt \n",
    "from scipy.special import binom\n",
    "import itertools\n",
    "%matplotlib inline"
   ]
  },
  {
   "cell_type": "markdown",
   "metadata": {},
   "source": [
    "### Exercise 1 - Loaded Dice \n",
    "*** \n",
    "\n",
    "Consider a loaded six-sided die.  \n",
    "\n",
    "**Part A**: Suppose that the die is loaded such that you are twice as likely to roll either a $1$, $2$, or $3$, than you are to roll either a $4$, $5$, or $6$. Let $X$ be a random variable describing the die.  What is the probability mass function for $X$? "
   ]
  },
  {
   "cell_type": "markdown",
   "metadata": {},
   "source": [
    "PMF\n",
    "\n",
    "|a=|1|2|3|4|5|6|\n",
    "|------|------|------|------|------|------|------|\n",
    "|P(X=a)=p(a)    |2/9    |2/9   |2/9    |1/9    |1/9    |1/9    |"
   ]
  },
  {
   "cell_type": "markdown",
   "metadata": {},
   "source": [
    "**Part B**: Find the cumulative distribution function for $X$.  What is the probability that you roll a $4$ or lower with the loaded die? "
   ]
  },
  {
   "cell_type": "markdown",
   "metadata": {},
   "source": [
    "CDF\n",
    "\n",
    "|a=|1|2|3|4|5|6|\n",
    "|------|------|------|------|------|------|------|\n",
    "|F(a)    |2/9    |4/9   |6/9    |7/9    |8/9    |9/9    |"
   ]
  },
  {
   "cell_type": "code",
   "execution_count": null,
   "metadata": {},
   "outputs": [],
   "source": []
  },
  {
   "cell_type": "markdown",
   "metadata": {},
   "source": [
    "### Exercise 2 - Implementing and Sampling the Binomial Distribution \n",
    "***\n",
    "\n",
    "**Part A**: Write a function that takes in the parameters of the binomial distribution, $n$ and $p$, and returns the probability mass function as a Numpy array. In order to get the coefficient in the binomial distribution, you'll need a way to compute ${n \\choose k}$.  You can do this from scratch using Python's factorial function, or you can get the value directly using Scipy's canned function [binom](https://docs.scipy.org/doc/scipy-0.14.0/reference/generated/scipy.special.binom.html).  "
   ]
  },
  {
   "cell_type": "code",
   "execution_count": 10,
   "metadata": {},
   "outputs": [
    {
     "name": "stdout",
     "output_type": "stream",
     "text": [
      "0 | 0.0010\n",
      "1 | 0.0098\n",
      "2 | 0.0439\n",
      "3 | 0.1172\n",
      "4 | 0.2051\n",
      "5 | 0.2461\n",
      "6 | 0.2051\n",
      "7 | 0.1172\n",
      "8 | 0.0439\n",
      "9 | 0.0098\n",
      "10 | 0.0010\n"
     ]
    }
   ],
   "source": [
    "def binomial_pmf(n, p):\n",
    "\n",
    "    pmf = np.array([binom(n,k)*(p**k)*(1-p)**(n-k) for k in range(0,n+1)])\n",
    "    return pmf\n",
    "\n",
    "pmf = binomial_pmf(10,.5)\n",
    "\n",
    "for k, prob in enumerate(pmf):\n",
    "    print(\"{} | {:0.4f}\".format(k,prob))\n",
    "\n",
    "# Here is a check that your binomial_pmf function at least sums to 1\n",
    "assert np.sum(pmf)==1, \"Error: pmf does not add up to 1\"\n"
   ]
  },
  {
   "cell_type": "markdown",
   "metadata": {},
   "source": [
    "Row 2 is basically calculating \n",
    "\n",
    "$$({10}over{2})(1/2)^2(1/2)^9 $$"
   ]
  },
  {
   "cell_type": "markdown",
   "metadata": {},
   "source": [
    "**Part B**: So now you know the exact distribution of a binomial random variable, but very frequently we'll want to generate samples from that distribution.  You can do that with Numpy's [binomial](https://docs.scipy.org/doc/numpy-1.13.0/reference/generated/numpy.random.binomial.html) function. Read the documentation, and then try drawing 20 samples from _Bin(n,p)_ for $n=10$ and $p=0.25$.  "
   ]
  },
  {
   "cell_type": "code",
   "execution_count": 14,
   "metadata": {},
   "outputs": [
    {
     "name": "stdout",
     "output_type": "stream",
     "text": [
      "[4 2 1 2 3 1 2 3 5 4 5 2 4 3 4 1 4 3 0 3]\n"
     ]
    }
   ],
   "source": [
    "# numpy.random.binomial(n, p, size=None)\n",
    "\n",
    "#flipping biased coin 10 times where prob(T)=0.25\n",
    "# we want to see how many times we get a tail in 10 flips\n",
    "# size=20 means it runs the experiment 20 times \n",
    "# (each experiment flips the coin 10 times )\n",
    "samples = np.random.binomial(10,0.25,size=20) \n",
    "print(samples)\n",
    "\n",
    "#so we are getting # of tails in each experiment "
   ]
  },
  {
   "cell_type": "markdown",
   "metadata": {},
   "source": [
    "**Part C**: We can approximate the pmf of _Bin(n,p)_ by drawing many many samples from the distribution and plotting a **density** histogram.  Do this now.  Additionally, use the function you wrote in **Part A** to get the exact density, and plot the distribution directly below the histogram of your sampled distribution.  How do they compare?  What happens if you use more or fewer samples in the histogram? "
   ]
  },
  {
   "cell_type": "code",
   "execution_count": 17,
   "metadata": {},
   "outputs": [
    {
     "data": {
      "image/png": "[encoded data removed]",
      "text/plain": [
       "<Figure size 432x288 with 2 Axes>"
      ]
     },
     "metadata": {
      "needs_background": "light"
     },
     "output_type": "display_data"
    }
   ],
   "source": [
    "n = 10 #flip biased coin 10 times\n",
    "p = 0.25 #prob of getting Tails\n",
    "\n",
    " #size is number of experiments we are running\n",
    "sample = np.random.binomial(n=n, p=p, size=100000)\n",
    "bins = np.arange(-0.5, 11.5, 1)\n",
    "\n",
    "X = np.array(range(n+1))\n",
    "pmf = binomial_pmf(n=10, p=0.25)\n",
    "\n",
    "fig, ax = plt.subplots(nrows=2, ncols=1)\n",
    "\n",
    "ax[0].hist(sample, edgecolor='white', density=True, bins=bins, rwidth=0.8)\n",
    "ax[0].set_axisbelow(True)\n",
    "ax[0].grid(alpha=0.25)\n",
    "ax[0].set_xlim([-0.7, 10.7]);\n",
    "ax[0].set_ylim([0, 0.4])\n",
    "\n",
    "ax[1].set_ylim([0, 0.4])\n",
    "ax[1].bar(X, pmf)\n",
    "ax[1].set_axisbelow(True)\n",
    "ax[1].grid(alpha=0.25);\n",
    "\n",
    "#showing that its super likely to roll 1 2 or 3 tails \n",
    "#but hardly ever/never get 10 tails in all 10 flipps since coin is biased"
   ]
  },
  {
   "cell_type": "markdown",
   "metadata": {},
   "source": [
    "### Exercise 3 - Predicting Play-off Winners \n",
    "***\n",
    "\n",
    "In this exercise we'll look at the probability of your favorite sports team winning a best-of-7 play-off series. Suppose your team is the slight favorite in the series and in each individual game has a probability of winning of $p = 0.55$. \n",
    "\n",
    "**Part A**: What is the probability that your team wins the series? "
   ]
  },
  {
   "cell_type": "code",
   "execution_count": null,
   "metadata": {},
   "outputs": [],
   "source": []
  },
  {
   "cell_type": "markdown",
   "metadata": {},
   "source": [
    "**Part B**: How often will an underdog with a winning probability of 45% win a best-of-7 series?  Is this underdog more likely to win a series if it's shorter, say best-of-5 or best-of-3? "
   ]
  },
  {
   "cell_type": "code",
   "execution_count": null,
   "metadata": {},
   "outputs": [],
   "source": []
  },
  {
   "cell_type": "markdown",
   "metadata": {},
   "source": [
    "This example is not particularly realistic because it does not consider home-field advantage.  Typically teams will play better (and thus have a higher probability of winning) when they play at their home field.  Suppose that your team hosts Games 1, 2, 6, and 7 at home, and plays away in Games 3, 4, and 5.  Suppose that when your team plays at home, they win with probability $p = 0.6$ and when they're on the road they win with only probability $q=0.5$.  \n",
    "\n",
    "**Part C**: Is the probability that your team wins $k$ of the $n$ games still well-described by a binomial distribution?  Why or why not?  You might consider reading [this article](https://fivethirtyeight.com/features/why-cant-the-rockies-hit-outside-the-rockies/) for some inspiration, especially if you are a Rockies fan!"
   ]
  },
  {
   "cell_type": "code",
   "execution_count": null,
   "metadata": {},
   "outputs": [],
   "source": []
  },
  {
   "cell_type": "markdown",
   "metadata": {},
   "source": [
    "Parts D & E are optional. If you are interested in a more serious determination of winning a series, then try out parts D and E below. These concepts will not be assessed.\n",
    "\n",
    "**Part D**: What is the probability that your team wins the 7-game series under the above conditions?\n",
    "\n",
    "The best way to tackle this problem is probably to work out a few smaller probabilities by hand, and then write some code to calculate the probabilities in general.  Also, you may find the `itertools` package useful, specifically the [`itertools.combinations` method](https://docs.python.org/3/library/itertools.html#itertools.combinations).\n",
    "\n",
    "Some starter code for you to play around with and potentially incorporate into a function is given below.  The call to `itertools.combinations` below iterates the tuple `combo` over all possible combinations of 3 elements out of the list (or array-like object) in the first argument. In this case, that is the first 5 non-negative integers (`range(5)`)."
   ]
  },
  {
   "cell_type": "code",
   "execution_count": null,
   "metadata": {},
   "outputs": [],
   "source": [
    "# starter code you can play with to see how it works, then hopefully integrate into a function\n",
    "for combo in itertools.combinations(range(5), 3):\n",
    "    print(combo)"
   ]
  },
  {
   "cell_type": "markdown",
   "metadata": {},
   "source": [
    "**Part E**: Now suppose that the teams are evenly matched in the sense that your team wins with probability $p=0.55$ when playing at home and wins with only probability $q = (1-p) = 0.45$ when playing away.  How much of a difference does home-field advantage make? "
   ]
  },
  {
   "cell_type": "code",
   "execution_count": null,
   "metadata": {},
   "outputs": [],
   "source": []
  }
 ],
 "metadata": {
  "kernelspec": {
   "display_name": "Python 3 (ipykernel)",
   "language": "python",
   "name": "python3"
  },
  "language_info": {
   "codemirror_mode": {
    "name": "ipython",
    "version": 3
   },
   "file_extension": ".py",
   "mimetype": "text/x-python",
   "name": "python",
   "nbconvert_exporter": "python",
   "pygments_lexer": "ipython3",
   "version": "3.9.7"
  }
 },
 "nbformat": 4,
 "nbformat_minor": 2
}
