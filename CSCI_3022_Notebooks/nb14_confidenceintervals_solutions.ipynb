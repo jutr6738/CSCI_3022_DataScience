{
 "cells": [
  {
   "cell_type": "markdown",
   "metadata": {},
   "source": [
    "# Notebook 14: Introduction to Confidence Intervals Solutions\n",
    "***\n",
    "\n",
    "We'll need Numpy, Matplotlib, Pandas, and scipy.stats for this notebook, so let's load them. "
   ]
  },
  {
   "cell_type": "code",
   "execution_count": 1,
   "metadata": {},
   "outputs": [],
   "source": [
    "import numpy as np \n",
    "from scipy import stats\n",
    "import pandas as pd \n",
    "import matplotlib.pyplot as plt \n",
    "%matplotlib inline"
   ]
  },
  {
   "cell_type": "markdown",
   "metadata": {},
   "source": [
    "### Exercise 1 - Sampling Confidence Intervals \n",
    "*** \n",
    "\n",
    "In this exercise we'll get some experience implementing confidence intervals for samples of a population.  Suppose that we wish to sample household incomes from a population in units of hundreds-of-thousands of dollars.  In general it is not necessary that we know the distribution that the quantity of interest follows, but in this case we'll assume that household $\\color{red}{\\text{income follows a Weibull distribution}}$.\n",
    "\n",
    "Weibull documentation: https://docs.scipy.org/doc/scipy/reference/generated/scipy.stats.weibull_min.html\n",
    "\n",
    "We can draw samples from this population and plot the histogram as follows: "
   ]
  },
  {
   "cell_type": "code",
   "execution_count": 4,
   "metadata": {},
   "outputs": [
    {
     "data": {
      "image/png": "[encoded data removed]",
      "text/plain": [
       "<Figure size 864x432 with 1 Axes>"
      ]
     },
     "metadata": {
      "needs_background": "light"
     },
     "output_type": "display_data"
    }
   ],
   "source": [
    "# Initialize the graph\n",
    "fig, ax = plt.subplots(nrows=1, ncols=1, figsize=(12,6))\n",
    "\n",
    "# 'x' is an array holding 10000 randomly generated draws from a Weibull distribution.\n",
    "x = stats.weibull_min.rvs(loc=0.1, c=1.3, size=10000)\n",
    "\n",
    "# Then, make a Pandas histogram out of 'x'.\n",
    "# The histogram reveals the shape of the distribution we are working with.\n",
    "pd.Series(x).hist(ax=ax, color=\"steelblue\", edgecolor=\"white\", bins=20, density=True)\n",
    "\n",
    "# Make the graph readable.\n",
    "ax.grid(alpha=0.25)\n",
    "ax.set_axisbelow(True)\n",
    "ax.set_xlabel(\"Income in Hundreds of Thousands of Dollars\", fontsize=16)\n",
    "ax.set_ylabel(\"Density\", fontsize=16)\n",
    "ax.set_title(\"Density of Income\", fontsize=20);"
   ]
  },
  {
   "cell_type": "markdown",
   "metadata": {},
   "source": [
    "**Part A**: Complete the following $\\color{red}{\\text{function that draws 20 independent samples of size}}$ $\\color{red}{n}$ from the population and plots confidence intervals for each sample against the mean.\n",
    "\n",
    "Because we know the distribution from sampling from, we can use the exact mean and variance in the determination of the confidence intervals.   "
   ]
  },
  {
   "cell_type": "code",
   "execution_count": 9,
   "metadata": {},
   "outputs": [
    {
     "name": "stdout",
     "output_type": "stream",
     "text": [
      "mean is:  1.0235767215559781\n",
      "variance is:  0.5132807238719238\n"
     ]
    },
    {
     "data": {
      "image/png": "[encoded data removed]",
      "text/plain": [
       "<Figure size 864x432 with 1 Axes>"
      ]
     },
     "metadata": {
      "needs_background": "light"
     },
     "output_type": "display_data"
    }
   ],
   "source": [
    "# This function returns a graph of 20 CI's each from a sample of size 'n'.\n",
    "# This function has inputs: sample size 'n', and alpha level for CI.\n",
    "def income_CI(n=100, alpha=.05):\n",
    "    #n id sample size\n",
    "    #alpha is 1-alpha percent confidence interval so 1-0.05=0.95 so 95% confidence interval\n",
    "    \n",
    "    # Initialize the plot\n",
    "    fig, ax = plt.subplots(nrows=1, ncols=1, figsize=(12,6))\n",
    "    \n",
    "    # Get true mean and variance of the distribution and store them in 'mean' and 'var'. \n",
    "    # 'moments' is a reserved word. It can return a number of things.\n",
    "    #   'm' is mean. 'v' is variance. 's' is skew. 'k' is kurtosis.\n",
    "    # Notice that we are only asking for 2 things 'mv'; mean and variance.\n",
    "    # We could also ask for skew and/or kurtosis, but we would then need\n",
    "    #  to name variables to hold these values.\n",
    "    mean, var = stats.weibull_min.stats(loc=0.1, c=1.3, moments='mv')\n",
    "    print(\"mean is: \", mean)\n",
    "    print(\"variance is: \", var)\n",
    "    \n",
    "    # .plot graphs a line from (0, mean) to (20, mean), i.e. A horizontal line at the\n",
    "    #    known height ('mean') of our Weibull distribution.\n",
    "    # 'ls' is line style, and 'lw' is line width\n",
    "    ax.plot([0,20], [mean, mean], color=\"steelblue\", ls='--', lw=3)\n",
    "    \n",
    "    # Now, draw 20 independent samples of size n \n",
    "    for sId in range(20):\n",
    "        \n",
    "        # Draw 'n' amount of samples from Weibull distribution and store them in array 'x'.\n",
    "        x = stats.weibull_min.rvs(loc=0.1, c=1.3, size=n)\n",
    "        \n",
    "        # xbar is the mean of those 100 elements in the sample\n",
    "        xbar = np.mean(x)\n",
    "        \n",
    "        # This is the z-score for the 95th percentile (if alpha = .05)\n",
    "        z_alpha = stats.norm.ppf(1-alpha/2)\n",
    "        \n",
    "        # SE stores the standard error, i.e. standard deviation of the means\n",
    "        SE = np.std(x)/np.sqrt(n)\n",
    "        \n",
    "        # Now we plot a line from (sId, CImin) to (sId, CImax), i.e. vertical line\n",
    "        # Recall this loop happens 20 times, therefore 20 bars are created.\n",
    "        CImin = xbar-z_alpha*SE #lower part of confidence interval\n",
    "        CImax = xbar+z_alpha*SE #upper part of confidence interval\n",
    "        ax.plot([sId, sId], [CImin, CImax])\n",
    "\n",
    "    # Clean up the graph.    \n",
    "    ax.set_xlim([-1,20])\n",
    "    plt.xticks(range(20), fontsize=12)\n",
    "\n",
    "# Now, call the function with sample sizes of 1000     \n",
    "income_CI(n=1000)\n",
    "\n"
   ]
  },
  {
   "cell_type": "markdown",
   "metadata": {},
   "source": [
    "**Part B**: Run your simulation above multiple times.  About how many of the 20 CIs would you expect to not cover the mean?  Do your experiments above bear this out?"
   ]
  },
  {
   "cell_type": "markdown",
   "metadata": {},
   "source": [
    "At the $\\alpha = 0.05$ significance level we expect the $100(1-\\alpha)\\%$ confidence interval to cover the true mean about 95% of the time.  In most of our experiments we find that $1$ out of $20$ of the CIs fail to cover the true mean, which agrees with our theoretical analysis.\n",
    "\n",
    "$0.95\\cdot20 = 19$"
   ]
  },
  {
   "cell_type": "code",
   "execution_count": null,
   "metadata": {},
   "outputs": [],
   "source": []
  }
 ],
 "metadata": {
  "kernelspec": {
   "display_name": "Python 3 (ipykernel)",
   "language": "python",
   "name": "python3"
  },
  "language_info": {
   "codemirror_mode": {
    "name": "ipython",
    "version": 3
   },
   "file_extension": ".py",
   "mimetype": "text/x-python",
   "name": "python",
   "nbconvert_exporter": "python",
   "pygments_lexer": "ipython3",
   "version": "3.9.7"
  }
 },
 "nbformat": 4,
 "nbformat_minor": 2
}
