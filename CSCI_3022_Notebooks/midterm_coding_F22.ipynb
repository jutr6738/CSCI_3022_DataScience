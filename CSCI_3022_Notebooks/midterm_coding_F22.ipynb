{
 "cells": [
  {
   "cell_type": "markdown",
   "metadata": {},
   "source": [
    "# Midterm Exam\n",
    "***\n",
    "\n",
    "\n",
    "**DUE DATE and SUBMISSION INSTRUCTIONS:**\n",
    "\n",
    "This exam is due on Gradescope AND Canvas by **5:59PM on Friday October 21**. \n",
    "\n",
    "- Upload a PDF of this notebook (with all cells run and all LaTex fully rendered) to Gradescope by **5:59PM on Friday October 21**. \n",
    "\n",
    "- AND upload this Jupyter notebook to Canvas by **5:59PM on Friday October 21**.  \n",
    "\n",
    "Late Submittals:  If your exam comes in between 6:00PM and 6:30PM on Friday Oct 21st (regardless of reason/cause etc), then it will be **deducted 50 points**. **No exams will be accepted after 6:30 PM** on Friday October 21.\n",
    "\n",
    "\n",
    "**FORMAT:** \n",
    "\n",
    "- Your solutions to theoretical questions should be done in Markdown and LaTex directly below the associated question. \n",
    "\n",
    "- Your solutions to computational questions should include any specified Python code and results as well as written commentary on your conclusions.\n",
    "\n",
    "**HERE ARE THE RULES:** \n",
    "\n",
    "1. All work, code and analysis, must be your own. \n",
    "1. Only work uploaded prior to the deadline will be considered.\n",
    "1. You MAY use your course notes, posted lecture slides, textbooks, in-class notebooks, and homework solutions as resources.  You may also search online for answers to general knowledge questions like the form of a probability distribution function or how to perform a particular operation in Python/Pandas. \n",
    "3. You may **NOT** copy-paste solutions *from anywhere*.\n",
    "2. You may **NOT** post to message boards or other online resources asking for help.\n",
    "4. You may **NOT** collaborate with classmates or anyone else.\n",
    "5. In short, **your work must be your own**. It really is that simple.\n",
    "1. This is meant to be like a coding portion of your midterm exam. So, the instructional team will be much less helpful than we typically are with homework. For example, we will not check answers, help debug your code, and so on.\n",
    "1. If something is left open-ended, it is because we want to see how you approach the kinds of problems you will encounter in the wild, where it will not always be clear what sort of tests/methods should be applied. Feel free to ask clarifying questions though.\n",
    "2. Please stick to software used/taught in this class: Pandas, NumPy, Python 3.9, etc.\n",
    "\n",
    "Violation of the above rules will result in an immediate academic sanction (you will receive an F in the course), and a trip to the Honor Code Council.\n",
    "\n",
    "**By submitting this assignment, you agree to abide by the rules given above.**\n",
    "\n",
    "***\n",
    "\n",
    "**Name**:\n",
    "\n",
    "***\n",
    "\n",
    "\n",
    "**NOTES**: \n",
    "\n",
    "- By the due date, turn in anything you have, there are no extensions, and some credit is better than no credit.  **DO NOT attempt your first upload at 5:00 PM** as you may encounter slow internet speeds or outages and again you will miss the upload and hence the entire exam. \n",
    "- If you have a question for us, post it as a **PRIVATE** message on Piazza.  If we decide that the question is appropriate for the entire class, then we will add it to a  midterm clarifications thread. \n",
    "- Do **NOT** load or use any Python packages that are not available in Anaconda 3.9.  \n",
    "- This should go without saying, but... For any question that asks you to calculate something, you **must show all work to receive credit**. Sparse or nonexistent work will receive sparse or nonexistent credit.\n",
    "\n",
    "---"
   ]
  },
  {
   "cell_type": "markdown",
   "metadata": {},
   "source": [
    "# $\\color{red}{\\text{Example question #1}}$\n",
    "\n",
    "On this exam we are looking for $\\color{red}{\\text{HOW}}$ you answer questions and not necessarily $\\color{red}{\\text{WHAT}}$ you put for an answer. \n",
    "\n",
    "Tell the grader where to look for your answer and which question the work goes with.\n",
    "\n",
    "Be thorough, but be concise.\n",
    "\n",
    "Use full sentences and proper grammar and correct spelling.\n",
    "\n",
    "Comment your code.\n",
    "\n",
    "Demonstrate $\\color{red}{\\text{BOTH}}$ what you know about the question $\\color{red}{\\text{AND}}$ the coding you used to answer the question"
   ]
  },
  {
   "cell_type": "markdown",
   "metadata": {},
   "source": [
    "# Example Question:\n",
    "\n",
    "What values of $x$ solve the equation: $\\phantom{xx}x^2-5x=-6$?\n",
    "Solve analytically and then create a plot supporting your answer."
   ]
  },
  {
   "cell_type": "markdown",
   "metadata": {},
   "source": [
    "# $\\color{red}{\\text{This correct answer would be worth zero points}}:$\n",
    "\n",
    "$x=2$ and $x=3$"
   ]
  },
  {
   "cell_type": "markdown",
   "metadata": {},
   "source": [
    "# $\\color{red}{\\text{This answer would be worth full points}}:$\n",
    "\n",
    "\n",
    "Solution to Example Question:\n",
    "\n",
    "$x^2-5x=-6$ can be factored after $-6$ is added to both sides.\n",
    "\n",
    "$(x-2)(x-3)=0$. The zero product property reveals that $\\boxed{x=2}$ or $\\boxed{x=3}$.\n",
    "\n",
    "This equation has two solutions as its graph crosses the x-axis twice as seen below."
   ]
  },
  {
   "cell_type": "code",
   "execution_count": 1,
   "metadata": {},
   "outputs": [
    {
     "data": {
      "text/plain": [
       "[<matplotlib.lines.Line2D at 0x7fbd08cad7b8>]"
      ]
     },
     "execution_count": 1,
     "metadata": {},
     "output_type": "execute_result"
    },
    {
     "data": {
      "image/png": "[encoded data removed]",
      "text/plain": [
       "<Figure size 432x288 with 1 Axes>"
      ]
     },
     "metadata": {},
     "output_type": "display_data"
    }
   ],
   "source": [
    "# AND HERE IS MY COMMENTED CODE TO GO WITH THE EXAMPLE QUESTION #1:\n",
    "\n",
    "import numpy\n",
    "import matplotlib.pylab as draw\n",
    "%matplotlib inline\n",
    "# matplotlib.pylab is used for plotting. 'inline' ensures the graph opens in Jupyter.\n",
    "\n",
    "x = numpy.linspace(1,4,100)\n",
    "# 'linspace' returns evenly spaced numbers over a specified interval\n",
    "y = x**2-5*x+6\n",
    "z = 0*x\n",
    "draw.plot(x,y)\n",
    "# This is the parabola\n",
    "draw.plot(x,z, ':')\n",
    "# This is the x-axis.\n",
    "draw.plot(2,0, marker=\"o\", markersize=5, markeredgecolor=\"red\", markerfacecolor=\"green\")\n",
    "draw.plot(3,0, marker=\"o\", markersize=5, markeredgecolor=\"red\", markerfacecolor=\"green\")\n",
    "# These last two 'draw' commands show the intersection of the parabola and the x-axis.\n",
    "# The intersections are the sought after solutions. See graph below.\n"
   ]
  },
  {
   "cell_type": "markdown",
   "metadata": {},
   "source": [
    "# Begin Exam Here\n",
    "***"
   ]
  },
  {
   "cell_type": "markdown",
   "metadata": {},
   "source": [
    "# Problem 1\n",
    "***\n",
    "\n",
    "A sample survey of incoming college students (fresh out of high school) has been conducted on campus. Among the massive amounts of data collected we are going to look at just a few items and answer some questions concerning the sample.\n",
    "\n",
    "The data we want to work with is in the file, \"frosh.csv\".\n",
    "\n",
    "***Description of the data set***\n",
    "This data was collected from a number of incoming freshman attending CU. The data was collected on move-in day as interviewers wandered through the crowds of people and spoke with new students that were willing to fill out a questionairre. The questionairre was administered and completed on a Saturday. The four pieces of data found in frosh.csv here are:\n",
    "\n",
    "'$\\color{blue}{\\text{height}}$' - This is the height of the student in inches. This data is intended to be rational numbers measured to the tenths place. When cleaning this data you might choose to consider the documentation for the Pandas .round function https://pandas.pydata.org/docs/reference/api/pandas.DataFrame.round.html\n",
    "\n",
    "'$\\color{blue}{\\text{age}}$' - This is the age, in years, of the student in question; A18 refers to 'Age 18'. Once cleaned, this data should be integers.\n",
    "\n",
    "'$\\color{blue}{\\text{gender}}$' - This is the gender (sex) of the student. This data should be strings or characters of either 'M' or 'F'.\n",
    "\n",
    "'$\\color{blue}{\\text{lunch_money}}$' - This is the amount of money the student spent for dinner on the previous Friday night.  Once cleaned, this data should be rational numbers measured to the hundredths place, thereby representing dollars and cents.\n",
    "\n",
    "'$\\color{blue}{\\text{ID}}$' - This is a 3 or 4 digit number used to identify each student. The datatype should be integer. \n"
   ]
  },
  {
   "cell_type": "markdown",
   "metadata": {},
   "source": [
    "### Set up your Jupyter notebook (here) with any required imports or loads, and take glance at the actual data.\n",
    "\n",
    "***(2 points)*** List all your imports below:"
   ]
  },
  {
   "cell_type": "code",
   "execution_count": 2,
   "metadata": {},
   "outputs": [],
   "source": [
    "# SOLUTION \n",
    "# List the imports that you use here:\n"
   ]
  },
  {
   "cell_type": "markdown",
   "metadata": {},
   "source": [
    "***(2 points)*** Load the data to analyze below:"
   ]
  },
  {
   "cell_type": "code",
   "execution_count": 3,
   "metadata": {},
   "outputs": [],
   "source": [
    "# SOLUTION\n",
    "# To answer questions about the data set, load the data into a dataframe 'dfFrosh'.\n",
    "# Load your data here:\n"
   ]
  },
  {
   "cell_type": "markdown",
   "metadata": {},
   "source": [
    "***(2 points)*** Look at the data and the datatypes below:"
   ]
  },
  {
   "cell_type": "code",
   "execution_count": 4,
   "metadata": {},
   "outputs": [],
   "source": [
    "# SOLUTION\n",
    "# Answering questions about data neccesitates looking at the data to understand it.\n",
    "# Look at your data and the datatypes here:\n"
   ]
  },
  {
   "cell_type": "markdown",
   "metadata": {},
   "source": [
    "## Part A\n",
    "\n",
    "***(2 points)*** How many rows are in the data set?"
   ]
  },
  {
   "cell_type": "code",
   "execution_count": 5,
   "metadata": {},
   "outputs": [],
   "source": [
    "# solution to A here:\n"
   ]
  },
  {
   "cell_type": "markdown",
   "metadata": {},
   "source": [
    "## Part B\n",
    "\n",
    "***(8 points)*** Clean the data to match the description of the data above, and take a look at the data again to see/show that it is in fact 'clean'."
   ]
  },
  {
   "cell_type": "code",
   "execution_count": 6,
   "metadata": {},
   "outputs": [],
   "source": [
    "# SOLUTION:  Cleaning the data\n"
   ]
  },
  {
   "cell_type": "code",
   "execution_count": 7,
   "metadata": {},
   "outputs": [],
   "source": [
    "# SOLUTION\n",
    "# Checking to see if the data looks 'clean'\n",
    "# Look again at the data and the datatypes.\n"
   ]
  },
  {
   "cell_type": "markdown",
   "metadata": {},
   "source": [
    "## Part C\n",
    "\n",
    "***(3 points)*** Delete any rows with missing data (NaN). How many rows were deleted?"
   ]
  },
  {
   "cell_type": "code",
   "execution_count": 8,
   "metadata": {},
   "outputs": [],
   "source": [
    "# solution to Part C\n"
   ]
  },
  {
   "cell_type": "markdown",
   "metadata": {},
   "source": [
    "## Part D\n",
    "\n",
    "***(3 points)*** How many 18-year olds are now in this data set?"
   ]
  },
  {
   "cell_type": "code",
   "execution_count": 9,
   "metadata": {},
   "outputs": [],
   "source": [
    "# Solution to Part D here:\n"
   ]
  },
  {
   "cell_type": "markdown",
   "metadata": {},
   "source": [
    "## Part E\n",
    "\n",
    "***(3 points)*** What is the mean height of these 18-year olds?"
   ]
  },
  {
   "cell_type": "code",
   "execution_count": 10,
   "metadata": {},
   "outputs": [],
   "source": [
    "# Solution to Part E here:\n"
   ]
  },
  {
   "cell_type": "markdown",
   "metadata": {},
   "source": [
    "## Part F\n",
    "\n",
    "***(4 points)*** On average, who spent more for Friday dinner, 18-year old males or 19-year old females?"
   ]
  },
  {
   "cell_type": "code",
   "execution_count": 11,
   "metadata": {},
   "outputs": [],
   "source": [
    "# Solution to Part F here:\n"
   ]
  },
  {
   "cell_type": "markdown",
   "metadata": {},
   "source": [
    "## Part G\n",
    "\n",
    "***(5 points)*** \n",
    "\n",
    "Create a column called 'height_f' that gives the respondents' height in feet. \n",
    "\n",
    "Then give a 5-number summary for 'height_f'.  \n",
    "\n",
    "Do **NOT use the .describe() method** when creating your 5-number summary.  You **can** use any other built-in methods. \n"
   ]
  },
  {
   "cell_type": "code",
   "execution_count": 12,
   "metadata": {},
   "outputs": [],
   "source": [
    "# Solution to Part G here:\n"
   ]
  },
  {
   "cell_type": "markdown",
   "metadata": {},
   "source": [
    "## Part H\n",
    "\n",
    "***(8 points)*** Create a box-and-whisker plot of 'height_f' to provide a visual of the 5-number summary.  Label your axes on the plot."
   ]
  },
  {
   "cell_type": "code",
   "execution_count": 13,
   "metadata": {},
   "outputs": [],
   "source": [
    "# Solution to Part H\n"
   ]
  },
  {
   "cell_type": "markdown",
   "metadata": {},
   "source": [
    "## Part I \n",
    "\n",
    "***(8 points)*** \n",
    "\n",
    "i).  Create a **frequency** histogram of 'lunch_money'.  Label your axes.   \n",
    "ii).  Then ***give a shape descriptive name for this type of distribution.***\n"
   ]
  },
  {
   "cell_type": "code",
   "execution_count": 14,
   "metadata": {},
   "outputs": [],
   "source": [
    "# Solution to Part I\n"
   ]
  },
  {
   "cell_type": "markdown",
   "metadata": {},
   "source": [
    "## Part J\n",
    "After viewing the 'lunch_money' distribution we might conclude that around 80% of students eat a cheap (\"C\") meal, 18% eat a middle priced (\"M\") meal, and 2% eat an expensive (\"E\") meal.\n",
    "\n",
    "Imagine choosing a student from this list at random to see if they ate a middle priced, \"M\", meal. You should expect this to be true about 18% of the time.\n",
    "\n",
    "Suppose you choose a student from the list, record whether or not they at a middle priced, \"M\", meal or not, and then you randomly chose again, and again, and again, etc. \n",
    "\n",
    "\n",
    "***(10 points)*** \n",
    "\n",
    "i).  Create a simulation that will randomly choose \"C\", \"M\", and \"E\" according to the probabilites \"C\" = 80%, \"M\"=18%, and \"E\"=2%.  \n",
    "(Note that this simulation will NOT randomly choose from the actual data stored in frosh.csv).\n",
    "\n",
    "ii).  Make a plot of the $\\color{red}{\\text{running estimate}}$ of the probability of a student eating a 'middle priced', \"M\", meal as the number of choices increases:\n",
    "\n",
    "$\\frac{m_1}{1}$, $\\frac{m_2}{2}$, $\\frac{m_3}{3}$, ... , $\\frac{m_{500}}{500}$, where $m_i$ is the number of M's discovered in your random choices out of $i$ trials.\n",
    "\n",
    "Run the simulation for 500 choices, and graph the 500 ratios.  \n",
    "\n",
    "iii).  Then comment on if/when the graph flattens out to the expected 18% within these 500 ratios."
   ]
  },
  {
   "cell_type": "code",
   "execution_count": 1,
   "metadata": {},
   "outputs": [],
   "source": [
    "#Solution to J\n",
    "# Uncomment the random.seed function below, but do not change the statement or its input value.\n",
    "# Put your code for Part J after the random.seed function\n",
    "\n",
    "\n",
    "#np.random.seed(54321)\n",
    "\n",
    "#YOUR CODE HERE\n"
   ]
  },
  {
   "cell_type": "markdown",
   "metadata": {},
   "source": [
    "# Part K\n",
    "\n",
    "***(6 points)*** Create a **frequency** histogram of 'height'.   Label your axes."
   ]
  },
  {
   "cell_type": "code",
   "execution_count": 16,
   "metadata": {},
   "outputs": [],
   "source": [
    "# Solution to Part K here:\n"
   ]
  },
  {
   "cell_type": "markdown",
   "metadata": {},
   "source": [
    "## Part L\n",
    "\n",
    "The height data roughly follows a normal distribution with a mean, $\\mu$, and standard deviation, $\\sigma$, that you can calculate from the data. \n",
    "\n",
    "***(8 points)***\n",
    "\n",
    "i).  Write some code that will create a $N(0,1)$ distribution from this same data.\n",
    "i.e., take the $N(\\mu, \\sigma^2)$ data currently stored in 'height' and transform it into data from a $N(0,1)$ distribution and store it in another column called 'height_N01'.\n",
    "\n",
    "ii).  Create a **density** histogram of 'height_N01'.  Label your axes.\n"
   ]
  },
  {
   "cell_type": "code",
   "execution_count": 17,
   "metadata": {},
   "outputs": [],
   "source": [
    "# Solution to Part L here:\n"
   ]
  },
  {
   "cell_type": "markdown",
   "metadata": {},
   "source": [
    "## Part M\n",
    "\n",
    "***(8 points)*** \n",
    "\n",
    "i).  What percentage of students in the data are between 5 foot 6 inches and 6 feet tall, i.e. between 5'6''and 6'?\n",
    "\n",
    "\n",
    "ii).  Assuming height is normally distributed with mean and standard deviation calculated from the data, calculate the probability of being between 5 foot 6 inches and 6 feet tall using a normal distribution.   Then comment on how this answer compares to your answer in part (i)."
   ]
  },
  {
   "cell_type": "code",
   "execution_count": 18,
   "metadata": {},
   "outputs": [],
   "source": [
    "# Solution for Part M here:\n"
   ]
  },
  {
   "cell_type": "markdown",
   "metadata": {},
   "source": [
    "# Problem 2\n",
    "***\n",
    "\n",
    "You are at a picnic when you come across a cooler topped with ice so you can't see what drink you might randomly grab from the inside. The cooler happens to be filled with 12 clam juices and 12 cokes. \n",
    "\n",
    "A | B\n",
    "- | - \n",
    "![alt](clam.png) |![alt](coke.png)\n",
    "\n",
    "You decide you would like a delicious, refreshing drink on this hot picnic day. \n",
    "\n",
    "In fact, you decide you would like two drinks. \n",
    "\n",
    "So, you reach into the cooler and randomly grab the first of two beverages.\n",
    "\n",
    "The bottles feel remarkably similar, so there is no way to tell the difference until you have the drink in hand.\n",
    "\n",
    "- If you grab a Coke first, then you will drop that disgusting drink back into the icy water of the cooler and add 2 more warm clam juices to the cooler in order to increase the ratio for the next grab. \n",
    "- If, however, your first grab is a clam juice, then you will keep it and reach in for a second beverage.\n"
   ]
  },
  {
   "cell_type": "markdown",
   "metadata": {},
   "source": [
    "## Part A\n",
    "\n",
    "\n",
    "\n",
    "***(10 points)*** Write a simple simulation with 10,000 trials that estimates the probability that your ***first and second grabs are both Cokes***."
   ]
  },
  {
   "cell_type": "code",
   "execution_count": 19,
   "metadata": {},
   "outputs": [],
   "source": [
    "# Write your code for Part A here:\n"
   ]
  },
  {
   "cell_type": "markdown",
   "metadata": {},
   "source": [
    "### Part B\n",
    "Your friend Leroy Jenkins is at this same picnic. Leroy tends to run off from the group yelling his name every now and again. The issue is that Leroy can't hold his clam juice. Approximately 75% of the time when Leroy leaves he is actually going to get another clam juice, otherwise he is just off to use the restroom.\n",
    "\n",
    "You make a bet with your friends that out of the next 10 times that Leroy runs off screaming, he will be going to get another clam juice 7 or fewer of those ten times.\n",
    "\n",
    "Let $X$ be the random variable that is the number of times Leroy went to get a clam juice when he leaves in his next 10 excursions. So, $X$ can take on the values 0 thru 10. Assume that each trip away from the group is independent from all other trips and the probability of grabbing another clam juice is constant at 75%.\n",
    "\n",
    "***(8 points)*** \n",
    "\n",
    "i).  Write a function  that returns the **Cumulative Distribution Function (CDF)** of $X$ as a Numpy array.\n",
    "\n",
    "ii).  Use the function from part(i) to print out the **Cumulative Distribution Function (CDF)** of $X$ as a table (i.e. input values for $X$ given in one column and decimal outputs of the CDF given in the other column).   \n",
    "\n",
    "iii). What is the probability that you win the bet?  Explain how your answer relates to \n",
    "parts(i and/or ii).  "
   ]
  },
  {
   "cell_type": "code",
   "execution_count": 20,
   "metadata": {},
   "outputs": [],
   "source": [
    "# Solution to Part B \n"
   ]
  }
 ],
 "metadata": {
  "kernelspec": {
   "display_name": "Python 3 (ipykernel)",
   "language": "python",
   "name": "python3"
  },
  "language_info": {
   "codemirror_mode": {
    "name": "ipython",
    "version": 3
   },
   "file_extension": ".py",
   "mimetype": "text/x-python",
   "name": "python",
   "nbconvert_exporter": "python",
   "pygments_lexer": "ipython3",
   "version": "3.9.7"
  }
 },
 "nbformat": 4,
 "nbformat_minor": 2
}
