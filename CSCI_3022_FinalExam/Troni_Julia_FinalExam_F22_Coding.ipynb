{
 "cells": [
  {
   "cell_type": "markdown",
   "metadata": {},
   "source": [
    "\n",
    "# Final Exam, Coding\n",
    "***\n",
    "\n",
    "**DUE DATE and SUBMISSION INSTRUCTIONS:**\n",
    "\n",
    "This exam is due on Gradescope AND Canvas by **5:59PM on Thursday, December 8th**. \n",
    "\n",
    "- Upload a PDF of this notebook (with all cells run and all LaTex fully rendered) to Gradescope by **5:59PM on Thursday, December 8th**. \n",
    "\n",
    "- AND upload this Jupyter notebook to Canvas by **5:59PM on Thursday, December 8th**.  \n",
    "\n",
    "Late Submittals:   **Gradescope and Canvas will NOT accept any submissions after 5:59PM.  No late exams will be accepted**.\n",
    "\n",
    "\n",
    "**FORMAT:** \n",
    "\n",
    "- Your solutions to theoretical questions should be done in Markdown and LaTex directly below the associated question. \n",
    "\n",
    "- Your solutions to computational questions should include any specified Python code and results as well as written commentary on your conclusions.\n",
    "\n",
    "**HERE ARE THE RULES:** \n",
    "\n",
    "1. All work, code and analysis, must be your own. It really is that simple.\n",
    "1. Only work uploaded prior to the deadline will be considered.\n",
    "1. You MAY use your course notes, posted lecture slides, textbooks, in-class notebooks, and homework solutions as resources.  You may also search online for answers to general knowledge questions like the form of a probability distribution function or how to perform a particular operation in Python/Pandas. \n",
    "3. You may **NOT** copy-paste solutions *from anywhere*.\n",
    "2. You may **NOT** post to message boards or other online resources asking for help.\n",
    "4. You may **NOT** collaborate with classmates or anyone else. \n",
    "5. This is meant to be like a coding portion of your final exam. So, the instructional team will be much less helpful than we typically are with homework. For example, we will not check answers, help debug your code, and so on.\n",
    "6.  If you have a question for us, post it as a **PRIVATE** message on Piazza.  If we decide that the question is appropriate for the entire class, then we will add it to a  midterm clarifications thread. \n",
    "7. If something is left open-ended, it is because we want to see how you approach the kinds of problems you will encounter in the wild, where it will not always be clear what sort of tests/methods should be applied. Feel free to ask clarifying questions though.\n",
    "8. Please stick to software used/taught in this class: Pandas, NumPy, Python 3.9, etc.\n",
    "\n",
    "Violation of the above rules will result in an immediate academic sanction (you will receive an F in the course), and a trip to the Honor Code Council.\n",
    "\n",
    "**By submitting this assignment, you agree to abide by the rules given above.**\n",
    "\n",
    "***\n",
    "\n",
    "**Name**: Julia Troni \n",
    "\n",
    "***\n",
    "\n",
    "\n",
    "**NOTES**: \n",
    "\n",
    "- By the due date, turn in anything you have, there are no extensions, and some credit is better than no credit.  **DO NOT attempt your first upload at 5:00 PM** as you may encounter slow internet speeds or outages and again you will miss the upload and hence the entire exam. \n",
    "- Do **NOT** load or use any Python packages that are not available in Anaconda 3.9.  \n",
    "- This should go without saying, but... For any question that asks you to calculate something, you **must show all work to receive credit**. Sparse or nonexistent work will receive sparse or nonexistent credit.\n",
    "\n"
   ]
  },
  {
   "cell_type": "markdown",
   "metadata": {},
   "source": [
    "\n",
    "On this exam we are looking for $\\color{red}{\\text{HOW}}$ you answer questions and not necessarily $\\color{red}{\\text{WHAT}}$ you put for an answer. \n",
    "\n",
    "Tell the grader where to look for your answer and which question the work goes with.\n",
    "\n",
    "Be thorough, but be concise.\n",
    "\n",
    "Use full sentences and proper grammar and correct spelling.\n",
    "\n",
    "Comment your code.\n",
    "\n",
    "Demonstrate $\\color{red}{\\text{BOTH}}$ what you know about the question $\\color{red}{\\text{AND}}$ the coding you used to answer the question\n"
   ]
  },
  {
   "cell_type": "markdown",
   "metadata": {},
   "source": [
    "---\n",
    "**Shortcuts:**   [Example Question](#Ex) | [Imports](#Imp) | [Assessing Normality Tips](#Norm) | [Problem 1](#p1) | [Problem 2](#p2) | [Problem 3](#p3) |\n",
    "|  [Problem 4](#p4) | [Problem 5](#p5) | [Problem 6](#p6) |\n",
    "[Problem 7](#p7)\n",
    "\n",
    "---"
   ]
  },
  {
   "cell_type": "markdown",
   "metadata": {},
   "source": [
    "<a id='Ex'></a>\n",
    "# $\\color{red}{\\text{Example question}}$\n",
    "\n",
    "What values of $x$ solve the equation: $\\phantom{xx}x^2-5x=-6$?\n",
    "\n",
    "Solve analytically and then create a plot supporting your answer."
   ]
  },
  {
   "cell_type": "markdown",
   "metadata": {},
   "source": [
    "### $\\color{red}{\\text{This correct answer would be worth zero points}}$\n",
    "\n",
    "$x=2$ and $x=3$"
   ]
  },
  {
   "cell_type": "markdown",
   "metadata": {},
   "source": [
    "# $\\color{red}{\\text{This answer would be worth full points}}:$\n",
    "\n",
    "\n",
    "Solution to Example Question:\n",
    "\n",
    "$x^2-5x=-6$ can be factored after $-6$ is added to both sides.\n",
    "\n",
    "$(x-2)(x-3)=0$. The zero product property reveals that $\\boxed{x=2}$ or $\\boxed{x=3}$.\n",
    "\n",
    "This equation has two solutions as its graph crosses the x-axis twice as seen below."
   ]
  },
  {
   "cell_type": "code",
   "execution_count": 1,
   "metadata": {},
   "outputs": [
    {
     "data": {
      "text/plain": [
       "[<matplotlib.lines.Line2D at 0x2414b3ee2e0>]"
      ]
     },
     "execution_count": 1,
     "metadata": {},
     "output_type": "execute_result"
    },
    {
     "data": {
      "image/png": "[encoded data removed]",
      "text/plain": [
       "<Figure size 432x288 with 1 Axes>"
      ]
     },
     "metadata": {
      "needs_background": "light"
     },
     "output_type": "display_data"
    }
   ],
   "source": [
    "# AND HERE IS MY COMMENTED CODE TO GO WITH THE EXAMPLE QUESTION #1:\n",
    "\n",
    "import numpy\n",
    "import matplotlib.pylab as draw\n",
    "%matplotlib inline\n",
    "# matplotlib.pylab is used for plotting. 'inline' ensures the graph opens in Jupyter.\n",
    "\n",
    "x = numpy.linspace(1,4,100)\n",
    "# 'linspace' returns evenly spaced numbers over a specified interval\n",
    "\n",
    "y = x**2-5*x+6\n",
    "z = 0*x\n",
    "draw.plot(x,y)\n",
    "# This is the parabola\n",
    "\n",
    "draw.plot(x,z, ':')\n",
    "# This is the x-axis.\n",
    "\n",
    "draw.plot(2,0, marker=\"o\", markersize=5, markeredgecolor=\"red\", markerfacecolor=\"green\")\n",
    "draw.plot(3,0, marker=\"o\", markersize=5, markeredgecolor=\"red\", markerfacecolor=\"green\")\n",
    "# These last two 'draw' commands show the intersection of the parabola and the x-axis.\n",
    "# The intersections are the sought after solutions. See graph below.\n"
   ]
  },
  {
   "cell_type": "markdown",
   "metadata": {},
   "source": [
    "<a id='Imp'></a>\n",
    "# Begin Final Exam (Coding) Here\n",
    "***\n",
    "\n",
    "Here are some imports that were used in the construction of the answer key. DO NOT change the `random.seed()` value."
   ]
  },
  {
   "cell_type": "code",
   "execution_count": 2,
   "metadata": {},
   "outputs": [],
   "source": [
    "import numpy as np \n",
    "from scipy import stats\n",
    "import statsmodels.api as sm \n",
    "import pandas as pd\n",
    "import matplotlib.pylab as plt \n",
    "from scipy.stats import skew, kurtosis, norm\n",
    "import seaborn\n",
    "%matplotlib inline\n",
    "from sklearn.linear_model import LinearRegression\n",
    "from statsmodels.stats.multicomp import MultiComparison\n",
    "almostblack = np.array([10,10,10])/255\n",
    "mycolor = np.array([140,180,10])/255\n",
    "import random\n",
    "random.seed(8675309)\n"
   ]
  },
  {
   "cell_type": "markdown",
   "metadata": {},
   "source": [
    "<a id='Norm'></a>\n",
    "### Note Regarding Assessing Normality:\n",
    "\n",
    "You are asked to comment on the distribution of various datasets in this assignment. Also, you may, or may not, want to make decisions based on the normality of your data distribution. \n",
    "\n",
    "If it is helpful, you might consider using:\n",
    "\n",
    "`from scipy.stats import skew, kurtosis`\n",
    "\n",
    "You can verify how 'normal' your Pandas data set (named dfData) is by doing something like this:\n",
    "\n",
    "`print(skew(dfData))`\n",
    "\n",
    "`print(kurtosis(dfData))`\n",
    "\n",
    "\n",
    "#### The general rules you can use when assessing normality:\n",
    "\n",
    "If the skewness is between -0.5 and 0.5, the data are $\\color{green}{\\text{fairly symmetrical}}$.\n",
    "\n",
    "If the skewness is between -1 and – 0.5 or between 0.5 and 1, the data are $\\color{blue}{\\text{moderately skewed}}$.\n",
    "\n",
    "If the skewness is less than -1 or greater than 1, the data are $\\color{red}{\\text{highly skewed}}$.\n",
    "\n",
    "An excess kurtosis above 0 indicates the $\\color{blue}{\\text{tails are heavier than the normal distribution}}$.\n",
    "\n",
    "An excess kurtosis below 0 indicates the $\\color{blue}{\\text{tails are lighter than the normal distribution}}$.\n",
    "\n",
    "An excess kurtosis value of 1 and above or -1 and below represents a $\\color{red}{\\text{sizable departure from normality}}$.\n",
    "\n",
    "##### Commenting on how 'normal' your distributions are in this exam by using `skew` and `kurtosis`  values can only gain you more points for your description. "
   ]
  },
  {
   "cell_type": "markdown",
   "metadata": {},
   "source": [
    "<a id='p1'></a>\n",
    "# Problem 1\n",
    "\n",
    "For this problem you are welcome to use any built-in methods/functions we have used in class.  If a built-in function/method outputs summary statistics or other useful output variables you can use that output directly when answering any questions below UNLESS otherwise specified in the problem (i.e. unless we tell you in the problem to write code to calculate a particular statistic from scratch based on its definition, you can just get that statistic/info from the output of a built-in method/function).\n",
    "\n",
    "\n",
    "***\n",
    "Your friend owns a franchise business that sells and rents stand-up paddleboards.  \n",
    "They have expanded their business and opened up shops in 95 different towns across the U.S.\n",
    "They have collected data from each of their shops and have asked you to analyze the data.\n",
    "The data is in the file `paddle.csv`"
   ]
  },
  {
   "cell_type": "markdown",
   "metadata": {},
   "source": [
    " ***Import the data set `paddle.csv`, and take a look at it.***"
   ]
  },
  {
   "cell_type": "code",
   "execution_count": 3,
   "metadata": {},
   "outputs": [
    {
     "data": {
      "text/html": [
       "<div>\n",
       "<style scoped>\n",
       "    .dataframe tbody tr th:only-of-type {\n",
       "        vertical-align: middle;\n",
       "    }\n",
       "\n",
       "    .dataframe tbody tr th {\n",
       "        vertical-align: top;\n",
       "    }\n",
       "\n",
       "    .dataframe thead th {\n",
       "        text-align: right;\n",
       "    }\n",
       "</style>\n",
       "<table border=\"1\" class=\"dataframe\">\n",
       "  <thead>\n",
       "    <tr style=\"text-align: right;\">\n",
       "      <th></th>\n",
       "      <th>lakes</th>\n",
       "      <th>pop</th>\n",
       "      <th>advertising</th>\n",
       "      <th>competitors</th>\n",
       "      <th>sales</th>\n",
       "    </tr>\n",
       "  </thead>\n",
       "  <tbody>\n",
       "    <tr>\n",
       "      <th>0</th>\n",
       "      <td>1</td>\n",
       "      <td>63</td>\n",
       "      <td>4.3</td>\n",
       "      <td>1</td>\n",
       "      <td>14.1</td>\n",
       "    </tr>\n",
       "    <tr>\n",
       "      <th>1</th>\n",
       "      <td>1</td>\n",
       "      <td>25</td>\n",
       "      <td>10.8</td>\n",
       "      <td>2</td>\n",
       "      <td>19.0</td>\n",
       "    </tr>\n",
       "    <tr>\n",
       "      <th>2</th>\n",
       "      <td>1</td>\n",
       "      <td>40</td>\n",
       "      <td>11.8</td>\n",
       "      <td>2</td>\n",
       "      <td>19.8</td>\n",
       "    </tr>\n",
       "    <tr>\n",
       "      <th>3</th>\n",
       "      <td>1</td>\n",
       "      <td>89</td>\n",
       "      <td>9.6</td>\n",
       "      <td>0</td>\n",
       "      <td>19.9</td>\n",
       "    </tr>\n",
       "    <tr>\n",
       "      <th>4</th>\n",
       "      <td>1</td>\n",
       "      <td>33</td>\n",
       "      <td>6.4</td>\n",
       "      <td>2</td>\n",
       "      <td>22.4</td>\n",
       "    </tr>\n",
       "  </tbody>\n",
       "</table>\n",
       "</div>"
      ],
      "text/plain": [
       "   lakes  pop  advertising  competitors  sales\n",
       "0      1   63          4.3            1   14.1\n",
       "1      1   25         10.8            2   19.0\n",
       "2      1   40         11.8            2   19.8\n",
       "3      1   89          9.6            0   19.9\n",
       "4      1   33          6.4            2   22.4"
      ]
     },
     "execution_count": 3,
     "metadata": {},
     "output_type": "execute_result"
    }
   ],
   "source": [
    "# 'dfPaddle' is a dataframe containing padddle data\n",
    "dfPaddle = pd.read_csv(\"paddle.csv\")\n",
    "\n",
    "# Lets take a look at the data.\n",
    "dfPaddle.head()"
   ]
  },
  {
   "cell_type": "markdown",
   "metadata": {},
   "source": [
    "### Data Description:\n",
    "The data file contains the following data for each of the 95 shops:\n",
    "\n",
    "`lakes` -  The number of lakes or reservoirs within a 50 mile radius of the shop.\n",
    "\n",
    "`pop` - Population density of the town where the shop is located (people per square mile).\n",
    "\n",
    "`advertising` - The shop's annual amount spent on advertising/promotions (in thousands of dollars).\n",
    "\n",
    "`competitors` - The number of competing stores within a 50 mile radius of the shop.\n",
    "\n",
    "`sales` - The shop's annual net sales revenue (in thousands of dollars)."
   ]
  },
  {
   "cell_type": "markdown",
   "metadata": {},
   "source": [
    "## Single-Predictor Regression\n",
    "\n",
    "\n",
    "\n",
    "### [1] Part A) A naive model\n",
    "\n",
    "Your friend says that since stand-up paddleboarding is a water activity, they would expect annual sales revenue to be dependent on the number of lakes/reservoirs in the region near a given shop.  \n",
    "\n",
    "Your task: \n",
    "- ***(i) (2 points):  Make a simple linear regression (SLR) model with `sales` as the response, predicted by the variable `lakes`.***    \n",
    "\n",
    "- ***Then write the equation for the model in a markdown cell.***\n",
    "\n"
   ]
  },
  {
   "cell_type": "code",
   "execution_count": 4,
   "metadata": {},
   "outputs": [
    {
     "name": "stdout",
     "output_type": "stream",
     "text": [
      "Fitted Model: Y = -0.97230x + 24.63378\n",
      "p-value = 0.0004588002776241505\n",
      "correlation coefficient (r-value) = -0.3525283085559543\n",
      "r^2 = 0.12427620833332212\n",
      "stderr = 0.2676392946370296\n"
     ]
    }
   ],
   "source": [
    "#Use the stats.linregress dot-function to fit a linear regression model for the data\n",
    "bhat, ahat, rval, pval, stderr = stats.linregress(\n",
    "    dfPaddle[\"lakes\"], dfPaddle[\"sales\"])\n",
    "  # bhat is slope. \n",
    "  # ahat is y-intercept\n",
    "  # rval is correlation coefficient\n",
    "  # pval is the p-value for slope\n",
    "  # stderr is the standard error for slope CI\n",
    "    \n",
    "print(\"Fitted Model: Y = {:.5f}x + {:.5f}\".format(bhat, ahat))\n",
    "print(\"p-value = {}\".format(pval)) ## p value for slope\n",
    "print(\"correlation coefficient (r-value) = {}\".format(rval)) #correlatioin coeff\n",
    "print(\"r^2 = {}\".format(rval*rval)) \n",
    "print(\"stderr = {}\".format(stderr))\n"
   ]
  },
  {
   "cell_type": "markdown",
   "metadata": {},
   "source": [
    "\n",
    "The regression equation (line of best fit) is:  $$\\phantom{xxx}\\hat{y} = \\alpha + \\beta x= 24.63378 -0.97230x $$\n",
    "\n",
    "The slope is: $\\phantom{xx}\\beta =-0.972$.\n",
    "\n",
    "The y-intercept is: $\\phantom{xx}\\alpha = 24.633$.\n",
    "\n",
    "$r =  -0.3525$ which indicates a slight decreasing relationship. \n"
   ]
  },
  {
   "cell_type": "markdown",
   "metadata": {},
   "source": [
    "Alternatively, a SLR model created with OLS yields the same results"
   ]
  },
  {
   "cell_type": "code",
   "execution_count": 5,
   "metadata": {},
   "outputs": [
    {
     "name": "stdout",
     "output_type": "stream",
     "text": [
      "                            OLS Regression Results                            \n",
      "==============================================================================\n",
      "Dep. Variable:                  sales   R-squared:                       0.124\n",
      "Model:                            OLS   Adj. R-squared:                  0.115\n",
      "Method:                 Least Squares   F-statistic:                     13.20\n",
      "Date:                Thu, 08 Dec 2022   Prob (F-statistic):           0.000459\n",
      "Time:                        14:30:40   Log-Likelihood:                -295.44\n",
      "No. Observations:                  95   AIC:                             594.9\n",
      "Df Residuals:                      93   BIC:                             600.0\n",
      "Df Model:                           1                                         \n",
      "Covariance Type:            nonrobust                                         \n",
      "==============================================================================\n",
      "                 coef    std err          t      P>|t|      [0.025      0.975]\n",
      "------------------------------------------------------------------------------\n",
      "const         24.6338      1.224     20.120      0.000      22.203      27.065\n",
      "lakes         -0.9723      0.268     -3.633      0.000      -1.504      -0.441\n",
      "==============================================================================\n",
      "Omnibus:                        0.536   Durbin-Watson:                   0.905\n",
      "Prob(Omnibus):                  0.765   Jarque-Bera (JB):                0.662\n",
      "Skew:                           0.046   Prob(JB):                        0.718\n",
      "Kurtosis:                       2.602   Cond. No.                         10.3\n",
      "==============================================================================\n",
      "\n",
      "Notes:\n",
      "[1] Standard Errors assume that the covariance matrix of the errors is correctly specified.\n"
     ]
    },
    {
     "name": "stderr",
     "output_type": "stream",
     "text": [
      "C:\\Users\\julia\\anaconda3\\lib\\site-packages\\statsmodels\\tsa\\tsatools.py:142: FutureWarning: In a future version of pandas all arguments of concat except for the argument 'objs' will be keyword-only\n",
      "  x = pd.concat(x[::order], 1)\n"
     ]
    }
   ],
   "source": [
    "X= dfPaddle[\"lakes\"]\n",
    "# Add constant column to X \n",
    "X = sm.add_constant(X)\n",
    "\n",
    "y=dfPaddle[\"sales\"]\n",
    "\n",
    "# Fit OLS model \n",
    "#OLS is the regression model for SLR. OLS, \"Ordinary Least Squares\"\n",
    "olsmodel = sm.OLS(y, X).fit() \n",
    "\n",
    "# Print model summary \n",
    "print(olsmodel.summary())"
   ]
  },
  {
   "cell_type": "markdown",
   "metadata": {},
   "source": [
    "Thus the model is \n",
    "\n",
    "$\n",
    "\\texttt{sales} = \\text{ 24.6338} - 0.9723 3 \\times \\texttt{lakes} $"
   ]
  },
  {
   "cell_type": "markdown",
   "metadata": {},
   "source": [
    " - ***(ii) (3 points) Make a series of 3 side-by-side plots (described below).  \n",
    "Title each plot and label your axes on each plot.*** \n",
    "\n",
    "  - ***Lefthand plot: scatter plot of the data (i.e. lakes vs sales) and overlay the simple linear regression line you found above***.  \n",
    "\n",
    "  - ***Middle plot: frequency histogram of residuals of your SLR model.***  \n",
    "\n",
    "  - ***Righthand plot: scatter plot where the lake data values are the x-axis and the model residuals are the y-axis.***\n"
   ]
  },
  {
   "cell_type": "code",
   "execution_count": 6,
   "metadata": {},
   "outputs": [
    {
     "data": {
      "image/png": "[encoded data removed]",
      "text/plain": [
       "<Figure size 1296x360 with 3 Axes>"
      ]
     },
     "metadata": {
      "needs_background": "light"
     },
     "output_type": "display_data"
    }
   ],
   "source": [
    "# initialize the figure.\n",
    "fig, axs = plt.subplots(nrows=1, ncols=3, figsize=(18,5))\n",
    "\n",
    "##################################################\n",
    "# Lefthand plot: scatter plot of the data (i.e. lakes vs sales) \n",
    "# with overlay of the simple linear regression line\n",
    "\n",
    "# Create a scatterplot with lakes as the independent (predictor) variable and\n",
    "# sales  as the dependent (respondse) variable.\n",
    "axs[0].scatter(dfPaddle[\"lakes\"], dfPaddle[\"sales\"], color=\"steelblue\")\n",
    "\n",
    "# Make the graph pretty.\n",
    "axs[0].set_ylim([0,40]);\n",
    "axs[0].set_xlabel(\"Lakes\", fontsize=16)\n",
    "axs[0].set_ylabel(\"Sales\", fontsize=16);\n",
    "axs[0].set_title(\"Number of Lakes vs Sales\")\n",
    "    \n",
    "# Plot (in purple) the regression line ('x' values, regression values),\n",
    "axs[0].plot(dfPaddle[\"lakes\"], ahat + bhat*dfPaddle[\"lakes\"], color=\"red\");\n",
    "\n",
    "##################################################\n",
    "#Middle plot: frequency histogram of residuals of your SLR model.\n",
    "\n",
    "seaborn.histplot(x=olsmodel.resid, stat=\"frequency\", ax= axs[1], color= \"purple\")\n",
    "# Make the graph pretty.\n",
    "axs[1].set_xlabel(\"Residuals\", fontsize=16)\n",
    "axs[1].set_ylabel(\"Frequency\", fontsize=16);\n",
    "axs[1].set_title(\"Frequency of Residuals\")\n",
    "\n",
    "\n",
    "#######################################\n",
    "#Righthand plot: scatter plot where the lake data values\n",
    "#are the x-axis and the model residuals are the y-axis.\n",
    "\n",
    "seaborn.residplot(x='lakes', y='sales', data=dfPaddle, color= \"green\", ax=axs[2])\n",
    "axs[2].set_xlabel(\"Lake\", fontsize=16)\n",
    "axs[2].set_ylabel(\"Residuals\", fontsize=16);\n",
    "axs[2].set_title(\"Number of Lakes vs. Model Residuals\")\n",
    "\n",
    "plt.show()"
   ]
  },
  {
   "cell_type": "markdown",
   "metadata": {},
   "source": [
    " - ***(iii). (2 points) Does this model seem appropriate?  For each of the 4 major assumptions of a simple linear regression model, use your plots in part (ii) to decide whether or not the dataset meets those assumptions.***\n",
    "\n"
   ]
  },
  {
   "cell_type": "markdown",
   "metadata": {},
   "source": [
    "Assumptions for doing inference on slope:\n",
    "\n",
    "-- $\\color{blue}{\\text{Linear}}$: Yes, looking at the plot of Sales vs Lakes, we see the relationship between the independent variable (lakes) and the dependent variable (sales) is in fact linear.\n",
    "\n",
    "Since this assumption hold, we will investigate the errors\n",
    "\n",
    "\n",
    "\n",
    "-- $\\color{blue}{\\text{Independent errors}}$:\n",
    "Yes as observed in the scatter plot of residuals, the errors do not show a relationship to one another and hence we can say are independent\n",
    "\n",
    "-- $\\color{blue}{\\text{Normally distributed errors}}$: \n",
    "Yes. From the histogram of residuals, we see that the errors appear to be normally distributed. We can verify this by checking the skew. Since the skew of the residuals is only 0.045 which is is between -0.5 and 0.5, we can say the data is fairly symmetrical, and hence normal enough to satisfy the assumption\n",
    "\n",
    "-- $\\color{blue}{\\text{Equal Variance (homoscedastic errors)}}$: \n",
    "Yes this assumption holds because the scatter plot of residuals does not show signs of fanning\n",
    "\n",
    "-- $\\color{blue}{\\text{Random errors}}$: Yes, looking at the scatter plot of residuals, there is no bias in the errors and they are randomly distributed \n"
   ]
  },
  {
   "cell_type": "code",
   "execution_count": 7,
   "metadata": {},
   "outputs": [
    {
     "name": "stdout",
     "output_type": "stream",
     "text": [
      "The skew of the errors is  0.04574988353794144\n"
     ]
    }
   ],
   "source": [
    "errorSkew= skew(olsmodel.resid)\n",
    "errorKurt= kurtosis(olsmodel.resid)\n",
    "print(\"The skew of the errors is \", errorSkew)"
   ]
  },
  {
   "cell_type": "markdown",
   "metadata": {},
   "source": [
    "\n"
   ]
  },
  {
   "cell_type": "markdown",
   "metadata": {},
   "source": [
    "### [1] Part B\n",
    " "
   ]
  },
  {
   "cell_type": "markdown",
   "metadata": {},
   "source": [
    "***(2 points) What is the meaning of the slope in the model in terms of the variables in the dataset?  Based on the physical meaning of the variables, does the value of this slope seem reasonable or does it surprise you?  Explain.***\n"
   ]
  },
  {
   "cell_type": "markdown",
   "metadata": {},
   "source": [
    "The slope is: $\\phantom{xx}\\beta =-0.972$ which indicates that as the number of lakes/reservoirs in the region increases by 1, the shop revenue decreases by 0.972 (since this is in thousands of dollars, this is really $972 )\n",
    "\n",
    "This surprises me, becasue I would expect annual sales revenue to have a positive relationship with the number of lakes/reservoirs in the region. In other words, I would expect sales to increase as the number of lakes increases "
   ]
  },
  {
   "cell_type": "markdown",
   "metadata": {},
   "source": [
    "### [1] Part C\n",
    "***Your friend would like to know if there's sufficient evidence from this model to conclude that the number of nearby lakes/reservoirs is a statistically significant linear predictor of sales revenue.  You decide to do a hypothesis test at the  $\\alpha = 0.05$ significance level.***\n",
    "\n",
    "- ***(i). (1 points)  State the null and alternate hypotheses for your test.***\n"
   ]
  },
  {
   "cell_type": "markdown",
   "metadata": {},
   "source": [
    "\n",
    "I will perform a hypothesis test at the $\\alpha = 0.05$ significance level to determine if the observed relationship between the lakes and the sales is real by testing the hypothesis:\n",
    "$$\n",
    "H_0: \\beta = 0 \\\\\n",
    "H_1: \\beta \\neq 0 \n",
    "$$"
   ]
  },
  {
   "cell_type": "markdown",
   "metadata": {},
   "source": [
    "- ***(ii). (1 points) What is the appropriate test (by name, not formula) to use for this, and what are the degrees of freedom?***"
   ]
  },
  {
   "cell_type": "markdown",
   "metadata": {},
   "source": [
    "To test our hypothesis we can use either of the following 2 methods:\n",
    "\n",
    "1) Compute the 95% CI to find rejection regioun then see if the test statistic lies in the rejection region\n",
    "\n",
    "2) Compute p-value and compare to alpha\n",
    "\n",
    "\n",
    "The degrees of freedom are n-2 where n is number of data points. This is becasue start with the sample size (n) then lose 1 df for the intercept and 1 df for the predictor variable (which is lakes here) \n"
   ]
  },
  {
   "cell_type": "markdown",
   "metadata": {},
   "source": [
    "- ***(iii). (2 points) Calculate the critical value and state the decision rule for this test at an alpha level of 5%.***  \n",
    " \n"
   ]
  },
  {
   "cell_type": "code",
   "execution_count": 8,
   "metadata": {},
   "outputs": [],
   "source": [
    "#calculates the critical values at the 95% confidence level  \n",
    "    # given stander error stderr\n",
    "    # and slope of the regression line, bhat\n",
    "def CritVal(bhat, stderr):\n",
    "    \n",
    "    #find critical values\n",
    "    criticalval= stats.t.ppf(1-0.05/2,len(dfPaddle)-2)\n",
    "    critvals= -criticalval, criticalval\n",
    "    print(\"The critical values are \", critvals)\n",
    "   \n",
    "    #find test statistic\n",
    "    teststat= (bhat-0)/stderr\n",
    "    print(\"The test statistic is \", teststat)\n",
    "    \n",
    "    #compare the test statistic to critical values \n",
    "    if (teststat < -criticalval) or (teststat> criticalvalue):\n",
    "        print(\"The test statistic IS in the rejection region, so we can reject null hypothesis\")\n",
    "    else :\n",
    "        print(\"Cannot reject null\")"
   ]
  },
  {
   "cell_type": "code",
   "execution_count": 9,
   "metadata": {},
   "outputs": [
    {
     "name": "stdout",
     "output_type": "stream",
     "text": [
      "The critical values are  (-1.9858018142395026, 1.9858018142395026)\n",
      "The test statistic is  -3.6328870640805593\n",
      "The test statistic IS in the rejection region, so we can reject null hypothesis\n"
     ]
    }
   ],
   "source": [
    "CritVal(bhat,stderr)"
   ]
  },
  {
   "cell_type": "markdown",
   "metadata": {},
   "source": [
    "Since the test statistic = -3.6328 which lies in the rejection region, we can reject the null hypothesis and conclude with 95% confidence that $\\beta \\neq 0$ and the observed relationship between the lakes and the sales is real and it does have a significant linear relationship "
   ]
  },
  {
   "cell_type": "markdown",
   "metadata": {},
   "source": [
    " - ***(iv). (2 points) What is the test statistic, p-value, and conclusion of your hypothesis test?***\n"
   ]
  },
  {
   "cell_type": "code",
   "execution_count": 10,
   "metadata": {},
   "outputs": [
    {
     "name": "stdout",
     "output_type": "stream",
     "text": [
      "test statistic T is -3.6328870640805593\n",
      "pval =  0.0004588002776241505\n",
      "The p-value is less than 𝛼=0.05. Sufficient evidence to reject null hypothesis\n"
     ]
    }
   ],
   "source": [
    "#Function perform hypothesis test with pvalues at alpha=0.05\n",
    "    # bhat is slope of regression line \n",
    "    #stderr is standard error \n",
    "def PValueTest(bhat, stderr):\n",
    "    #calculate test statistic\n",
    "    ts= (bhat - 0)/stderr\n",
    "    #calculate p value \n",
    "    if (bhat >0):\n",
    "        p=2*(1-stats.t.cdf(ts,df=len(dfPaddle)-2))\n",
    "    else:\n",
    "        p=2*(stats.t.cdf(ts,df=len(dfPaddle)-2))\n",
    "\n",
    "    print(\"test statistic T is {}\".format(ts))\n",
    "   \n",
    "    print(\"pval = \", p)\n",
    "    \n",
    "    #compare pvalue to alpha\n",
    "    if (p < 0.05):\n",
    "        print(\"The p-value is less than 𝛼=0.05. Sufficient evidence to reject null hypothesis\")\n",
    "    else:\n",
    "        print(\"Fail to reject null\")\n",
    "       \n",
    "PValueTest(bhat,stderr)"
   ]
  },
  {
   "cell_type": "markdown",
   "metadata": {},
   "source": [
    "Since the pvalue for the test statistic = 0.00045 <  $\\alpha = 0.05$, we can reject the null hypothesis and conclude with 95% confidence that $\\beta \\neq 0$ and the observed relationship between the lakes and the sales is real and it does have a significant linear relationship "
   ]
  },
  {
   "cell_type": "markdown",
   "metadata": {},
   "source": [
    "Thus the two conclusions from both methods for testing the null hypothesis are the same"
   ]
  },
  {
   "cell_type": "markdown",
   "metadata": {},
   "source": [
    "### [1] Part D\n",
    "***(3 points) What percent of total variation in sales revenue can be explained by the number of nearby lakes/reservoirs? Explain.***\n",
    "\n"
   ]
  },
  {
   "cell_type": "markdown",
   "metadata": {},
   "source": [
    "\n",
    "\n",
    "The correlation coefficient, $r$, measures the linear dependence, or the the linear correlation, between the predictor and the response variable.\n",
    "\n",
    "From that we can get $R^2$ which is the coefficent of determination. It measures the proportion of variation in the dependent variable, $y$, that can be attributed to the independet variable, $x$. In other words, it shows the strength of relationshop between the model and dependent variable $x$ on 0-100% scale. \n",
    "\n",
    "Above, I evaluated the resiualed plots and determined that the model is NOT biased. So I can now assess the $R^2$ of the model.\n",
    "\n",
    "\n",
    "The $R^2= 0.1242$, which means only 12.42% of the total variation  in sales revenue can be explained by the number of nearby lakes/reservoirs. Generally for the physical sciences, we would like to see a $R^2 > 0.5$, Since 0.12 is significantly smaller than that, there is not a very strong relationship between sales revenue and nearby lakes "
   ]
  },
  {
   "cell_type": "markdown",
   "metadata": {},
   "source": [
    "<a id='p2'></a>\n",
    "#  Problem 2: Go Big-  Multiple Linear Regression\n",
    "\n",
    "\n",
    "For this problem you are welcome to use any built-in methods/functions we have used in class.  If a built-in method outputs summary statistics or other useful output variables you can use that output directly when answering any questions below UNLESS otherwise specified in the problem (i.e. unless we tell you in the problem to write code to calculate a particular statistic from scratch based on its definition, you can just get that statistic/info from the output of a built-in method/function).\n",
    "\n",
    "\n",
    "***\n",
    "\n",
    "\n",
    "You feel unsatisfied with the results from the model in Problem 1.    \n",
    "\n",
    "Problem 2 will involve steps to improve your model from Problem 1 using Multiple Linear Regression (MLR).  \n",
    "\n",
    "We will continue working with the same dataset from Problem 1 (paddle.csv) throughout this problem.\n",
    "\n",
    "\n",
    "\n",
    "In an effort to improve the model from Problem 1, you decide to add in one additional predictor.  To determine which predictor to add next you start with some scatterplots of the dataset.  \n"
   ]
  },
  {
   "cell_type": "markdown",
   "metadata": {},
   "source": [
    "### [2] Part A:  Explore\n",
    "\n",
    " - ***(i). (1 point) Use the function `seaborn.pairplot` to create pairwise scatterplots of the continuous predictors/covariates in the paddle.csv data, both against each other and against the outcome (sales). https://seaborn.pydata.org/generated/seaborn.pairplot.html***"
   ]
  },
  {
   "cell_type": "code",
   "execution_count": 11,
   "metadata": {},
   "outputs": [
    {
     "data": {
      "text/plain": [
       "<seaborn.axisgrid.PairGrid at 0x24150488220>"
      ]
     },
     "execution_count": 11,
     "metadata": {},
     "output_type": "execute_result"
    },
    {
     "data": {
      "image/png": "[encoded data removed]",
      "text/plain": [
       "<Figure size 900x900 with 30 Axes>"
      ]
     },
     "metadata": {
      "needs_background": "light"
     },
     "output_type": "display_data"
    }
   ],
   "source": [
    "#Uncomment the code below and replace the input with the name of your dataframe from Question 1\n",
    "seaborn.pairplot(dfPaddle)"
   ]
  },
  {
   "cell_type": "markdown",
   "metadata": {},
   "source": [
    " - ***(ii). (2 points)  Based on your scatterplots, which (if any) explanatory variable(s) appear to have a linear relationship with sales revenue?  Explain.***  "
   ]
  },
  {
   "cell_type": "markdown",
   "metadata": {},
   "source": [
    "Advertising, competitors, and lakes appear to have a linear relationship with sales revenue. \n",
    "\n",
    "Advertising which is positive linear appears to have the strongest linear relationship with sales. Next, competitors shows the second most significant linear relationship with sales (negative). Lakes shows a slight negative linear relationship. Populations does NOT show a significant linear relationship to be considered"
   ]
  },
  {
   "cell_type": "markdown",
   "metadata": {},
   "source": [
    "\n",
    " - ***(iii). (2 points) Do any of the explanatory variables exhibit collinearity?    Explain.***"
   ]
  },
  {
   "cell_type": "markdown",
   "metadata": {},
   "source": [
    "Number of lakes and competitors exhibit collinearity.\n",
    "\n",
    "This is shown in the scatterplots since we can see that number of lakes and competitors both have the same effect on the sales revenue (negative linear relationship). Also the scatter plot between number of lakes and competitors shows a significant linear relationship between lakes and competitors.\n",
    "\n",
    "We can verify this by checking the correlation matrix and indeed lakes and competitors shows high correlation constant of 0.895413"
   ]
  },
  {
   "cell_type": "code",
   "execution_count": 12,
   "metadata": {},
   "outputs": [
    {
     "data": {
      "text/html": [
       "<div>\n",
       "<style scoped>\n",
       "    .dataframe tbody tr th:only-of-type {\n",
       "        vertical-align: middle;\n",
       "    }\n",
       "\n",
       "    .dataframe tbody tr th {\n",
       "        vertical-align: top;\n",
       "    }\n",
       "\n",
       "    .dataframe thead th {\n",
       "        text-align: right;\n",
       "    }\n",
       "</style>\n",
       "<table border=\"1\" class=\"dataframe\">\n",
       "  <thead>\n",
       "    <tr style=\"text-align: right;\">\n",
       "      <th></th>\n",
       "      <th>lakes</th>\n",
       "      <th>pop</th>\n",
       "      <th>advertising</th>\n",
       "      <th>competitors</th>\n",
       "      <th>sales</th>\n",
       "    </tr>\n",
       "  </thead>\n",
       "  <tbody>\n",
       "    <tr>\n",
       "      <th>lakes</th>\n",
       "      <td>1.000000</td>\n",
       "      <td>0.138156</td>\n",
       "      <td>-0.128524</td>\n",
       "      <td>0.895413</td>\n",
       "      <td>-0.352528</td>\n",
       "    </tr>\n",
       "    <tr>\n",
       "      <th>pop</th>\n",
       "      <td>0.138156</td>\n",
       "      <td>1.000000</td>\n",
       "      <td>-0.114839</td>\n",
       "      <td>0.080539</td>\n",
       "      <td>-0.063142</td>\n",
       "    </tr>\n",
       "    <tr>\n",
       "      <th>advertising</th>\n",
       "      <td>-0.128524</td>\n",
       "      <td>-0.114839</td>\n",
       "      <td>1.000000</td>\n",
       "      <td>-0.079184</td>\n",
       "      <td>0.824864</td>\n",
       "    </tr>\n",
       "    <tr>\n",
       "      <th>competitors</th>\n",
       "      <td>0.895413</td>\n",
       "      <td>0.080539</td>\n",
       "      <td>-0.079184</td>\n",
       "      <td>1.000000</td>\n",
       "      <td>-0.377028</td>\n",
       "    </tr>\n",
       "    <tr>\n",
       "      <th>sales</th>\n",
       "      <td>-0.352528</td>\n",
       "      <td>-0.063142</td>\n",
       "      <td>0.824864</td>\n",
       "      <td>-0.377028</td>\n",
       "      <td>1.000000</td>\n",
       "    </tr>\n",
       "  </tbody>\n",
       "</table>\n",
       "</div>"
      ],
      "text/plain": [
       "                lakes       pop  advertising  competitors     sales\n",
       "lakes        1.000000  0.138156    -0.128524     0.895413 -0.352528\n",
       "pop          0.138156  1.000000    -0.114839     0.080539 -0.063142\n",
       "advertising -0.128524 -0.114839     1.000000    -0.079184  0.824864\n",
       "competitors  0.895413  0.080539    -0.079184     1.000000 -0.377028\n",
       "sales       -0.352528 -0.063142     0.824864    -0.377028  1.000000"
      ]
     },
     "execution_count": 12,
     "metadata": {},
     "output_type": "execute_result"
    }
   ],
   "source": [
    "dfPaddle[[\"lakes\", \"pop\", \"advertising\", \"competitors\", \"sales\"]].corr()"
   ]
  },
  {
   "cell_type": "markdown",
   "metadata": {},
   "source": [
    "### [2] Part B: Adjust the Model\n",
    "\n",
    "***(i).  (2 points) Choose one additional explanatory variable to add to your model, based on your exploratory analysis in Part 2A.  Explain your reasoning for the variable you have chosen.***\n",
    "\n"
   ]
  },
  {
   "cell_type": "markdown",
   "metadata": {},
   "source": [
    "I will add advertising to my model.\n",
    "\n",
    "This is becausein partI we saw that population did not exhibit a significant enough linear relationship so I did not consider it.  Then in partII I found that lakes and competitors showed a colinear relationship, so I discarded competitors since lakes is already in the model. \n",
    "\n",
    "Thus I conclude that I should add advertising."
   ]
  },
  {
   "cell_type": "markdown",
   "metadata": {},
   "source": [
    "***(ii). (2 points) Create a Multiple Linear Regression Model with `sales` as the dependent variable, `lakes` as one of the independent variables and the new variable you have chosen as the other independent variable.***  \n",
    "\n",
    "***Print the model output summary table for this new model, and then write the equation for this new model in a markdown cell.***"
   ]
  },
  {
   "cell_type": "code",
   "execution_count": 13,
   "metadata": {},
   "outputs": [
    {
     "name": "stderr",
     "output_type": "stream",
     "text": [
      "C:\\Users\\julia\\anaconda3\\lib\\site-packages\\statsmodels\\tsa\\tsatools.py:142: FutureWarning: In a future version of pandas all arguments of concat except for the argument 'objs' will be keyword-only\n",
      "  x = pd.concat(x[::order], 1)\n"
     ]
    }
   ],
   "source": [
    "# Code here:\n",
    "# Collect the features (independent variables) in a 2D array. \n",
    "X = dfPaddle[[\"lakes\", \"advertising\"]]\n",
    "\n",
    "# Add a constant to the 'X' array for the intecept. \n",
    "X = sm.add_constant(X)\n",
    "\n",
    "# Collect the response (Dependent variable) data in an array.\n",
    "y = dfPaddle[\"sales\"]\n",
    "\n",
    "# Fit the ordinary least-squares (OLS) model.\n",
    "# These are the coefficients for the MLR model.\n",
    "MLRmodel = sm.OLS(y, X).fit()\n"
   ]
  },
  {
   "cell_type": "code",
   "execution_count": 14,
   "metadata": {},
   "outputs": [
    {
     "data": {
      "text/html": [
       "<table class=\"simpletable\">\n",
       "<caption>OLS Regression Results</caption>\n",
       "<tr>\n",
       "  <th>Dep. Variable:</th>          <td>sales</td>      <th>  R-squared:         </th> <td>   0.742</td>\n",
       "</tr>\n",
       "<tr>\n",
       "  <th>Model:</th>                   <td>OLS</td>       <th>  Adj. R-squared:    </th> <td>   0.737</td>\n",
       "</tr>\n",
       "<tr>\n",
       "  <th>Method:</th>             <td>Least Squares</td>  <th>  F-statistic:       </th> <td>   132.4</td>\n",
       "</tr>\n",
       "<tr>\n",
       "  <th>Date:</th>             <td>Thu, 08 Dec 2022</td> <th>  Prob (F-statistic):</th> <td>8.31e-28</td>\n",
       "</tr>\n",
       "<tr>\n",
       "  <th>Time:</th>                 <td>14:30:50</td>     <th>  Log-Likelihood:    </th> <td> -237.35</td>\n",
       "</tr>\n",
       "<tr>\n",
       "  <th>No. Observations:</th>      <td>    95</td>      <th>  AIC:               </th> <td>   480.7</td>\n",
       "</tr>\n",
       "<tr>\n",
       "  <th>Df Residuals:</th>          <td>    92</td>      <th>  BIC:               </th> <td>   488.4</td>\n",
       "</tr>\n",
       "<tr>\n",
       "  <th>Df Model:</th>              <td>     2</td>      <th>                     </th>     <td> </td>   \n",
       "</tr>\n",
       "<tr>\n",
       "  <th>Covariance Type:</th>      <td>nonrobust</td>    <th>                     </th>     <td> </td>   \n",
       "</tr>\n",
       "</table>\n",
       "<table class=\"simpletable\">\n",
       "<tr>\n",
       "       <td></td>          <th>coef</th>     <th>std err</th>      <th>t</th>      <th>P>|t|</th>  <th>[0.025</th>    <th>0.975]</th>  \n",
       "</tr>\n",
       "<tr>\n",
       "  <th>const</th>       <td>   12.4814</td> <td>    1.056</td> <td>   11.816</td> <td> 0.000</td> <td>   10.383</td> <td>   14.579</td>\n",
       "</tr>\n",
       "<tr>\n",
       "  <th>lakes</th>       <td>   -0.6913</td> <td>    0.147</td> <td>   -4.696</td> <td> 0.000</td> <td>   -0.984</td> <td>   -0.399</td>\n",
       "</tr>\n",
       "<tr>\n",
       "  <th>advertising</th> <td>    1.1101</td> <td>    0.075</td> <td>   14.849</td> <td> 0.000</td> <td>    0.962</td> <td>    1.259</td>\n",
       "</tr>\n",
       "</table>\n",
       "<table class=\"simpletable\">\n",
       "<tr>\n",
       "  <th>Omnibus:</th>       <td> 0.577</td> <th>  Durbin-Watson:     </th> <td>   1.607</td>\n",
       "</tr>\n",
       "<tr>\n",
       "  <th>Prob(Omnibus):</th> <td> 0.749</td> <th>  Jarque-Bera (JB):  </th> <td>   0.710</td>\n",
       "</tr>\n",
       "<tr>\n",
       "  <th>Skew:</th>          <td> 0.158</td> <th>  Prob(JB):          </th> <td>   0.701</td>\n",
       "</tr>\n",
       "<tr>\n",
       "  <th>Kurtosis:</th>      <td> 2.718</td> <th>  Cond. No.          </th> <td>    39.6</td>\n",
       "</tr>\n",
       "</table><br/><br/>Notes:<br/>[1] Standard Errors assume that the covariance matrix of the errors is correctly specified."
      ],
      "text/plain": [
       "<class 'statsmodels.iolib.summary.Summary'>\n",
       "\"\"\"\n",
       "                            OLS Regression Results                            \n",
       "==============================================================================\n",
       "Dep. Variable:                  sales   R-squared:                       0.742\n",
       "Model:                            OLS   Adj. R-squared:                  0.737\n",
       "Method:                 Least Squares   F-statistic:                     132.4\n",
       "Date:                Thu, 08 Dec 2022   Prob (F-statistic):           8.31e-28\n",
       "Time:                        14:30:50   Log-Likelihood:                -237.35\n",
       "No. Observations:                  95   AIC:                             480.7\n",
       "Df Residuals:                      92   BIC:                             488.4\n",
       "Df Model:                           2                                         \n",
       "Covariance Type:            nonrobust                                         \n",
       "===============================================================================\n",
       "                  coef    std err          t      P>|t|      [0.025      0.975]\n",
       "-------------------------------------------------------------------------------\n",
       "const          12.4814      1.056     11.816      0.000      10.383      14.579\n",
       "lakes          -0.6913      0.147     -4.696      0.000      -0.984      -0.399\n",
       "advertising     1.1101      0.075     14.849      0.000       0.962       1.259\n",
       "==============================================================================\n",
       "Omnibus:                        0.577   Durbin-Watson:                   1.607\n",
       "Prob(Omnibus):                  0.749   Jarque-Bera (JB):                0.710\n",
       "Skew:                           0.158   Prob(JB):                        0.701\n",
       "Kurtosis:                       2.718   Cond. No.                         39.6\n",
       "==============================================================================\n",
       "\n",
       "Notes:\n",
       "[1] Standard Errors assume that the covariance matrix of the errors is correctly specified.\n",
       "\"\"\""
      ]
     },
     "execution_count": 14,
     "metadata": {},
     "output_type": "execute_result"
    }
   ],
   "source": [
    "MLRmodel.summary()"
   ]
  },
  {
   "cell_type": "markdown",
   "metadata": {},
   "source": [
    "The updated model, with lakes and advertising\n",
    "\n",
    "$\n",
    "\\texttt{sales} = \\text{12.4814} - 0.6913 \\times \\texttt{lakes} +1.1101 \\times \\texttt{advertising}\n",
    "$"
   ]
  },
  {
   "cell_type": "markdown",
   "metadata": {},
   "source": [
    "### [2] Part C: Inference on MLR Model: Step 1\n",
    "\n",
    "For this part of the problem you can assume (without checking) that this new model meets the standard assumptions of multiple linear regression.  \n",
    "\n",
    "***Lets see if this new model as a whole is significant at an alpha level of  5%.  In other words, we want to use a single test to see if at least one of the two explanatory variables really has a significant linear association with the response variable.***  \n",
    "\n",
    " - ***(i). (3 points)  State the null and alternate hypotheses we should test at an alpha level of  5% , and explain what they mean.***\n",
    " "
   ]
  },
  {
   "cell_type": "markdown",
   "metadata": {},
   "source": [
    "- Null: $H_0:  \\beta_{0} = \\beta_{lakes} = \\beta_{advertising} = 0$ when ($y=\\beta_{0} + \\beta_{lakes}\\cdot x_{lakes} + \\beta_{advertising}\\cdot x_{advertising}$)\n",
    "\n",
    "    If the null holds, then the regression model does NOT contain at least one useful predictor to predict sales, that is neither lakes nor advertising is useful to predict sales. So the model does NOT have merit.\n",
    "\n",
    "\n",
    "\n",
    "- Alternate: At least one $\\beta$ is different than zero \n",
    "\n",
    "    If the null is rejected, we can conclude that this model DOES provide a better fit than the intercept only model. So the model IS useful. "
   ]
  },
  {
   "cell_type": "markdown",
   "metadata": {},
   "source": [
    " - ***(ii). (2 points) What is the appropriate test (by name, not formula) to use for this, and what are the degrees of freedom?*** \n",
    " "
   ]
  },
  {
   "cell_type": "markdown",
   "metadata": {},
   "source": [
    "We can test this using an F test since the F statistic is a measure of how much better our model is than just using the mean\n",
    "\n",
    "The degrees of freedom is $df= n- k-1$ where n is the number of data points, k is the number of predictors this is because we start with the sample size (n) then lose a df for each of the predictors (k) and then lose 1 for the intercept (1)"
   ]
  },
  {
   "cell_type": "markdown",
   "metadata": {},
   "source": [
    " - ***(iii). (2 points) Calculate the critical value and state the decision rule for this test at an alpha level of 5%.***  \n",
    " "
   ]
  },
  {
   "cell_type": "code",
   "execution_count": 15,
   "metadata": {},
   "outputs": [
    {
     "name": "stdout",
     "output_type": "stream",
     "text": [
      "The critical F value is 3.9445\n"
     ]
    }
   ],
   "source": [
    "n=len(dfPaddle) #number of data points\n",
    "k= 2 # number of predictors in this model\n",
    "\n",
    "# Find the critical F at alpha 0.05\n",
    "F_cr = stats.f.ppf(1-0.05,k-1,n-k-1)\n",
    "\n",
    "# Print the critical F-value.\n",
    "print(\"The critical F value is {:.5}\".format(F_cr))"
   ]
  },
  {
   "cell_type": "markdown",
   "metadata": {},
   "source": [
    "The critical F value is 3.944. In order to reject our null hypothesis we need F statistic of the MLR model to be greater than the critical value. That is, we will reject the null hypothesis if F-statistic > F critical. If we reject the null we would conclude that the MLR model with advertising and lakes contains at least one useful predictor for predicting the sales. In other words, a least one of the independent variables in the model is significant in explaining the variance of the paddleboard sales"
   ]
  },
  {
   "cell_type": "markdown",
   "metadata": {},
   "source": [
    " - ***(iv). (3 points) Write code to calculate the appropriate test statistic from scratch and then summarize the conclusion of your hypothesis test. (Note for credit you must write code to calculate the appropriate test statistic from its formula using your data and model.  You can use the model output summary table to check your answer).***  "
   ]
  },
  {
   "cell_type": "code",
   "execution_count": 16,
   "metadata": {},
   "outputs": [
    {
     "name": "stdout",
     "output_type": "stream",
     "text": [
      "SST :  3192.0730526315792\n",
      "SSE :  822.9456585557\n",
      "The F statistic calculated by hand is :  132.42655695973187\n"
     ]
    }
   ],
   "source": [
    "\n",
    "\n",
    "ahat=12.4814 #constant\n",
    "Lbhat= -0.6913 #𝚕𝚊𝚔𝚎𝚜 coefficent \n",
    "Abhat= 1.1101 #𝚊𝚍𝚟𝚎𝚛𝚝𝚒𝚜𝚒𝚗𝚐 coeffiecent \n",
    "\n",
    "#values for independent variables\n",
    "xL=dfPaddle[\"lakes\"]\n",
    "xA=dfPaddle[\"advertising\"]\n",
    "\n",
    "#values of dependent variable\n",
    "y=dfPaddle[\"sales\"]\n",
    "\n",
    "\n",
    "# Generate all the parts needed for calculating F statistic by hand\n",
    "yhat = ahat + Lbhat*xL + Abhat*xA #the regression model\n",
    "SSE  = np.sum((y-yhat)**2) \n",
    "SSR  = np.sum((np.mean(y)-yhat)**2) \n",
    "SST  = np.sum((np.mean(y)-y)**2) \n",
    "\n",
    "n=len(dfPaddle) #number data points \n",
    "p=2 # number of predictors\n",
    "\n",
    "F= ((SST-SSE)/p)/(SSE/(n-p-1))\n",
    "\n",
    "print(\"SST : \", SST)\n",
    "\n",
    "print(\"SSE : \", SSE)\n",
    "\n",
    "print(\"The F statistic calculated by hand is : \", F)\n"
   ]
  },
  {
   "cell_type": "markdown",
   "metadata": {},
   "source": [
    "The F statistic calculated by hand is 132.426 which is the same as MLRmodel.summary provides (F statistic = 132.4 with a p value= 8.31e-28)\n",
    "\n",
    "Since F statistic = 132.4 > F critical =3.944, we can reject the null at the 5% significance level and conclude that at least one of the independent variables in the model is significant in explaining the variance of the paddleboard sales.\n",
    "Thus, the new model as a whole is significiant\n",
    "\n",
    "(Likewise, since p value from MLR.summary is 8.31e-28 < alpha= 0.05 we also reject the null and reach the same conclusion)\n"
   ]
  },
  {
   "cell_type": "markdown",
   "metadata": {},
   "source": [
    "### [2] Part D: Inference on MLR Model: Step 2\n",
    "\n",
    "After Part 2C, you should have found that the new model as a whole is significant. So, it will be helpful to know exactly which variable (or variables) have a significant linear association with the response variable.  \n",
    "\n",
    " - ***(i). (2 points) What is the appropriate test (by name, not formula) to test one-by-one whether an individual explanatory variable in your model is a statistically significant linear predictor of the response variable after adjusting for the other explanatory variables?***\n",
    " \n",
    " \n",
    "\n",
    "\n",
    "\n",
    "\n"
   ]
  },
  {
   "cell_type": "markdown",
   "metadata": {},
   "source": [
    "To test one-by-one whether an individual explanatory variable is a statistically significant predictor, we will use a t test. \n",
    "\n",
    "That is we will test different hypothesis tests for the $\\beta$'s.\n",
    "\n",
    "* Test 1: \n",
    "  - Null: $H_0: \\beta_{lakes}= 0$ when all other variables are included in the model (i.e. $y=\\beta_{0} + \\beta_{lakes}\\cdot x_{lakes} + \\beta_{advertising}\\cdot x_{advertising}$)\n",
    "  - Alternate: $H_1:  \\beta_{lakes} \\ne 0$ when all other variables are included in the model (i.e.$y=\\beta_{0} + \\beta_{lakes}\\cdot x_{lakes} + \\beta_{advertising}\\cdot x_{advertising}$)\n",
    "  \n",
    "  \n",
    "* Test 2: \n",
    "  - Null: $H_0: \\beta_{advertising}= 0$ when all other variables are included in the model (i.e.$y=\\beta_{0} + \\beta_{lakes}\\cdot x_{lakes} + \\beta_{advertising}\\cdot x_{advertising}$)\n",
    "  - Alternate: $H_1:  \\beta_{advertising} \\ne 0$ when all other variables are included in the model (i.e.$y=\\beta_{0} + \\beta_{lakes}\\cdot x_{lakes} + \\beta_{advertising}\\cdot x_{advertising}$)"
   ]
  },
  {
   "cell_type": "markdown",
   "metadata": {},
   "source": [
    " - ***(ii). (2 points) Explain the conclusion(s) of this test for each of the explanatory variables in your model, using output from your model summary table.\n",
    "(Note: For this part of the problem you do not need to calculate each test statistic from scratch- instead you can just look up the appropriate results from the output summary table and explain your conclusions below).***\n"
   ]
  },
  {
   "cell_type": "markdown",
   "metadata": {},
   "source": [
    "* Test 1: Lakes\n",
    "  - estimated $\\beta_{lakes} = -0.6913$\n",
    "  - t value= -4.696\n",
    "  - std. err = 0.147\n",
    "  - pvalue= 0\n",
    "  \n",
    "  Since $pval_{lakes}=0 < \\alpha= 0.05$ we reject the null at the 5% significance level and conclude that lakes IS a significant predictor for sales given the other variables in the model\n",
    "  \n",
    "  \n",
    "* Test 2: Advertising\n",
    "\n",
    "  - estimated $\\beta_{advertising} = 1.1101$\n",
    "  - t value= 14.849\n",
    "  - std. err =0.075 \n",
    "  - pvalue= 0\n",
    "  \n",
    "  Since $pval_{advertising}< \\alpha= 0.05$ we reject the null at 5% significane level and conclude that advertising IS a significant predictor for sales given the other variables in the model"
   ]
  },
  {
   "cell_type": "markdown",
   "metadata": {},
   "source": [
    "### [2] Part E: Quantifying Model Goodness of Fit\n",
    "\n",
    "***(2 points) What percent of total variation in sales revenue can be explained by the new model you found in Part 2B?    Is this an improvement compared to the SLR model in Question 1?  Explain.***"
   ]
  },
  {
   "cell_type": "markdown",
   "metadata": {},
   "source": [
    "Adjusted $R^2$ of the new model is 0.737 (unadjusted is 0.742) compared to the SLR adjusted $R^2$ was 0.115 (unadjusted 0.125)\n",
    "\n",
    "Thus the new model accounts for 73.7% of the variation in sales revenue. This is a significant improvement from the SLR model which was just 11.5%.\n",
    "\n",
    "Also since BOTH the adjusted $R^2$ AND the unadjusted $R^2$ increased, it indicates that the added predictor (advertising) is a meaningful predictor. Thus this new MLR model with lakes and advertising is an improvement over the SLR model with just lakes "
   ]
  },
  {
   "cell_type": "markdown",
   "metadata": {},
   "source": [
    "### [2] Part F: Final Pass at a Model \n",
    "\n",
    "\n",
    "You are curious if the model you found above is really the best you can do with the dataset.  \n",
    "\n",
    "In this open-ended problem you will use the same dataset (paddle.csv) but you may use any subset of the columns to build your \"best\" Multiple Linear Regression model.  i.e. you want to create the best model you can to quantify how sales can be explained and predicted by the features in this dataset.\n",
    "\n",
    "For this problem the dependent variable will still be sales.  Any other variables will be candidates for explanatory variables.  \n",
    "\n",
    "\n",
    "Your goal is to demonstrate that you have an understanding of how to choose between columns and validate/check for issues in a multiple linear regression problem.\n",
    "\n",
    " - ***(i). (4 pts)  By adding variables step-by-step to a minimal model or by removing variables step-by-step from the full model, use one or more of the criteria covered in our class to create a reasonable candidate model (i.e. the \"best\" you can do with the data given). The criteria you use may include (but are not limited to):***\n",
    " \n",
    "  - ***adjusted $R^2$***\n",
    "  - ***inclusion/removal of most or least-significant t-tests on coefficients***\n",
    "  - ***F-tests to compare between models***\n",
    "  \n",
    " \n",
    "***In addition to code showing the model variations you try, use markdown cell(s) to write-up an explanation of your reasoning for each step of this process as you construct a final version of the model.***\n",
    "\n",
    "***Your explanation should include the results of the F-test and t-tests for your final model. If you choose to include an insignificant explanatory variable in your final model you must fully justify your reasoning.*** \n",
    "\n",
    "  \n"
   ]
  },
  {
   "cell_type": "markdown",
   "metadata": {},
   "source": [
    "In part A I observed linear relationships for advertising, competitors, and lakes with sales revenue. Advertising was the strongest so I will begin with a minimal model of advertising and sales and proceed step by step "
   ]
  },
  {
   "cell_type": "code",
   "execution_count": 17,
   "metadata": {},
   "outputs": [
    {
     "name": "stderr",
     "output_type": "stream",
     "text": [
      "C:\\Users\\julia\\anaconda3\\lib\\site-packages\\statsmodels\\tsa\\tsatools.py:142: FutureWarning: In a future version of pandas all arguments of concat except for the argument 'objs' will be keyword-only\n",
      "  x = pd.concat(x[::order], 1)\n"
     ]
    },
    {
     "data": {
      "text/html": [
       "<table class=\"simpletable\">\n",
       "<caption>OLS Regression Results</caption>\n",
       "<tr>\n",
       "  <th>Dep. Variable:</th>          <td>sales</td>      <th>  R-squared:         </th> <td>   0.680</td>\n",
       "</tr>\n",
       "<tr>\n",
       "  <th>Model:</th>                   <td>OLS</td>       <th>  Adj. R-squared:    </th> <td>   0.677</td>\n",
       "</tr>\n",
       "<tr>\n",
       "  <th>Method:</th>             <td>Least Squares</td>  <th>  F-statistic:       </th> <td>   198.0</td>\n",
       "</tr>\n",
       "<tr>\n",
       "  <th>Date:</th>             <td>Thu, 08 Dec 2022</td> <th>  Prob (F-statistic):</th> <td>9.17e-25</td>\n",
       "</tr>\n",
       "<tr>\n",
       "  <th>Time:</th>                 <td>14:30:51</td>     <th>  Log-Likelihood:    </th> <td> -247.56</td>\n",
       "</tr>\n",
       "<tr>\n",
       "  <th>No. Observations:</th>      <td>    95</td>      <th>  AIC:               </th> <td>   499.1</td>\n",
       "</tr>\n",
       "<tr>\n",
       "  <th>Df Residuals:</th>          <td>    93</td>      <th>  BIC:               </th> <td>   504.2</td>\n",
       "</tr>\n",
       "<tr>\n",
       "  <th>Df Model:</th>              <td>     1</td>      <th>                     </th>     <td> </td>   \n",
       "</tr>\n",
       "<tr>\n",
       "  <th>Covariance Type:</th>      <td>nonrobust</td>    <th>                     </th>     <td> </td>   \n",
       "</tr>\n",
       "</table>\n",
       "<table class=\"simpletable\">\n",
       "<tr>\n",
       "       <td></td>          <th>coef</th>     <th>std err</th>      <th>t</th>      <th>P>|t|</th>  <th>[0.025</th>    <th>0.975]</th>  \n",
       "</tr>\n",
       "<tr>\n",
       "  <th>const</th>       <td>    9.2249</td> <td>    0.882</td> <td>   10.455</td> <td> 0.000</td> <td>    7.473</td> <td>   10.977</td>\n",
       "</tr>\n",
       "<tr>\n",
       "  <th>advertising</th> <td>    1.1552</td> <td>    0.082</td> <td>   14.071</td> <td> 0.000</td> <td>    0.992</td> <td>    1.318</td>\n",
       "</tr>\n",
       "</table>\n",
       "<table class=\"simpletable\">\n",
       "<tr>\n",
       "  <th>Omnibus:</th>       <td> 0.362</td> <th>  Durbin-Watson:     </th> <td>   1.387</td>\n",
       "</tr>\n",
       "<tr>\n",
       "  <th>Prob(Omnibus):</th> <td> 0.835</td> <th>  Jarque-Bera (JB):  </th> <td>   0.522</td>\n",
       "</tr>\n",
       "<tr>\n",
       "  <th>Skew:</th>          <td> 0.108</td> <th>  Prob(JB):          </th> <td>   0.770</td>\n",
       "</tr>\n",
       "<tr>\n",
       "  <th>Kurtosis:</th>      <td> 2.708</td> <th>  Cond. No.          </th> <td>    28.1</td>\n",
       "</tr>\n",
       "</table><br/><br/>Notes:<br/>[1] Standard Errors assume that the covariance matrix of the errors is correctly specified."
      ],
      "text/plain": [
       "<class 'statsmodels.iolib.summary.Summary'>\n",
       "\"\"\"\n",
       "                            OLS Regression Results                            \n",
       "==============================================================================\n",
       "Dep. Variable:                  sales   R-squared:                       0.680\n",
       "Model:                            OLS   Adj. R-squared:                  0.677\n",
       "Method:                 Least Squares   F-statistic:                     198.0\n",
       "Date:                Thu, 08 Dec 2022   Prob (F-statistic):           9.17e-25\n",
       "Time:                        14:30:51   Log-Likelihood:                -247.56\n",
       "No. Observations:                  95   AIC:                             499.1\n",
       "Df Residuals:                      93   BIC:                             504.2\n",
       "Df Model:                           1                                         \n",
       "Covariance Type:            nonrobust                                         \n",
       "===============================================================================\n",
       "                  coef    std err          t      P>|t|      [0.025      0.975]\n",
       "-------------------------------------------------------------------------------\n",
       "const           9.2249      0.882     10.455      0.000       7.473      10.977\n",
       "advertising     1.1552      0.082     14.071      0.000       0.992       1.318\n",
       "==============================================================================\n",
       "Omnibus:                        0.362   Durbin-Watson:                   1.387\n",
       "Prob(Omnibus):                  0.835   Jarque-Bera (JB):                0.522\n",
       "Skew:                           0.108   Prob(JB):                        0.770\n",
       "Kurtosis:                       2.708   Cond. No.                         28.1\n",
       "==============================================================================\n",
       "\n",
       "Notes:\n",
       "[1] Standard Errors assume that the covariance matrix of the errors is correctly specified.\n",
       "\"\"\""
      ]
     },
     "execution_count": 17,
     "metadata": {},
     "output_type": "execute_result"
    }
   ],
   "source": [
    "# Code here:\n",
    "# Collect the features (independent variables) in a 2D array. \n",
    "X = dfPaddle[[ \"advertising\"]]\n",
    "# Add a constant to the 'X' array for the intecept. \n",
    "X = sm.add_constant(X)\n",
    "\n",
    "# Collect the response (Dependent variable) data in an array.\n",
    "y = dfPaddle[\"sales\"]\n",
    "\n",
    "# Fit the ordinary least-squares (OLS) model.\n",
    "# These are the coefficients for the MLR model.\n",
    "MLRmodel = sm.OLS(y, X).fit()\n",
    "MLRmodel.summary()\n"
   ]
  },
  {
   "cell_type": "markdown",
   "metadata": {},
   "source": [
    "This is simply a simple regression model with 1 independent variable so we only need to perform a hypothesis test on the coefficient of advertising. I will use p values to test  $H_0: \\beta =0$ and  $H_a: \\beta \\ne  0$  \n",
    "\n",
    "Since the pvalue from the table =0  <  $\\alpha = 0.05$, we can reject the null hypothesis and conclude with 95% confidence that $\\beta \\neq 0$ and the observed relationship between the advertising and the sales is real and it does have a significant linear relationship \n",
    "\n",
    "Also note the adjusted $R^2$ is 0.677, so this model with advertising explains 67.7% of the sale variance \n"
   ]
  },
  {
   "cell_type": "markdown",
   "metadata": {},
   "source": [
    "Great, now I will add the next variable. \n",
    "Next I add competitors, becasuse from part A I found that it showed the next strongest linear relationship with sales"
   ]
  },
  {
   "cell_type": "code",
   "execution_count": 18,
   "metadata": {},
   "outputs": [
    {
     "name": "stdout",
     "output_type": "stream",
     "text": [
      "             competitors  advertising\n",
      "competitors     1.000000    -0.079184\n",
      "advertising    -0.079184     1.000000\n"
     ]
    },
    {
     "name": "stderr",
     "output_type": "stream",
     "text": [
      "C:\\Users\\julia\\anaconda3\\lib\\site-packages\\statsmodels\\tsa\\tsatools.py:142: FutureWarning: In a future version of pandas all arguments of concat except for the argument 'objs' will be keyword-only\n",
      "  x = pd.concat(x[::order], 1)\n"
     ]
    },
    {
     "data": {
      "text/html": [
       "<table class=\"simpletable\">\n",
       "<caption>OLS Regression Results</caption>\n",
       "<tr>\n",
       "  <th>Dep. Variable:</th>          <td>sales</td>      <th>  R-squared:         </th> <td>   0.778</td>\n",
       "</tr>\n",
       "<tr>\n",
       "  <th>Model:</th>                   <td>OLS</td>       <th>  Adj. R-squared:    </th> <td>   0.773</td>\n",
       "</tr>\n",
       "<tr>\n",
       "  <th>Method:</th>             <td>Least Squares</td>  <th>  F-statistic:       </th> <td>   161.4</td>\n",
       "</tr>\n",
       "<tr>\n",
       "  <th>Date:</th>             <td>Thu, 08 Dec 2022</td> <th>  Prob (F-statistic):</th> <td>8.24e-31</td>\n",
       "</tr>\n",
       "<tr>\n",
       "  <th>Time:</th>                 <td>14:30:51</td>     <th>  Log-Likelihood:    </th> <td> -230.21</td>\n",
       "</tr>\n",
       "<tr>\n",
       "  <th>No. Observations:</th>      <td>    95</td>      <th>  AIC:               </th> <td>   466.4</td>\n",
       "</tr>\n",
       "<tr>\n",
       "  <th>Df Residuals:</th>          <td>    92</td>      <th>  BIC:               </th> <td>   474.1</td>\n",
       "</tr>\n",
       "<tr>\n",
       "  <th>Df Model:</th>              <td>     2</td>      <th>                     </th>     <td> </td>   \n",
       "</tr>\n",
       "<tr>\n",
       "  <th>Covariance Type:</th>      <td>nonrobust</td>    <th>                     </th>     <td> </td>   \n",
       "</tr>\n",
       "</table>\n",
       "<table class=\"simpletable\">\n",
       "<tr>\n",
       "       <td></td>          <th>coef</th>     <th>std err</th>      <th>t</th>      <th>P>|t|</th>  <th>[0.025</th>    <th>0.975]</th>  \n",
       "</tr>\n",
       "<tr>\n",
       "  <th>const</th>       <td>   13.1652</td> <td>    0.964</td> <td>   13.658</td> <td> 0.000</td> <td>   11.251</td> <td>   15.080</td>\n",
       "</tr>\n",
       "<tr>\n",
       "  <th>competitors</th> <td>   -0.7267</td> <td>    0.114</td> <td>   -6.368</td> <td> 0.000</td> <td>   -0.953</td> <td>   -0.500</td>\n",
       "</tr>\n",
       "<tr>\n",
       "  <th>advertising</th> <td>    1.1204</td> <td>    0.069</td> <td>   16.242</td> <td> 0.000</td> <td>    0.983</td> <td>    1.257</td>\n",
       "</tr>\n",
       "</table>\n",
       "<table class=\"simpletable\">\n",
       "<tr>\n",
       "  <th>Omnibus:</th>       <td> 0.286</td> <th>  Durbin-Watson:     </th> <td>   1.585</td>\n",
       "</tr>\n",
       "<tr>\n",
       "  <th>Prob(Omnibus):</th> <td> 0.867</td> <th>  Jarque-Bera (JB):  </th> <td>   0.426</td>\n",
       "</tr>\n",
       "<tr>\n",
       "  <th>Skew:</th>          <td> 0.112</td> <th>  Prob(JB):          </th> <td>   0.808</td>\n",
       "</tr>\n",
       "<tr>\n",
       "  <th>Kurtosis:</th>      <td> 2.761</td> <th>  Cond. No.          </th> <td>    40.0</td>\n",
       "</tr>\n",
       "</table><br/><br/>Notes:<br/>[1] Standard Errors assume that the covariance matrix of the errors is correctly specified."
      ],
      "text/plain": [
       "<class 'statsmodels.iolib.summary.Summary'>\n",
       "\"\"\"\n",
       "                            OLS Regression Results                            \n",
       "==============================================================================\n",
       "Dep. Variable:                  sales   R-squared:                       0.778\n",
       "Model:                            OLS   Adj. R-squared:                  0.773\n",
       "Method:                 Least Squares   F-statistic:                     161.4\n",
       "Date:                Thu, 08 Dec 2022   Prob (F-statistic):           8.24e-31\n",
       "Time:                        14:30:51   Log-Likelihood:                -230.21\n",
       "No. Observations:                  95   AIC:                             466.4\n",
       "Df Residuals:                      92   BIC:                             474.1\n",
       "Df Model:                           2                                         \n",
       "Covariance Type:            nonrobust                                         \n",
       "===============================================================================\n",
       "                  coef    std err          t      P>|t|      [0.025      0.975]\n",
       "-------------------------------------------------------------------------------\n",
       "const          13.1652      0.964     13.658      0.000      11.251      15.080\n",
       "competitors    -0.7267      0.114     -6.368      0.000      -0.953      -0.500\n",
       "advertising     1.1204      0.069     16.242      0.000       0.983       1.257\n",
       "==============================================================================\n",
       "Omnibus:                        0.286   Durbin-Watson:                   1.585\n",
       "Prob(Omnibus):                  0.867   Jarque-Bera (JB):                0.426\n",
       "Skew:                           0.112   Prob(JB):                        0.808\n",
       "Kurtosis:                       2.761   Cond. No.                         40.0\n",
       "==============================================================================\n",
       "\n",
       "Notes:\n",
       "[1] Standard Errors assume that the covariance matrix of the errors is correctly specified.\n",
       "\"\"\""
      ]
     },
     "execution_count": 18,
     "metadata": {},
     "output_type": "execute_result"
    }
   ],
   "source": [
    "# Code here:\n",
    "# Collect the features (independent variables) in a 2D array. \n",
    "X = dfPaddle[[ \"competitors\", \"advertising\"]]\n",
    "print(X.corr())\n",
    "# Add a constant to the 'X' array for the intecept. \n",
    "X = sm.add_constant(X)\n",
    "\n",
    "# Collect the response (Dependent variable) data in an array.\n",
    "y = dfPaddle[\"sales\"]\n",
    "\n",
    "# Fit the ordinary least-squares (OLS) model.\n",
    "# These are the coefficients for the MLR model.\n",
    "MLRmodel = sm.OLS(y, X).fit()\n",
    "MLRmodel.summary()\n"
   ]
  },
  {
   "cell_type": "markdown",
   "metadata": {},
   "source": [
    "Since now this is MLR, I checked colineariety and competitors and advertising does NOT show colinearity, as the correlation coefficient is close enough to zero it can be ignored\n",
    "\n",
    "Then I checked the F statistic which is significantly larger than 1. Hence the model as a whole is a significant predictor so I move forward to examine the individual t tests for competitors and advertising.\n",
    "\n",
    "The p values of the t statistic for both are 0 which which is less that alpha 0.05. Thus I can conclude with 95% confidence that both advertising and competitors are significant predictors in this model. \n",
    "\n",
    "Lastly, check $R^2=0.778$ and adjusted $R^2-0.773$. Since both  $R^2$ and the adjusted increased from the previous model (up from 0.677), this model with competitors and advertising better predicts sales thn just advertising"
   ]
  },
  {
   "cell_type": "markdown",
   "metadata": {},
   "source": [
    "Now I will try adding lakes, the 3rd most linear relationship with sales\n",
    "Before I do this I remember from A that lakes and competitors are strongly correlated, so I will stop with the model of just competitors and advertising. \n",
    "Also since sales and population did not show significant enough of a linear relationship, it was not considered. I verified this in the next cell which shows that the p value of population is significant so I conclude that I will stop with my model of just competitors and advertising"
   ]
  },
  {
   "cell_type": "code",
   "execution_count": 19,
   "metadata": {},
   "outputs": [
    {
     "name": "stdout",
     "output_type": "stream",
     "text": [
      "             competitors  advertising       pop\n",
      "competitors     1.000000    -0.079184  0.080539\n",
      "advertising    -0.079184     1.000000 -0.114839\n",
      "pop             0.080539    -0.114839  1.000000\n"
     ]
    },
    {
     "name": "stderr",
     "output_type": "stream",
     "text": [
      "C:\\Users\\julia\\anaconda3\\lib\\site-packages\\statsmodels\\tsa\\tsatools.py:142: FutureWarning: In a future version of pandas all arguments of concat except for the argument 'objs' will be keyword-only\n",
      "  x = pd.concat(x[::order], 1)\n"
     ]
    },
    {
     "data": {
      "text/html": [
       "<table class=\"simpletable\">\n",
       "<caption>OLS Regression Results</caption>\n",
       "<tr>\n",
       "  <th>Dep. Variable:</th>          <td>sales</td>      <th>  R-squared:         </th> <td>   0.781</td>\n",
       "</tr>\n",
       "<tr>\n",
       "  <th>Model:</th>                   <td>OLS</td>       <th>  Adj. R-squared:    </th> <td>   0.774</td>\n",
       "</tr>\n",
       "<tr>\n",
       "  <th>Method:</th>             <td>Least Squares</td>  <th>  F-statistic:       </th> <td>   108.3</td>\n",
       "</tr>\n",
       "<tr>\n",
       "  <th>Date:</th>             <td>Thu, 08 Dec 2022</td> <th>  Prob (F-statistic):</th> <td>6.45e-30</td>\n",
       "</tr>\n",
       "<tr>\n",
       "  <th>Time:</th>                 <td>14:30:51</td>     <th>  Log-Likelihood:    </th> <td> -229.57</td>\n",
       "</tr>\n",
       "<tr>\n",
       "  <th>No. Observations:</th>      <td>    95</td>      <th>  AIC:               </th> <td>   467.1</td>\n",
       "</tr>\n",
       "<tr>\n",
       "  <th>Df Residuals:</th>          <td>    91</td>      <th>  BIC:               </th> <td>   477.4</td>\n",
       "</tr>\n",
       "<tr>\n",
       "  <th>Df Model:</th>              <td>     3</td>      <th>                     </th>     <td> </td>   \n",
       "</tr>\n",
       "<tr>\n",
       "  <th>Covariance Type:</th>      <td>nonrobust</td>    <th>                     </th>     <td> </td>   \n",
       "</tr>\n",
       "</table>\n",
       "<table class=\"simpletable\">\n",
       "<tr>\n",
       "       <td></td>          <th>coef</th>     <th>std err</th>      <th>t</th>      <th>P>|t|</th>  <th>[0.025</th>    <th>0.975]</th>  \n",
       "</tr>\n",
       "<tr>\n",
       "  <th>const</th>       <td>   12.2094</td> <td>    1.291</td> <td>    9.458</td> <td> 0.000</td> <td>    9.645</td> <td>   14.774</td>\n",
       "</tr>\n",
       "<tr>\n",
       "  <th>competitors</th> <td>   -0.7359</td> <td>    0.114</td> <td>   -6.440</td> <td> 0.000</td> <td>   -0.963</td> <td>   -0.509</td>\n",
       "</tr>\n",
       "<tr>\n",
       "  <th>advertising</th> <td>    1.1288</td> <td>    0.069</td> <td>   16.287</td> <td> 0.000</td> <td>    0.991</td> <td>    1.266</td>\n",
       "</tr>\n",
       "<tr>\n",
       "  <th>pop</th>         <td>    0.0151</td> <td>    0.014</td> <td>    1.111</td> <td> 0.269</td> <td>   -0.012</td> <td>    0.042</td>\n",
       "</tr>\n",
       "</table>\n",
       "<table class=\"simpletable\">\n",
       "<tr>\n",
       "  <th>Omnibus:</th>       <td> 0.449</td> <th>  Durbin-Watson:     </th> <td>   1.607</td>\n",
       "</tr>\n",
       "<tr>\n",
       "  <th>Prob(Omnibus):</th> <td> 0.799</td> <th>  Jarque-Bera (JB):  </th> <td>   0.607</td>\n",
       "</tr>\n",
       "<tr>\n",
       "  <th>Skew:</th>          <td> 0.115</td> <th>  Prob(JB):          </th> <td>   0.738</td>\n",
       "</tr>\n",
       "<tr>\n",
       "  <th>Kurtosis:</th>      <td> 2.683</td> <th>  Cond. No.          </th> <td>    295.</td>\n",
       "</tr>\n",
       "</table><br/><br/>Notes:<br/>[1] Standard Errors assume that the covariance matrix of the errors is correctly specified."
      ],
      "text/plain": [
       "<class 'statsmodels.iolib.summary.Summary'>\n",
       "\"\"\"\n",
       "                            OLS Regression Results                            \n",
       "==============================================================================\n",
       "Dep. Variable:                  sales   R-squared:                       0.781\n",
       "Model:                            OLS   Adj. R-squared:                  0.774\n",
       "Method:                 Least Squares   F-statistic:                     108.3\n",
       "Date:                Thu, 08 Dec 2022   Prob (F-statistic):           6.45e-30\n",
       "Time:                        14:30:51   Log-Likelihood:                -229.57\n",
       "No. Observations:                  95   AIC:                             467.1\n",
       "Df Residuals:                      91   BIC:                             477.4\n",
       "Df Model:                           3                                         \n",
       "Covariance Type:            nonrobust                                         \n",
       "===============================================================================\n",
       "                  coef    std err          t      P>|t|      [0.025      0.975]\n",
       "-------------------------------------------------------------------------------\n",
       "const          12.2094      1.291      9.458      0.000       9.645      14.774\n",
       "competitors    -0.7359      0.114     -6.440      0.000      -0.963      -0.509\n",
       "advertising     1.1288      0.069     16.287      0.000       0.991       1.266\n",
       "pop             0.0151      0.014      1.111      0.269      -0.012       0.042\n",
       "==============================================================================\n",
       "Omnibus:                        0.449   Durbin-Watson:                   1.607\n",
       "Prob(Omnibus):                  0.799   Jarque-Bera (JB):                0.607\n",
       "Skew:                           0.115   Prob(JB):                        0.738\n",
       "Kurtosis:                       2.683   Cond. No.                         295.\n",
       "==============================================================================\n",
       "\n",
       "Notes:\n",
       "[1] Standard Errors assume that the covariance matrix of the errors is correctly specified.\n",
       "\"\"\""
      ]
     },
     "execution_count": 19,
     "metadata": {},
     "output_type": "execute_result"
    }
   ],
   "source": [
    "# Collect the features (independent variables) in a 2D array. \n",
    "X = dfPaddle[[ \"competitors\", \"advertising\", \"pop\"]]\n",
    "print(X.corr())\n",
    "# Add a constant to the 'X' array for the intecept. \n",
    "X = sm.add_constant(X)\n",
    "\n",
    "# Collect the response (Dependent variable) data in an array.\n",
    "y = dfPaddle[\"sales\"]\n",
    "\n",
    "# Fit the ordinary least-squares (OLS) model.\n",
    "MLRmodel = sm.OLS(y, X).fit()\n",
    "MLRmodel.summary()\n"
   ]
  },
  {
   "cell_type": "markdown",
   "metadata": {},
   "source": [
    " - ***(ii).  (2 pts) Give the equation for your final model (in markdown) AND interpret the meaning of the intercept and coefficients in your final model in the context of the problem.   Explain how your final model makes sense in the context of the problem (or if it doesn't, you'll want to try to explain why not).*** "
   ]
  },
  {
   "cell_type": "code",
   "execution_count": 20,
   "metadata": {},
   "outputs": [
    {
     "data": {
      "text/html": [
       "<table class=\"simpletable\">\n",
       "<caption>OLS Regression Results</caption>\n",
       "<tr>\n",
       "  <th>Dep. Variable:</th>          <td>sales</td>      <th>  R-squared:         </th> <td>   0.781</td>\n",
       "</tr>\n",
       "<tr>\n",
       "  <th>Model:</th>                   <td>OLS</td>       <th>  Adj. R-squared:    </th> <td>   0.774</td>\n",
       "</tr>\n",
       "<tr>\n",
       "  <th>Method:</th>             <td>Least Squares</td>  <th>  F-statistic:       </th> <td>   108.3</td>\n",
       "</tr>\n",
       "<tr>\n",
       "  <th>Date:</th>             <td>Thu, 08 Dec 2022</td> <th>  Prob (F-statistic):</th> <td>6.45e-30</td>\n",
       "</tr>\n",
       "<tr>\n",
       "  <th>Time:</th>                 <td>14:30:51</td>     <th>  Log-Likelihood:    </th> <td> -229.57</td>\n",
       "</tr>\n",
       "<tr>\n",
       "  <th>No. Observations:</th>      <td>    95</td>      <th>  AIC:               </th> <td>   467.1</td>\n",
       "</tr>\n",
       "<tr>\n",
       "  <th>Df Residuals:</th>          <td>    91</td>      <th>  BIC:               </th> <td>   477.4</td>\n",
       "</tr>\n",
       "<tr>\n",
       "  <th>Df Model:</th>              <td>     3</td>      <th>                     </th>     <td> </td>   \n",
       "</tr>\n",
       "<tr>\n",
       "  <th>Covariance Type:</th>      <td>nonrobust</td>    <th>                     </th>     <td> </td>   \n",
       "</tr>\n",
       "</table>\n",
       "<table class=\"simpletable\">\n",
       "<tr>\n",
       "       <td></td>          <th>coef</th>     <th>std err</th>      <th>t</th>      <th>P>|t|</th>  <th>[0.025</th>    <th>0.975]</th>  \n",
       "</tr>\n",
       "<tr>\n",
       "  <th>const</th>       <td>   12.2094</td> <td>    1.291</td> <td>    9.458</td> <td> 0.000</td> <td>    9.645</td> <td>   14.774</td>\n",
       "</tr>\n",
       "<tr>\n",
       "  <th>competitors</th> <td>   -0.7359</td> <td>    0.114</td> <td>   -6.440</td> <td> 0.000</td> <td>   -0.963</td> <td>   -0.509</td>\n",
       "</tr>\n",
       "<tr>\n",
       "  <th>advertising</th> <td>    1.1288</td> <td>    0.069</td> <td>   16.287</td> <td> 0.000</td> <td>    0.991</td> <td>    1.266</td>\n",
       "</tr>\n",
       "<tr>\n",
       "  <th>pop</th>         <td>    0.0151</td> <td>    0.014</td> <td>    1.111</td> <td> 0.269</td> <td>   -0.012</td> <td>    0.042</td>\n",
       "</tr>\n",
       "</table>\n",
       "<table class=\"simpletable\">\n",
       "<tr>\n",
       "  <th>Omnibus:</th>       <td> 0.449</td> <th>  Durbin-Watson:     </th> <td>   1.607</td>\n",
       "</tr>\n",
       "<tr>\n",
       "  <th>Prob(Omnibus):</th> <td> 0.799</td> <th>  Jarque-Bera (JB):  </th> <td>   0.607</td>\n",
       "</tr>\n",
       "<tr>\n",
       "  <th>Skew:</th>          <td> 0.115</td> <th>  Prob(JB):          </th> <td>   0.738</td>\n",
       "</tr>\n",
       "<tr>\n",
       "  <th>Kurtosis:</th>      <td> 2.683</td> <th>  Cond. No.          </th> <td>    295.</td>\n",
       "</tr>\n",
       "</table><br/><br/>Notes:<br/>[1] Standard Errors assume that the covariance matrix of the errors is correctly specified."
      ],
      "text/plain": [
       "<class 'statsmodels.iolib.summary.Summary'>\n",
       "\"\"\"\n",
       "                            OLS Regression Results                            \n",
       "==============================================================================\n",
       "Dep. Variable:                  sales   R-squared:                       0.781\n",
       "Model:                            OLS   Adj. R-squared:                  0.774\n",
       "Method:                 Least Squares   F-statistic:                     108.3\n",
       "Date:                Thu, 08 Dec 2022   Prob (F-statistic):           6.45e-30\n",
       "Time:                        14:30:51   Log-Likelihood:                -229.57\n",
       "No. Observations:                  95   AIC:                             467.1\n",
       "Df Residuals:                      91   BIC:                             477.4\n",
       "Df Model:                           3                                         \n",
       "Covariance Type:            nonrobust                                         \n",
       "===============================================================================\n",
       "                  coef    std err          t      P>|t|      [0.025      0.975]\n",
       "-------------------------------------------------------------------------------\n",
       "const          12.2094      1.291      9.458      0.000       9.645      14.774\n",
       "competitors    -0.7359      0.114     -6.440      0.000      -0.963      -0.509\n",
       "advertising     1.1288      0.069     16.287      0.000       0.991       1.266\n",
       "pop             0.0151      0.014      1.111      0.269      -0.012       0.042\n",
       "==============================================================================\n",
       "Omnibus:                        0.449   Durbin-Watson:                   1.607\n",
       "Prob(Omnibus):                  0.799   Jarque-Bera (JB):                0.607\n",
       "Skew:                           0.115   Prob(JB):                        0.738\n",
       "Kurtosis:                       2.683   Cond. No.                         295.\n",
       "==============================================================================\n",
       "\n",
       "Notes:\n",
       "[1] Standard Errors assume that the covariance matrix of the errors is correctly specified.\n",
       "\"\"\""
      ]
     },
     "execution_count": 20,
     "metadata": {},
     "output_type": "execute_result"
    }
   ],
   "source": [
    "MLRmodel.summary()"
   ]
  },
  {
   "cell_type": "markdown",
   "metadata": {},
   "source": [
    "The final model with competitors and advertising is \n",
    "\n",
    "$\n",
    "\\texttt{sales} = \\text{13.1652} - 0.7267 \\times \\texttt{competitors} + 1.1204 \\times \\texttt{advertising}\n",
    "$\n",
    "\n",
    "This indicates that number of competitors and amount spent on advertising are the two biggest predictors for the shops annual sales of paddleboards. If there are 0 competitors and no money is spent on advertising, then sales will be $13,156. This will increase if the money spent on advertising increases, however it will decrease as the number of competitors increases. \n",
    "\n",
    "This model makes sense because if there are more competitors, there will be more stores to by paddleboards from and hence we would expect my friend's shop to have less revenue. On the other hand less competitors (like 0), would make it much more likely for someone to purchase from the friends shop because it is the only one available. \n",
    "\n",
    "Also people are more likely to purchase from the shop if they know about it, and hence increasing advertising would increase awareness of the store and sales would increase.\n"
   ]
  },
  {
   "cell_type": "markdown",
   "metadata": {},
   "source": [
    "\n",
    "### [2] Part G: Back To Your Friend\n",
    "\n",
    "After finishing your final model, you report the results to your friend.  Your friend asks you to answer the following questions:  \n",
    " \n",
    " \n",
    " - ***i). (3 pt) Provide 95% confidence intervals for each of the coefficients in your final model (you can use the summary table to find these and you do not need to provide a confidence interval for the intercept).  Since your friend is rusty at statistics, write an explanation/ interpretation of what each of the confidence intervals mean in the context of this dataset.*** \n",
    " "
   ]
  },
  {
   "cell_type": "markdown",
   "metadata": {},
   "source": [
    "95% CI for competitors is [-0.953,\t-0.500]. This means we are 95% confident that the true slope of competitors lies within this range. And since it does not include 0, the slope of the competitors variable is NOT 0, in otherwords it is a meaningful predictor in this model \n",
    "\n",
    "For advertising the 95% CI is [0.983,\t1.257]. So 95% confident that the true slope lies within this range. And since it does not include 0, the slope of the advertising variable is NOT 0, and in otherwords advertising is also a meaningful predictor in this model \n",
    "\n",
    "\n",
    "\n"
   ]
  },
  {
   "cell_type": "markdown",
   "metadata": {},
   "source": [
    "\n",
    " \n"
   ]
  },
  {
   "cell_type": "markdown",
   "metadata": {},
   "source": [
    " - ii). ***(2 pts) Your friend is thinking of opening a new paddleboard shop in a town with population density of 75 people per square mile.  The town has 4 lakes nearby and currently only 2 nearby competitors. Based on your final model, how much money do you recommend they allocate to this shop for advertising during the first year so that the shop's first year sales revenue will be at least $\\$25,000$? Explain.***  "
   ]
  },
  {
   "cell_type": "code",
   "execution_count": 21,
   "metadata": {},
   "outputs": [
    {
     "name": "stdout",
     "output_type": "stream",
     "text": [
      "He should allocate minimum $11.86 thousand dollars for advertising (ie $11860.23) to reach $25,000 sales revenue \n"
     ]
    }
   ],
   "source": [
    "#from model\n",
    "b0= 13.1652\n",
    "bComp=- 0.7267 \n",
    "bAd= 1.1204 \n",
    "\n",
    "#givens in this hypothetical senario\n",
    "xComp=2\n",
    "y=25 #remember sales in in units of thousands of dollars\n",
    "\n",
    "#our model is y=b0+bComp*xComp+bAd*xAd\n",
    "# solve for xAd we are left with xAd= (y-b0-bComp*xComp)/bAd\n",
    "#now calculate estimated value of advertising $ given the inputs above\n",
    "xAd= (y-b0-bComp*xComp)/bAd\n",
    "print(\"He should allocate minimum ${:.2f} thousand dollars for advertising (ie ${:.2f}) to reach $25,000 sales revenue \".\n",
    "      format(xAd, xAd*1000))\n",
    "\n",
    "# check to see that predictedY is close to 25 and yes it is\n",
    "#predictedY=MLRmodel.predict([b0,xComp,xAd])"
   ]
  },
  {
   "cell_type": "markdown",
   "metadata": {},
   "source": [
    "Using the regression equation of our model $\n",
    "\\texttt{sales} = \\text{13.1652} - 0.7267 \\times \\texttt{competitors} + 1.1204 \\times \\texttt{advertising}\n",
    "$,\n",
    "\n",
    "we want to solve for the amount of advertising. So we get \n",
    "$$\n",
    "\\texttt{advertising} = \\frac{\\texttt{sales} - \\text{13.1652} - 0.7267 \\times \\texttt{competitors} } {1.1204 }\n",
    "$$\n",
    "\n",
    "Then plug in the predictor values (sales and competitors) and we calculate $11,860 must be allocated for advertising to reach a minimum of 25,000 sales revenue "
   ]
  },
  {
   "cell_type": "markdown",
   "metadata": {},
   "source": [
    "- ***iii). (1 pt) Is there any other data (i.e. other possible explanatory variables) you recommend your friend gather in the future to possibly improve the model of sales revenue?  Explain.***  "
   ]
  },
  {
   "cell_type": "markdown",
   "metadata": {},
   "source": [
    "I would suggest he gather information on the income of the residents within the area of the shop. If someone is struggling to meet basic needs, then purchasing a paddle board will not be realistically financially feasible. Hence one would expect lower sales revenue with lower income. Likewise, more affluent places likely will have more disposible income and are more likely to buy a paddleboard, thus higher revenue with higher region income. "
   ]
  },
  {
   "cell_type": "markdown",
   "metadata": {},
   "source": [
    "<a id='p3'></a>\n",
    "# Problem 3\n",
    "***\n",
    "Narwhals are a threatened species. There are approximately 80,000 left in existence. In an attempt to determine the health of the current narwhal population, a number of these whales were captured and weighed. Since there are not many of these creatures to find, only a small sample was able to be counted and the underlying narwhal weight distribution is unknown. \n",
    "\n",
    "Given the data:\n",
    "\n",
    "Narwhal sample weights (pounds): 700, 900, 1000, 1000, 1200, 1400, 1500, 1600, 1600, 1700, 1900, 2000, 2100, 2100, 2300\n"
   ]
  },
  {
   "cell_type": "markdown",
   "metadata": {},
   "source": [
    "### [3] Part A\n",
    "***(3 points)\n",
    "Produce a 95% confidence interval for narwhal population median weight.***"
   ]
  },
  {
   "cell_type": "markdown",
   "metadata": {},
   "source": [
    "Since sample size n=15 < 30 and we do not know the standard deviation and we don't know if the data is normal, we will use bootstrapping"
   ]
  },
  {
   "cell_type": "code",
   "execution_count": 22,
   "metadata": {},
   "outputs": [],
   "source": [
    "sample = np.array([700, 900, 1000, 1000, 1200, 1400, 1500, \n",
    "                   1600, 1600, 1700, 1900, 2000, 2100, 2100, 2300])"
   ]
  },
  {
   "cell_type": "code",
   "execution_count": 23,
   "metadata": {},
   "outputs": [
    {
     "name": "stdout",
     "output_type": "stream",
     "text": [
      "The 95% CI for narwhal population median weight is  [1200. 2000.]\n"
     ]
    }
   ],
   "source": [
    "# Bootstrap the median\n",
    "def bootstrapped_median(sample, num_boots=5000):\n",
    "\n",
    "    # array of 5000 medians from 5000 bootstrap samples of same size as sample\n",
    "    # Each sample of course had replacement.\n",
    "    b = np.array([np.median(np.random.choice(sample, replace=True, size=len(sample))) \n",
    "                  for ii in range(num_boots)])\n",
    "    \n",
    "    # for 95% CI \n",
    "    L, U = np.percentile(b, 2.5), np.percentile(b, 97.5)\n",
    "    \n",
    "    CI = np.array([L, U])\n",
    "    \n",
    "    return CI \n",
    "\n",
    "# Call the function on our sample\n",
    "medianCI= bootstrapped_median(sample)\n",
    "print(\"The 95% CI for narwhal population median weight is \",medianCI )"
   ]
  },
  {
   "cell_type": "markdown",
   "metadata": {},
   "source": [
    "### [3] Part B\n",
    "***(3 points)\n",
    "Produce a 95% confidence interval for narwhal population mean weight.***\n"
   ]
  },
  {
   "cell_type": "code",
   "execution_count": 24,
   "metadata": {},
   "outputs": [
    {
     "name": "stdout",
     "output_type": "stream",
     "text": [
      "The 95% CI for narwhal population mean weight is  [1280.         1773.33333333]\n"
     ]
    }
   ],
   "source": [
    "\n",
    "def bootstrapped_mean(sample, num_boots=5000):\n",
    "\n",
    "    # array of 5000 means from 5000 bootstrap samples of same size as sample\n",
    "    # Each sample of course had replacement.\n",
    "    b = np.array([np.mean(np.random.choice(sample, replace=True, size=len(sample))) \n",
    "                  for ii in range(num_boots)])\n",
    "    \n",
    "    # for 95% CI \n",
    "    L, U = np.percentile(b, 2.5), np.percentile(b, 97.5)\n",
    "    \n",
    "    CI = np.array([L, U])\n",
    "    \n",
    "    return CI \n",
    "\n",
    "# Call the function.\n",
    "meanCI=bootstrapped_mean(sample)\n",
    "print(\"The 95% CI for narwhal population mean weight is \",meanCI )"
   ]
  },
  {
   "cell_type": "markdown",
   "metadata": {},
   "source": [
    "### [3] Part C\n",
    "***(3 points)\n",
    "Produce a 95% confidence interval for narwhal population standard deviation of weights.***"
   ]
  },
  {
   "cell_type": "code",
   "execution_count": 25,
   "metadata": {},
   "outputs": [
    {
     "name": "stdout",
     "output_type": "stream",
     "text": [
      "The 95% CI for narwhal population standard deviation of weight is  [333.02978266 572.55761476]\n"
     ]
    }
   ],
   "source": [
    "\n",
    "def bootstrapped_std(sample, num_boots=5000):\n",
    "\n",
    "    # array of 5000 means from 5000 bootstrap samples of same size as sample\n",
    "    # Each sample of course had replacement.\n",
    "    b = np.array([np.std(np.random.choice(sample, replace=True, size=len(sample))) \n",
    "                  for ii in range(num_boots)])\n",
    "    \n",
    "    # for 95% CI \n",
    "    L, U = np.percentile(b, 2.5), np.percentile(b, 97.5)\n",
    "    \n",
    "    CI = np.array([L, U])\n",
    "    \n",
    "    return CI \n",
    "\n",
    "# Call the function.\n",
    "stdCI=bootstrapped_std(sample)\n",
    "\n",
    "print(\"The 95% CI for narwhal population standard deviation of weight is \",stdCI )"
   ]
  },
  {
   "cell_type": "markdown",
   "metadata": {},
   "source": [
    "<a id='p4'></a>\n",
    "# Problem 4\n",
    "***\n",
    "\n",
    "Ostriches are typically around 7 to 9 feet tall.\n",
    "\n",
    "Some folks would claim that ostriches at one zoo are particularly taller than ostriches at another zoo due to influences such as climate and/or diet. We have samples of ostrich height from two different zoos.\n",
    "\n",
    "(For this problem you can assume that the ostrich populations from which these samples are taken are normally distributed with equal (but unknown) population variance).  \n",
    "\n",
    "***(6 points) Create a 95% CI for the difference between the mean ostrich heights for zoo A and zoo B, and interpret your answer.***\n",
    "\n",
    "\n"
   ]
  },
  {
   "cell_type": "markdown",
   "metadata": {},
   "source": [
    "The heights of ostriches from Zoo A are found in the file `height1.csv`.\n",
    "\n",
    "The heights of ostriches from Zoo B are found in the file `height2.csv`.\n",
    " "
   ]
  },
  {
   "cell_type": "markdown",
   "metadata": {},
   "source": [
    "Since n = 23 < 30 and we know that the population data is normally distributed, but we have unknown population variance, we will use a t distribution\n",
    "\n",
    "\n",
    "The difference between mean ostrich heights for zoo A and B is given by the formula: $(\\bar{x_A}-\\bar{x_B}) \\pm t_{\\alpha /2,df} {\\sqrt{\\frac{s_{A}^{2}}{n_A}+\\frac{s_{B}^{2}}{n_B}}}$\n",
    "\n"
   ]
  },
  {
   "cell_type": "code",
   "execution_count": 26,
   "metadata": {},
   "outputs": [],
   "source": [
    "#read in the ostrich height data\n",
    "zooA = pd.read_csv(\"height1.csv\")\n",
    "zooB = pd.read_csv(\"height2.csv\")\n",
    "\n",
    "#get size of each sample\n",
    "n1=len(zooA)\n",
    "n2=len(zooB)\n",
    "\n",
    "#calculate sample mean\n",
    "x1=np.mean(zooA[\"height1\"])\n",
    "x2=np.mean(zooB[\"height2\"])\n",
    "\n",
    "#calculate sample standard deviation\n",
    "s1= np.std(zooA[\"height1\"])\n",
    "s2=np.std(zooB[\"height2\"])\n",
    "\n",
    "#difference in sample means\n",
    "pointest= x1-x2\n",
    "#error\n",
    "scale=np.sqrt(s1*s1/n1+ s2*s2/n2)"
   ]
  },
  {
   "cell_type": "code",
   "execution_count": 27,
   "metadata": {},
   "outputs": [
    {
     "name": "stdout",
     "output_type": "stream",
     "text": [
      "The 95% confidence interval is  (0.9762085649819934, 1.423791435017998)\n"
     ]
    }
   ],
   "source": [
    "tcrit= stats.t.ppf(1-0.05/2, n1+n2-2)\n",
    "low= pointest-tcrit*scale\n",
    "high = pointest+tcrit*scale\n",
    "CI= low,high\n",
    "print(\"The 95% confidence interval is \", CI)\n",
    "\n",
    "\n",
    "# Alternatively, the stats.t.interval function does the same thing\n",
    "#  CI= stats.t.interval(alpha=1-0.05, df=n1+n2-2, loc=pointest, scale=scale)\n"
   ]
  },
  {
   "cell_type": "markdown",
   "metadata": {},
   "source": [
    "\n"
   ]
  },
  {
   "cell_type": "markdown",
   "metadata": {},
   "source": [
    "The 95% confidence interval is  (0.9762085649819934, 1.423791435017998) which does not include 0, so at the 5% significant level the data DOES provide sufficient evidence to conclude that the mean height of the ostriches at Zoo A and Zoo B are different.\n",
    "\n",
    "Further, this CI indicates that we are 95% confident that the true difference between means lies in the range (0.9762085649819934, 1.423791435017998) \n"
   ]
  },
  {
   "cell_type": "markdown",
   "metadata": {},
   "source": [
    "<a id='p5'></a>\n",
    "# Problem 5\n",
    "***"
   ]
  },
  {
   "cell_type": "markdown",
   "metadata": {},
   "source": [
    "Suppose you are working for a government agency that provides food to war torn countries. The cornmeal packaging facility that you oversee is producing hundreds of thousands of bags of cornmeal for this purpose.\n",
    "\n",
    "You take a simple random sample of bags from the production line and weigh them. The data for this sample is found in `cornMeal.csv`.\n",
    "\n",
    "\n",
    "\n",
    "\n",
    "### [5] Part A\n",
    "***(1 pt) Create a frequency histogram of the data to get a visual idea of how normal the data appears to be distributed.***\n"
   ]
  },
  {
   "cell_type": "code",
   "execution_count": 28,
   "metadata": {},
   "outputs": [
    {
     "data": {
      "text/html": [
       "<div>\n",
       "<style scoped>\n",
       "    .dataframe tbody tr th:only-of-type {\n",
       "        vertical-align: middle;\n",
       "    }\n",
       "\n",
       "    .dataframe tbody tr th {\n",
       "        vertical-align: top;\n",
       "    }\n",
       "\n",
       "    .dataframe thead th {\n",
       "        text-align: right;\n",
       "    }\n",
       "</style>\n",
       "<table border=\"1\" class=\"dataframe\">\n",
       "  <thead>\n",
       "    <tr style=\"text-align: right;\">\n",
       "      <th></th>\n",
       "      <th>bagWeight</th>\n",
       "    </tr>\n",
       "  </thead>\n",
       "  <tbody>\n",
       "    <tr>\n",
       "      <th>0</th>\n",
       "      <td>992.300233</td>\n",
       "    </tr>\n",
       "    <tr>\n",
       "      <th>1</th>\n",
       "      <td>1008.686227</td>\n",
       "    </tr>\n",
       "    <tr>\n",
       "      <th>2</th>\n",
       "      <td>1002.312632</td>\n",
       "    </tr>\n",
       "    <tr>\n",
       "      <th>3</th>\n",
       "      <td>1019.249815</td>\n",
       "    </tr>\n",
       "    <tr>\n",
       "      <th>4</th>\n",
       "      <td>1036.001154</td>\n",
       "    </tr>\n",
       "  </tbody>\n",
       "</table>\n",
       "</div>"
      ],
      "text/plain": [
       "     bagWeight\n",
       "0   992.300233\n",
       "1  1008.686227\n",
       "2  1002.312632\n",
       "3  1019.249815\n",
       "4  1036.001154"
      ]
     },
     "execution_count": 28,
     "metadata": {},
     "output_type": "execute_result"
    }
   ],
   "source": [
    "#read in the cornMeal data\n",
    "dfCorn = pd.read_csv(\"cornMeal.csv\")\n",
    "\n",
    "dfCorn.head()"
   ]
  },
  {
   "cell_type": "code",
   "execution_count": 29,
   "metadata": {},
   "outputs": [
    {
     "data": {
      "image/png": "[encoded data removed]",
      "text/plain": [
       "<Figure size 864x432 with 1 Axes>"
      ]
     },
     "metadata": {
      "needs_background": "light"
     },
     "output_type": "display_data"
    }
   ],
   "source": [
    "# Initialze the picture\n",
    "fig, ax = plt.subplots(nrows=1, ncols=1, figsize=(12,6))\n",
    "\n",
    "# Make a histogram out of 'Income'.\n",
    "dfCorn.hist( column=\"bagWeight\", bins=20, color=\"steelblue\", edgecolor=\"white\", ax=ax, density= False)\n",
    "\n",
    "# Make the graph readable\n",
    "ax.grid(alpha=0.25)\n",
    "ax.set_axisbelow(True)\n",
    "ax.set_title(\"Distribution of Corn Meal weights\", fontsize=16)\n",
    "ax.set_xlabel(\"Weight of Corn Meal Bag\", fontsize=16)\n",
    "ax.set_ylabel(\"Frequency\", fontsize=16);"
   ]
  },
  {
   "cell_type": "markdown",
   "metadata": {},
   "source": [
    "\n",
    "\n",
    "### [5] Part B\n",
    "Since tax money is paying for each bag to have 1000g of cornmeal, it's important to make sure that each bag actually contains 1000g. Assume that this sample (`cornMeal.csv`) is representative of the population (i.e. bags produced on this production line) from which it was drawn.\n",
    "\n",
    "***(3 points) According to the mean, standard deviation and distribution of this sample, we can infer that what percent of bags from the entire population contain less than 1000g?***"
   ]
  },
  {
   "cell_type": "code",
   "execution_count": 30,
   "metadata": {},
   "outputs": [
    {
     "name": "stdout",
     "output_type": "stream",
     "text": [
      "The sample mean bag weight is  999.0000000000007\n",
      "The sample standard deviation is  19.009507130942694\n"
     ]
    }
   ],
   "source": [
    "#get size of sample\n",
    "numsamps= len(dfCorn)\n",
    "\n",
    "cornMean=np.mean(dfCorn[\"bagWeight\"])\n",
    "\n",
    "#take the sample standard deviation\n",
    "cornStdev= np.std(dfCorn[\"bagWeight\"], ddof=1)\n",
    " \n",
    "print(\"The sample mean bag weight is \", cornMean)\n",
    "print(\"The sample standard deviation is \", cornStdev )"
   ]
  },
  {
   "cell_type": "code",
   "execution_count": 31,
   "metadata": {},
   "outputs": [
    {
     "name": "stdout",
     "output_type": "stream",
     "text": [
      "𝑃(𝑋<1000 lbs)= 47.902%, so we can infer that 47.902% of the bags contain less than 1000g\n"
     ]
    }
   ],
   "source": [
    "#transform to standard normal distribution using Z=(X-𝜇)/𝜎\n",
    "z=(cornMean-1000)/cornStdev #Z=(X-𝜇)/𝜎\n",
    "\n",
    "#so now we have P(Z≤-0.526)=?\n",
    "#use stats.norm.cdf which automatically calculates left tail \n",
    "valA= stats.norm.cdf(z)\n",
    "\n",
    "\n",
    "print(\"𝑃(𝑋<1000 lbs)= {:.3f}%, so we can infer that {:.3f}% of the bags contain less than 1000g\"\n",
    "      .format(valA*100, valA*100))"
   ]
  },
  {
   "cell_type": "markdown",
   "metadata": {},
   "source": [
    "### [5] Part C\n",
    "\n",
    "The federal director in charge of this project has decided that a production line that produces more than 50% of bags without 1000g of cornmeal is cheating the taxpayers. In other words, the director has decided that too many bags are being filled with less than 1000g of cornmeal and tells you to fix the problem.\n",
    "\n",
    "Specifically, your task/mandate is to make sure at least 95% of cornmeal bags are filled within 5 grams of the labeled \"1000g per bag\".\n",
    "\n",
    "You have the ability to adjust a dial on the production machine that determines the mean amount of corn meal injected into a bag each time $\\textbf{or}$ you can adjust the shut-off valve so the differences in the filled amount per bag significantly reduces.\n",
    "\n",
    "You have two advisors working with you on this project. The first advisor tells you to simply adjust the dial on the machine regulating the mean amount injected into each bag so that 1000g is 1.7 standard deviations below the new mean. This would ensure that very few bags (only around 4%) produced are actually below\n",
    "the mandated 1000g. This would surely satisfy the director and fulfill your mandate.\n"
   ]
  },
  {
   "cell_type": "code",
   "execution_count": 32,
   "metadata": {},
   "outputs": [
    {
     "name": "stdout",
     "output_type": "stream",
     "text": [
      "0.04456546275854304\n"
     ]
    }
   ],
   "source": [
    "# If you are curious, this is where the previously mentioned 4% came from.\n",
    "pp = norm.cdf(-1.7)\n",
    "print(pp)"
   ]
  },
  {
   "cell_type": "markdown",
   "metadata": {},
   "source": [
    "***(2 points) If you follow this advice, then what would you set as the new mean amount of cornmeal to inject into each bag?***   "
   ]
  },
  {
   "cell_type": "code",
   "execution_count": 33,
   "metadata": {},
   "outputs": [
    {
     "name": "stdout",
     "output_type": "stream",
     "text": [
      "Set the new mean at : 1032.316 grams\n"
     ]
    }
   ],
   "source": [
    "# recall z=(xbar-mu)/std\n",
    "# z=-1.7 so that means that x=1000 is \n",
    "#1.7 standard deviations to the left of the newe mean\n",
    "\n",
    "#so mu= xbar-z*std\n",
    "#newMean= oldMean- shift*std\n",
    "newmean= 1000- (-1.7)*cornStdev\n",
    "print(\"Set the new mean at : {:.3f} grams\".format(newmean))"
   ]
  },
  {
   "cell_type": "markdown",
   "metadata": {},
   "source": [
    "### [5] Part D\n",
    "Your second advisor points out that increasing the mean to a higher level will create overfilling of bags or waste.\n",
    "\n",
    "Therefore, you decide to measure the overage that might occur should you follow the instructions of advisor 1.\n",
    "\n",
    "***(3 points) If you followed the advice of advisor 1, then you would increase the mean amount of cornmeal injected into each bag. With this new mean, what percentage of bags produced going forward would we expect to be greater than $1010g$ ?***\n"
   ]
  },
  {
   "cell_type": "code",
   "execution_count": 34,
   "metadata": {
    "scrolled": true
   },
   "outputs": [
    {
     "name": "stdout",
     "output_type": "stream",
     "text": [
      "87.98% of bags going forward will be greater than 1010g\n"
     ]
    }
   ],
   "source": [
    "#we want to find P(X>1010)\n",
    "#so standardize to zscore \n",
    "#z=(x-mu)/std\n",
    "z= (1010-newmean)/cornStdev\n",
    "\n",
    "#now find area to the right of Z\n",
    "#P(Z>1010)= 1-norm.cdf(z)\n",
    "perc=  1-norm.cdf(z)\n",
    "\n",
    "print(\"{:.2f}% of bags going forward will be greater than 1010g\".format(perc*100))"
   ]
  },
  {
   "cell_type": "markdown",
   "metadata": {},
   "source": [
    "### [5] Part E\n",
    "\n",
    "Your second advisor goes on to say, in an effort to control overfilling, one $\\textbf{should not}$ increase the mean amount of cornmeal per bag. This advisor claims you should instead adjust the accuracy of the shut-off valve to control how much (over/under) cornmeal is put into each bag.\n",
    "\n",
    "***(3 points) So, if you decide not to adjust the mean and instead adjust the shut-off valve (i.e. the standard deviation), then what should the new standard deviation be to ensure $98\\%$ of bags are within 5 grams of the mean?***\n"
   ]
  },
  {
   "cell_type": "code",
   "execution_count": 35,
   "metadata": {},
   "outputs": [
    {
     "name": "stdout",
     "output_type": "stream",
     "text": [
      "The new standard deviation should be  2.149291623919966\n"
     ]
    }
   ],
   "source": [
    "\n",
    "#we will want a smaller standard deviatio nso the dispersion is smaller \n",
    "#this will make it so that more bags produced are closer to the mean of 1000\n",
    "\n",
    "#beginning std is ~19\n",
    "\n",
    "#98% confidence interval for mean= 10000 \n",
    "#P(995 < X < 1005) = 0.98 solve for stdev \n",
    "setMean=1000\n",
    "zcrit= stats.norm.ppf(0.01)\n",
    "#mean + zcrit* std = 1005\n",
    "high=1005\n",
    "#mean - zcrit* std = 995\n",
    "low=995\n",
    "\n",
    "newStd= (high-setMean)/-zcrit\n",
    "print(\"The new standard deviation should be \", newStd)"
   ]
  },
  {
   "cell_type": "markdown",
   "metadata": {},
   "source": [
    "### [5] Part F\n",
    "***(3 points) Using this new standard deviation from Part E (and not adjusting the mean), what percent of bags would we expect to be within 5 grams of the labeled \"1000g per bag\"? In other words, going forward, what percent of bags would we expect to contain between $995g$ and $1005g$ of cornmeal? Have you satisfied the mandate?***\n"
   ]
  },
  {
   "cell_type": "code",
   "execution_count": 36,
   "metadata": {},
   "outputs": [
    {
     "name": "stdout",
     "output_type": "stream",
     "text": [
      "P(995 < X < 1005)= 98.000%, so we can infer that 98.000% of the bags contain less than 1000g\n"
     ]
    }
   ],
   "source": [
    "#P(995 < X < 1005)  given mean =100 and newStdev= 2.149 from above\n",
    "mu=1000\n",
    "x1=995\n",
    "x2=1005\n",
    "sigma=newStd\n",
    "z1=(x1-mu)/sigma #Z=(X-𝜇)/𝜎\n",
    "z2=(x2-mu)/sigma\n",
    "\n",
    "#use stats.norm.cdf which automatically calculates left tail \n",
    "val1= norm.cdf(z1)\n",
    "#now right tail\n",
    "val2= norm.cdf(z2)\n",
    "finalval=val2-val1\n",
    "\n",
    "print(\"P(995 < X < 1005)= {:.3f}%, so we can infer that {:.3f}% of the bags contain less than 1000g\".\n",
    "      format(finalval*100, finalval*100))"
   ]
  },
  {
   "cell_type": "markdown",
   "metadata": {},
   "source": [
    "Since P(995 < X < 1005)= 98.000%, we have satisfied the mandate. In other words we can conclude that 98% of bags will contain between  995𝑔  and  1005𝑔  of cornmeal"
   ]
  },
  {
   "cell_type": "markdown",
   "metadata": {},
   "source": [
    "<a id='p6'></a>\n",
    "# Problem 6\n",
    "***"
   ]
  },
  {
   "cell_type": "markdown",
   "metadata": {},
   "source": [
    "Consider a CU CS course with two sections; Section 001 and Section 002.\n",
    "\n",
    "The .csv file `Section_001.csv` contains the twelve quiz scores of 4 named students from section 001.\n",
    "\n",
    "The .csv file `Section_002.csv` contains the twelve quiz scores of 4 named students from section 002.\n",
    "\n",
    "Import the data of these two sets.\n",
    "One of the sections contains four students whose scores $\\textbf{are not}$ statistically different.\n",
    "The other section contains four students whose scores $\\textbf{are}$ statistically different.\n",
    "\n",
    "You can assume that population quiz scores for both sections are normally distributed with the same (unknown) population variance.  \n"
   ]
  },
  {
   "cell_type": "code",
   "execution_count": 37,
   "metadata": {},
   "outputs": [],
   "source": [
    "#read in the quiz data\n",
    "dfSection1 = pd.read_csv(\"Section_001.csv\")\n",
    "dfSection2 = pd.read_csv(\"Section_002.csv\")\n",
    "\n",
    "#print(dfSection1.head()) #look at data\n",
    "#print(dfSection2.head())"
   ]
  },
  {
   "cell_type": "markdown",
   "metadata": {},
   "source": [
    "### [6] Part A\n",
    "***(3 points) Perform ANOVA F-test(s) to determine which data set (section 001 or section 002) contains a group of students whose mean quiz scores are considered different at the $\\alpha = 0.05$ significance level.***"
   ]
  },
  {
   "cell_type": "markdown",
   "metadata": {},
   "source": [
    "For section 1:\n",
    "\n",
    "Let the null hypothesis be that the mean scores of all 4 students in section 1 are equal \n",
    "$$\n",
    "H_0: \\mu_1 = \\mu_2 = \\mu_3 = \\mu_4 \n",
    "$$\n",
    "And the alternate that at least one is different \n"
   ]
  },
  {
   "cell_type": "code",
   "execution_count": 38,
   "metadata": {},
   "outputs": [
    {
     "name": "stdout",
     "output_type": "stream",
     "text": [
      "F = 0.01345\n",
      "pval = 0.99784\n",
      "The critical F value is 2.8165\n"
     ]
    }
   ],
   "source": [
    "F, pval = stats.f_oneway(dfSection1[\"Al\"], dfSection1[\"Bob\"],dfSection1[\"Cy\"],dfSection1[\"Dot\"])\n",
    "\n",
    "# Print out the F-score and the corresponding p-value.\n",
    "print(\"F = {:.5f}\".format(F))\n",
    "print(\"pval = {:.5f}\".format(pval))\n",
    "\n",
    "N = len(dfSection1.values.flatten())   # pandas to numpy, continuous array\n",
    "#N =48\n",
    "\n",
    "# Get total number of groups\n",
    "I = len(dfSection1.columns) \n",
    "  # This means I=4\n",
    "\n",
    "# Find the critical F. \n",
    "#  I-1 and N-I \n",
    "F_cr = stats.f.ppf(1-0.05,I-1,N-I)\n",
    "\n",
    "# Print the critical F-value.\n",
    "print(\"The critical F value is {:.5}\".format(F_cr))"
   ]
  },
  {
   "cell_type": "markdown",
   "metadata": {},
   "source": [
    "Since the p-value of the ANOVA test is  0.9978 > 𝛼=0.05  we FAIL to reject the null hypothesis and conclude that the mean quiz score for each student in section 1 is equal\n",
    "\n",
    "With the F test method, we also FAIL reject the null since the F-score = 0.01345 < Critical-F =2.816. We again note that the mean of the scores in section 1 are equivalent "
   ]
  },
  {
   "cell_type": "markdown",
   "metadata": {},
   "source": [
    "For section 2: \n",
    "    \n",
    "Let the null hypothesis be that the mean scores of all 4 students in section 1 are equal \n",
    "$$\n",
    "H_0: \\mu_1 = \\mu_2 = \\mu_3 = \\mu_4 \n",
    "$$\n",
    "And the alternate that at least one is different \n"
   ]
  },
  {
   "cell_type": "code",
   "execution_count": 39,
   "metadata": {},
   "outputs": [
    {
     "name": "stdout",
     "output_type": "stream",
     "text": [
      "F = 26.67605\n",
      "pval = 0.00000\n",
      "The critical F value is 2.8165\n"
     ]
    }
   ],
   "source": [
    "F, pval = stats.f_oneway(dfSection2[\"Eli\"], dfSection2[\"Frida\"],dfSection2[\"Gob\"],dfSection2[\"Hank\"])\n",
    "\n",
    "# Print out the F-score and the corresponding p-value.\n",
    "print(\"F = {:.5f}\".format(F))\n",
    "print(\"pval = {:.5f}\".format(pval))\n",
    "\n",
    "N = len(dfSection2.values.flatten())   # pandas to numpy, continuous array\n",
    "#N =48\n",
    "\n",
    "# Get total number of groups\n",
    "I = len(dfSection2.columns) \n",
    "  # This means I=4\n",
    "\n",
    "# Find the critical F. \n",
    "#  I-1 and N-I \n",
    "F_cr = stats.f.ppf(1-0.05,I-1,N-I)\n",
    "\n",
    "# Print the critical F-value.\n",
    "print(\"The critical F value is {:.5}\".format(F_cr))"
   ]
  },
  {
   "cell_type": "markdown",
   "metadata": {},
   "source": [
    "Since the p-value of the ANOVA test is  0.0000<𝛼=0.05  we reject the null hypothesis and conclude that there is at least one mean in Section2 that is different from the other students in that section\n",
    "\n",
    "With the F test method, we also reject the null since the F-score = 26.676 > Critical-F =2.816. We again note that at least one of the scores is different from the others in Section 2"
   ]
  },
  {
   "cell_type": "markdown",
   "metadata": {},
   "source": [
    "### [6] Part B\n",
    "\n",
    "***(3 points)  Now that you have chosen the data set (the proper CS section) that contains four students whose scores are considered different at the 5% level, use Tukey's Honest Significant Difference (HSD) test to determine which students in this section are statistically different using the MultiComparison module and interpret the results, i.e. compare/rank the students according to quiz scores.***\n"
   ]
  },
  {
   "cell_type": "code",
   "execution_count": 40,
   "metadata": {},
   "outputs": [
    {
     "name": "stdout",
     "output_type": "stream",
     "text": [
      "Multiple Comparison of Means - Tukey HSD, FWER=0.05 \n",
      "====================================================\n",
      "group1 group2 meandiff p-adj   lower   upper  reject\n",
      "----------------------------------------------------\n",
      "   Eli  Frida  -2.3083 0.0098 -4.1715 -0.4451   True\n",
      "   Eli    Gob  -4.7333  0.001 -6.5965 -2.8701   True\n",
      "   Eli   Hank    0.975 0.5071 -0.8882  2.8382  False\n",
      " Frida    Gob   -2.425 0.0062 -4.2882 -0.5618   True\n",
      " Frida   Hank   3.2833  0.001  1.4201  5.1465   True\n",
      "   Gob   Hank   5.7083  0.001  3.8451  7.5715   True\n",
      "----------------------------------------------------\n"
     ]
    }
   ],
   "source": [
    "#section2 is different \n",
    "\n",
    "\n",
    "data = dfSection2.values.T.flatten()  # Pandas to NumPy, Transpose, and 'flatten'\n",
    "  # data = all the scores\n",
    "\n",
    "# Create an empty array to hold the names of the students.\n",
    "labels = []\n",
    "\n",
    "# This for-loop puts the student name in once for each of their scores.\n",
    "# .count() is a built-in function that returns the number of times an object\n",
    "#  appears in a list. \n",
    "for col in dfSection2.columns:\n",
    "    labels = labels + [col]*dfSection2[col].count()\n",
    " # Each 'name' 8 times.\n",
    "    \n",
    "mc = MultiComparison(data, labels)\n",
    "result = mc.tukeyhsd()\n",
    "\n",
    "print(result)"
   ]
  },
  {
   "cell_type": "markdown",
   "metadata": {},
   "source": [
    " The reject column tells us whether or not the null hypothesis that the two means are equal is rejected or not. We see that there is sufficient statistical evidence to believe that the means between Eli vs Frida, Eli vs Gob, Frida vs Gob, Frida vs Hank, and Gob vs Hank are statistically different. HOWEVER,  Eli and Hank's means are NOT different.\n",
    "\n",
    "From this we can conclude that Eli and Hanks means are the same, while all the others are different\n",
    "\n",
    "We will now investigate each mean to see how they rank"
   ]
  },
  {
   "cell_type": "code",
   "execution_count": 41,
   "metadata": {},
   "outputs": [
    {
     "name": "stdout",
     "output_type": "stream",
     "text": [
      "Hank's mean quiz score:  19.025000000000002\n",
      "Eli's mean quiz score:  18.05\n",
      "Frida's mean quiz score:  15.741666666666667\n",
      "Gob's mean quiz score:  13.316666666666668\n"
     ]
    }
   ],
   "source": [
    "e,f,g,h= dfSection2[\"Eli\"].mean(), dfSection2[\"Frida\"].mean() ,dfSection2[\"Gob\"].mean() ,dfSection2[\"Hank\"].mean()\n",
    "print(\"Hank's mean quiz score: \", h)\n",
    "print(\"Eli's mean quiz score: \", e)\n",
    "print(\"Frida's mean quiz score: \", f)\n",
    "print(\"Gob's mean quiz score: \", g)"
   ]
  },
  {
   "cell_type": "markdown",
   "metadata": {},
   "source": [
    "Since Hank and Eli's mean score is higher than the others we can conclue  $\\mu_{Hank} = \\mu_{Eli} > \\mu_{Frida} > \\mu_{Gob} $  at the 5% significane level "
   ]
  },
  {
   "cell_type": "markdown",
   "metadata": {},
   "source": [
    "<a id='p7'></a>\n",
    "# Problem 7\n",
    "***"
   ]
  },
  {
   "cell_type": "markdown",
   "metadata": {},
   "source": [
    "In this question you will import `x.csv` and compare its distribution to a distribution of sample means taken from samples of `x.csv`.\n"
   ]
  },
  {
   "cell_type": "code",
   "execution_count": 42,
   "metadata": {},
   "outputs": [
    {
     "name": "stdout",
     "output_type": "stream",
     "text": [
      "Sample size:  1000\n"
     ]
    },
    {
     "data": {
      "text/html": [
       "<div>\n",
       "<style scoped>\n",
       "    .dataframe tbody tr th:only-of-type {\n",
       "        vertical-align: middle;\n",
       "    }\n",
       "\n",
       "    .dataframe tbody tr th {\n",
       "        vertical-align: top;\n",
       "    }\n",
       "\n",
       "    .dataframe thead th {\n",
       "        text-align: right;\n",
       "    }\n",
       "</style>\n",
       "<table border=\"1\" class=\"dataframe\">\n",
       "  <thead>\n",
       "    <tr style=\"text-align: right;\">\n",
       "      <th></th>\n",
       "      <th>x</th>\n",
       "    </tr>\n",
       "  </thead>\n",
       "  <tbody>\n",
       "    <tr>\n",
       "      <th>0</th>\n",
       "      <td>28.09</td>\n",
       "    </tr>\n",
       "    <tr>\n",
       "      <th>1</th>\n",
       "      <td>19.14</td>\n",
       "    </tr>\n",
       "    <tr>\n",
       "      <th>2</th>\n",
       "      <td>134.34</td>\n",
       "    </tr>\n",
       "    <tr>\n",
       "      <th>3</th>\n",
       "      <td>42.41</td>\n",
       "    </tr>\n",
       "    <tr>\n",
       "      <th>4</th>\n",
       "      <td>84.75</td>\n",
       "    </tr>\n",
       "  </tbody>\n",
       "</table>\n",
       "</div>"
      ],
      "text/plain": [
       "        x\n",
       "0   28.09\n",
       "1   19.14\n",
       "2  134.34\n",
       "3   42.41\n",
       "4   84.75"
      ]
     },
     "execution_count": 42,
     "metadata": {},
     "output_type": "execute_result"
    }
   ],
   "source": [
    "#read in the the data\n",
    "dfX= pd.read_csv(\"x.csv\")\n",
    "\n",
    "# check length of sample \n",
    "print(\"Sample size: \", len(dfX))\n",
    "\n",
    "#take a look at data\n",
    "dfX.head()"
   ]
  },
  {
   "cell_type": "markdown",
   "metadata": {},
   "source": [
    "### [7] Part A\n",
    "***(3 points) Create a **density histogram** of the data set, find its mean, and describe its shape.***"
   ]
  },
  {
   "cell_type": "code",
   "execution_count": 43,
   "metadata": {},
   "outputs": [
    {
     "data": {
      "image/png": "[encoded data removed]",
      "text/plain": [
       "<Figure size 864x432 with 1 Axes>"
      ]
     },
     "metadata": {
      "needs_background": "light"
     },
     "output_type": "display_data"
    }
   ],
   "source": [
    "# Initialze the picture\n",
    "fig, ax = plt.subplots(nrows=1, ncols=1, figsize=(12,6))\n",
    "\n",
    "# Make a histogram out of 'Income'.\n",
    "dfX.hist( column=\"x\", bins=20, color=\"steelblue\", edgecolor=\"white\", ax=ax, density= True)\n",
    "\n",
    "# Make the graph readable\n",
    "ax.grid(alpha=0.25)\n",
    "ax.set_axisbelow(True)\n",
    "ax.set_title(\" Data from x.csv\", fontsize=16)\n",
    "ax.set_xlabel(\"x\", fontsize=16)\n",
    "ax.set_ylabel(\"Density\", fontsize=16);"
   ]
  },
  {
   "cell_type": "code",
   "execution_count": 44,
   "metadata": {},
   "outputs": [
    {
     "name": "stdout",
     "output_type": "stream",
     "text": [
      "The mean of this data is 41.347\n"
     ]
    }
   ],
   "source": [
    "print(\"The mean of this data is {:.3f}\".format(dfX[\"x\"].mean()))"
   ]
  },
  {
   "cell_type": "markdown",
   "metadata": {},
   "source": [
    "The data from 'x.csv' is not normal, and it is very positively (right) skewed "
   ]
  },
  {
   "cell_type": "markdown",
   "metadata": {},
   "source": [
    "### [7] Part B\n",
    "***(4 points)  Complete the functions below to graph a sample distribution of sample means from this file. Do not change the names or any of the existing code.***"
   ]
  },
  {
   "cell_type": "code",
   "execution_count": 45,
   "metadata": {},
   "outputs": [],
   "source": [
    "# 'x' refers to the values in our file x.csv.\n",
    "\n",
    "# Create a function that returns a single sample mean from a single\n",
    "#  random sample of size 'sample_size=5' obtained from 'x'.\n",
    "# Uncomment the function below and use it.\n",
    "\n",
    "def est_mean_from_sample(sample_size=5):\n",
    "    # draw a sample from the population and compute the  sample mean\n",
    "       #returns a random sample of sample size items data\n",
    "    estMean = dfX.sample(sample_size)\n",
    "    \n",
    "    # the return is the mean of the sample from the column entitled 'Income'\n",
    "    return estMean[\"x\"].mean()\n",
    "\n",
    "# Create a function that returns an array of sample means by\n",
    "#  calling 'est_mean_from_sample' 'numb_samples' amount of times.\n",
    "# Uncomment the function below and use it.\n",
    "\n",
    "def array_of_means(sample_size=5, numb_samples=12):\n",
    "    meanArray=(np.array([est_mean_from_sample(sample_size) for _ in range(numb_samples)]))\n",
    " \n",
    "    return meanArray\n",
    "   # call previous function numb_samples times.\n",
    "    # Each sample contains sample_size elements \n",
    "\n",
    "# Create a function that graphs a distribution of the\n",
    "#  sample means returned from 'array_of_means'.\n",
    "# Uncomment the function below and use it.\n",
    "\n",
    "def sample_mean_dist(sample_size=5, numb_samples=12):\n",
    "        \n",
    "    # 'means' is a series (array) holding the means of the samples.\n",
    "    means = pd.Series([array_of_means(sample_size, numb_samples)])\n",
    "    \n",
    "# Initialize the picture.\n",
    "    fig, ax = plt.subplots(nrows=1, ncols=1, figsize=(12,6))\n",
    "    \n",
    "# Draw the histogram of 'means'.\n",
    "    means.hist(ax=ax, color=\"steelblue\", bins=12, edgecolor=\"white\", density= \"True\")\n",
    "\n",
    "# Make the graph pretty\n",
    "    ax.grid(alpha=0.25)\n",
    "    ax.set_axisbelow(True)\n",
    "    ax.set_title(\" Sample means from x.csv\", fontsize=16)\n",
    "    ax.set_xlabel(\"x\", fontsize=16)\n",
    "    ax.set_ylabel(\"Density\", fontsize=16);\n"
   ]
  },
  {
   "cell_type": "markdown",
   "metadata": {},
   "source": [
    "### [7] Part C\n",
    "***(2 points) Now call `sample_mean_dist()` with sample_size=31 and numb_samples=10000. How close is the mean of the sample distribution to the mean of the distribution of `x.csv` ? Is the distribution of sample means more or less skewed than `x.csv` ?\n",
    "What is the name of the theorem that explains these observations?***"
   ]
  },
  {
   "cell_type": "code",
   "execution_count": 46,
   "metadata": {},
   "outputs": [
    {
     "data": {
      "image/png": "[encoded data removed]",
      "text/plain": [
       "<Figure size 864x432 with 1 Axes>"
      ]
     },
     "metadata": {
      "needs_background": "light"
     },
     "output_type": "display_data"
    }
   ],
   "source": [
    "# Call the graphing function.\n",
    "# Uncomment the function call below to use it.\n",
    "\n",
    "sample_mean_dist(sample_size=31, numb_samples=10000)"
   ]
  },
  {
   "cell_type": "markdown",
   "metadata": {},
   "source": [
    "The mean of the sample distribution appears to be around 40 which is very similar to the mean of the data in x.csv which was (41). This ditribution is significantly less skewed than x.csv. The Central Limit Theorem explains these observations. It says that that as the number of samples becomes large the sample mean approaches a normal distribution. "
   ]
  },
  {
   "cell_type": "code",
   "execution_count": null,
   "metadata": {},
   "outputs": [],
   "source": []
  }
 ],
 "metadata": {
  "kernelspec": {
   "display_name": "Python 3 (ipykernel)",
   "language": "python",
   "name": "python3"
  },
  "language_info": {
   "codemirror_mode": {
    "name": "ipython",
    "version": 3
   },
   "file_extension": ".py",
   "mimetype": "text/x-python",
   "name": "python",
   "nbconvert_exporter": "python",
   "pygments_lexer": "ipython3",
   "version": "3.9.7"
  }
 },
 "nbformat": 4,
 "nbformat_minor": 2
}
